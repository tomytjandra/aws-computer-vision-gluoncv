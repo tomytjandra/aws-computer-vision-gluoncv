{
 "cells": [
  {
   "cell_type": "markdown",
   "metadata": {
    "toc": true
   },
   "source": [
    "<h1>Table of Contents<span class=\"tocSkip\"></span></h1>\n",
    "<div class=\"toc\"><ul class=\"toc-item\"><li><span><a href=\"#MXNet-NDArrays\" data-toc-modified-id=\"MXNet-NDArrays-1\"><span class=\"toc-item-num\">1&nbsp;&nbsp;</span>MXNet NDArrays</a></span><ul class=\"toc-item\"><li><span><a href=\"#Fundamental\" data-toc-modified-id=\"Fundamental-1.1\"><span class=\"toc-item-num\">1.1&nbsp;&nbsp;</span>Fundamental</a></span></li><li><span><a href=\"#MXNet-vs-Numpy\" data-toc-modified-id=\"MXNet-vs-Numpy-1.2\"><span class=\"toc-item-num\">1.2&nbsp;&nbsp;</span>MXNet vs Numpy</a></span></li><li><span><a href=\"#Common-Operations\" data-toc-modified-id=\"Common-Operations-1.3\"><span class=\"toc-item-num\">1.3&nbsp;&nbsp;</span>Common Operations</a></span></li></ul></li><li><span><a href=\"#Gluon-Blocks\" data-toc-modified-id=\"Gluon-Blocks-2\"><span class=\"toc-item-num\">2&nbsp;&nbsp;</span>Gluon Blocks</a></span><ul class=\"toc-item\"><li><span><a href=\"#Fundamental\" data-toc-modified-id=\"Fundamental-2.1\"><span class=\"toc-item-num\">2.1&nbsp;&nbsp;</span>Fundamental</a></span><ul class=\"toc-item\"><li><span><a href=\"#Convolutional-2D\" data-toc-modified-id=\"Convolutional-2D-2.1.1\"><span class=\"toc-item-num\">2.1.1&nbsp;&nbsp;</span>Convolutional 2D</a></span></li><li><span><a href=\"#Max-Pooling\" data-toc-modified-id=\"Max-Pooling-2.1.2\"><span class=\"toc-item-num\">2.1.2&nbsp;&nbsp;</span>Max Pooling</a></span></li><li><span><a href=\"#Dense-Layer\" data-toc-modified-id=\"Dense-Layer-2.1.3\"><span class=\"toc-item-num\">2.1.3&nbsp;&nbsp;</span>Dense Layer</a></span></li></ul></li><li><span><a href=\"#Initialization\" data-toc-modified-id=\"Initialization-2.2\"><span class=\"toc-item-num\">2.2&nbsp;&nbsp;</span>Initialization</a></span></li><li><span><a href=\"#Sequential-Gluon-Blocks\" data-toc-modified-id=\"Sequential-Gluon-Blocks-2.3\"><span class=\"toc-item-num\">2.3&nbsp;&nbsp;</span>Sequential Gluon Blocks</a></span></li><li><span><a href=\"#Custom-Gluon-Blocks\" data-toc-modified-id=\"Custom-Gluon-Blocks-2.4\"><span class=\"toc-item-num\">2.4&nbsp;&nbsp;</span>Custom Gluon Blocks</a></span></li><li><span><a href=\"#Visualization\" data-toc-modified-id=\"Visualization-2.5\"><span class=\"toc-item-num\">2.5&nbsp;&nbsp;</span>Visualization</a></span></li></ul></li><li><span><a href=\"#Evaluation\" data-toc-modified-id=\"Evaluation-3\"><span class=\"toc-item-num\">3&nbsp;&nbsp;</span>Evaluation</a></span><ul class=\"toc-item\"><li><span><a href=\"#Metrics\" data-toc-modified-id=\"Metrics-3.1\"><span class=\"toc-item-num\">3.1&nbsp;&nbsp;</span>Metrics</a></span></li><li><span><a href=\"#Losses\" data-toc-modified-id=\"Losses-3.2\"><span class=\"toc-item-num\">3.2&nbsp;&nbsp;</span>Losses</a></span></li></ul></li><li><span><a href=\"#Summary\" data-toc-modified-id=\"Summary-4\"><span class=\"toc-item-num\">4&nbsp;&nbsp;</span>Summary</a></span></li></ul></div>"
   ]
  },
  {
   "cell_type": "markdown",
   "metadata": {},
   "source": [
    "# Key Concepts\n",
    "- Understand the mathematics behind NDArray\n",
    "- Understand when to use different Gluon blocks including convolution, dense layers, and pooling\n",
    "- Compose Gluon blocks into complete models\n",
    "- Understand the difference between metrics and loss"
   ]
  },
  {
   "cell_type": "markdown",
   "metadata": {},
   "source": [
    "## MXNet NDArrays"
   ]
  },
  {
   "cell_type": "markdown",
   "metadata": {},
   "source": [
    "### Fundamental"
   ]
  },
  {
   "cell_type": "markdown",
   "metadata": {},
   "source": [
    "N-dimensional array or Tensor: used to represent input, output, intermediate feature maps, and operator parameters (trainable parameters).\n",
    "\n",
    "- Zero-dimensional array: scalar. Not exist in MXNet, represented by 1D array instead\n",
    "- One-dimensional array: vector, used to represent bias or one-hot encoded features\n",
    "- Two-dimensional array: matrix, used to store grayscale inputs or weights\n",
    "- Three-dimensional array: store intermediate feature maps or RGB image\n",
    "- Four-dimensional array: store a batch of RGB images."
   ]
  },
  {
   "cell_type": "markdown",
   "metadata": {},
   "source": [
    "**Knowledge Check**\n",
    "\n",
    "Select all of the options that are true.\n",
    "- [ ] A batch of colour images is represented as a 4D NDArray.\n",
    "- [ ] A colour image is commonly represented as a 2D NDArray.\n",
    "- [ ] A 2D NDArray is commonly called a 'vector'.\n",
    "- [ ] A zero-dimensional NDArray is called a 'scalar'."
   ]
  },
  {
   "cell_type": "markdown",
   "metadata": {},
   "source": [
    "Operator parameters in neural network can be vectorized as follows:\n",
    "\n",
    "<img src=\"assets/module4/operator-parameters.png\" width=\"500\">"
   ]
  },
  {
   "cell_type": "markdown",
   "metadata": {},
   "source": [
    "The order of pixels of data dimension images impact the performance of the convolution operations. This is because the data is stored linearly in memory.\n",
    "\n",
    "Therefore, MXNet is a **channel first framework** so that the performance and GPU caching are more efficient, meaning the tensor dimension would be: batch, channel, height, width (NCHW)\n",
    "\n",
    "<img src=\"assets/module4/in-memory-representation.png\" width=\"500\">"
   ]
  },
  {
   "cell_type": "markdown",
   "metadata": {},
   "source": [
    "### MXNet vs Numpy"
   ]
  },
  {
   "cell_type": "code",
   "execution_count": 1,
   "metadata": {},
   "outputs": [],
   "source": [
    "from mxnet import nd\n",
    "import mxnet as mx\n",
    "import numpy as np"
   ]
  },
  {
   "cell_type": "markdown",
   "metadata": {},
   "source": [
    "NDArray from tuples"
   ]
  },
  {
   "cell_type": "code",
   "execution_count": 2,
   "metadata": {
    "scrolled": true
   },
   "outputs": [
    {
     "data": {
      "text/plain": [
       "\n",
       "[[1. 2. 3.]\n",
       " [5. 6. 7.]]\n",
       "<NDArray 2x3 @cpu(0)>"
      ]
     },
     "execution_count": 2,
     "metadata": {},
     "output_type": "execute_result"
    }
   ],
   "source": [
    "nd.array(((1,2,3), (5,6,7)))"
   ]
  },
  {
   "cell_type": "markdown",
   "metadata": {},
   "source": [
    "Ones"
   ]
  },
  {
   "cell_type": "code",
   "execution_count": 3,
   "metadata": {
    "scrolled": true
   },
   "outputs": [
    {
     "data": {
      "text/plain": [
       "\n",
       "[[1. 1. 1.]\n",
       " [1. 1. 1.]]\n",
       "<NDArray 2x3 @cpu(0)>"
      ]
     },
     "execution_count": 3,
     "metadata": {},
     "output_type": "execute_result"
    }
   ],
   "source": [
    "x = nd.ones((2,3))\n",
    "x"
   ]
  },
  {
   "cell_type": "markdown",
   "metadata": {},
   "source": [
    "Randomly sampled"
   ]
  },
  {
   "cell_type": "code",
   "execution_count": 4,
   "metadata": {},
   "outputs": [
    {
     "data": {
      "text/plain": [
       "\n",
       "[[0.09762704 0.18568921 0.43037868]\n",
       " [0.6885315  0.20552671 0.71589124]]\n",
       "<NDArray 2x3 @cpu(0)>"
      ]
     },
     "execution_count": 4,
     "metadata": {},
     "output_type": "execute_result"
    }
   ],
   "source": [
    "y = nd.random_uniform(low = -1 , high = 1, shape = (2,3))\n",
    "y"
   ]
  },
  {
   "cell_type": "markdown",
   "metadata": {},
   "source": [
    "NDArray Metadata\n",
    "- shape: row x column\n",
    "- size: no. of element (row times column)\n",
    "- dtype: data types\n",
    "- context: where the array is stored"
   ]
  },
  {
   "cell_type": "code",
   "execution_count": 5,
   "metadata": {
    "scrolled": true
   },
   "outputs": [
    {
     "data": {
      "text/plain": [
       "((2, 3), 6, numpy.float32, cpu(0))"
      ]
     },
     "execution_count": 5,
     "metadata": {},
     "output_type": "execute_result"
    }
   ],
   "source": [
    "x.shape, x.size, x.dtype, x.context"
   ]
  },
  {
   "cell_type": "markdown",
   "metadata": {},
   "source": [
    "Data type"
   ]
  },
  {
   "cell_type": "code",
   "execution_count": 6,
   "metadata": {},
   "outputs": [
    {
     "data": {
      "text/plain": [
       "\n",
       "[[0.09766 0.1857  0.4304 ]\n",
       " [0.6885  0.2056  0.716  ]]\n",
       "<NDArray 2x3 @cpu(0)>"
      ]
     },
     "execution_count": 6,
     "metadata": {},
     "output_type": "execute_result"
    }
   ],
   "source": [
    "y.astype(np.float16)"
   ]
  },
  {
   "cell_type": "markdown",
   "metadata": {},
   "source": [
    "Context: only in MXNet not in numpy array"
   ]
  },
  {
   "cell_type": "code",
   "execution_count": 7,
   "metadata": {
    "scrolled": true
   },
   "outputs": [
    {
     "data": {
      "text/plain": [
       "\n",
       "[[1. 1. 1.]\n",
       " [1. 1. 1.]]\n",
       "<NDArray 2x3 @cpu(0)>"
      ]
     },
     "execution_count": 7,
     "metadata": {},
     "output_type": "execute_result"
    }
   ],
   "source": [
    "nd.ones((2,3), ctx = mx.cpu())"
   ]
  },
  {
   "cell_type": "markdown",
   "metadata": {},
   "source": [
    "**Knowledge Check**\n",
    "\n",
    "Which of the following NDArray operations are valid?\n",
    "- [ ] `mx.nd.ones(shape=(1000,), ctx=mx.gpu(1))`\n",
    "- [ ] `mx.nd.ones(shape=(1000,), context=mx.gpu(0))`\n",
    "- [ ] `mx.nd.ones(shape=(1000,), device=mx.cpu())`"
   ]
  },
  {
   "cell_type": "markdown",
   "metadata": {},
   "source": [
    "Comparing MXNet to Numpy NDArray"
   ]
  },
  {
   "cell_type": "code",
   "execution_count": 8,
   "metadata": {},
   "outputs": [],
   "source": [
    "x_np, y_np = np.ones((10000,5000)), np.ones((5000,10000))\n",
    "x_nd_cpu, y_nd_cpu = nd.ones((10000,5000), ctx=mx.cpu()), nd.ones((5000,10000), ctx=mx.cpu())\n",
    "x_nd_gpu, y_nd_gpu = nd.ones((10000,5000), ctx=mx.gpu()), nd.ones((5000,10000), ctx=mx.gpu())"
   ]
  },
  {
   "cell_type": "code",
   "execution_count": 9,
   "metadata": {},
   "outputs": [],
   "source": [
    "import time"
   ]
  },
  {
   "cell_type": "code",
   "execution_count": 10,
   "metadata": {},
   "outputs": [
    {
     "name": "stdout",
     "output_type": "stream",
     "text": [
      "Numpy: 6.89830 seconds\n"
     ]
    }
   ],
   "source": [
    "start = time.time()\n",
    "np.dot(x_np, y_np)\n",
    "print(f\"Numpy: {time.time()-start:.5f} seconds\")"
   ]
  },
  {
   "cell_type": "code",
   "execution_count": 11,
   "metadata": {},
   "outputs": [
    {
     "name": "stdout",
     "output_type": "stream",
     "text": [
      "MXNet CPU: 0.00299 seconds\n"
     ]
    }
   ],
   "source": [
    "start = time.time()\n",
    "nd.dot(x_nd_cpu, y_nd_cpu)\n",
    "print(f\"MXNet CPU: {time.time()-start:.5f} seconds\")"
   ]
  },
  {
   "cell_type": "code",
   "execution_count": 12,
   "metadata": {},
   "outputs": [
    {
     "name": "stdout",
     "output_type": "stream",
     "text": [
      "MXNet GPU: 0.00000 seconds\n"
     ]
    }
   ],
   "source": [
    "start = time.time()\n",
    "nd.dot(x_nd_gpu, y_nd_gpu)\n",
    "print(f\"MXNet GPU: {time.time()-start:.5f} seconds\")"
   ]
  },
  {
   "cell_type": "markdown",
   "metadata": {},
   "source": [
    "Convert between MXNet and Numpy NDArray"
   ]
  },
  {
   "cell_type": "code",
   "execution_count": 13,
   "metadata": {},
   "outputs": [
    {
     "data": {
      "text/plain": [
       "array([[1., 1., 1.],\n",
       "       [1., 1., 1.]], dtype=float32)"
      ]
     },
     "execution_count": 13,
     "metadata": {},
     "output_type": "execute_result"
    }
   ],
   "source": [
    "a = x.asnumpy() # copy by value, not reference\n",
    "a "
   ]
  },
  {
   "cell_type": "code",
   "execution_count": 14,
   "metadata": {
    "scrolled": true
   },
   "outputs": [
    {
     "data": {
      "text/plain": [
       "\n",
       "[[1. 1. 1.]\n",
       " [1. 1. 1.]]\n",
       "<NDArray 2x3 @cpu(0)>"
      ]
     },
     "execution_count": 14,
     "metadata": {},
     "output_type": "execute_result"
    }
   ],
   "source": [
    "nd.array(a)"
   ]
  },
  {
   "cell_type": "markdown",
   "metadata": {},
   "source": [
    "### Common Operations"
   ]
  },
  {
   "cell_type": "code",
   "execution_count": 15,
   "metadata": {},
   "outputs": [],
   "source": [
    "x = mx.nd.random.uniform(shape=(2,3))\n",
    "y = mx.nd.full(shape=(2,3), val=2)"
   ]
  },
  {
   "cell_type": "markdown",
   "metadata": {},
   "source": [
    "Element-wise multiplication"
   ]
  },
  {
   "cell_type": "code",
   "execution_count": 16,
   "metadata": {
    "scrolled": true
   },
   "outputs": [
    {
     "data": {
      "text/plain": [
       "\n",
       "[[1.0897664 1.6945034 0.8473096]\n",
       " [1.2471274 1.2917882 0.7687634]]\n",
       "<NDArray 2x3 @cpu(0)>"
      ]
     },
     "execution_count": 16,
     "metadata": {},
     "output_type": "execute_result"
    }
   ],
   "source": [
    "x*y"
   ]
  },
  {
   "cell_type": "markdown",
   "metadata": {},
   "source": [
    "Exponentiation"
   ]
  },
  {
   "cell_type": "code",
   "execution_count": 17,
   "metadata": {},
   "outputs": [
    {
     "data": {
      "text/plain": [
       "\n",
       "[[7.389056 7.389056 7.389056]\n",
       " [7.389056 7.389056 7.389056]]\n",
       "<NDArray 2x3 @cpu(0)>"
      ]
     },
     "execution_count": 17,
     "metadata": {},
     "output_type": "execute_result"
    }
   ],
   "source": [
    "y.exp()"
   ]
  },
  {
   "cell_type": "code",
   "execution_count": 18,
   "metadata": {},
   "outputs": [],
   "source": [
    "import matplotlib.pyplot as plt"
   ]
  },
  {
   "cell_type": "code",
   "execution_count": 19,
   "metadata": {
    "scrolled": true
   },
   "outputs": [
    {
     "data": {
      "text/plain": [
       "[<matplotlib.lines.Line2D at 0x2c65eea9788>]"
      ]
     },
     "execution_count": 19,
     "metadata": {},
     "output_type": "execute_result"
    },
    {
     "data": {
      "image/png": "[encoded data removed]",
      "text/plain": [
       "<Figure size 432x288 with 1 Axes>"
      ]
     },
     "metadata": {
      "needs_background": "light"
     },
     "output_type": "display_data"
    }
   ],
   "source": [
    "x_plot = np.arange(0, 3, 0.1)\n",
    "plt.plot(x_plot, nd.array(x_plot).exp().asnumpy())"
   ]
  },
  {
   "cell_type": "markdown",
   "metadata": {},
   "source": [
    "Matrix multiplication"
   ]
  },
  {
   "cell_type": "code",
   "execution_count": 20,
   "metadata": {},
   "outputs": [
    {
     "data": {
      "text/plain": [
       "\n",
       "[[3.6315794 3.6315794]\n",
       " [3.3076792 3.3076792]]\n",
       "<NDArray 2x2 @cpu(0)>"
      ]
     },
     "execution_count": 20,
     "metadata": {},
     "output_type": "execute_result"
    }
   ],
   "source": [
    "nd.dot(x, y.T)"
   ]
  },
  {
   "cell_type": "markdown",
   "metadata": {},
   "source": [
    "**Knowledge Check**\n",
    "\n",
    "Select all valid NDArray operations (when `a` is an MXNet NDArray).\n",
    "- [ ] `a.exp()`\n",
    "- [ ] `mx.nd.exp(a)`\n",
    "- [ ] `mx.nd(exp, a)`"
   ]
  },
  {
   "cell_type": "markdown",
   "metadata": {},
   "source": [
    "Indexing"
   ]
  },
  {
   "cell_type": "code",
   "execution_count": 21,
   "metadata": {},
   "outputs": [
    {
     "data": {
      "text/plain": [
       "\n",
       "[[0.8472517 0.4236548]\n",
       " [0.6458941 0.3843817]]\n",
       "<NDArray 2x2 @cpu(0)>"
      ]
     },
     "execution_count": 21,
     "metadata": {},
     "output_type": "execute_result"
    }
   ],
   "source": [
    "x[:, 1:3] # all row, first and second column"
   ]
  },
  {
   "cell_type": "code",
   "execution_count": 22,
   "metadata": {},
   "outputs": [
    {
     "data": {
      "text/plain": [
       "\n",
       "[[  2.   2.   2.]\n",
       " [100. 100.   2.]]\n",
       "<NDArray 2x3 @cpu(0)>"
      ]
     },
     "execution_count": 22,
     "metadata": {},
     "output_type": "execute_result"
    }
   ],
   "source": [
    "y[1:2, 0:2] = 100 # replace\n",
    "y"
   ]
  },
  {
   "cell_type": "markdown",
   "metadata": {},
   "source": [
    "## Gluon Blocks"
   ]
  },
  {
   "cell_type": "markdown",
   "metadata": {},
   "source": [
    "### Fundamental"
   ]
  },
  {
   "cell_type": "code",
   "execution_count": 23,
   "metadata": {},
   "outputs": [],
   "source": [
    "import mxnet as mxnet\n",
    "from mxnet import nd\n",
    "from mxnet.gluon import nn"
   ]
  },
  {
   "cell_type": "markdown",
   "metadata": {},
   "source": [
    "Block is the basic unit of neural network operation, manipulate data flowing through the network and hold onto parameters."
   ]
  },
  {
   "cell_type": "markdown",
   "metadata": {},
   "source": [
    "#### Convolutional 2D"
   ]
  },
  {
   "cell_type": "markdown",
   "metadata": {},
   "source": [
    "**Convolutional 2D** is created using `.Conv2D()` method with the following parameters:\n",
    "- `channels`: number of output channels\n",
    "- `kernel_size`: matrix size of mask\n",
    "- `in_channels`: number of input channels\n",
    "- `strides`: how many cells move between patches\n",
    "- `padding`: outer padding value\n",
    "- `activation`: activation function to be applied after convolution operation"
   ]
  },
  {
   "cell_type": "code",
   "execution_count": 24,
   "metadata": {
    "scrolled": false
   },
   "outputs": [
    {
     "data": {
      "text/plain": [
       "Conv2D(1 -> 1, kernel_size=(3, 3), stride=(1, 1), Activation(relu))"
      ]
     },
     "execution_count": 24,
     "metadata": {},
     "output_type": "execute_result"
    }
   ],
   "source": [
    "layer = nn.Conv2D(\n",
    "    channels = 1,\n",
    "    kernel_size = (3,3),\n",
    "    in_channels = 1,\n",
    "    strides = (1,1),\n",
    "    padding = (0,0),\n",
    "    activation = \"relu\",\n",
    "    prefix = \"conv_\"\n",
    ")\n",
    "layer"
   ]
  },
  {
   "cell_type": "markdown",
   "metadata": {},
   "source": [
    "Initialize kernel with Sobel operator to detect vertical lines.\n",
    "\n",
    "$$\n",
    "Sobel_{vertical} = \n",
    "\\begin{bmatrix} \n",
    "-1 & 0 & 1 \\\\\n",
    "-2 & 0 & 2 \\\\\n",
    "-1 & 0 & 1 \\\\\n",
    "\\end{bmatrix}\n",
    "$$\n",
    "\n",
    "$$\n",
    "Sobel_{horizontal} = \n",
    "\\begin{bmatrix} \n",
    "-1 & -2 & -1 \\\\\n",
    "0 & 0 & 0 \\\\\n",
    "1 & 2 & 1 \\\\\n",
    "\\end{bmatrix}\n",
    "$$"
   ]
  },
  {
   "cell_type": "code",
   "execution_count": 25,
   "metadata": {},
   "outputs": [],
   "source": [
    "layer.initialize(mx.init.Constant([\n",
    "    [-1, 0, 1],\n",
    "    [-2, 0, 2],\n",
    "    [-1, 0, 1]\n",
    "]))"
   ]
  },
  {
   "cell_type": "markdown",
   "metadata": {},
   "source": [
    "Apply Sobel filter to the image"
   ]
  },
  {
   "cell_type": "code",
   "execution_count": 26,
   "metadata": {},
   "outputs": [
    {
     "data": {
      "text/plain": [
       "<matplotlib.image.AxesImage at 0x2c661fe1e08>"
      ]
     },
     "execution_count": 26,
     "metadata": {},
     "output_type": "execute_result"
    },
    {
     "data": {
      "image/png": "[encoded data removed]",
      "text/plain": [
       "<Figure size 432x288 with 1 Axes>"
      ]
     },
     "metadata": {
      "needs_background": "light"
     },
     "output_type": "display_data"
    }
   ],
   "source": [
    "image_path = \"assets/module4/dataset/hamster.jpg\"\n",
    "plt.imshow(plt.imread(image_path))"
   ]
  },
  {
   "cell_type": "code",
   "execution_count": 27,
   "metadata": {
    "scrolled": true
   },
   "outputs": [
    {
     "data": {
      "text/plain": [
       "<matplotlib.image.AxesImage at 0x2c661feb208>"
      ]
     },
     "execution_count": 27,
     "metadata": {},
     "output_type": "execute_result"
    },
    {
     "data": {
      "image/png": "[encoded data removed]",
      "text/plain": [
       "<Figure size 432x288 with 1 Axes>"
      ]
     },
     "metadata": {
      "needs_background": "light"
     },
     "output_type": "display_data"
    }
   ],
   "source": [
    "# load grayscale image in float32\n",
    "image = mx.image.imread(image_path, 0).astype(\"float32\")\n",
    "\n",
    "# HWC to CHW\n",
    "image_channel_first = image.transpose((2,0,1)) \n",
    "\n",
    "# CHW to NCHW\n",
    "image_batch = image_channel_first.expand_dims(axis = 0)\n",
    "\n",
    "# apply mask\n",
    "output = layer(image_batch)\n",
    "plt.imshow(output.squeeze().asnumpy(), cmap = \"gray\")"
   ]
  },
  {
   "cell_type": "markdown",
   "metadata": {},
   "source": [
    "Parameters"
   ]
  },
  {
   "cell_type": "code",
   "execution_count": 28,
   "metadata": {},
   "outputs": [
    {
     "data": {
      "text/plain": [
       "conv_ (\n",
       "  Parameter conv_weight (shape=(1, 1, 3, 3), dtype=<class 'numpy.float32'>)\n",
       "  Parameter conv_bias (shape=(1,), dtype=<class 'numpy.float32'>)\n",
       ")"
      ]
     },
     "execution_count": 28,
     "metadata": {},
     "output_type": "execute_result"
    }
   ],
   "source": [
    "layer.collect_params()\n",
    "# shape: output_channel, input_channel, kernel size"
   ]
  },
  {
   "cell_type": "code",
   "execution_count": 29,
   "metadata": {},
   "outputs": [
    {
     "data": {
      "text/plain": [
       "\n",
       "[[[[-1.  0.  1.]\n",
       "   [-2.  0.  2.]\n",
       "   [-1.  0.  1.]]]]\n",
       "<NDArray 1x1x3x3 @cpu(0)>"
      ]
     },
     "execution_count": 29,
     "metadata": {},
     "output_type": "execute_result"
    }
   ],
   "source": [
    "layer.weight.data()"
   ]
  },
  {
   "cell_type": "code",
   "execution_count": 30,
   "metadata": {
    "scrolled": true
   },
   "outputs": [
    {
     "data": {
      "text/plain": [
       "\n",
       "[0.]\n",
       "<NDArray 1 @cpu(0)>"
      ]
     },
     "execution_count": 30,
     "metadata": {},
     "output_type": "execute_result"
    }
   ],
   "source": [
    "layer.bias.data()"
   ]
  },
  {
   "cell_type": "markdown",
   "metadata": {},
   "source": [
    "#### Max Pooling"
   ]
  },
  {
   "cell_type": "markdown",
   "metadata": {},
   "source": [
    "**Max Pooling** reduces spatial resolution of a feature map by conserving the highest activations. Works by sliding a pooling window. Use `.MaxPool2D()` method with `pool_size` is the size of pooling mask."
   ]
  },
  {
   "cell_type": "code",
   "execution_count": 31,
   "metadata": {},
   "outputs": [
    {
     "data": {
      "text/plain": [
       "MaxPool2D(size=(4, 4), stride=(4, 4), padding=(0, 0), ceil_mode=False, global_pool=False, pool_type=max, layout=NCHW)"
      ]
     },
     "execution_count": 31,
     "metadata": {},
     "output_type": "execute_result"
    }
   ],
   "source": [
    "layer = nn.MaxPool2D(pool_size = (4,4))\n",
    "layer"
   ]
  },
  {
   "cell_type": "code",
   "execution_count": 32,
   "metadata": {},
   "outputs": [
    {
     "data": {
      "text/plain": [
       "<matplotlib.image.AxesImage at 0x2c654810d48>"
      ]
     },
     "execution_count": 32,
     "metadata": {},
     "output_type": "execute_result"
    },
    {
     "data": {
      "image/png": "[encoded data removed]",
      "text/plain": [
       "<Figure size 432x288 with 1 Axes>"
      ]
     },
     "metadata": {
      "needs_background": "light"
     },
     "output_type": "display_data"
    }
   ],
   "source": [
    "pooled = layer(output)\n",
    "plt.imshow(pooled.squeeze().asnumpy(), cmap = \"gray\")"
   ]
  },
  {
   "cell_type": "code",
   "execution_count": 33,
   "metadata": {},
   "outputs": [
    {
     "data": {
      "text/plain": [
       "pool0_ (\n",
       "\n",
       ")"
      ]
     },
     "execution_count": 33,
     "metadata": {},
     "output_type": "execute_result"
    }
   ],
   "source": [
    "layer.collect_params()\n",
    "# max pooling doesn't have parameters"
   ]
  },
  {
   "cell_type": "markdown",
   "metadata": {},
   "source": [
    "#### Dense Layer"
   ]
  },
  {
   "cell_type": "markdown",
   "metadata": {},
   "source": [
    "**Dense layer** or fully connected layer performs matrix multiplication of input with weights and add bias to produce output. Use `.Dense()` method with the following parameters:\n",
    "- `units`: number of output nodes\n",
    "- `in_units`: number of input nodes\n",
    "- `activation`: type of activation function to be applied after weighted sum"
   ]
  },
  {
   "cell_type": "code",
   "execution_count": 34,
   "metadata": {
    "scrolled": true
   },
   "outputs": [
    {
     "data": {
      "text/plain": [
       "Dense(3 -> 10, Activation(relu))"
      ]
     },
     "execution_count": 34,
     "metadata": {},
     "output_type": "execute_result"
    }
   ],
   "source": [
    "layer = nn.Dense(units = 10, in_units = 3, activation = \"relu\")\n",
    "layer"
   ]
  },
  {
   "cell_type": "markdown",
   "metadata": {},
   "source": [
    "Let's initialize with all value with ones"
   ]
  },
  {
   "cell_type": "code",
   "execution_count": 35,
   "metadata": {},
   "outputs": [],
   "source": [
    "layer.initialize(mx.init.One())"
   ]
  },
  {
   "cell_type": "code",
   "execution_count": 36,
   "metadata": {},
   "outputs": [
    {
     "data": {
      "text/plain": [
       "\n",
       "[[1. 1. 1.]\n",
       " [1. 1. 1.]\n",
       " [1. 1. 1.]\n",
       " [1. 1. 1.]\n",
       " [1. 1. 1.]\n",
       " [1. 1. 1.]\n",
       " [1. 1. 1.]\n",
       " [1. 1. 1.]\n",
       " [1. 1. 1.]\n",
       " [1. 1. 1.]]\n",
       "<NDArray 10x3 @cpu(0)>"
      ]
     },
     "execution_count": 36,
     "metadata": {},
     "output_type": "execute_result"
    }
   ],
   "source": [
    "layer.weight.data()"
   ]
  },
  {
   "cell_type": "code",
   "execution_count": 37,
   "metadata": {},
   "outputs": [
    {
     "data": {
      "text/plain": [
       "\n",
       "[0. 0. 0. 0. 0. 0. 0. 0. 0. 0.]\n",
       "<NDArray 10 @cpu(0)>"
      ]
     },
     "execution_count": 37,
     "metadata": {},
     "output_type": "execute_result"
    }
   ],
   "source": [
    "layer.bias.data()"
   ]
  },
  {
   "cell_type": "markdown",
   "metadata": {},
   "source": [
    "Try forward pass:"
   ]
  },
  {
   "cell_type": "code",
   "execution_count": 38,
   "metadata": {},
   "outputs": [
    {
     "data": {
      "text/plain": [
       "\n",
       "[[3. 3. 3. 3. 3. 3. 3. 3. 3. 3.]]\n",
       "<NDArray 1x10 @cpu(0)>"
      ]
     },
     "execution_count": 38,
     "metadata": {},
     "output_type": "execute_result"
    }
   ],
   "source": [
    "input_array = mx.nd.ones((1,3))\n",
    "layer(input_array)"
   ]
  },
  {
   "cell_type": "markdown",
   "metadata": {},
   "source": [
    "### Initialization"
   ]
  },
  {
   "cell_type": "code",
   "execution_count": 39,
   "metadata": {},
   "outputs": [],
   "source": [
    "from mxnet import init"
   ]
  },
  {
   "cell_type": "markdown",
   "metadata": {},
   "source": [
    "Default initial parameter:\n",
    "- weight: random uniform from -0.07 to 0.07\n",
    "- bias: 0\n",
    "\n",
    "Different types of initialization:\n",
    "- `init.Uniform`: sample from uniform distribution\n",
    "- `init.Normal`: sample from normal distribution\n",
    "- `init.Xavier`: keep the scale of gradients roughly the same in all layers. The range is between $-c$ and $c$ where $$c = \\sqrt{\\dfrac{magnitude}{0.5*(n_{in}+n_{out})}}$$\n",
    "- `init.Zero`\n",
    "- `init.One`\n",
    "- `init.Constant`"
   ]
  },
  {
   "cell_type": "code",
   "execution_count": 40,
   "metadata": {},
   "outputs": [
    {
     "data": {
      "text/plain": [
       "\n",
       "[[[[-0.0720681  -0.23378688  0.45238042]\n",
       "   [-0.51186377  0.53539157 -0.2625139 ]\n",
       "   [-0.13459015 -0.0257901   0.33685505]]]]\n",
       "<NDArray 1x1x3x3 @cpu(0)>"
      ]
     },
     "execution_count": 40,
     "metadata": {},
     "output_type": "execute_result"
    }
   ],
   "source": [
    "layer = nn.Conv2D(channels = 1, in_channels = 1, kernel_size = (3,3))\n",
    "layer.initialize(init.Xavier())\n",
    "layer.weight.data()"
   ]
  },
  {
   "cell_type": "code",
   "execution_count": 41,
   "metadata": {},
   "outputs": [
    {
     "data": {
      "text/plain": [
       "0.5773502691896257"
      ]
     },
     "execution_count": 41,
     "metadata": {},
     "output_type": "execute_result"
    }
   ],
   "source": [
    "(3/(0.5*(9+9)))**0.5"
   ]
  },
  {
   "cell_type": "code",
   "execution_count": 42,
   "metadata": {},
   "outputs": [
    {
     "data": {
      "text/plain": [
       "\n",
       "[[[[ 1.59302950e-02  1.47453696e-03 -1.02178566e-03]\n",
       "   [ 3.47238407e-03 -5.47130220e-03  2.17186399e-02]\n",
       "   [ 1.71504468e-02 -2.18904763e-02 -8.29784200e-03]]\n",
       "\n",
       "  [[-2.10692212e-02  7.56136701e-03 -2.44837534e-02]\n",
       "   [-6.72377087e-03  1.69739351e-02  2.33291015e-02]\n",
       "   [ 1.41946264e-02 -1.83532722e-02  1.88821033e-02]]\n",
       "\n",
       "  [[ 1.88859366e-02  2.44243890e-02 -1.34680793e-03]\n",
       "   [ 1.52663738e-02  1.53557882e-02 -1.96574815e-03]\n",
       "   [ 1.04498677e-03  1.43156946e-02  9.12841037e-03]]\n",
       "\n",
       "  ...\n",
       "\n",
       "  [[-1.89376064e-02  1.28414705e-02 -9.75750573e-03]\n",
       "   [-2.14299243e-02 -1.48998201e-03 -9.34058800e-04]\n",
       "   [ 9.85651091e-03 -2.77236477e-03  7.10726157e-03]]\n",
       "\n",
       "  [[ 8.80146027e-03 -1.04310457e-02 -2.61599012e-03]\n",
       "   [-7.73893669e-03  1.04263239e-02 -1.88280437e-02]\n",
       "   [ 9.26955044e-03  7.56127760e-04  1.00606941e-02]]\n",
       "\n",
       "  [[ 5.49796224e-03  6.05231896e-03 -1.50172953e-02]\n",
       "   [-1.78108159e-02  2.51362585e-02  1.33090205e-02]\n",
       "   [-1.82600357e-02  1.43420584e-02  1.11638010e-02]]]\n",
       "\n",
       "\n",
       " [[[-3.26624699e-03 -1.60705894e-02 -2.41924766e-02]\n",
       "   [ 2.20219791e-02  2.53432803e-03  2.28481591e-02]\n",
       "   [-3.30056436e-03 -7.78269023e-04 -4.06371430e-03]]\n",
       "\n",
       "  [[-9.15821269e-03 -8.65819119e-03 -1.76349655e-02]\n",
       "   [-1.50720868e-02  1.01481676e-02  6.08652085e-03]\n",
       "   [-1.93943195e-02 -1.02238301e-02 -7.56489113e-04]]\n",
       "\n",
       "  [[-1.18990457e-02  6.77374378e-03  6.18158281e-03]\n",
       "   [ 1.62394382e-02  1.48715079e-03  9.34000686e-03]\n",
       "   [-1.86477639e-02 -7.34254718e-05  6.92905858e-04]]\n",
       "\n",
       "  ...\n",
       "\n",
       "  [[-9.09173116e-03 -6.44163415e-03  1.87993050e-02]\n",
       "   [ 2.39505284e-02  5.53635322e-03 -1.64255910e-02]\n",
       "   [ 1.56897120e-02  6.27439097e-03 -8.87688249e-04]]\n",
       "\n",
       "  [[ 3.03431042e-03  4.47045453e-03 -1.92101523e-02]\n",
       "   [-2.27497630e-02  1.00294501e-02 -2.09092014e-02]\n",
       "   [ 4.07115743e-03 -1.85265448e-02 -3.32247466e-03]]\n",
       "\n",
       "  [[ 1.15735568e-02  2.31090970e-02 -2.83100829e-03]\n",
       "   [-1.99526064e-02  5.69027290e-03  6.67689741e-03]\n",
       "   [ 1.27129592e-02 -1.06340731e-02  1.66975521e-03]]]\n",
       "\n",
       "\n",
       " [[[ 2.38330178e-02  2.04441287e-02  2.41031125e-03]\n",
       "   [-1.67026967e-02  2.41215751e-02  1.81477033e-02]\n",
       "   [ 1.09622814e-02  5.56419976e-03  1.00903064e-02]]\n",
       "\n",
       "  [[ 4.97839600e-03 -1.44882472e-02 -1.82964560e-02]\n",
       "   [ 2.43047774e-02 -1.40587483e-02 -2.51975823e-02]\n",
       "   [ 1.01255886e-02 -1.26055675e-02  2.05746181e-02]]\n",
       "\n",
       "  [[-3.32765654e-03  6.78524747e-03  1.42572001e-02]\n",
       "   [-2.52522416e-02 -1.54274441e-02  3.69242579e-03]\n",
       "   [ 1.85239203e-02 -7.06798583e-03  2.46684402e-02]]\n",
       "\n",
       "  ...\n",
       "\n",
       "  [[ 1.26565397e-02  1.79089047e-02  3.47059220e-03]\n",
       "   [ 2.17524916e-02 -1.76401418e-02 -3.95908207e-03]\n",
       "   [-2.24135853e-02 -1.98537745e-02  2.16656365e-02]]\n",
       "\n",
       "  [[-9.18079168e-04 -4.31677513e-03 -1.03726787e-02]\n",
       "   [-1.02454023e-02  1.85384825e-02 -5.38052991e-04]\n",
       "   [ 2.27541849e-02  6.98697567e-03 -2.31647976e-02]]\n",
       "\n",
       "  [[ 2.42663361e-03 -1.81078911e-03 -2.50869691e-02]\n",
       "   [-1.45372422e-02 -2.16647051e-02 -9.97601077e-04]\n",
       "   [-2.25454122e-02 -2.14718990e-02  2.32902505e-02]]]\n",
       "\n",
       "\n",
       " ...\n",
       "\n",
       "\n",
       " [[[-2.13836636e-02 -2.26255544e-02  2.27038451e-02]\n",
       "   [ 2.48628929e-02  1.28426217e-02 -7.13532791e-03]\n",
       "   [-1.04862824e-03 -1.02834990e-02 -1.75105557e-02]]\n",
       "\n",
       "  [[-1.84756499e-02 -1.82744116e-05  2.17781290e-02]\n",
       "   [-6.66736811e-03 -3.75251472e-03  2.38396414e-03]\n",
       "   [-1.40371481e-02 -1.79718267e-02 -1.54916197e-03]]\n",
       "\n",
       "  [[ 4.66260873e-03  2.30040960e-03  7.04385340e-04]\n",
       "   [ 7.79883191e-03  3.20612267e-03  1.51780285e-02]\n",
       "   [-3.65610234e-03  3.50738131e-03 -8.80250335e-03]]\n",
       "\n",
       "  ...\n",
       "\n",
       "  [[-2.38297228e-02 -9.22040641e-03 -6.00250252e-03]\n",
       "   [ 4.63636778e-03 -2.27046963e-02 -2.02328302e-02]\n",
       "   [-1.47624556e-02  2.02967934e-02 -2.19943281e-02]]\n",
       "\n",
       "  [[-1.09477704e-02 -2.48054992e-02 -3.94555368e-03]\n",
       "   [-2.08556466e-03 -7.77628459e-03 -7.13302568e-03]\n",
       "   [ 9.17003304e-03  8.32463056e-03 -9.42231715e-03]]\n",
       "\n",
       "  [[-1.85585320e-02  2.52754763e-02  1.81760639e-02]\n",
       "   [ 1.61440223e-02  1.82505213e-02 -1.35558965e-02]\n",
       "   [ 1.27145462e-03  2.12727897e-02  8.05711374e-03]]]\n",
       "\n",
       "\n",
       " [[[ 1.32146440e-02  3.71744297e-03 -1.70070473e-02]\n",
       "   [ 7.00973347e-03  9.66182351e-03  1.48770958e-03]\n",
       "   [-9.69748944e-03  2.19071321e-02 -2.42526717e-02]]\n",
       "\n",
       "  [[ 1.97390020e-02 -1.80173889e-02 -9.63027962e-03]\n",
       "   [-1.50882350e-02 -8.30243528e-03  1.68717355e-02]\n",
       "   [-7.71610625e-03 -2.18481980e-02  2.36380100e-02]]\n",
       "\n",
       "  [[ 1.66557357e-03  1.61073059e-02  9.25375149e-04]\n",
       "   [ 1.53013617e-02  8.51368904e-03 -1.04693845e-02]\n",
       "   [-6.55472651e-03 -4.50801477e-03 -1.21938810e-02]]\n",
       "\n",
       "  ...\n",
       "\n",
       "  [[ 2.45732032e-02  7.09504262e-03  1.87194720e-02]\n",
       "   [ 1.77381150e-02  2.65060738e-03  7.44242221e-03]\n",
       "   [-2.31833346e-02 -7.82171451e-03 -1.90196820e-02]]\n",
       "\n",
       "  [[ 1.81729682e-02 -1.76510662e-02 -1.79952066e-02]\n",
       "   [-1.22673390e-02  1.87025405e-02  4.20482829e-03]\n",
       "   [ 2.05901861e-02 -3.86883318e-03 -1.66844055e-02]]\n",
       "\n",
       "  [[ 4.44440357e-03  2.08256952e-03  1.95234269e-03]\n",
       "   [ 4.42531705e-03  3.66865471e-03  1.89637057e-02]\n",
       "   [-6.91000000e-03 -1.07914703e-02 -1.77078713e-02]]]\n",
       "\n",
       "\n",
       " [[[-1.85342953e-02  1.62034631e-02  2.45307349e-02]\n",
       "   [ 1.03366300e-02 -8.99806805e-03  1.89911872e-02]\n",
       "   [-1.57387741e-02 -8.38272274e-03 -2.44434942e-02]]\n",
       "\n",
       "  [[-7.58126378e-03  1.88368522e-02  2.08253637e-02]\n",
       "   [-5.85433654e-03  1.48335993e-02 -7.69723393e-03]\n",
       "   [-1.05782757e-02 -1.02431420e-02  8.87682661e-03]]\n",
       "\n",
       "  [[-4.51594777e-03 -1.12612620e-02  9.00954008e-04]\n",
       "   [-1.17656784e-02 -6.33482449e-03 -1.62534639e-02]\n",
       "   [ 1.86578333e-02  2.07353570e-03 -1.91875733e-02]]\n",
       "\n",
       "  ...\n",
       "\n",
       "  [[-7.05037080e-03 -1.24820964e-02 -1.83916893e-02]\n",
       "   [ 4.74979170e-03  1.49060674e-02 -2.52466612e-02]\n",
       "   [ 5.09314612e-03 -2.41220742e-03  6.55410439e-03]]\n",
       "\n",
       "  [[-1.81143880e-02 -5.47675416e-04 -2.27615833e-02]\n",
       "   [ 1.63787678e-02 -2.49259546e-03 -3.80118750e-03]\n",
       "   [-1.48693789e-02  4.18140367e-03 -2.08991244e-02]]\n",
       "\n",
       "  [[-1.67788118e-02 -1.49508370e-02  4.37833183e-03]\n",
       "   [-1.83313172e-02 -2.30274275e-02 -1.17022917e-03]\n",
       "   [ 8.61546770e-03 -1.49191301e-02  2.03247964e-02]]]]\n",
       "<NDArray 512x512x3x3 @cpu(0)>"
      ]
     },
     "execution_count": 42,
     "metadata": {},
     "output_type": "execute_result"
    }
   ],
   "source": [
    "layer = nn.Conv2D(channels = 512, in_channels = 512, kernel_size = (3,3))\n",
    "layer.initialize(init.Xavier())\n",
    "layer.weight.data()"
   ]
  },
  {
   "cell_type": "code",
   "execution_count": 43,
   "metadata": {},
   "outputs": [
    {
     "data": {
      "text/plain": [
       "0.02551551815399144"
      ]
     },
     "execution_count": 43,
     "metadata": {},
     "output_type": "execute_result"
    }
   ],
   "source": [
    "(3/(0.5*(512*9+512*9)))**0.5"
   ]
  },
  {
   "cell_type": "markdown",
   "metadata": {},
   "source": [
    "Deferred initialization: number of input in a layer is completed automatically during the first pass of data. Let's create a layer without defining the number of `in_channels`."
   ]
  },
  {
   "cell_type": "code",
   "execution_count": 44,
   "metadata": {},
   "outputs": [
    {
     "data": {
      "text/plain": [
       "Parameter conv2_weight (shape=(1, 0, 3, 3), dtype=<class 'numpy.float32'>)"
      ]
     },
     "execution_count": 44,
     "metadata": {},
     "output_type": "execute_result"
    }
   ],
   "source": [
    "layer = nn.Conv2D(channels = 1, kernel_size = (3,3))\n",
    "layer.weight\n",
    "# in_channels is 0"
   ]
  },
  {
   "cell_type": "code",
   "execution_count": 45,
   "metadata": {},
   "outputs": [
    {
     "data": {
      "text/plain": [
       "Parameter conv2_weight (shape=(1, 333, 3, 3), dtype=<class 'numpy.float32'>)"
      ]
     },
     "execution_count": 45,
     "metadata": {},
     "output_type": "execute_result"
    }
   ],
   "source": [
    "layer.initialize(init.Xavier())\n",
    "layer(mx.nd.ones((1,333,125,125)))\n",
    "layer.weight\n",
    "# in_channels is 333 just like the input"
   ]
  },
  {
   "cell_type": "markdown",
   "metadata": {},
   "source": [
    "**Knowledge Check**\n",
    "\n",
    "Why is initialization deferred until the first batch of data is passed into the network?\n",
    "- [ ] So that layer parameter shapes don’t need to be explicitly defined beforehand.\n",
    "- [ ] So that memory is not allocated until absolutely necessary.\n",
    "- [ ] So that the model converges more reliably.\n",
    "- [ ] So that the networks can support variable dimension input during inference."
   ]
  },
  {
   "cell_type": "markdown",
   "metadata": {},
   "source": [
    "**Initialization context**: if we initialize on one context, then the network is on that context.\n",
    "\n",
    "Example: once we initialize on GPU, we have to forward pass the input on GPU."
   ]
  },
  {
   "cell_type": "code",
   "execution_count": 46,
   "metadata": {},
   "outputs": [],
   "source": [
    "layer = nn.Conv2D(channels = 1, kernel_size = (3,3))\n",
    "layer.initialize(init.Xavier(), ctx = mx.gpu())"
   ]
  },
  {
   "cell_type": "code",
   "execution_count": 47,
   "metadata": {},
   "outputs": [],
   "source": [
    "# layer(nd.ones((1, 5, 9, 9)))\n",
    "# this is on CPU, error because the network is on GPU"
   ]
  },
  {
   "cell_type": "code",
   "execution_count": 48,
   "metadata": {},
   "outputs": [
    {
     "data": {
      "text/plain": [
       "\n",
       "[[[[0.11921266 0.11921266 0.11921266 0.11921266 0.11921266 0.11921266\n",
       "    0.11921266]\n",
       "   [0.11921266 0.11921266 0.11921266 0.11921266 0.11921266 0.11921266\n",
       "    0.11921266]\n",
       "   [0.11921266 0.11921266 0.11921266 0.11921266 0.11921266 0.11921266\n",
       "    0.11921266]\n",
       "   [0.11921266 0.11921266 0.11921266 0.11921266 0.11921266 0.11921266\n",
       "    0.11921266]\n",
       "   [0.11921266 0.11921266 0.11921266 0.11921266 0.11921266 0.11921266\n",
       "    0.11921266]\n",
       "   [0.11921266 0.11921266 0.11921266 0.11921266 0.11921266 0.11921266\n",
       "    0.11921266]\n",
       "   [0.11921266 0.11921266 0.11921266 0.11921266 0.11921266 0.11921266\n",
       "    0.11921266]]]]\n",
       "<NDArray 1x1x7x7 @gpu(0)>"
      ]
     },
     "execution_count": 48,
     "metadata": {},
     "output_type": "execute_result"
    }
   ],
   "source": [
    "layer(nd.ones((1, 5, 9, 9), ctx = mx.gpu()))"
   ]
  },
  {
   "cell_type": "markdown",
   "metadata": {},
   "source": [
    "We can **manually** set parameters by `.set_data()` method"
   ]
  },
  {
   "cell_type": "code",
   "execution_count": 49,
   "metadata": {},
   "outputs": [
    {
     "data": {
      "text/plain": [
       "\n",
       "[[[[333. 333. 333.]\n",
       "   [333. 333. 333.]\n",
       "   [333. 333. 333.]]\n",
       "\n",
       "  [[333. 333. 333.]\n",
       "   [333. 333. 333.]\n",
       "   [333. 333. 333.]]\n",
       "\n",
       "  [[333. 333. 333.]\n",
       "   [333. 333. 333.]\n",
       "   [333. 333. 333.]]\n",
       "\n",
       "  [[333. 333. 333.]\n",
       "   [333. 333. 333.]\n",
       "   [333. 333. 333.]]\n",
       "\n",
       "  [[333. 333. 333.]\n",
       "   [333. 333. 333.]\n",
       "   [333. 333. 333.]]]]\n",
       "<NDArray 1x5x3x3 @gpu(0)>"
      ]
     },
     "execution_count": 49,
     "metadata": {},
     "output_type": "execute_result"
    }
   ],
   "source": [
    "layer.weight.set_data(333*nd.ones((1,5,3,3), ctx = mx.gpu()))\n",
    "layer.weight.data()"
   ]
  },
  {
   "cell_type": "markdown",
   "metadata": {},
   "source": [
    "### Sequential Gluon Blocks"
   ]
  },
  {
   "cell_type": "code",
   "execution_count": 50,
   "metadata": {},
   "outputs": [],
   "source": [
    "import mxnet as mx\n",
    "from mxnet import nd\n",
    "from mxnet.gluon import nn"
   ]
  },
  {
   "cell_type": "markdown",
   "metadata": {},
   "source": [
    "The purpose of `.Sequential()` is to provide convenience to create sequential models by simply chaining the composition of each layer one after each other. This allows us to define models consisting of stacked layers.\n",
    "\n",
    "Let's reproduce a simple LeNet architecture by Yann LeCun as follows:\n",
    "\n",
    "<img src=\"assets/module4/lenet.png\" width=\"500\">"
   ]
  },
  {
   "cell_type": "code",
   "execution_count": 51,
   "metadata": {},
   "outputs": [
    {
     "data": {
      "text/plain": [
       "Sequential(\n",
       "  (0): Conv2D(None -> 6, kernel_size=(5, 5), stride=(1, 1), Activation(tanh))\n",
       "  (1): MaxPool2D(size=(2, 2), stride=(2, 2), padding=(0, 0), ceil_mode=False, global_pool=False, pool_type=max, layout=NCHW)\n",
       "  (2): Conv2D(None -> 16, kernel_size=(5, 5), stride=(1, 1), Activation(tanh))\n",
       "  (3): MaxPool2D(size=(2, 2), stride=(2, 2), padding=(0, 0), ceil_mode=False, global_pool=False, pool_type=max, layout=NCHW)\n",
       "  (4): Dense(None -> 120, Activation(tanh))\n",
       "  (5): Dense(None -> 84, linear)\n",
       "  (6): Dense(None -> 10, linear)\n",
       ")"
      ]
     },
     "execution_count": 51,
     "metadata": {},
     "output_type": "execute_result"
    }
   ],
   "source": [
    "net = nn.Sequential()\n",
    "net.add(\n",
    "    nn.Conv2D(channels = 6, kernel_size = (5, 5), activation = 'tanh'),\n",
    "    nn.MaxPool2D(pool_size = (2, 2)),\n",
    "    nn.Conv2D(channels = 16, kernel_size = (5, 5), activation = 'tanh'),\n",
    "    nn.MaxPool2D(pool_size = (2, 2)),\n",
    "    nn.Dense(units = 120, activation = 'tanh'),\n",
    "    nn.Dense(units = 84),\n",
    "    nn.Dense(units = 10)\n",
    ")\n",
    "net"
   ]
  },
  {
   "cell_type": "markdown",
   "metadata": {},
   "source": [
    "We haven't specified the number of inputs, but Gluon can automatically infer the input size when the network receive the first batch of data."
   ]
  },
  {
   "cell_type": "code",
   "execution_count": 52,
   "metadata": {},
   "outputs": [],
   "source": [
    "net.initialize()"
   ]
  },
  {
   "cell_type": "markdown",
   "metadata": {},
   "source": [
    "Forward pass"
   ]
  },
  {
   "cell_type": "code",
   "execution_count": 53,
   "metadata": {},
   "outputs": [
    {
     "data": {
      "text/plain": [
       "\n",
       "[[-0.00709328 -0.01215724  0.0301539   0.00152729 -0.01605038  0.01345255\n",
       "   0.02641603 -0.01062098  0.01955106  0.00859926]]\n",
       "<NDArray 1x10 @cpu(0)>"
      ]
     },
     "execution_count": 53,
     "metadata": {},
     "output_type": "execute_result"
    }
   ],
   "source": [
    "input_array = nd.ones((1, 1, 28, 28))\n",
    "net(input_array)\n",
    "net.forward(input_array) # equivalent"
   ]
  },
  {
   "cell_type": "markdown",
   "metadata": {},
   "source": [
    "Another sequential models:\n",
    "\n",
    "<img src=\"assets/module4/vgg16.png\" width=\"300\">\n",
    "\n",
    "- Popular for image classification\n",
    "- Drawback: large number of parameters"
   ]
  },
  {
   "cell_type": "markdown",
   "metadata": {},
   "source": [
    "### Custom Gluon Blocks"
   ]
  },
  {
   "cell_type": "markdown",
   "metadata": {},
   "source": [
    "Building more complex data flows using `nn.Block` as the parent class."
   ]
  },
  {
   "cell_type": "code",
   "execution_count": 54,
   "metadata": {},
   "outputs": [],
   "source": [
    "import mxnet as mx\n",
    "from mxnet import nd\n",
    "from mxnet.gluon import nn"
   ]
  },
  {
   "cell_type": "markdown",
   "metadata": {},
   "source": [
    "Let's create multi layer perceptron or MLP class which inherit `nn.Block` consist of methods:\n",
    "- `__init__`: constructor, define the architecture\n",
    "- `forward`: describe data flow for forward pass"
   ]
  },
  {
   "cell_type": "code",
   "execution_count": 55,
   "metadata": {},
   "outputs": [],
   "source": [
    "class MLP(nn.Block):\n",
    "    def __init__(self, hidden_units = 256, **kwargs):\n",
    "        # call the constructor of nn.Block to perform necessary initialization\n",
    "        super(MLP, self).__init__(**kwargs)\n",
    "        \n",
    "        # hidden layer\n",
    "        self.hidden = nn.Dense(hidden_units, activation = \"relu\")\n",
    "        \n",
    "        # output layer\n",
    "        self.output = nn.Dense(10)\n",
    "        \n",
    "    def forward(self, x):\n",
    "        y = self.hidden(x)\n",
    "        return self.output(y)"
   ]
  },
  {
   "cell_type": "code",
   "execution_count": 56,
   "metadata": {
    "scrolled": false
   },
   "outputs": [
    {
     "data": {
      "text/plain": [
       "\n",
       "[[ 0.08633302  0.00977867  0.00338558 -0.1582361  -0.02137251  0.11280774\n",
       "   0.18100005  0.0372853  -0.10333555 -0.2574899 ]]\n",
       "<NDArray 1x10 @cpu(0)>"
      ]
     },
     "execution_count": 56,
     "metadata": {},
     "output_type": "execute_result"
    }
   ],
   "source": [
    "net = MLP(hidden_units = 512)\n",
    "net.initialize()\n",
    "net(nd.random.uniform(shape = (1, 64)))"
   ]
  },
  {
   "cell_type": "markdown",
   "metadata": {},
   "source": [
    "**Knowledge Check**\n",
    "\n",
    "Which of the following options is true?\n",
    "- [ ] You should define block metadata in the `__init__` method (e.g. block name, etc.) but define and use the layers of the network in the `forward` method.\n",
    "- [ ] You should define the layers of the network in the `__init__` method and use them in the `forward` method."
   ]
  },
  {
   "cell_type": "markdown",
   "metadata": {},
   "source": [
    "Let's create another complex architecture: Siamese network for comparing two images.\n",
    "\n",
    "<img src=\"assets/module4/siamese-network.png\" width=\"400\">"
   ]
  },
  {
   "cell_type": "code",
   "execution_count": 57,
   "metadata": {},
   "outputs": [],
   "source": [
    "class SiameseNetwork(nn.Block):\n",
    "    def __init__(self, hidden_units = 256, **kwargs):\n",
    "        super(SiameseNetwork, self).__init__(**kwargs)\n",
    "        self.mlp = nn.Sequential()\n",
    "        with self.mlp.name_scope():\n",
    "            self.mlp.add(\n",
    "                nn.Dense(units = 128, activation = \"relu\"),\n",
    "                nn.Dense(units = 128, activation = \"relu\"),\n",
    "                nn.Dense(units = 128, activation = \"relu\")\n",
    "            )\n",
    "    \n",
    "    def forward(self, x1, x2):\n",
    "        y1 = self.mlp(x1).expand_dims(axis = 1) # N, 1, C\n",
    "        y2 = self.mlp(x2).expand_dims(axis = 2) # N, C, 1\n",
    "        return nd.batch_dot(y1, y2)\n",
    "        "
   ]
  },
  {
   "cell_type": "code",
   "execution_count": 58,
   "metadata": {},
   "outputs": [
    {
     "data": {
      "text/plain": [
       "\n",
       "[[[0.02136999]]\n",
       "\n",
       " [[0.02208177]]\n",
       "\n",
       " [[0.02097865]]]\n",
       "<NDArray 3x1x1 @cpu(0)>"
      ]
     },
     "execution_count": 58,
     "metadata": {},
     "output_type": "execute_result"
    }
   ],
   "source": [
    "net = SiameseNetwork()\n",
    "net.initialize()\n",
    "x1 = nd.random.uniform(shape = (3,64))\n",
    "x2 = nd.random.uniform(shape = (3,64))\n",
    "net(x1, x2)"
   ]
  },
  {
   "cell_type": "markdown",
   "metadata": {},
   "source": [
    "### Visualization"
   ]
  },
  {
   "cell_type": "code",
   "execution_count": 59,
   "metadata": {},
   "outputs": [],
   "source": [
    "import os\n",
    "os.environ[\"PATH\"] += os.pathsep + \"C:\\Program Files (x86)\\Graphviz2.38\\bin\""
   ]
  },
  {
   "cell_type": "code",
   "execution_count": 60,
   "metadata": {},
   "outputs": [],
   "source": [
    "import mxnet as mx\n",
    "from mxnet import nd, viz\n",
    "from mxnet.gluon import nn, model_zoo"
   ]
  },
  {
   "cell_type": "markdown",
   "metadata": {},
   "source": [
    "Let's use vgg11 pre-trained model:"
   ]
  },
  {
   "cell_type": "code",
   "execution_count": 61,
   "metadata": {},
   "outputs": [],
   "source": [
    "vgg = model_zoo.vision.vgg11(pretrained = True)"
   ]
  },
  {
   "cell_type": "markdown",
   "metadata": {},
   "source": [
    "Two main blocks of model: `features` and `output`"
   ]
  },
  {
   "cell_type": "code",
   "execution_count": 62,
   "metadata": {},
   "outputs": [
    {
     "name": "stdout",
     "output_type": "stream",
     "text": [
      "VGG(\n",
      "  (features): HybridSequential(\n",
      "    (0): Conv2D(3 -> 64, kernel_size=(3, 3), stride=(1, 1), padding=(1, 1))\n",
      "    (1): Activation(relu)\n",
      "    (2): MaxPool2D(size=(2, 2), stride=(2, 2), padding=(0, 0), ceil_mode=False, global_pool=False, pool_type=max, layout=NCHW)\n",
      "    (3): Conv2D(64 -> 128, kernel_size=(3, 3), stride=(1, 1), padding=(1, 1))\n",
      "    (4): Activation(relu)\n",
      "    (5): MaxPool2D(size=(2, 2), stride=(2, 2), padding=(0, 0), ceil_mode=False, global_pool=False, pool_type=max, layout=NCHW)\n",
      "    (6): Conv2D(128 -> 256, kernel_size=(3, 3), stride=(1, 1), padding=(1, 1))\n",
      "    (7): Activation(relu)\n",
      "    (8): Conv2D(256 -> 256, kernel_size=(3, 3), stride=(1, 1), padding=(1, 1))\n",
      "    (9): Activation(relu)\n",
      "    (10): MaxPool2D(size=(2, 2), stride=(2, 2), padding=(0, 0), ceil_mode=False, global_pool=False, pool_type=max, layout=NCHW)\n",
      "    (11): Conv2D(256 -> 512, kernel_size=(3, 3), stride=(1, 1), padding=(1, 1))\n",
      "    (12): Activation(relu)\n",
      "    (13): Conv2D(512 -> 512, kernel_size=(3, 3), stride=(1, 1), padding=(1, 1))\n",
      "    (14): Activation(relu)\n",
      "    (15): MaxPool2D(size=(2, 2), stride=(2, 2), padding=(0, 0), ceil_mode=False, global_pool=False, pool_type=max, layout=NCHW)\n",
      "    (16): Conv2D(512 -> 512, kernel_size=(3, 3), stride=(1, 1), padding=(1, 1))\n",
      "    (17): Activation(relu)\n",
      "    (18): Conv2D(512 -> 512, kernel_size=(3, 3), stride=(1, 1), padding=(1, 1))\n",
      "    (19): Activation(relu)\n",
      "    (20): MaxPool2D(size=(2, 2), stride=(2, 2), padding=(0, 0), ceil_mode=False, global_pool=False, pool_type=max, layout=NCHW)\n",
      "    (21): Dense(25088 -> 4096, Activation(relu))\n",
      "    (22): Dropout(p = 0.5, axes=())\n",
      "    (23): Dense(4096 -> 4096, Activation(relu))\n",
      "    (24): Dropout(p = 0.5, axes=())\n",
      "  )\n",
      "  (output): Dense(4096 -> 1000, linear)\n",
      ")\n"
     ]
    }
   ],
   "source": [
    "print(vgg)"
   ]
  },
  {
   "cell_type": "markdown",
   "metadata": {},
   "source": [
    "`.summary()` to see the data flows through the network at each layer."
   ]
  },
  {
   "cell_type": "code",
   "execution_count": 64,
   "metadata": {},
   "outputs": [
    {
     "name": "stdout",
     "output_type": "stream",
     "text": [
      "--------------------------------------------------------------------------------\n",
      "        Layer (type)                                Output Shape         Param #\n",
      "================================================================================\n",
      "               Input                            (1, 3, 224, 224)               0\n",
      "            Conv2D-1                           (1, 64, 224, 224)            1792\n",
      "        Activation-2                           (1, 64, 224, 224)               0\n",
      "         MaxPool2D-3                           (1, 64, 112, 112)               0\n",
      "            Conv2D-4                          (1, 128, 112, 112)           73856\n",
      "        Activation-5                          (1, 128, 112, 112)               0\n",
      "         MaxPool2D-6                            (1, 128, 56, 56)               0\n",
      "            Conv2D-7                            (1, 256, 56, 56)          295168\n",
      "        Activation-8                            (1, 256, 56, 56)               0\n",
      "            Conv2D-9                            (1, 256, 56, 56)          590080\n",
      "       Activation-10                            (1, 256, 56, 56)               0\n",
      "        MaxPool2D-11                            (1, 256, 28, 28)               0\n",
      "           Conv2D-12                            (1, 512, 28, 28)         1180160\n",
      "       Activation-13                            (1, 512, 28, 28)               0\n",
      "           Conv2D-14                            (1, 512, 28, 28)         2359808\n",
      "       Activation-15                            (1, 512, 28, 28)               0\n",
      "        MaxPool2D-16                            (1, 512, 14, 14)               0\n",
      "           Conv2D-17                            (1, 512, 14, 14)         2359808\n",
      "       Activation-18                            (1, 512, 14, 14)               0\n",
      "           Conv2D-19                            (1, 512, 14, 14)         2359808\n",
      "       Activation-20                            (1, 512, 14, 14)               0\n",
      "        MaxPool2D-21                              (1, 512, 7, 7)               0\n",
      "       Activation-22                                   (1, 4096)               0\n",
      "            Dense-23                                   (1, 4096)       102764544\n",
      "          Dropout-24                                   (1, 4096)               0\n",
      "       Activation-25                                   (1, 4096)               0\n",
      "            Dense-26                                   (1, 4096)        16781312\n",
      "          Dropout-27                                   (1, 4096)               0\n",
      "            Dense-28                                   (1, 1000)         4097000\n",
      "              VGG-29                                   (1, 1000)               0\n",
      "================================================================================\n",
      "Parameters in forward computation graph, duplicate included\n",
      "   Total params: 132863336\n",
      "   Trainable params: 132863336\n",
      "   Non-trainable params: 0\n",
      "Shared params in forward computation graph: 0\n",
      "Unique parameters in model: 132863336\n",
      "--------------------------------------------------------------------------------\n"
     ]
    }
   ],
   "source": [
    "vgg.summary(nd.ones((1, 3, 224, 224)))"
   ]
  },
  {
   "cell_type": "markdown",
   "metadata": {},
   "source": [
    "**Knowledge Check**\n",
    "\n",
    "Which of the following layer statistics are shown as part of the network `summary`?\n",
    "- [ ] Shape of output\n",
    "- [ ] Count of trainable parameters\n",
    "- [ ] Memory consumption of parameters\n",
    "- [ ] Shape of parameters"
   ]
  },
  {
   "cell_type": "markdown",
   "metadata": {},
   "source": [
    "Visualize computational graph"
   ]
  },
  {
   "cell_type": "code",
   "execution_count": 65,
   "metadata": {
    "scrolled": true
   },
   "outputs": [
    {
     "data": {
      "image/svg+xml": [
       "<?xml version=\"1.0\" encoding=\"UTF-8\" standalone=\"no\"?>\r\n",
       "<!DOCTYPE svg PUBLIC \"-//W3C//DTD SVG 1.1//EN\"\r\n",
       " \"http://www.w3.org/Graphics/SVG/1.1/DTD/svg11.dtd\">\r\n",
       "<!-- Generated by graphviz version 2.38.0 (20140413.2041)\r\n",
       " -->\r\n",
       "<!-- Title: plot Pages: 1 -->\r\n",
       "<svg width=\"155pt\" height=\"3118pt\"\r\n",
       " viewBox=\"0.00 0.00 154.89 3118.00\" xmlns=\"http://www.w3.org/2000/svg\" xmlns:xlink=\"http://www.w3.org/1999/xlink\">\r\n",
       "<g id=\"graph0\" class=\"graph\" transform=\"scale(1 1) rotate(0) translate(4 3114)\">\r\n",
       "<title>plot</title>\r\n",
       "<polygon fill=\"white\" stroke=\"none\" points=\"-4,4 -4,-3114 150.894,-3114 150.894,4 -4,4\"/>\r\n",
       "<!-- data -->\r\n",
       "<g id=\"node1\" class=\"node\"><title>data</title>\r\n",
       "<ellipse fill=\"#8dd3c7\" stroke=\"black\" cx=\"71.8945\" cy=\"-29\" rx=\"47\" ry=\"29\"/>\r\n",
       "<text text-anchor=\"middle\" x=\"71.8945\" y=\"-25.3\" font-family=\"Times New Roman,serif\" font-size=\"14.00\">data</text>\r\n",
       "</g>\r\n",
       "<!-- vgg0_conv0_fwd -->\r\n",
       "<g id=\"node2\" class=\"node\"><title>vgg0_conv0_fwd</title>\r\n",
       "<ellipse fill=\"#fb8072\" stroke=\"black\" cx=\"71.8945\" cy=\"-138\" rx=\"56.8351\" ry=\"29\"/>\r\n",
       "<text text-anchor=\"middle\" x=\"71.8945\" y=\"-141.8\" font-family=\"Times New Roman,serif\" font-size=\"14.00\">Convolution</text>\r\n",
       "<text text-anchor=\"middle\" x=\"71.8945\" y=\"-126.8\" font-family=\"Times New Roman,serif\" font-size=\"14.00\">3x3/1x1, 64</text>\r\n",
       "</g>\r\n",
       "<!-- vgg0_conv0_fwd&#45;&gt;data -->\r\n",
       "<g id=\"edge1\" class=\"edge\"><title>vgg0_conv0_fwd&#45;&gt;data</title>\r\n",
       "<path fill=\"none\" stroke=\"black\" d=\"M71.8945,-98.5824C71.8945,-85.2841 71.8945,-70.632 71.8945,-58.2967\"/>\r\n",
       "<polygon fill=\"black\" stroke=\"black\" points=\"71.8945,-108.887 67.3946,-98.887 71.8945,-103.887 71.8946,-98.887 71.8946,-98.887 71.8946,-98.887 71.8945,-103.887 76.3946,-98.8871 71.8945,-108.887 71.8945,-108.887\"/>\r\n",
       "<text text-anchor=\"middle\" x=\"102.394\" y=\"-79.8\" font-family=\"Times New Roman,serif\" font-size=\"14.00\">3x224x224</text>\r\n",
       "</g>\r\n",
       "<!-- vgg0_relu0_fwd -->\r\n",
       "<g id=\"node3\" class=\"node\"><title>vgg0_relu0_fwd</title>\r\n",
       "<ellipse fill=\"#ffffb3\" stroke=\"black\" cx=\"71.8945\" cy=\"-247\" rx=\"48.9511\" ry=\"29\"/>\r\n",
       "<text text-anchor=\"middle\" x=\"71.8945\" y=\"-250.8\" font-family=\"Times New Roman,serif\" font-size=\"14.00\">Activation</text>\r\n",
       "<text text-anchor=\"middle\" x=\"71.8945\" y=\"-235.8\" font-family=\"Times New Roman,serif\" font-size=\"14.00\">relu</text>\r\n",
       "</g>\r\n",
       "<!-- vgg0_relu0_fwd&#45;&gt;vgg0_conv0_fwd -->\r\n",
       "<g id=\"edge2\" class=\"edge\"><title>vgg0_relu0_fwd&#45;&gt;vgg0_conv0_fwd</title>\r\n",
       "<path fill=\"none\" stroke=\"black\" d=\"M71.8945,-207.582C71.8945,-194.284 71.8945,-179.632 71.8945,-167.297\"/>\r\n",
       "<polygon fill=\"black\" stroke=\"black\" points=\"71.8945,-217.887 67.3946,-207.887 71.8945,-212.887 71.8946,-207.887 71.8946,-207.887 71.8946,-207.887 71.8945,-212.887 76.3946,-207.887 71.8945,-217.887 71.8945,-217.887\"/>\r\n",
       "<text text-anchor=\"middle\" x=\"105.894\" y=\"-188.8\" font-family=\"Times New Roman,serif\" font-size=\"14.00\">64x224x224</text>\r\n",
       "</g>\r\n",
       "<!-- vgg0_pool0_fwd -->\r\n",
       "<g id=\"node4\" class=\"node\"><title>vgg0_pool0_fwd</title>\r\n",
       "<ellipse fill=\"#80b1d3\" stroke=\"black\" cx=\"71.8945\" cy=\"-356\" rx=\"60.7772\" ry=\"29\"/>\r\n",
       "<text text-anchor=\"middle\" x=\"71.8945\" y=\"-359.8\" font-family=\"Times New Roman,serif\" font-size=\"14.00\">Pooling</text>\r\n",
       "<text text-anchor=\"middle\" x=\"71.8945\" y=\"-344.8\" font-family=\"Times New Roman,serif\" font-size=\"14.00\">max, 2x2/2x2</text>\r\n",
       "</g>\r\n",
       "<!-- vgg0_pool0_fwd&#45;&gt;vgg0_relu0_fwd -->\r\n",
       "<g id=\"edge3\" class=\"edge\"><title>vgg0_pool0_fwd&#45;&gt;vgg0_relu0_fwd</title>\r\n",
       "<path fill=\"none\" stroke=\"black\" d=\"M71.8945,-316.582C71.8945,-303.284 71.8945,-288.632 71.8945,-276.297\"/>\r\n",
       "<polygon fill=\"black\" stroke=\"black\" points=\"71.8945,-326.887 67.3946,-316.887 71.8945,-321.887 71.8946,-316.887 71.8946,-316.887 71.8946,-316.887 71.8945,-321.887 76.3946,-316.887 71.8945,-326.887 71.8945,-326.887\"/>\r\n",
       "<text text-anchor=\"middle\" x=\"105.894\" y=\"-297.8\" font-family=\"Times New Roman,serif\" font-size=\"14.00\">64x224x224</text>\r\n",
       "</g>\r\n",
       "<!-- vgg0_conv1_fwd -->\r\n",
       "<g id=\"node5\" class=\"node\"><title>vgg0_conv1_fwd</title>\r\n",
       "<ellipse fill=\"#fb8072\" stroke=\"black\" cx=\"71.8945\" cy=\"-465\" rx=\"58.8062\" ry=\"29\"/>\r\n",
       "<text text-anchor=\"middle\" x=\"71.8945\" y=\"-468.8\" font-family=\"Times New Roman,serif\" font-size=\"14.00\">Convolution</text>\r\n",
       "<text text-anchor=\"middle\" x=\"71.8945\" y=\"-453.8\" font-family=\"Times New Roman,serif\" font-size=\"14.00\">3x3/1x1, 128</text>\r\n",
       "</g>\r\n",
       "<!-- vgg0_conv1_fwd&#45;&gt;vgg0_pool0_fwd -->\r\n",
       "<g id=\"edge4\" class=\"edge\"><title>vgg0_conv1_fwd&#45;&gt;vgg0_pool0_fwd</title>\r\n",
       "<path fill=\"none\" stroke=\"black\" d=\"M71.8945,-425.582C71.8945,-412.284 71.8945,-397.632 71.8945,-385.297\"/>\r\n",
       "<polygon fill=\"black\" stroke=\"black\" points=\"71.8945,-435.887 67.3946,-425.887 71.8945,-430.887 71.8946,-425.887 71.8946,-425.887 71.8946,-425.887 71.8945,-430.887 76.3946,-425.887 71.8945,-435.887 71.8945,-435.887\"/>\r\n",
       "<text text-anchor=\"middle\" x=\"105.894\" y=\"-406.8\" font-family=\"Times New Roman,serif\" font-size=\"14.00\">64x112x112</text>\r\n",
       "</g>\r\n",
       "<!-- vgg0_relu1_fwd -->\r\n",
       "<g id=\"node6\" class=\"node\"><title>vgg0_relu1_fwd</title>\r\n",
       "<ellipse fill=\"#ffffb3\" stroke=\"black\" cx=\"71.8945\" cy=\"-574\" rx=\"48.9511\" ry=\"29\"/>\r\n",
       "<text text-anchor=\"middle\" x=\"71.8945\" y=\"-577.8\" font-family=\"Times New Roman,serif\" font-size=\"14.00\">Activation</text>\r\n",
       "<text text-anchor=\"middle\" x=\"71.8945\" y=\"-562.8\" font-family=\"Times New Roman,serif\" font-size=\"14.00\">relu</text>\r\n",
       "</g>\r\n",
       "<!-- vgg0_relu1_fwd&#45;&gt;vgg0_conv1_fwd -->\r\n",
       "<g id=\"edge5\" class=\"edge\"><title>vgg0_relu1_fwd&#45;&gt;vgg0_conv1_fwd</title>\r\n",
       "<path fill=\"none\" stroke=\"black\" d=\"M71.8945,-534.582C71.8945,-521.284 71.8945,-506.632 71.8945,-494.297\"/>\r\n",
       "<polygon fill=\"black\" stroke=\"black\" points=\"71.8945,-544.887 67.3946,-534.887 71.8945,-539.887 71.8946,-534.887 71.8946,-534.887 71.8946,-534.887 71.8945,-539.887 76.3946,-534.887 71.8945,-544.887 71.8945,-544.887\"/>\r\n",
       "<text text-anchor=\"middle\" x=\"109.394\" y=\"-515.8\" font-family=\"Times New Roman,serif\" font-size=\"14.00\">128x112x112</text>\r\n",
       "</g>\r\n",
       "<!-- vgg0_pool1_fwd -->\r\n",
       "<g id=\"node7\" class=\"node\"><title>vgg0_pool1_fwd</title>\r\n",
       "<ellipse fill=\"#80b1d3\" stroke=\"black\" cx=\"71.8945\" cy=\"-683\" rx=\"60.7772\" ry=\"29\"/>\r\n",
       "<text text-anchor=\"middle\" x=\"71.8945\" y=\"-686.8\" font-family=\"Times New Roman,serif\" font-size=\"14.00\">Pooling</text>\r\n",
       "<text text-anchor=\"middle\" x=\"71.8945\" y=\"-671.8\" font-family=\"Times New Roman,serif\" font-size=\"14.00\">max, 2x2/2x2</text>\r\n",
       "</g>\r\n",
       "<!-- vgg0_pool1_fwd&#45;&gt;vgg0_relu1_fwd -->\r\n",
       "<g id=\"edge6\" class=\"edge\"><title>vgg0_pool1_fwd&#45;&gt;vgg0_relu1_fwd</title>\r\n",
       "<path fill=\"none\" stroke=\"black\" d=\"M71.8945,-643.582C71.8945,-630.284 71.8945,-615.632 71.8945,-603.297\"/>\r\n",
       "<polygon fill=\"black\" stroke=\"black\" points=\"71.8945,-653.887 67.3946,-643.887 71.8945,-648.887 71.8946,-643.887 71.8946,-643.887 71.8946,-643.887 71.8945,-648.887 76.3946,-643.887 71.8945,-653.887 71.8945,-653.887\"/>\r\n",
       "<text text-anchor=\"middle\" x=\"109.394\" y=\"-624.8\" font-family=\"Times New Roman,serif\" font-size=\"14.00\">128x112x112</text>\r\n",
       "</g>\r\n",
       "<!-- vgg0_conv2_fwd -->\r\n",
       "<g id=\"node8\" class=\"node\"><title>vgg0_conv2_fwd</title>\r\n",
       "<ellipse fill=\"#fb8072\" stroke=\"black\" cx=\"71.8945\" cy=\"-792\" rx=\"58.8062\" ry=\"29\"/>\r\n",
       "<text text-anchor=\"middle\" x=\"71.8945\" y=\"-795.8\" font-family=\"Times New Roman,serif\" font-size=\"14.00\">Convolution</text>\r\n",
       "<text text-anchor=\"middle\" x=\"71.8945\" y=\"-780.8\" font-family=\"Times New Roman,serif\" font-size=\"14.00\">3x3/1x1, 256</text>\r\n",
       "</g>\r\n",
       "<!-- vgg0_conv2_fwd&#45;&gt;vgg0_pool1_fwd -->\r\n",
       "<g id=\"edge7\" class=\"edge\"><title>vgg0_conv2_fwd&#45;&gt;vgg0_pool1_fwd</title>\r\n",
       "<path fill=\"none\" stroke=\"black\" d=\"M71.8945,-752.582C71.8945,-739.284 71.8945,-724.632 71.8945,-712.297\"/>\r\n",
       "<polygon fill=\"black\" stroke=\"black\" points=\"71.8945,-762.887 67.3946,-752.887 71.8945,-757.887 71.8946,-752.887 71.8946,-752.887 71.8946,-752.887 71.8945,-757.887 76.3946,-752.887 71.8945,-762.887 71.8945,-762.887\"/>\r\n",
       "<text text-anchor=\"middle\" x=\"102.394\" y=\"-733.8\" font-family=\"Times New Roman,serif\" font-size=\"14.00\">128x56x56</text>\r\n",
       "</g>\r\n",
       "<!-- vgg0_relu2_fwd -->\r\n",
       "<g id=\"node9\" class=\"node\"><title>vgg0_relu2_fwd</title>\r\n",
       "<ellipse fill=\"#ffffb3\" stroke=\"black\" cx=\"71.8945\" cy=\"-901\" rx=\"48.9511\" ry=\"29\"/>\r\n",
       "<text text-anchor=\"middle\" x=\"71.8945\" y=\"-904.8\" font-family=\"Times New Roman,serif\" font-size=\"14.00\">Activation</text>\r\n",
       "<text text-anchor=\"middle\" x=\"71.8945\" y=\"-889.8\" font-family=\"Times New Roman,serif\" font-size=\"14.00\">relu</text>\r\n",
       "</g>\r\n",
       "<!-- vgg0_relu2_fwd&#45;&gt;vgg0_conv2_fwd -->\r\n",
       "<g id=\"edge8\" class=\"edge\"><title>vgg0_relu2_fwd&#45;&gt;vgg0_conv2_fwd</title>\r\n",
       "<path fill=\"none\" stroke=\"black\" d=\"M71.8945,-861.582C71.8945,-848.284 71.8945,-833.632 71.8945,-821.297\"/>\r\n",
       "<polygon fill=\"black\" stroke=\"black\" points=\"71.8945,-871.887 67.3946,-861.887 71.8945,-866.887 71.8946,-861.887 71.8946,-861.887 71.8946,-861.887 71.8945,-866.887 76.3946,-861.887 71.8945,-871.887 71.8945,-871.887\"/>\r\n",
       "<text text-anchor=\"middle\" x=\"102.394\" y=\"-842.8\" font-family=\"Times New Roman,serif\" font-size=\"14.00\">256x56x56</text>\r\n",
       "</g>\r\n",
       "<!-- vgg0_conv3_fwd -->\r\n",
       "<g id=\"node10\" class=\"node\"><title>vgg0_conv3_fwd</title>\r\n",
       "<ellipse fill=\"#fb8072\" stroke=\"black\" cx=\"71.8945\" cy=\"-1010\" rx=\"58.8062\" ry=\"29\"/>\r\n",
       "<text text-anchor=\"middle\" x=\"71.8945\" y=\"-1013.8\" font-family=\"Times New Roman,serif\" font-size=\"14.00\">Convolution</text>\r\n",
       "<text text-anchor=\"middle\" x=\"71.8945\" y=\"-998.8\" font-family=\"Times New Roman,serif\" font-size=\"14.00\">3x3/1x1, 256</text>\r\n",
       "</g>\r\n",
       "<!-- vgg0_conv3_fwd&#45;&gt;vgg0_relu2_fwd -->\r\n",
       "<g id=\"edge9\" class=\"edge\"><title>vgg0_conv3_fwd&#45;&gt;vgg0_relu2_fwd</title>\r\n",
       "<path fill=\"none\" stroke=\"black\" d=\"M71.8945,-970.582C71.8945,-957.284 71.8945,-942.632 71.8945,-930.297\"/>\r\n",
       "<polygon fill=\"black\" stroke=\"black\" points=\"71.8945,-980.887 67.3946,-970.887 71.8945,-975.887 71.8946,-970.887 71.8946,-970.887 71.8946,-970.887 71.8945,-975.887 76.3946,-970.887 71.8945,-980.887 71.8945,-980.887\"/>\r\n",
       "<text text-anchor=\"middle\" x=\"102.394\" y=\"-951.8\" font-family=\"Times New Roman,serif\" font-size=\"14.00\">256x56x56</text>\r\n",
       "</g>\r\n",
       "<!-- vgg0_relu3_fwd -->\r\n",
       "<g id=\"node11\" class=\"node\"><title>vgg0_relu3_fwd</title>\r\n",
       "<ellipse fill=\"#ffffb3\" stroke=\"black\" cx=\"71.8945\" cy=\"-1119\" rx=\"48.9511\" ry=\"29\"/>\r\n",
       "<text text-anchor=\"middle\" x=\"71.8945\" y=\"-1122.8\" font-family=\"Times New Roman,serif\" font-size=\"14.00\">Activation</text>\r\n",
       "<text text-anchor=\"middle\" x=\"71.8945\" y=\"-1107.8\" font-family=\"Times New Roman,serif\" font-size=\"14.00\">relu</text>\r\n",
       "</g>\r\n",
       "<!-- vgg0_relu3_fwd&#45;&gt;vgg0_conv3_fwd -->\r\n",
       "<g id=\"edge10\" class=\"edge\"><title>vgg0_relu3_fwd&#45;&gt;vgg0_conv3_fwd</title>\r\n",
       "<path fill=\"none\" stroke=\"black\" d=\"M71.8945,-1079.58C71.8945,-1066.28 71.8945,-1051.63 71.8945,-1039.3\"/>\r\n",
       "<polygon fill=\"black\" stroke=\"black\" points=\"71.8945,-1089.89 67.3946,-1079.89 71.8945,-1084.89 71.8946,-1079.89 71.8946,-1079.89 71.8946,-1079.89 71.8945,-1084.89 76.3946,-1079.89 71.8945,-1089.89 71.8945,-1089.89\"/>\r\n",
       "<text text-anchor=\"middle\" x=\"102.394\" y=\"-1060.8\" font-family=\"Times New Roman,serif\" font-size=\"14.00\">256x56x56</text>\r\n",
       "</g>\r\n",
       "<!-- vgg0_pool2_fwd -->\r\n",
       "<g id=\"node12\" class=\"node\"><title>vgg0_pool2_fwd</title>\r\n",
       "<ellipse fill=\"#80b1d3\" stroke=\"black\" cx=\"71.8945\" cy=\"-1228\" rx=\"60.7772\" ry=\"29\"/>\r\n",
       "<text text-anchor=\"middle\" x=\"71.8945\" y=\"-1231.8\" font-family=\"Times New Roman,serif\" font-size=\"14.00\">Pooling</text>\r\n",
       "<text text-anchor=\"middle\" x=\"71.8945\" y=\"-1216.8\" font-family=\"Times New Roman,serif\" font-size=\"14.00\">max, 2x2/2x2</text>\r\n",
       "</g>\r\n",
       "<!-- vgg0_pool2_fwd&#45;&gt;vgg0_relu3_fwd -->\r\n",
       "<g id=\"edge11\" class=\"edge\"><title>vgg0_pool2_fwd&#45;&gt;vgg0_relu3_fwd</title>\r\n",
       "<path fill=\"none\" stroke=\"black\" d=\"M71.8945,-1188.58C71.8945,-1175.28 71.8945,-1160.63 71.8945,-1148.3\"/>\r\n",
       "<polygon fill=\"black\" stroke=\"black\" points=\"71.8945,-1198.89 67.3946,-1188.89 71.8945,-1193.89 71.8946,-1188.89 71.8946,-1188.89 71.8946,-1188.89 71.8945,-1193.89 76.3946,-1188.89 71.8945,-1198.89 71.8945,-1198.89\"/>\r\n",
       "<text text-anchor=\"middle\" x=\"102.394\" y=\"-1169.8\" font-family=\"Times New Roman,serif\" font-size=\"14.00\">256x56x56</text>\r\n",
       "</g>\r\n",
       "<!-- vgg0_conv4_fwd -->\r\n",
       "<g id=\"node13\" class=\"node\"><title>vgg0_conv4_fwd</title>\r\n",
       "<ellipse fill=\"#fb8072\" stroke=\"black\" cx=\"71.8945\" cy=\"-1337\" rx=\"58.8062\" ry=\"29\"/>\r\n",
       "<text text-anchor=\"middle\" x=\"71.8945\" y=\"-1340.8\" font-family=\"Times New Roman,serif\" font-size=\"14.00\">Convolution</text>\r\n",
       "<text text-anchor=\"middle\" x=\"71.8945\" y=\"-1325.8\" font-family=\"Times New Roman,serif\" font-size=\"14.00\">3x3/1x1, 512</text>\r\n",
       "</g>\r\n",
       "<!-- vgg0_conv4_fwd&#45;&gt;vgg0_pool2_fwd -->\r\n",
       "<g id=\"edge12\" class=\"edge\"><title>vgg0_conv4_fwd&#45;&gt;vgg0_pool2_fwd</title>\r\n",
       "<path fill=\"none\" stroke=\"black\" d=\"M71.8945,-1297.58C71.8945,-1284.28 71.8945,-1269.63 71.8945,-1257.3\"/>\r\n",
       "<polygon fill=\"black\" stroke=\"black\" points=\"71.8945,-1307.89 67.3946,-1297.89 71.8945,-1302.89 71.8946,-1297.89 71.8946,-1297.89 71.8946,-1297.89 71.8945,-1302.89 76.3946,-1297.89 71.8945,-1307.89 71.8945,-1307.89\"/>\r\n",
       "<text text-anchor=\"middle\" x=\"102.394\" y=\"-1278.8\" font-family=\"Times New Roman,serif\" font-size=\"14.00\">256x28x28</text>\r\n",
       "</g>\r\n",
       "<!-- vgg0_relu4_fwd -->\r\n",
       "<g id=\"node14\" class=\"node\"><title>vgg0_relu4_fwd</title>\r\n",
       "<ellipse fill=\"#ffffb3\" stroke=\"black\" cx=\"71.8945\" cy=\"-1446\" rx=\"48.9511\" ry=\"29\"/>\r\n",
       "<text text-anchor=\"middle\" x=\"71.8945\" y=\"-1449.8\" font-family=\"Times New Roman,serif\" font-size=\"14.00\">Activation</text>\r\n",
       "<text text-anchor=\"middle\" x=\"71.8945\" y=\"-1434.8\" font-family=\"Times New Roman,serif\" font-size=\"14.00\">relu</text>\r\n",
       "</g>\r\n",
       "<!-- vgg0_relu4_fwd&#45;&gt;vgg0_conv4_fwd -->\r\n",
       "<g id=\"edge13\" class=\"edge\"><title>vgg0_relu4_fwd&#45;&gt;vgg0_conv4_fwd</title>\r\n",
       "<path fill=\"none\" stroke=\"black\" d=\"M71.8945,-1406.58C71.8945,-1393.28 71.8945,-1378.63 71.8945,-1366.3\"/>\r\n",
       "<polygon fill=\"black\" stroke=\"black\" points=\"71.8945,-1416.89 67.3946,-1406.89 71.8945,-1411.89 71.8946,-1406.89 71.8946,-1406.89 71.8946,-1406.89 71.8945,-1411.89 76.3946,-1406.89 71.8945,-1416.89 71.8945,-1416.89\"/>\r\n",
       "<text text-anchor=\"middle\" x=\"102.394\" y=\"-1387.8\" font-family=\"Times New Roman,serif\" font-size=\"14.00\">512x28x28</text>\r\n",
       "</g>\r\n",
       "<!-- vgg0_conv5_fwd -->\r\n",
       "<g id=\"node15\" class=\"node\"><title>vgg0_conv5_fwd</title>\r\n",
       "<ellipse fill=\"#fb8072\" stroke=\"black\" cx=\"71.8945\" cy=\"-1555\" rx=\"58.8062\" ry=\"29\"/>\r\n",
       "<text text-anchor=\"middle\" x=\"71.8945\" y=\"-1558.8\" font-family=\"Times New Roman,serif\" font-size=\"14.00\">Convolution</text>\r\n",
       "<text text-anchor=\"middle\" x=\"71.8945\" y=\"-1543.8\" font-family=\"Times New Roman,serif\" font-size=\"14.00\">3x3/1x1, 512</text>\r\n",
       "</g>\r\n",
       "<!-- vgg0_conv5_fwd&#45;&gt;vgg0_relu4_fwd -->\r\n",
       "<g id=\"edge14\" class=\"edge\"><title>vgg0_conv5_fwd&#45;&gt;vgg0_relu4_fwd</title>\r\n",
       "<path fill=\"none\" stroke=\"black\" d=\"M71.8945,-1515.58C71.8945,-1502.28 71.8945,-1487.63 71.8945,-1475.3\"/>\r\n",
       "<polygon fill=\"black\" stroke=\"black\" points=\"71.8945,-1525.89 67.3946,-1515.89 71.8945,-1520.89 71.8946,-1515.89 71.8946,-1515.89 71.8946,-1515.89 71.8945,-1520.89 76.3946,-1515.89 71.8945,-1525.89 71.8945,-1525.89\"/>\r\n",
       "<text text-anchor=\"middle\" x=\"102.394\" y=\"-1496.8\" font-family=\"Times New Roman,serif\" font-size=\"14.00\">512x28x28</text>\r\n",
       "</g>\r\n",
       "<!-- vgg0_relu5_fwd -->\r\n",
       "<g id=\"node16\" class=\"node\"><title>vgg0_relu5_fwd</title>\r\n",
       "<ellipse fill=\"#ffffb3\" stroke=\"black\" cx=\"71.8945\" cy=\"-1664\" rx=\"48.9511\" ry=\"29\"/>\r\n",
       "<text text-anchor=\"middle\" x=\"71.8945\" y=\"-1667.8\" font-family=\"Times New Roman,serif\" font-size=\"14.00\">Activation</text>\r\n",
       "<text text-anchor=\"middle\" x=\"71.8945\" y=\"-1652.8\" font-family=\"Times New Roman,serif\" font-size=\"14.00\">relu</text>\r\n",
       "</g>\r\n",
       "<!-- vgg0_relu5_fwd&#45;&gt;vgg0_conv5_fwd -->\r\n",
       "<g id=\"edge15\" class=\"edge\"><title>vgg0_relu5_fwd&#45;&gt;vgg0_conv5_fwd</title>\r\n",
       "<path fill=\"none\" stroke=\"black\" d=\"M71.8945,-1624.58C71.8945,-1611.28 71.8945,-1596.63 71.8945,-1584.3\"/>\r\n",
       "<polygon fill=\"black\" stroke=\"black\" points=\"71.8945,-1634.89 67.3946,-1624.89 71.8945,-1629.89 71.8946,-1624.89 71.8946,-1624.89 71.8946,-1624.89 71.8945,-1629.89 76.3946,-1624.89 71.8945,-1634.89 71.8945,-1634.89\"/>\r\n",
       "<text text-anchor=\"middle\" x=\"102.394\" y=\"-1605.8\" font-family=\"Times New Roman,serif\" font-size=\"14.00\">512x28x28</text>\r\n",
       "</g>\r\n",
       "<!-- vgg0_pool3_fwd -->\r\n",
       "<g id=\"node17\" class=\"node\"><title>vgg0_pool3_fwd</title>\r\n",
       "<ellipse fill=\"#80b1d3\" stroke=\"black\" cx=\"71.8945\" cy=\"-1773\" rx=\"60.7772\" ry=\"29\"/>\r\n",
       "<text text-anchor=\"middle\" x=\"71.8945\" y=\"-1776.8\" font-family=\"Times New Roman,serif\" font-size=\"14.00\">Pooling</text>\r\n",
       "<text text-anchor=\"middle\" x=\"71.8945\" y=\"-1761.8\" font-family=\"Times New Roman,serif\" font-size=\"14.00\">max, 2x2/2x2</text>\r\n",
       "</g>\r\n",
       "<!-- vgg0_pool3_fwd&#45;&gt;vgg0_relu5_fwd -->\r\n",
       "<g id=\"edge16\" class=\"edge\"><title>vgg0_pool3_fwd&#45;&gt;vgg0_relu5_fwd</title>\r\n",
       "<path fill=\"none\" stroke=\"black\" d=\"M71.8945,-1733.58C71.8945,-1720.28 71.8945,-1705.63 71.8945,-1693.3\"/>\r\n",
       "<polygon fill=\"black\" stroke=\"black\" points=\"71.8945,-1743.89 67.3946,-1733.89 71.8945,-1738.89 71.8946,-1733.89 71.8946,-1733.89 71.8946,-1733.89 71.8945,-1738.89 76.3946,-1733.89 71.8945,-1743.89 71.8945,-1743.89\"/>\r\n",
       "<text text-anchor=\"middle\" x=\"102.394\" y=\"-1714.8\" font-family=\"Times New Roman,serif\" font-size=\"14.00\">512x28x28</text>\r\n",
       "</g>\r\n",
       "<!-- vgg0_conv6_fwd -->\r\n",
       "<g id=\"node18\" class=\"node\"><title>vgg0_conv6_fwd</title>\r\n",
       "<ellipse fill=\"#fb8072\" stroke=\"black\" cx=\"71.8945\" cy=\"-1882\" rx=\"58.8062\" ry=\"29\"/>\r\n",
       "<text text-anchor=\"middle\" x=\"71.8945\" y=\"-1885.8\" font-family=\"Times New Roman,serif\" font-size=\"14.00\">Convolution</text>\r\n",
       "<text text-anchor=\"middle\" x=\"71.8945\" y=\"-1870.8\" font-family=\"Times New Roman,serif\" font-size=\"14.00\">3x3/1x1, 512</text>\r\n",
       "</g>\r\n",
       "<!-- vgg0_conv6_fwd&#45;&gt;vgg0_pool3_fwd -->\r\n",
       "<g id=\"edge17\" class=\"edge\"><title>vgg0_conv6_fwd&#45;&gt;vgg0_pool3_fwd</title>\r\n",
       "<path fill=\"none\" stroke=\"black\" d=\"M71.8945,-1842.58C71.8945,-1829.28 71.8945,-1814.63 71.8945,-1802.3\"/>\r\n",
       "<polygon fill=\"black\" stroke=\"black\" points=\"71.8945,-1852.89 67.3946,-1842.89 71.8945,-1847.89 71.8946,-1842.89 71.8946,-1842.89 71.8946,-1842.89 71.8945,-1847.89 76.3946,-1842.89 71.8945,-1852.89 71.8945,-1852.89\"/>\r\n",
       "<text text-anchor=\"middle\" x=\"102.394\" y=\"-1823.8\" font-family=\"Times New Roman,serif\" font-size=\"14.00\">512x14x14</text>\r\n",
       "</g>\r\n",
       "<!-- vgg0_relu6_fwd -->\r\n",
       "<g id=\"node19\" class=\"node\"><title>vgg0_relu6_fwd</title>\r\n",
       "<ellipse fill=\"#ffffb3\" stroke=\"black\" cx=\"71.8945\" cy=\"-1991\" rx=\"48.9511\" ry=\"29\"/>\r\n",
       "<text text-anchor=\"middle\" x=\"71.8945\" y=\"-1994.8\" font-family=\"Times New Roman,serif\" font-size=\"14.00\">Activation</text>\r\n",
       "<text text-anchor=\"middle\" x=\"71.8945\" y=\"-1979.8\" font-family=\"Times New Roman,serif\" font-size=\"14.00\">relu</text>\r\n",
       "</g>\r\n",
       "<!-- vgg0_relu6_fwd&#45;&gt;vgg0_conv6_fwd -->\r\n",
       "<g id=\"edge18\" class=\"edge\"><title>vgg0_relu6_fwd&#45;&gt;vgg0_conv6_fwd</title>\r\n",
       "<path fill=\"none\" stroke=\"black\" d=\"M71.8945,-1951.58C71.8945,-1938.28 71.8945,-1923.63 71.8945,-1911.3\"/>\r\n",
       "<polygon fill=\"black\" stroke=\"black\" points=\"71.8945,-1961.89 67.3946,-1951.89 71.8945,-1956.89 71.8946,-1951.89 71.8946,-1951.89 71.8946,-1951.89 71.8945,-1956.89 76.3946,-1951.89 71.8945,-1961.89 71.8945,-1961.89\"/>\r\n",
       "<text text-anchor=\"middle\" x=\"102.394\" y=\"-1932.8\" font-family=\"Times New Roman,serif\" font-size=\"14.00\">512x14x14</text>\r\n",
       "</g>\r\n",
       "<!-- vgg0_conv7_fwd -->\r\n",
       "<g id=\"node20\" class=\"node\"><title>vgg0_conv7_fwd</title>\r\n",
       "<ellipse fill=\"#fb8072\" stroke=\"black\" cx=\"71.8945\" cy=\"-2100\" rx=\"58.8062\" ry=\"29\"/>\r\n",
       "<text text-anchor=\"middle\" x=\"71.8945\" y=\"-2103.8\" font-family=\"Times New Roman,serif\" font-size=\"14.00\">Convolution</text>\r\n",
       "<text text-anchor=\"middle\" x=\"71.8945\" y=\"-2088.8\" font-family=\"Times New Roman,serif\" font-size=\"14.00\">3x3/1x1, 512</text>\r\n",
       "</g>\r\n",
       "<!-- vgg0_conv7_fwd&#45;&gt;vgg0_relu6_fwd -->\r\n",
       "<g id=\"edge19\" class=\"edge\"><title>vgg0_conv7_fwd&#45;&gt;vgg0_relu6_fwd</title>\r\n",
       "<path fill=\"none\" stroke=\"black\" d=\"M71.8945,-2060.58C71.8945,-2047.28 71.8945,-2032.63 71.8945,-2020.3\"/>\r\n",
       "<polygon fill=\"black\" stroke=\"black\" points=\"71.8945,-2070.89 67.3946,-2060.89 71.8945,-2065.89 71.8946,-2060.89 71.8946,-2060.89 71.8946,-2060.89 71.8945,-2065.89 76.3946,-2060.89 71.8945,-2070.89 71.8945,-2070.89\"/>\r\n",
       "<text text-anchor=\"middle\" x=\"102.394\" y=\"-2041.8\" font-family=\"Times New Roman,serif\" font-size=\"14.00\">512x14x14</text>\r\n",
       "</g>\r\n",
       "<!-- vgg0_relu7_fwd -->\r\n",
       "<g id=\"node21\" class=\"node\"><title>vgg0_relu7_fwd</title>\r\n",
       "<ellipse fill=\"#ffffb3\" stroke=\"black\" cx=\"71.8945\" cy=\"-2209\" rx=\"48.9511\" ry=\"29\"/>\r\n",
       "<text text-anchor=\"middle\" x=\"71.8945\" y=\"-2212.8\" font-family=\"Times New Roman,serif\" font-size=\"14.00\">Activation</text>\r\n",
       "<text text-anchor=\"middle\" x=\"71.8945\" y=\"-2197.8\" font-family=\"Times New Roman,serif\" font-size=\"14.00\">relu</text>\r\n",
       "</g>\r\n",
       "<!-- vgg0_relu7_fwd&#45;&gt;vgg0_conv7_fwd -->\r\n",
       "<g id=\"edge20\" class=\"edge\"><title>vgg0_relu7_fwd&#45;&gt;vgg0_conv7_fwd</title>\r\n",
       "<path fill=\"none\" stroke=\"black\" d=\"M71.8945,-2169.58C71.8945,-2156.28 71.8945,-2141.63 71.8945,-2129.3\"/>\r\n",
       "<polygon fill=\"black\" stroke=\"black\" points=\"71.8945,-2179.89 67.3946,-2169.89 71.8945,-2174.89 71.8946,-2169.89 71.8946,-2169.89 71.8946,-2169.89 71.8945,-2174.89 76.3946,-2169.89 71.8945,-2179.89 71.8945,-2179.89\"/>\r\n",
       "<text text-anchor=\"middle\" x=\"102.394\" y=\"-2150.8\" font-family=\"Times New Roman,serif\" font-size=\"14.00\">512x14x14</text>\r\n",
       "</g>\r\n",
       "<!-- vgg0_pool4_fwd -->\r\n",
       "<g id=\"node22\" class=\"node\"><title>vgg0_pool4_fwd</title>\r\n",
       "<ellipse fill=\"#80b1d3\" stroke=\"black\" cx=\"71.8945\" cy=\"-2318\" rx=\"60.7772\" ry=\"29\"/>\r\n",
       "<text text-anchor=\"middle\" x=\"71.8945\" y=\"-2321.8\" font-family=\"Times New Roman,serif\" font-size=\"14.00\">Pooling</text>\r\n",
       "<text text-anchor=\"middle\" x=\"71.8945\" y=\"-2306.8\" font-family=\"Times New Roman,serif\" font-size=\"14.00\">max, 2x2/2x2</text>\r\n",
       "</g>\r\n",
       "<!-- vgg0_pool4_fwd&#45;&gt;vgg0_relu7_fwd -->\r\n",
       "<g id=\"edge21\" class=\"edge\"><title>vgg0_pool4_fwd&#45;&gt;vgg0_relu7_fwd</title>\r\n",
       "<path fill=\"none\" stroke=\"black\" d=\"M71.8945,-2278.58C71.8945,-2265.28 71.8945,-2250.63 71.8945,-2238.3\"/>\r\n",
       "<polygon fill=\"black\" stroke=\"black\" points=\"71.8945,-2288.89 67.3946,-2278.89 71.8945,-2283.89 71.8946,-2278.89 71.8946,-2278.89 71.8946,-2278.89 71.8945,-2283.89 76.3946,-2278.89 71.8945,-2288.89 71.8945,-2288.89\"/>\r\n",
       "<text text-anchor=\"middle\" x=\"102.394\" y=\"-2259.8\" font-family=\"Times New Roman,serif\" font-size=\"14.00\">512x14x14</text>\r\n",
       "</g>\r\n",
       "<!-- vgg0_dense0_fwd -->\r\n",
       "<g id=\"node23\" class=\"node\"><title>vgg0_dense0_fwd</title>\r\n",
       "<ellipse fill=\"#fb8072\" stroke=\"black\" cx=\"71.8945\" cy=\"-2427\" rx=\"69.4846\" ry=\"29\"/>\r\n",
       "<text text-anchor=\"middle\" x=\"71.8945\" y=\"-2430.8\" font-family=\"Times New Roman,serif\" font-size=\"14.00\">FullyConnected</text>\r\n",
       "<text text-anchor=\"middle\" x=\"71.8945\" y=\"-2415.8\" font-family=\"Times New Roman,serif\" font-size=\"14.00\">4096</text>\r\n",
       "</g>\r\n",
       "<!-- vgg0_dense0_fwd&#45;&gt;vgg0_pool4_fwd -->\r\n",
       "<g id=\"edge22\" class=\"edge\"><title>vgg0_dense0_fwd&#45;&gt;vgg0_pool4_fwd</title>\r\n",
       "<path fill=\"none\" stroke=\"black\" d=\"M71.8945,-2387.58C71.8945,-2374.28 71.8945,-2359.63 71.8945,-2347.3\"/>\r\n",
       "<polygon fill=\"black\" stroke=\"black\" points=\"71.8945,-2397.89 67.3946,-2387.89 71.8945,-2392.89 71.8946,-2387.89 71.8946,-2387.89 71.8946,-2387.89 71.8945,-2392.89 76.3946,-2387.89 71.8945,-2397.89 71.8945,-2397.89\"/>\r\n",
       "<text text-anchor=\"middle\" x=\"95.8945\" y=\"-2368.8\" font-family=\"Times New Roman,serif\" font-size=\"14.00\">512x7x7</text>\r\n",
       "</g>\r\n",
       "<!-- vgg0_dense0_relu_fwd -->\r\n",
       "<g id=\"node24\" class=\"node\"><title>vgg0_dense0_relu_fwd</title>\r\n",
       "<ellipse fill=\"#ffffb3\" stroke=\"black\" cx=\"71.8945\" cy=\"-2536\" rx=\"48.9511\" ry=\"29\"/>\r\n",
       "<text text-anchor=\"middle\" x=\"71.8945\" y=\"-2539.8\" font-family=\"Times New Roman,serif\" font-size=\"14.00\">Activation</text>\r\n",
       "<text text-anchor=\"middle\" x=\"71.8945\" y=\"-2524.8\" font-family=\"Times New Roman,serif\" font-size=\"14.00\">relu</text>\r\n",
       "</g>\r\n",
       "<!-- vgg0_dense0_relu_fwd&#45;&gt;vgg0_dense0_fwd -->\r\n",
       "<g id=\"edge23\" class=\"edge\"><title>vgg0_dense0_relu_fwd&#45;&gt;vgg0_dense0_fwd</title>\r\n",
       "<path fill=\"none\" stroke=\"black\" d=\"M71.8945,-2496.58C71.8945,-2483.28 71.8945,-2468.63 71.8945,-2456.3\"/>\r\n",
       "<polygon fill=\"black\" stroke=\"black\" points=\"71.8945,-2506.89 67.3946,-2496.89 71.8945,-2501.89 71.8946,-2496.89 71.8946,-2496.89 71.8946,-2496.89 71.8945,-2501.89 76.3946,-2496.89 71.8945,-2506.89 71.8945,-2506.89\"/>\r\n",
       "<text text-anchor=\"middle\" x=\"85.8945\" y=\"-2477.8\" font-family=\"Times New Roman,serif\" font-size=\"14.00\">4096</text>\r\n",
       "</g>\r\n",
       "<!-- vgg0_dropout0_fwd -->\r\n",
       "<g id=\"node25\" class=\"node\"><title>vgg0_dropout0_fwd</title>\r\n",
       "<ellipse fill=\"#fccde5\" stroke=\"black\" cx=\"71.8945\" cy=\"-2645\" rx=\"71.7891\" ry=\"29\"/>\r\n",
       "<text text-anchor=\"middle\" x=\"71.8945\" y=\"-2641.3\" font-family=\"Times New Roman,serif\" font-size=\"14.00\">vgg0_dropout0_fwd</text>\r\n",
       "</g>\r\n",
       "<!-- vgg0_dropout0_fwd&#45;&gt;vgg0_dense0_relu_fwd -->\r\n",
       "<g id=\"edge24\" class=\"edge\"><title>vgg0_dropout0_fwd&#45;&gt;vgg0_dense0_relu_fwd</title>\r\n",
       "<path fill=\"none\" stroke=\"black\" d=\"M71.8945,-2605.58C71.8945,-2592.28 71.8945,-2577.63 71.8945,-2565.3\"/>\r\n",
       "<polygon fill=\"black\" stroke=\"black\" points=\"71.8945,-2615.89 67.3946,-2605.89 71.8945,-2610.89 71.8946,-2605.89 71.8946,-2605.89 71.8946,-2605.89 71.8945,-2610.89 76.3946,-2605.89 71.8945,-2615.89 71.8945,-2615.89\"/>\r\n",
       "<text text-anchor=\"middle\" x=\"85.8945\" y=\"-2586.8\" font-family=\"Times New Roman,serif\" font-size=\"14.00\">4096</text>\r\n",
       "</g>\r\n",
       "<!-- vgg0_dense1_fwd -->\r\n",
       "<g id=\"node26\" class=\"node\"><title>vgg0_dense1_fwd</title>\r\n",
       "<ellipse fill=\"#fb8072\" stroke=\"black\" cx=\"71.8945\" cy=\"-2754\" rx=\"69.4846\" ry=\"29\"/>\r\n",
       "<text text-anchor=\"middle\" x=\"71.8945\" y=\"-2757.8\" font-family=\"Times New Roman,serif\" font-size=\"14.00\">FullyConnected</text>\r\n",
       "<text text-anchor=\"middle\" x=\"71.8945\" y=\"-2742.8\" font-family=\"Times New Roman,serif\" font-size=\"14.00\">4096</text>\r\n",
       "</g>\r\n",
       "<!-- vgg0_dense1_fwd&#45;&gt;vgg0_dropout0_fwd -->\r\n",
       "<g id=\"edge25\" class=\"edge\"><title>vgg0_dense1_fwd&#45;&gt;vgg0_dropout0_fwd</title>\r\n",
       "<path fill=\"none\" stroke=\"black\" d=\"M71.8945,-2714.58C71.8945,-2701.28 71.8945,-2686.63 71.8945,-2674.3\"/>\r\n",
       "<polygon fill=\"black\" stroke=\"black\" points=\"71.8945,-2724.89 67.3946,-2714.89 71.8945,-2719.89 71.8946,-2714.89 71.8946,-2714.89 71.8946,-2714.89 71.8945,-2719.89 76.3946,-2714.89 71.8945,-2724.89 71.8945,-2724.89\"/>\r\n",
       "<text text-anchor=\"middle\" x=\"85.8945\" y=\"-2695.8\" font-family=\"Times New Roman,serif\" font-size=\"14.00\">4096</text>\r\n",
       "</g>\r\n",
       "<!-- vgg0_dense1_relu_fwd -->\r\n",
       "<g id=\"node27\" class=\"node\"><title>vgg0_dense1_relu_fwd</title>\r\n",
       "<ellipse fill=\"#ffffb3\" stroke=\"black\" cx=\"71.8945\" cy=\"-2863\" rx=\"48.9511\" ry=\"29\"/>\r\n",
       "<text text-anchor=\"middle\" x=\"71.8945\" y=\"-2866.8\" font-family=\"Times New Roman,serif\" font-size=\"14.00\">Activation</text>\r\n",
       "<text text-anchor=\"middle\" x=\"71.8945\" y=\"-2851.8\" font-family=\"Times New Roman,serif\" font-size=\"14.00\">relu</text>\r\n",
       "</g>\r\n",
       "<!-- vgg0_dense1_relu_fwd&#45;&gt;vgg0_dense1_fwd -->\r\n",
       "<g id=\"edge26\" class=\"edge\"><title>vgg0_dense1_relu_fwd&#45;&gt;vgg0_dense1_fwd</title>\r\n",
       "<path fill=\"none\" stroke=\"black\" d=\"M71.8945,-2823.58C71.8945,-2810.28 71.8945,-2795.63 71.8945,-2783.3\"/>\r\n",
       "<polygon fill=\"black\" stroke=\"black\" points=\"71.8945,-2833.89 67.3946,-2823.89 71.8945,-2828.89 71.8946,-2823.89 71.8946,-2823.89 71.8946,-2823.89 71.8945,-2828.89 76.3946,-2823.89 71.8945,-2833.89 71.8945,-2833.89\"/>\r\n",
       "<text text-anchor=\"middle\" x=\"85.8945\" y=\"-2804.8\" font-family=\"Times New Roman,serif\" font-size=\"14.00\">4096</text>\r\n",
       "</g>\r\n",
       "<!-- vgg0_dropout1_fwd -->\r\n",
       "<g id=\"node28\" class=\"node\"><title>vgg0_dropout1_fwd</title>\r\n",
       "<ellipse fill=\"#fccde5\" stroke=\"black\" cx=\"71.8945\" cy=\"-2972\" rx=\"71.7891\" ry=\"29\"/>\r\n",
       "<text text-anchor=\"middle\" x=\"71.8945\" y=\"-2968.3\" font-family=\"Times New Roman,serif\" font-size=\"14.00\">vgg0_dropout1_fwd</text>\r\n",
       "</g>\r\n",
       "<!-- vgg0_dropout1_fwd&#45;&gt;vgg0_dense1_relu_fwd -->\r\n",
       "<g id=\"edge27\" class=\"edge\"><title>vgg0_dropout1_fwd&#45;&gt;vgg0_dense1_relu_fwd</title>\r\n",
       "<path fill=\"none\" stroke=\"black\" d=\"M71.8945,-2932.58C71.8945,-2919.28 71.8945,-2904.63 71.8945,-2892.3\"/>\r\n",
       "<polygon fill=\"black\" stroke=\"black\" points=\"71.8945,-2942.89 67.3946,-2932.89 71.8945,-2937.89 71.8946,-2932.89 71.8946,-2932.89 71.8946,-2932.89 71.8945,-2937.89 76.3946,-2932.89 71.8945,-2942.89 71.8945,-2942.89\"/>\r\n",
       "<text text-anchor=\"middle\" x=\"85.8945\" y=\"-2913.8\" font-family=\"Times New Roman,serif\" font-size=\"14.00\">4096</text>\r\n",
       "</g>\r\n",
       "<!-- vgg0_dense2_fwd -->\r\n",
       "<g id=\"node29\" class=\"node\"><title>vgg0_dense2_fwd</title>\r\n",
       "<ellipse fill=\"#fb8072\" stroke=\"black\" cx=\"71.8945\" cy=\"-3081\" rx=\"69.4846\" ry=\"29\"/>\r\n",
       "<text text-anchor=\"middle\" x=\"71.8945\" y=\"-3084.8\" font-family=\"Times New Roman,serif\" font-size=\"14.00\">FullyConnected</text>\r\n",
       "<text text-anchor=\"middle\" x=\"71.8945\" y=\"-3069.8\" font-family=\"Times New Roman,serif\" font-size=\"14.00\">1000</text>\r\n",
       "</g>\r\n",
       "<!-- vgg0_dense2_fwd&#45;&gt;vgg0_dropout1_fwd -->\r\n",
       "<g id=\"edge28\" class=\"edge\"><title>vgg0_dense2_fwd&#45;&gt;vgg0_dropout1_fwd</title>\r\n",
       "<path fill=\"none\" stroke=\"black\" d=\"M71.8945,-3041.58C71.8945,-3028.28 71.8945,-3013.63 71.8945,-3001.3\"/>\r\n",
       "<polygon fill=\"black\" stroke=\"black\" points=\"71.8945,-3051.89 67.3946,-3041.89 71.8945,-3046.89 71.8946,-3041.89 71.8946,-3041.89 71.8946,-3041.89 71.8945,-3046.89 76.3946,-3041.89 71.8945,-3051.89 71.8945,-3051.89\"/>\r\n",
       "<text text-anchor=\"middle\" x=\"85.8945\" y=\"-3022.8\" font-family=\"Times New Roman,serif\" font-size=\"14.00\">4096</text>\r\n",
       "</g>\r\n",
       "</g>\r\n",
       "</svg>\r\n"
      ],
      "text/plain": [
       "<graphviz.dot.Digraph at 0x2c6668a8648>"
      ]
     },
     "execution_count": 65,
     "metadata": {},
     "output_type": "execute_result"
    }
   ],
   "source": [
    "viz.plot_network(vgg(mx.sym.var('data')),\n",
    "                 shape = {'data': (1, 3, 224, 224)},\n",
    "                 node_attrs = {'shape': 'oval', 'fixedsize': 'false'})"
   ]
  },
  {
   "cell_type": "markdown",
   "metadata": {},
   "source": [
    "Let's use mobilenet pre-trained model:"
   ]
  },
  {
   "cell_type": "code",
   "execution_count": 66,
   "metadata": {},
   "outputs": [
    {
     "data": {
      "text/plain": [
       "MobileNetV2(\n",
       "  (features): HybridSequential(\n",
       "    (0): Conv2D(3 -> 32, kernel_size=(3, 3), stride=(2, 2), padding=(1, 1), bias=False)\n",
       "    (1): BatchNorm(axis=1, eps=1e-05, momentum=0.9, fix_gamma=False, use_global_stats=False, in_channels=32)\n",
       "    (2): RELU6(\n",
       "    \n",
       "    )\n",
       "    (3): LinearBottleneck(\n",
       "      (out): HybridSequential(\n",
       "        (0): Conv2D(32 -> 32, kernel_size=(1, 1), stride=(1, 1), bias=False)\n",
       "        (1): BatchNorm(axis=1, eps=1e-05, momentum=0.9, fix_gamma=False, use_global_stats=False, in_channels=32)\n",
       "        (2): RELU6(\n",
       "        \n",
       "        )\n",
       "        (3): Conv2D(1 -> 32, kernel_size=(3, 3), stride=(1, 1), padding=(1, 1), groups=32, bias=False)\n",
       "        (4): BatchNorm(axis=1, eps=1e-05, momentum=0.9, fix_gamma=False, use_global_stats=False, in_channels=32)\n",
       "        (5): RELU6(\n",
       "        \n",
       "        )\n",
       "        (6): Conv2D(32 -> 16, kernel_size=(1, 1), stride=(1, 1), bias=False)\n",
       "        (7): BatchNorm(axis=1, eps=1e-05, momentum=0.9, fix_gamma=False, use_global_stats=False, in_channels=16)\n",
       "      )\n",
       "    )\n",
       "    (4): LinearBottleneck(\n",
       "      (out): HybridSequential(\n",
       "        (0): Conv2D(16 -> 96, kernel_size=(1, 1), stride=(1, 1), bias=False)\n",
       "        (1): BatchNorm(axis=1, eps=1e-05, momentum=0.9, fix_gamma=False, use_global_stats=False, in_channels=96)\n",
       "        (2): RELU6(\n",
       "        \n",
       "        )\n",
       "        (3): Conv2D(1 -> 96, kernel_size=(3, 3), stride=(2, 2), padding=(1, 1), groups=96, bias=False)\n",
       "        (4): BatchNorm(axis=1, eps=1e-05, momentum=0.9, fix_gamma=False, use_global_stats=False, in_channels=96)\n",
       "        (5): RELU6(\n",
       "        \n",
       "        )\n",
       "        (6): Conv2D(96 -> 24, kernel_size=(1, 1), stride=(1, 1), bias=False)\n",
       "        (7): BatchNorm(axis=1, eps=1e-05, momentum=0.9, fix_gamma=False, use_global_stats=False, in_channels=24)\n",
       "      )\n",
       "    )\n",
       "    (5): LinearBottleneck(\n",
       "      (out): HybridSequential(\n",
       "        (0): Conv2D(24 -> 144, kernel_size=(1, 1), stride=(1, 1), bias=False)\n",
       "        (1): BatchNorm(axis=1, eps=1e-05, momentum=0.9, fix_gamma=False, use_global_stats=False, in_channels=144)\n",
       "        (2): RELU6(\n",
       "        \n",
       "        )\n",
       "        (3): Conv2D(1 -> 144, kernel_size=(3, 3), stride=(1, 1), padding=(1, 1), groups=144, bias=False)\n",
       "        (4): BatchNorm(axis=1, eps=1e-05, momentum=0.9, fix_gamma=False, use_global_stats=False, in_channels=144)\n",
       "        (5): RELU6(\n",
       "        \n",
       "        )\n",
       "        (6): Conv2D(144 -> 24, kernel_size=(1, 1), stride=(1, 1), bias=False)\n",
       "        (7): BatchNorm(axis=1, eps=1e-05, momentum=0.9, fix_gamma=False, use_global_stats=False, in_channels=24)\n",
       "      )\n",
       "    )\n",
       "    (6): LinearBottleneck(\n",
       "      (out): HybridSequential(\n",
       "        (0): Conv2D(24 -> 144, kernel_size=(1, 1), stride=(1, 1), bias=False)\n",
       "        (1): BatchNorm(axis=1, eps=1e-05, momentum=0.9, fix_gamma=False, use_global_stats=False, in_channels=144)\n",
       "        (2): RELU6(\n",
       "        \n",
       "        )\n",
       "        (3): Conv2D(1 -> 144, kernel_size=(3, 3), stride=(2, 2), padding=(1, 1), groups=144, bias=False)\n",
       "        (4): BatchNorm(axis=1, eps=1e-05, momentum=0.9, fix_gamma=False, use_global_stats=False, in_channels=144)\n",
       "        (5): RELU6(\n",
       "        \n",
       "        )\n",
       "        (6): Conv2D(144 -> 32, kernel_size=(1, 1), stride=(1, 1), bias=False)\n",
       "        (7): BatchNorm(axis=1, eps=1e-05, momentum=0.9, fix_gamma=False, use_global_stats=False, in_channels=32)\n",
       "      )\n",
       "    )\n",
       "    (7): LinearBottleneck(\n",
       "      (out): HybridSequential(\n",
       "        (0): Conv2D(32 -> 192, kernel_size=(1, 1), stride=(1, 1), bias=False)\n",
       "        (1): BatchNorm(axis=1, eps=1e-05, momentum=0.9, fix_gamma=False, use_global_stats=False, in_channels=192)\n",
       "        (2): RELU6(\n",
       "        \n",
       "        )\n",
       "        (3): Conv2D(1 -> 192, kernel_size=(3, 3), stride=(1, 1), padding=(1, 1), groups=192, bias=False)\n",
       "        (4): BatchNorm(axis=1, eps=1e-05, momentum=0.9, fix_gamma=False, use_global_stats=False, in_channels=192)\n",
       "        (5): RELU6(\n",
       "        \n",
       "        )\n",
       "        (6): Conv2D(192 -> 32, kernel_size=(1, 1), stride=(1, 1), bias=False)\n",
       "        (7): BatchNorm(axis=1, eps=1e-05, momentum=0.9, fix_gamma=False, use_global_stats=False, in_channels=32)\n",
       "      )\n",
       "    )\n",
       "    (8): LinearBottleneck(\n",
       "      (out): HybridSequential(\n",
       "        (0): Conv2D(32 -> 192, kernel_size=(1, 1), stride=(1, 1), bias=False)\n",
       "        (1): BatchNorm(axis=1, eps=1e-05, momentum=0.9, fix_gamma=False, use_global_stats=False, in_channels=192)\n",
       "        (2): RELU6(\n",
       "        \n",
       "        )\n",
       "        (3): Conv2D(1 -> 192, kernel_size=(3, 3), stride=(1, 1), padding=(1, 1), groups=192, bias=False)\n",
       "        (4): BatchNorm(axis=1, eps=1e-05, momentum=0.9, fix_gamma=False, use_global_stats=False, in_channels=192)\n",
       "        (5): RELU6(\n",
       "        \n",
       "        )\n",
       "        (6): Conv2D(192 -> 32, kernel_size=(1, 1), stride=(1, 1), bias=False)\n",
       "        (7): BatchNorm(axis=1, eps=1e-05, momentum=0.9, fix_gamma=False, use_global_stats=False, in_channels=32)\n",
       "      )\n",
       "    )\n",
       "    (9): LinearBottleneck(\n",
       "      (out): HybridSequential(\n",
       "        (0): Conv2D(32 -> 192, kernel_size=(1, 1), stride=(1, 1), bias=False)\n",
       "        (1): BatchNorm(axis=1, eps=1e-05, momentum=0.9, fix_gamma=False, use_global_stats=False, in_channels=192)\n",
       "        (2): RELU6(\n",
       "        \n",
       "        )\n",
       "        (3): Conv2D(1 -> 192, kernel_size=(3, 3), stride=(2, 2), padding=(1, 1), groups=192, bias=False)\n",
       "        (4): BatchNorm(axis=1, eps=1e-05, momentum=0.9, fix_gamma=False, use_global_stats=False, in_channels=192)\n",
       "        (5): RELU6(\n",
       "        \n",
       "        )\n",
       "        (6): Conv2D(192 -> 64, kernel_size=(1, 1), stride=(1, 1), bias=False)\n",
       "        (7): BatchNorm(axis=1, eps=1e-05, momentum=0.9, fix_gamma=False, use_global_stats=False, in_channels=64)\n",
       "      )\n",
       "    )\n",
       "    (10): LinearBottleneck(\n",
       "      (out): HybridSequential(\n",
       "        (0): Conv2D(64 -> 384, kernel_size=(1, 1), stride=(1, 1), bias=False)\n",
       "        (1): BatchNorm(axis=1, eps=1e-05, momentum=0.9, fix_gamma=False, use_global_stats=False, in_channels=384)\n",
       "        (2): RELU6(\n",
       "        \n",
       "        )\n",
       "        (3): Conv2D(1 -> 384, kernel_size=(3, 3), stride=(1, 1), padding=(1, 1), groups=384, bias=False)\n",
       "        (4): BatchNorm(axis=1, eps=1e-05, momentum=0.9, fix_gamma=False, use_global_stats=False, in_channels=384)\n",
       "        (5): RELU6(\n",
       "        \n",
       "        )\n",
       "        (6): Conv2D(384 -> 64, kernel_size=(1, 1), stride=(1, 1), bias=False)\n",
       "        (7): BatchNorm(axis=1, eps=1e-05, momentum=0.9, fix_gamma=False, use_global_stats=False, in_channels=64)\n",
       "      )\n",
       "    )\n",
       "    (11): LinearBottleneck(\n",
       "      (out): HybridSequential(\n",
       "        (0): Conv2D(64 -> 384, kernel_size=(1, 1), stride=(1, 1), bias=False)\n",
       "        (1): BatchNorm(axis=1, eps=1e-05, momentum=0.9, fix_gamma=False, use_global_stats=False, in_channels=384)\n",
       "        (2): RELU6(\n",
       "        \n",
       "        )\n",
       "        (3): Conv2D(1 -> 384, kernel_size=(3, 3), stride=(1, 1), padding=(1, 1), groups=384, bias=False)\n",
       "        (4): BatchNorm(axis=1, eps=1e-05, momentum=0.9, fix_gamma=False, use_global_stats=False, in_channels=384)\n",
       "        (5): RELU6(\n",
       "        \n",
       "        )\n",
       "        (6): Conv2D(384 -> 64, kernel_size=(1, 1), stride=(1, 1), bias=False)\n",
       "        (7): BatchNorm(axis=1, eps=1e-05, momentum=0.9, fix_gamma=False, use_global_stats=False, in_channels=64)\n",
       "      )\n",
       "    )\n",
       "    (12): LinearBottleneck(\n",
       "      (out): HybridSequential(\n",
       "        (0): Conv2D(64 -> 384, kernel_size=(1, 1), stride=(1, 1), bias=False)\n",
       "        (1): BatchNorm(axis=1, eps=1e-05, momentum=0.9, fix_gamma=False, use_global_stats=False, in_channels=384)\n",
       "        (2): RELU6(\n",
       "        \n",
       "        )\n",
       "        (3): Conv2D(1 -> 384, kernel_size=(3, 3), stride=(1, 1), padding=(1, 1), groups=384, bias=False)\n",
       "        (4): BatchNorm(axis=1, eps=1e-05, momentum=0.9, fix_gamma=False, use_global_stats=False, in_channels=384)\n",
       "        (5): RELU6(\n",
       "        \n",
       "        )\n",
       "        (6): Conv2D(384 -> 64, kernel_size=(1, 1), stride=(1, 1), bias=False)\n",
       "        (7): BatchNorm(axis=1, eps=1e-05, momentum=0.9, fix_gamma=False, use_global_stats=False, in_channels=64)\n",
       "      )\n",
       "    )\n",
       "    (13): LinearBottleneck(\n",
       "      (out): HybridSequential(\n",
       "        (0): Conv2D(64 -> 384, kernel_size=(1, 1), stride=(1, 1), bias=False)\n",
       "        (1): BatchNorm(axis=1, eps=1e-05, momentum=0.9, fix_gamma=False, use_global_stats=False, in_channels=384)\n",
       "        (2): RELU6(\n",
       "        \n",
       "        )\n",
       "        (3): Conv2D(1 -> 384, kernel_size=(3, 3), stride=(1, 1), padding=(1, 1), groups=384, bias=False)\n",
       "        (4): BatchNorm(axis=1, eps=1e-05, momentum=0.9, fix_gamma=False, use_global_stats=False, in_channels=384)\n",
       "        (5): RELU6(\n",
       "        \n",
       "        )\n",
       "        (6): Conv2D(384 -> 96, kernel_size=(1, 1), stride=(1, 1), bias=False)\n",
       "        (7): BatchNorm(axis=1, eps=1e-05, momentum=0.9, fix_gamma=False, use_global_stats=False, in_channels=96)\n",
       "      )\n",
       "    )\n",
       "    (14): LinearBottleneck(\n",
       "      (out): HybridSequential(\n",
       "        (0): Conv2D(96 -> 576, kernel_size=(1, 1), stride=(1, 1), bias=False)\n",
       "        (1): BatchNorm(axis=1, eps=1e-05, momentum=0.9, fix_gamma=False, use_global_stats=False, in_channels=576)\n",
       "        (2): RELU6(\n",
       "        \n",
       "        )\n",
       "        (3): Conv2D(1 -> 576, kernel_size=(3, 3), stride=(1, 1), padding=(1, 1), groups=576, bias=False)\n",
       "        (4): BatchNorm(axis=1, eps=1e-05, momentum=0.9, fix_gamma=False, use_global_stats=False, in_channels=576)\n",
       "        (5): RELU6(\n",
       "        \n",
       "        )\n",
       "        (6): Conv2D(576 -> 96, kernel_size=(1, 1), stride=(1, 1), bias=False)\n",
       "        (7): BatchNorm(axis=1, eps=1e-05, momentum=0.9, fix_gamma=False, use_global_stats=False, in_channels=96)\n",
       "      )\n",
       "    )\n",
       "    (15): LinearBottleneck(\n",
       "      (out): HybridSequential(\n",
       "        (0): Conv2D(96 -> 576, kernel_size=(1, 1), stride=(1, 1), bias=False)\n",
       "        (1): BatchNorm(axis=1, eps=1e-05, momentum=0.9, fix_gamma=False, use_global_stats=False, in_channels=576)\n",
       "        (2): RELU6(\n",
       "        \n",
       "        )\n",
       "        (3): Conv2D(1 -> 576, kernel_size=(3, 3), stride=(1, 1), padding=(1, 1), groups=576, bias=False)\n",
       "        (4): BatchNorm(axis=1, eps=1e-05, momentum=0.9, fix_gamma=False, use_global_stats=False, in_channels=576)\n",
       "        (5): RELU6(\n",
       "        \n",
       "        )\n",
       "        (6): Conv2D(576 -> 96, kernel_size=(1, 1), stride=(1, 1), bias=False)\n",
       "        (7): BatchNorm(axis=1, eps=1e-05, momentum=0.9, fix_gamma=False, use_global_stats=False, in_channels=96)\n",
       "      )\n",
       "    )\n",
       "    (16): LinearBottleneck(\n",
       "      (out): HybridSequential(\n",
       "        (0): Conv2D(96 -> 576, kernel_size=(1, 1), stride=(1, 1), bias=False)\n",
       "        (1): BatchNorm(axis=1, eps=1e-05, momentum=0.9, fix_gamma=False, use_global_stats=False, in_channels=576)\n",
       "        (2): RELU6(\n",
       "        \n",
       "        )\n",
       "        (3): Conv2D(1 -> 576, kernel_size=(3, 3), stride=(2, 2), padding=(1, 1), groups=576, bias=False)\n",
       "        (4): BatchNorm(axis=1, eps=1e-05, momentum=0.9, fix_gamma=False, use_global_stats=False, in_channels=576)\n",
       "        (5): RELU6(\n",
       "        \n",
       "        )\n",
       "        (6): Conv2D(576 -> 160, kernel_size=(1, 1), stride=(1, 1), bias=False)\n",
       "        (7): BatchNorm(axis=1, eps=1e-05, momentum=0.9, fix_gamma=False, use_global_stats=False, in_channels=160)\n",
       "      )\n",
       "    )\n",
       "    (17): LinearBottleneck(\n",
       "      (out): HybridSequential(\n",
       "        (0): Conv2D(160 -> 960, kernel_size=(1, 1), stride=(1, 1), bias=False)\n",
       "        (1): BatchNorm(axis=1, eps=1e-05, momentum=0.9, fix_gamma=False, use_global_stats=False, in_channels=960)\n",
       "        (2): RELU6(\n",
       "        \n",
       "        )\n",
       "        (3): Conv2D(1 -> 960, kernel_size=(3, 3), stride=(1, 1), padding=(1, 1), groups=960, bias=False)\n",
       "        (4): BatchNorm(axis=1, eps=1e-05, momentum=0.9, fix_gamma=False, use_global_stats=False, in_channels=960)\n",
       "        (5): RELU6(\n",
       "        \n",
       "        )\n",
       "        (6): Conv2D(960 -> 160, kernel_size=(1, 1), stride=(1, 1), bias=False)\n",
       "        (7): BatchNorm(axis=1, eps=1e-05, momentum=0.9, fix_gamma=False, use_global_stats=False, in_channels=160)\n",
       "      )\n",
       "    )\n",
       "    (18): LinearBottleneck(\n",
       "      (out): HybridSequential(\n",
       "        (0): Conv2D(160 -> 960, kernel_size=(1, 1), stride=(1, 1), bias=False)\n",
       "        (1): BatchNorm(axis=1, eps=1e-05, momentum=0.9, fix_gamma=False, use_global_stats=False, in_channels=960)\n",
       "        (2): RELU6(\n",
       "        \n",
       "        )\n",
       "        (3): Conv2D(1 -> 960, kernel_size=(3, 3), stride=(1, 1), padding=(1, 1), groups=960, bias=False)\n",
       "        (4): BatchNorm(axis=1, eps=1e-05, momentum=0.9, fix_gamma=False, use_global_stats=False, in_channels=960)\n",
       "        (5): RELU6(\n",
       "        \n",
       "        )\n",
       "        (6): Conv2D(960 -> 160, kernel_size=(1, 1), stride=(1, 1), bias=False)\n",
       "        (7): BatchNorm(axis=1, eps=1e-05, momentum=0.9, fix_gamma=False, use_global_stats=False, in_channels=160)\n",
       "      )\n",
       "    )\n",
       "    (19): LinearBottleneck(\n",
       "      (out): HybridSequential(\n",
       "        (0): Conv2D(160 -> 960, kernel_size=(1, 1), stride=(1, 1), bias=False)\n",
       "        (1): BatchNorm(axis=1, eps=1e-05, momentum=0.9, fix_gamma=False, use_global_stats=False, in_channels=960)\n",
       "        (2): RELU6(\n",
       "        \n",
       "        )\n",
       "        (3): Conv2D(1 -> 960, kernel_size=(3, 3), stride=(1, 1), padding=(1, 1), groups=960, bias=False)\n",
       "        (4): BatchNorm(axis=1, eps=1e-05, momentum=0.9, fix_gamma=False, use_global_stats=False, in_channels=960)\n",
       "        (5): RELU6(\n",
       "        \n",
       "        )\n",
       "        (6): Conv2D(960 -> 320, kernel_size=(1, 1), stride=(1, 1), bias=False)\n",
       "        (7): BatchNorm(axis=1, eps=1e-05, momentum=0.9, fix_gamma=False, use_global_stats=False, in_channels=320)\n",
       "      )\n",
       "    )\n",
       "    (20): Conv2D(320 -> 1280, kernel_size=(1, 1), stride=(1, 1), bias=False)\n",
       "    (21): BatchNorm(axis=1, eps=1e-05, momentum=0.9, fix_gamma=False, use_global_stats=False, in_channels=1280)\n",
       "    (22): RELU6(\n",
       "    \n",
       "    )\n",
       "    (23): GlobalAvgPool2D(size=(1, 1), stride=(1, 1), padding=(0, 0), ceil_mode=True, global_pool=True, pool_type=avg, layout=NCHW)\n",
       "  )\n",
       "  (output): HybridSequential(\n",
       "    (0): Conv2D(1280 -> 1000, kernel_size=(1, 1), stride=(1, 1), bias=False)\n",
       "    (1): Flatten\n",
       "  )\n",
       ")"
      ]
     },
     "execution_count": 66,
     "metadata": {},
     "output_type": "execute_result"
    }
   ],
   "source": [
    "mobile_net = model_zoo.vision.mobilenet_v2_1_0(pretrained = True)\n",
    "mobile_net"
   ]
  },
  {
   "cell_type": "code",
   "execution_count": 67,
   "metadata": {},
   "outputs": [
    {
     "name": "stdout",
     "output_type": "stream",
     "text": [
      "--------------------------------------------------------------------------------\n",
      "        Layer (type)                                Output Shape         Param #\n",
      "================================================================================\n",
      "               Input                            (1, 3, 224, 224)               0\n",
      "            Conv2D-1                           (1, 32, 112, 112)             864\n",
      "         BatchNorm-2                           (1, 32, 112, 112)             128\n",
      "             RELU6-3                           (1, 32, 112, 112)               0\n",
      "            Conv2D-4                           (1, 32, 112, 112)            1024\n",
      "         BatchNorm-5                           (1, 32, 112, 112)             128\n",
      "             RELU6-6                           (1, 32, 112, 112)               0\n",
      "            Conv2D-7                           (1, 32, 112, 112)             288\n",
      "         BatchNorm-8                           (1, 32, 112, 112)             128\n",
      "             RELU6-9                           (1, 32, 112, 112)               0\n",
      "           Conv2D-10                           (1, 16, 112, 112)             512\n",
      "        BatchNorm-11                           (1, 16, 112, 112)              64\n",
      " LinearBottleneck-12                           (1, 16, 112, 112)               0\n",
      "           Conv2D-13                           (1, 96, 112, 112)            1536\n",
      "        BatchNorm-14                           (1, 96, 112, 112)             384\n",
      "            RELU6-15                           (1, 96, 112, 112)               0\n",
      "           Conv2D-16                             (1, 96, 56, 56)             864\n",
      "        BatchNorm-17                             (1, 96, 56, 56)             384\n",
      "            RELU6-18                             (1, 96, 56, 56)               0\n",
      "           Conv2D-19                             (1, 24, 56, 56)            2304\n",
      "        BatchNorm-20                             (1, 24, 56, 56)              96\n",
      " LinearBottleneck-21                             (1, 24, 56, 56)               0\n",
      "           Conv2D-22                            (1, 144, 56, 56)            3456\n",
      "        BatchNorm-23                            (1, 144, 56, 56)             576\n",
      "            RELU6-24                            (1, 144, 56, 56)               0\n",
      "           Conv2D-25                            (1, 144, 56, 56)            1296\n",
      "        BatchNorm-26                            (1, 144, 56, 56)             576\n",
      "            RELU6-27                            (1, 144, 56, 56)               0\n",
      "           Conv2D-28                             (1, 24, 56, 56)            3456\n",
      "        BatchNorm-29                             (1, 24, 56, 56)              96\n",
      " LinearBottleneck-30                             (1, 24, 56, 56)               0\n",
      "           Conv2D-31                            (1, 144, 56, 56)            3456\n",
      "        BatchNorm-32                            (1, 144, 56, 56)             576\n",
      "            RELU6-33                            (1, 144, 56, 56)               0\n",
      "           Conv2D-34                            (1, 144, 28, 28)            1296\n",
      "        BatchNorm-35                            (1, 144, 28, 28)             576\n",
      "            RELU6-36                            (1, 144, 28, 28)               0\n",
      "           Conv2D-37                             (1, 32, 28, 28)            4608\n",
      "        BatchNorm-38                             (1, 32, 28, 28)             128\n",
      " LinearBottleneck-39                             (1, 32, 28, 28)               0\n",
      "           Conv2D-40                            (1, 192, 28, 28)            6144\n",
      "        BatchNorm-41                            (1, 192, 28, 28)             768\n",
      "            RELU6-42                            (1, 192, 28, 28)               0\n",
      "           Conv2D-43                            (1, 192, 28, 28)            1728\n",
      "        BatchNorm-44                            (1, 192, 28, 28)             768\n",
      "            RELU6-45                            (1, 192, 28, 28)               0\n",
      "           Conv2D-46                             (1, 32, 28, 28)            6144\n",
      "        BatchNorm-47                             (1, 32, 28, 28)             128\n",
      " LinearBottleneck-48                             (1, 32, 28, 28)               0\n",
      "           Conv2D-49                            (1, 192, 28, 28)            6144\n",
      "        BatchNorm-50                            (1, 192, 28, 28)             768\n",
      "            RELU6-51                            (1, 192, 28, 28)               0\n",
      "           Conv2D-52                            (1, 192, 28, 28)            1728\n",
      "        BatchNorm-53                            (1, 192, 28, 28)             768\n",
      "            RELU6-54                            (1, 192, 28, 28)               0\n",
      "           Conv2D-55                             (1, 32, 28, 28)            6144\n",
      "        BatchNorm-56                             (1, 32, 28, 28)             128\n",
      " LinearBottleneck-57                             (1, 32, 28, 28)               0\n",
      "           Conv2D-58                            (1, 192, 28, 28)            6144\n",
      "        BatchNorm-59                            (1, 192, 28, 28)             768\n",
      "            RELU6-60                            (1, 192, 28, 28)               0\n",
      "           Conv2D-61                            (1, 192, 14, 14)            1728\n",
      "        BatchNorm-62                            (1, 192, 14, 14)             768\n",
      "            RELU6-63                            (1, 192, 14, 14)               0\n",
      "           Conv2D-64                             (1, 64, 14, 14)           12288\n",
      "        BatchNorm-65                             (1, 64, 14, 14)             256\n",
      " LinearBottleneck-66                             (1, 64, 14, 14)               0\n",
      "           Conv2D-67                            (1, 384, 14, 14)           24576\n",
      "        BatchNorm-68                            (1, 384, 14, 14)            1536\n",
      "            RELU6-69                            (1, 384, 14, 14)               0\n",
      "           Conv2D-70                            (1, 384, 14, 14)            3456\n",
      "        BatchNorm-71                            (1, 384, 14, 14)            1536\n",
      "            RELU6-72                            (1, 384, 14, 14)               0\n",
      "           Conv2D-73                             (1, 64, 14, 14)           24576\n",
      "        BatchNorm-74                             (1, 64, 14, 14)             256\n",
      " LinearBottleneck-75                             (1, 64, 14, 14)               0\n",
      "           Conv2D-76                            (1, 384, 14, 14)           24576\n",
      "        BatchNorm-77                            (1, 384, 14, 14)            1536\n",
      "            RELU6-78                            (1, 384, 14, 14)               0\n",
      "           Conv2D-79                            (1, 384, 14, 14)            3456\n",
      "        BatchNorm-80                            (1, 384, 14, 14)            1536\n",
      "            RELU6-81                            (1, 384, 14, 14)               0\n",
      "           Conv2D-82                             (1, 64, 14, 14)           24576\n",
      "        BatchNorm-83                             (1, 64, 14, 14)             256\n",
      " LinearBottleneck-84                             (1, 64, 14, 14)               0\n",
      "           Conv2D-85                            (1, 384, 14, 14)           24576\n",
      "        BatchNorm-86                            (1, 384, 14, 14)            1536\n",
      "            RELU6-87                            (1, 384, 14, 14)               0\n",
      "           Conv2D-88                            (1, 384, 14, 14)            3456\n",
      "        BatchNorm-89                            (1, 384, 14, 14)            1536\n",
      "            RELU6-90                            (1, 384, 14, 14)               0\n",
      "           Conv2D-91                             (1, 64, 14, 14)           24576\n",
      "        BatchNorm-92                             (1, 64, 14, 14)             256\n",
      " LinearBottleneck-93                             (1, 64, 14, 14)               0\n",
      "           Conv2D-94                            (1, 384, 14, 14)           24576\n",
      "        BatchNorm-95                            (1, 384, 14, 14)            1536\n",
      "            RELU6-96                            (1, 384, 14, 14)               0\n",
      "           Conv2D-97                            (1, 384, 14, 14)            3456\n",
      "        BatchNorm-98                            (1, 384, 14, 14)            1536\n",
      "            RELU6-99                            (1, 384, 14, 14)               0\n",
      "          Conv2D-100                             (1, 96, 14, 14)           36864\n",
      "       BatchNorm-101                             (1, 96, 14, 14)             384\n",
      "LinearBottleneck-102                             (1, 96, 14, 14)               0\n",
      "          Conv2D-103                            (1, 576, 14, 14)           55296\n",
      "       BatchNorm-104                            (1, 576, 14, 14)            2304\n",
      "           RELU6-105                            (1, 576, 14, 14)               0\n",
      "          Conv2D-106                            (1, 576, 14, 14)            5184\n",
      "       BatchNorm-107                            (1, 576, 14, 14)            2304\n",
      "           RELU6-108                            (1, 576, 14, 14)               0\n",
      "          Conv2D-109                             (1, 96, 14, 14)           55296\n",
      "       BatchNorm-110                             (1, 96, 14, 14)             384\n",
      "LinearBottleneck-111                             (1, 96, 14, 14)               0\n",
      "          Conv2D-112                            (1, 576, 14, 14)           55296\n",
      "       BatchNorm-113                            (1, 576, 14, 14)            2304\n",
      "           RELU6-114                            (1, 576, 14, 14)               0\n",
      "          Conv2D-115                            (1, 576, 14, 14)            5184\n",
      "       BatchNorm-116                            (1, 576, 14, 14)            2304\n",
      "           RELU6-117                            (1, 576, 14, 14)               0\n",
      "          Conv2D-118                             (1, 96, 14, 14)           55296\n",
      "       BatchNorm-119                             (1, 96, 14, 14)             384\n",
      "LinearBottleneck-120                             (1, 96, 14, 14)               0\n",
      "          Conv2D-121                            (1, 576, 14, 14)           55296\n",
      "       BatchNorm-122                            (1, 576, 14, 14)            2304\n",
      "           RELU6-123                            (1, 576, 14, 14)               0\n",
      "          Conv2D-124                              (1, 576, 7, 7)            5184\n",
      "       BatchNorm-125                              (1, 576, 7, 7)            2304\n",
      "           RELU6-126                              (1, 576, 7, 7)               0\n",
      "          Conv2D-127                              (1, 160, 7, 7)           92160\n",
      "       BatchNorm-128                              (1, 160, 7, 7)             640\n",
      "LinearBottleneck-129                              (1, 160, 7, 7)               0\n",
      "          Conv2D-130                              (1, 960, 7, 7)          153600\n",
      "       BatchNorm-131                              (1, 960, 7, 7)            3840\n",
      "           RELU6-132                              (1, 960, 7, 7)               0\n",
      "          Conv2D-133                              (1, 960, 7, 7)            8640\n",
      "       BatchNorm-134                              (1, 960, 7, 7)            3840\n",
      "           RELU6-135                              (1, 960, 7, 7)               0\n",
      "          Conv2D-136                              (1, 160, 7, 7)          153600\n",
      "       BatchNorm-137                              (1, 160, 7, 7)             640\n",
      "LinearBottleneck-138                              (1, 160, 7, 7)               0\n",
      "          Conv2D-139                              (1, 960, 7, 7)          153600\n",
      "       BatchNorm-140                              (1, 960, 7, 7)            3840\n",
      "           RELU6-141                              (1, 960, 7, 7)               0\n",
      "          Conv2D-142                              (1, 960, 7, 7)            8640\n",
      "       BatchNorm-143                              (1, 960, 7, 7)            3840\n",
      "           RELU6-144                              (1, 960, 7, 7)               0\n",
      "          Conv2D-145                              (1, 160, 7, 7)          153600\n",
      "       BatchNorm-146                              (1, 160, 7, 7)             640\n",
      "LinearBottleneck-147                              (1, 160, 7, 7)               0\n",
      "          Conv2D-148                              (1, 960, 7, 7)          153600\n",
      "       BatchNorm-149                              (1, 960, 7, 7)            3840\n",
      "           RELU6-150                              (1, 960, 7, 7)               0\n",
      "          Conv2D-151                              (1, 960, 7, 7)            8640\n",
      "       BatchNorm-152                              (1, 960, 7, 7)            3840\n",
      "           RELU6-153                              (1, 960, 7, 7)               0\n",
      "          Conv2D-154                              (1, 320, 7, 7)          307200\n",
      "       BatchNorm-155                              (1, 320, 7, 7)            1280\n",
      "LinearBottleneck-156                              (1, 320, 7, 7)               0\n",
      "          Conv2D-157                             (1, 1280, 7, 7)          409600\n",
      "       BatchNorm-158                             (1, 1280, 7, 7)            5120\n",
      "           RELU6-159                             (1, 1280, 7, 7)               0\n",
      " GlobalAvgPool2D-160                             (1, 1280, 1, 1)               0\n",
      "          Conv2D-161                             (1, 1000, 1, 1)         1280000\n",
      "         Flatten-162                                   (1, 1000)               0\n",
      "     MobileNetV2-163                                   (1, 1000)               0\n",
      "================================================================================\n",
      "Parameters in forward computation graph, duplicate included\n",
      "   Total params: 3539136\n",
      "   Trainable params: 3504960\n",
      "   Non-trainable params: 34176\n",
      "Shared params in forward computation graph: 0\n",
      "Unique parameters in model: 3539136\n",
      "--------------------------------------------------------------------------------\n"
     ]
    }
   ],
   "source": [
    "mobile_net.summary(nd.ones((1, 3, 224, 224)))"
   ]
  },
  {
   "cell_type": "markdown",
   "metadata": {},
   "source": [
    "`mobilenet` have many layers than `vgg11` but with the same dimension of input, `mobilenet` have less number of trainable params than `vgg11`, making it more faster. "
   ]
  },
  {
   "cell_type": "code",
   "execution_count": 68,
   "metadata": {
    "scrolled": false
   },
   "outputs": [
    {
     "data": {
      "image/svg+xml": [
       "<?xml version=\"1.0\" encoding=\"UTF-8\" standalone=\"no\"?>\r\n",
       "<!DOCTYPE svg PUBLIC \"-//W3C//DTD SVG 1.1//EN\"\r\n",
       " \"http://www.w3.org/Graphics/SVG/1.1/DTD/svg11.dtd\">\r\n",
       "<!-- Generated by graphviz version 2.38.0 (20140413.2041)\r\n",
       " -->\r\n",
       "<!-- Title: plot Pages: 1 -->\r\n",
       "<svg width=\"788pt\" height=\"16961pt\"\r\n",
       " viewBox=\"0.00 0.00 788.26 16961.00\" xmlns=\"http://www.w3.org/2000/svg\" xmlns:xlink=\"http://www.w3.org/1999/xlink\">\r\n",
       "<g id=\"graph0\" class=\"graph\" transform=\"scale(1 1) rotate(0) translate(4 16957)\">\r\n",
       "<title>plot</title>\r\n",
       "<polygon fill=\"white\" stroke=\"none\" points=\"-4,4 -4,-16957 784.258,-16957 784.258,4 -4,4\"/>\r\n",
       "<!-- data -->\r\n",
       "<g id=\"node1\" class=\"node\"><title>data</title>\r\n",
       "<ellipse fill=\"#8dd3c7\" stroke=\"black\" cx=\"412.263\" cy=\"-29\" rx=\"47\" ry=\"29\"/>\r\n",
       "<text text-anchor=\"middle\" x=\"412.263\" y=\"-25.3\" font-family=\"Times New Roman,serif\" font-size=\"14.00\">data</text>\r\n",
       "</g>\r\n",
       "<!-- mobilenetv20_features_conv0_fwd -->\r\n",
       "<g id=\"node2\" class=\"node\"><title>mobilenetv20_features_conv0_fwd</title>\r\n",
       "<ellipse fill=\"#fb8072\" stroke=\"black\" cx=\"412.263\" cy=\"-138\" rx=\"56.8351\" ry=\"29\"/>\r\n",
       "<text text-anchor=\"middle\" x=\"412.263\" y=\"-141.8\" font-family=\"Times New Roman,serif\" font-size=\"14.00\">Convolution</text>\r\n",
       "<text text-anchor=\"middle\" x=\"412.263\" y=\"-126.8\" font-family=\"Times New Roman,serif\" font-size=\"14.00\">3x3/2x2, 32</text>\r\n",
       "</g>\r\n",
       "<!-- mobilenetv20_features_conv0_fwd&#45;&gt;data -->\r\n",
       "<g id=\"edge1\" class=\"edge\"><title>mobilenetv20_features_conv0_fwd&#45;&gt;data</title>\r\n",
       "<path fill=\"none\" stroke=\"black\" d=\"M412.263,-98.5824C412.263,-85.2841 412.263,-70.632 412.263,-58.2967\"/>\r\n",
       "<polygon fill=\"black\" stroke=\"black\" points=\"412.263,-108.887 407.763,-98.887 412.263,-103.887 412.263,-98.887 412.263,-98.887 412.263,-98.887 412.263,-103.887 416.763,-98.8871 412.263,-108.887 412.263,-108.887\"/>\r\n",
       "<text text-anchor=\"middle\" x=\"442.763\" y=\"-79.8\" font-family=\"Times New Roman,serif\" font-size=\"14.00\">3x224x224</text>\r\n",
       "</g>\r\n",
       "<!-- mobilenetv20_features_batchnorm0_fwd -->\r\n",
       "<g id=\"node3\" class=\"node\"><title>mobilenetv20_features_batchnorm0_fwd</title>\r\n",
       "<ellipse fill=\"#bebada\" stroke=\"black\" cx=\"412.263\" cy=\"-247\" rx=\"133.381\" ry=\"29\"/>\r\n",
       "<text text-anchor=\"middle\" x=\"412.263\" y=\"-243.3\" font-family=\"Times New Roman,serif\" font-size=\"14.00\">mobilenetv20_features_batchnorm0_fwd</text>\r\n",
       "</g>\r\n",
       "<!-- mobilenetv20_features_batchnorm0_fwd&#45;&gt;mobilenetv20_features_conv0_fwd -->\r\n",
       "<g id=\"edge2\" class=\"edge\"><title>mobilenetv20_features_batchnorm0_fwd&#45;&gt;mobilenetv20_features_conv0_fwd</title>\r\n",
       "<path fill=\"none\" stroke=\"black\" d=\"M412.263,-207.582C412.263,-194.284 412.263,-179.632 412.263,-167.297\"/>\r\n",
       "<polygon fill=\"black\" stroke=\"black\" points=\"412.263,-217.887 407.763,-207.887 412.263,-212.887 412.263,-207.887 412.263,-207.887 412.263,-207.887 412.263,-212.887 416.763,-207.887 412.263,-217.887 412.263,-217.887\"/>\r\n",
       "<text text-anchor=\"middle\" x=\"446.263\" y=\"-188.8\" font-family=\"Times New Roman,serif\" font-size=\"14.00\">32x112x112</text>\r\n",
       "</g>\r\n",
       "<!-- mobilenetv20_features_relu60_relu6 -->\r\n",
       "<g id=\"node4\" class=\"node\"><title>mobilenetv20_features_relu60_relu6</title>\r\n",
       "<ellipse fill=\"#fccde5\" stroke=\"black\" cx=\"412.263\" cy=\"-356\" rx=\"118.97\" ry=\"29\"/>\r\n",
       "<text text-anchor=\"middle\" x=\"412.263\" y=\"-352.3\" font-family=\"Times New Roman,serif\" font-size=\"14.00\">mobilenetv20_features_relu60_relu6</text>\r\n",
       "</g>\r\n",
       "<!-- mobilenetv20_features_relu60_relu6&#45;&gt;mobilenetv20_features_batchnorm0_fwd -->\r\n",
       "<g id=\"edge3\" class=\"edge\"><title>mobilenetv20_features_relu60_relu6&#45;&gt;mobilenetv20_features_batchnorm0_fwd</title>\r\n",
       "<path fill=\"none\" stroke=\"black\" d=\"M412.263,-316.582C412.263,-303.284 412.263,-288.632 412.263,-276.297\"/>\r\n",
       "<polygon fill=\"black\" stroke=\"black\" points=\"412.263,-326.887 407.763,-316.887 412.263,-321.887 412.263,-316.887 412.263,-316.887 412.263,-316.887 412.263,-321.887 416.763,-316.887 412.263,-326.887 412.263,-326.887\"/>\r\n",
       "<text text-anchor=\"middle\" x=\"446.263\" y=\"-297.8\" font-family=\"Times New Roman,serif\" font-size=\"14.00\">32x112x112</text>\r\n",
       "</g>\r\n",
       "<!-- mobilenetv20_features_linearbottleneck0_conv0_fwd -->\r\n",
       "<g id=\"node5\" class=\"node\"><title>mobilenetv20_features_linearbottleneck0_conv0_fwd</title>\r\n",
       "<ellipse fill=\"#fb8072\" stroke=\"black\" cx=\"412.263\" cy=\"-465\" rx=\"56.8351\" ry=\"29\"/>\r\n",
       "<text text-anchor=\"middle\" x=\"412.263\" y=\"-468.8\" font-family=\"Times New Roman,serif\" font-size=\"14.00\">Convolution</text>\r\n",
       "<text text-anchor=\"middle\" x=\"412.263\" y=\"-453.8\" font-family=\"Times New Roman,serif\" font-size=\"14.00\">1x1/1x1, 32</text>\r\n",
       "</g>\r\n",
       "<!-- mobilenetv20_features_linearbottleneck0_conv0_fwd&#45;&gt;mobilenetv20_features_relu60_relu6 -->\r\n",
       "<g id=\"edge4\" class=\"edge\"><title>mobilenetv20_features_linearbottleneck0_conv0_fwd&#45;&gt;mobilenetv20_features_relu60_relu6</title>\r\n",
       "<path fill=\"none\" stroke=\"black\" d=\"M412.263,-425.582C412.263,-412.284 412.263,-397.632 412.263,-385.297\"/>\r\n",
       "<polygon fill=\"black\" stroke=\"black\" points=\"412.263,-435.887 407.763,-425.887 412.263,-430.887 412.263,-425.887 412.263,-425.887 412.263,-425.887 412.263,-430.887 416.763,-425.887 412.263,-435.887 412.263,-435.887\"/>\r\n",
       "<text text-anchor=\"middle\" x=\"446.263\" y=\"-406.8\" font-family=\"Times New Roman,serif\" font-size=\"14.00\">32x112x112</text>\r\n",
       "</g>\r\n",
       "<!-- mobilenetv20_features_linearbottleneck0_batchnorm0_fwd -->\r\n",
       "<g id=\"node6\" class=\"node\"><title>mobilenetv20_features_linearbottleneck0_batchnorm0_fwd</title>\r\n",
       "<ellipse fill=\"#bebada\" stroke=\"black\" cx=\"412.263\" cy=\"-574\" rx=\"188.991\" ry=\"29\"/>\r\n",
       "<text text-anchor=\"middle\" x=\"412.263\" y=\"-570.3\" font-family=\"Times New Roman,serif\" font-size=\"14.00\">mobilenetv20_features_linearbottleneck0_batchnorm0_fwd</text>\r\n",
       "</g>\r\n",
       "<!-- mobilenetv20_features_linearbottleneck0_batchnorm0_fwd&#45;&gt;mobilenetv20_features_linearbottleneck0_conv0_fwd -->\r\n",
       "<g id=\"edge5\" class=\"edge\"><title>mobilenetv20_features_linearbottleneck0_batchnorm0_fwd&#45;&gt;mobilenetv20_features_linearbottleneck0_conv0_fwd</title>\r\n",
       "<path fill=\"none\" stroke=\"black\" d=\"M412.263,-534.582C412.263,-521.284 412.263,-506.632 412.263,-494.297\"/>\r\n",
       "<polygon fill=\"black\" stroke=\"black\" points=\"412.263,-544.887 407.763,-534.887 412.263,-539.887 412.263,-534.887 412.263,-534.887 412.263,-534.887 412.263,-539.887 416.763,-534.887 412.263,-544.887 412.263,-544.887\"/>\r\n",
       "<text text-anchor=\"middle\" x=\"446.263\" y=\"-515.8\" font-family=\"Times New Roman,serif\" font-size=\"14.00\">32x112x112</text>\r\n",
       "</g>\r\n",
       "<!-- mobilenetv20_features_linearbottleneck0_relu60_relu6 -->\r\n",
       "<g id=\"node7\" class=\"node\"><title>mobilenetv20_features_linearbottleneck0_relu60_relu6</title>\r\n",
       "<ellipse fill=\"#fccde5\" stroke=\"black\" cx=\"412.263\" cy=\"-683\" rx=\"173.99\" ry=\"29\"/>\r\n",
       "<text text-anchor=\"middle\" x=\"412.263\" y=\"-679.3\" font-family=\"Times New Roman,serif\" font-size=\"14.00\">mobilenetv20_features_linearbottleneck0_relu60_relu6</text>\r\n",
       "</g>\r\n",
       "<!-- mobilenetv20_features_linearbottleneck0_relu60_relu6&#45;&gt;mobilenetv20_features_linearbottleneck0_batchnorm0_fwd -->\r\n",
       "<g id=\"edge6\" class=\"edge\"><title>mobilenetv20_features_linearbottleneck0_relu60_relu6&#45;&gt;mobilenetv20_features_linearbottleneck0_batchnorm0_fwd</title>\r\n",
       "<path fill=\"none\" stroke=\"black\" d=\"M412.263,-643.582C412.263,-630.284 412.263,-615.632 412.263,-603.297\"/>\r\n",
       "<polygon fill=\"black\" stroke=\"black\" points=\"412.263,-653.887 407.763,-643.887 412.263,-648.887 412.263,-643.887 412.263,-643.887 412.263,-643.887 412.263,-648.887 416.763,-643.887 412.263,-653.887 412.263,-653.887\"/>\r\n",
       "<text text-anchor=\"middle\" x=\"446.263\" y=\"-624.8\" font-family=\"Times New Roman,serif\" font-size=\"14.00\">32x112x112</text>\r\n",
       "</g>\r\n",
       "<!-- mobilenetv20_features_linearbottleneck0_conv1_fwd -->\r\n",
       "<g id=\"node8\" class=\"node\"><title>mobilenetv20_features_linearbottleneck0_conv1_fwd</title>\r\n",
       "<ellipse fill=\"#fb8072\" stroke=\"black\" cx=\"412.263\" cy=\"-792\" rx=\"56.8351\" ry=\"29\"/>\r\n",
       "<text text-anchor=\"middle\" x=\"412.263\" y=\"-795.8\" font-family=\"Times New Roman,serif\" font-size=\"14.00\">Convolution</text>\r\n",
       "<text text-anchor=\"middle\" x=\"412.263\" y=\"-780.8\" font-family=\"Times New Roman,serif\" font-size=\"14.00\">3x3/1x1, 32</text>\r\n",
       "</g>\r\n",
       "<!-- mobilenetv20_features_linearbottleneck0_conv1_fwd&#45;&gt;mobilenetv20_features_linearbottleneck0_relu60_relu6 -->\r\n",
       "<g id=\"edge7\" class=\"edge\"><title>mobilenetv20_features_linearbottleneck0_conv1_fwd&#45;&gt;mobilenetv20_features_linearbottleneck0_relu60_relu6</title>\r\n",
       "<path fill=\"none\" stroke=\"black\" d=\"M412.263,-752.582C412.263,-739.284 412.263,-724.632 412.263,-712.297\"/>\r\n",
       "<polygon fill=\"black\" stroke=\"black\" points=\"412.263,-762.887 407.763,-752.887 412.263,-757.887 412.263,-752.887 412.263,-752.887 412.263,-752.887 412.263,-757.887 416.763,-752.887 412.263,-762.887 412.263,-762.887\"/>\r\n",
       "<text text-anchor=\"middle\" x=\"446.263\" y=\"-733.8\" font-family=\"Times New Roman,serif\" font-size=\"14.00\">32x112x112</text>\r\n",
       "</g>\r\n",
       "<!-- mobilenetv20_features_linearbottleneck0_batchnorm1_fwd -->\r\n",
       "<g id=\"node9\" class=\"node\"><title>mobilenetv20_features_linearbottleneck0_batchnorm1_fwd</title>\r\n",
       "<ellipse fill=\"#bebada\" stroke=\"black\" cx=\"412.263\" cy=\"-901\" rx=\"188.991\" ry=\"29\"/>\r\n",
       "<text text-anchor=\"middle\" x=\"412.263\" y=\"-897.3\" font-family=\"Times New Roman,serif\" font-size=\"14.00\">mobilenetv20_features_linearbottleneck0_batchnorm1_fwd</text>\r\n",
       "</g>\r\n",
       "<!-- mobilenetv20_features_linearbottleneck0_batchnorm1_fwd&#45;&gt;mobilenetv20_features_linearbottleneck0_conv1_fwd -->\r\n",
       "<g id=\"edge8\" class=\"edge\"><title>mobilenetv20_features_linearbottleneck0_batchnorm1_fwd&#45;&gt;mobilenetv20_features_linearbottleneck0_conv1_fwd</title>\r\n",
       "<path fill=\"none\" stroke=\"black\" d=\"M412.263,-861.582C412.263,-848.284 412.263,-833.632 412.263,-821.297\"/>\r\n",
       "<polygon fill=\"black\" stroke=\"black\" points=\"412.263,-871.887 407.763,-861.887 412.263,-866.887 412.263,-861.887 412.263,-861.887 412.263,-861.887 412.263,-866.887 416.763,-861.887 412.263,-871.887 412.263,-871.887\"/>\r\n",
       "<text text-anchor=\"middle\" x=\"446.263\" y=\"-842.8\" font-family=\"Times New Roman,serif\" font-size=\"14.00\">32x112x112</text>\r\n",
       "</g>\r\n",
       "<!-- mobilenetv20_features_linearbottleneck0_relu61_relu6 -->\r\n",
       "<g id=\"node10\" class=\"node\"><title>mobilenetv20_features_linearbottleneck0_relu61_relu6</title>\r\n",
       "<ellipse fill=\"#fccde5\" stroke=\"black\" cx=\"412.263\" cy=\"-1010\" rx=\"173.99\" ry=\"29\"/>\r\n",
       "<text text-anchor=\"middle\" x=\"412.263\" y=\"-1006.3\" font-family=\"Times New Roman,serif\" font-size=\"14.00\">mobilenetv20_features_linearbottleneck0_relu61_relu6</text>\r\n",
       "</g>\r\n",
       "<!-- mobilenetv20_features_linearbottleneck0_relu61_relu6&#45;&gt;mobilenetv20_features_linearbottleneck0_batchnorm1_fwd -->\r\n",
       "<g id=\"edge9\" class=\"edge\"><title>mobilenetv20_features_linearbottleneck0_relu61_relu6&#45;&gt;mobilenetv20_features_linearbottleneck0_batchnorm1_fwd</title>\r\n",
       "<path fill=\"none\" stroke=\"black\" d=\"M412.263,-970.582C412.263,-957.284 412.263,-942.632 412.263,-930.297\"/>\r\n",
       "<polygon fill=\"black\" stroke=\"black\" points=\"412.263,-980.887 407.763,-970.887 412.263,-975.887 412.263,-970.887 412.263,-970.887 412.263,-970.887 412.263,-975.887 416.763,-970.887 412.263,-980.887 412.263,-980.887\"/>\r\n",
       "<text text-anchor=\"middle\" x=\"446.263\" y=\"-951.8\" font-family=\"Times New Roman,serif\" font-size=\"14.00\">32x112x112</text>\r\n",
       "</g>\r\n",
       "<!-- mobilenetv20_features_linearbottleneck0_conv2_fwd -->\r\n",
       "<g id=\"node11\" class=\"node\"><title>mobilenetv20_features_linearbottleneck0_conv2_fwd</title>\r\n",
       "<ellipse fill=\"#fb8072\" stroke=\"black\" cx=\"412.263\" cy=\"-1119\" rx=\"56.8351\" ry=\"29\"/>\r\n",
       "<text text-anchor=\"middle\" x=\"412.263\" y=\"-1122.8\" font-family=\"Times New Roman,serif\" font-size=\"14.00\">Convolution</text>\r\n",
       "<text text-anchor=\"middle\" x=\"412.263\" y=\"-1107.8\" font-family=\"Times New Roman,serif\" font-size=\"14.00\">1x1/1x1, 16</text>\r\n",
       "</g>\r\n",
       "<!-- mobilenetv20_features_linearbottleneck0_conv2_fwd&#45;&gt;mobilenetv20_features_linearbottleneck0_relu61_relu6 -->\r\n",
       "<g id=\"edge10\" class=\"edge\"><title>mobilenetv20_features_linearbottleneck0_conv2_fwd&#45;&gt;mobilenetv20_features_linearbottleneck0_relu61_relu6</title>\r\n",
       "<path fill=\"none\" stroke=\"black\" d=\"M412.263,-1079.58C412.263,-1066.28 412.263,-1051.63 412.263,-1039.3\"/>\r\n",
       "<polygon fill=\"black\" stroke=\"black\" points=\"412.263,-1089.89 407.763,-1079.89 412.263,-1084.89 412.263,-1079.89 412.263,-1079.89 412.263,-1079.89 412.263,-1084.89 416.763,-1079.89 412.263,-1089.89 412.263,-1089.89\"/>\r\n",
       "<text text-anchor=\"middle\" x=\"446.263\" y=\"-1060.8\" font-family=\"Times New Roman,serif\" font-size=\"14.00\">32x112x112</text>\r\n",
       "</g>\r\n",
       "<!-- mobilenetv20_features_linearbottleneck0_batchnorm2_fwd -->\r\n",
       "<g id=\"node12\" class=\"node\"><title>mobilenetv20_features_linearbottleneck0_batchnorm2_fwd</title>\r\n",
       "<ellipse fill=\"#bebada\" stroke=\"black\" cx=\"412.263\" cy=\"-1228\" rx=\"188.991\" ry=\"29\"/>\r\n",
       "<text text-anchor=\"middle\" x=\"412.263\" y=\"-1224.3\" font-family=\"Times New Roman,serif\" font-size=\"14.00\">mobilenetv20_features_linearbottleneck0_batchnorm2_fwd</text>\r\n",
       "</g>\r\n",
       "<!-- mobilenetv20_features_linearbottleneck0_batchnorm2_fwd&#45;&gt;mobilenetv20_features_linearbottleneck0_conv2_fwd -->\r\n",
       "<g id=\"edge11\" class=\"edge\"><title>mobilenetv20_features_linearbottleneck0_batchnorm2_fwd&#45;&gt;mobilenetv20_features_linearbottleneck0_conv2_fwd</title>\r\n",
       "<path fill=\"none\" stroke=\"black\" d=\"M412.263,-1188.58C412.263,-1175.28 412.263,-1160.63 412.263,-1148.3\"/>\r\n",
       "<polygon fill=\"black\" stroke=\"black\" points=\"412.263,-1198.89 407.763,-1188.89 412.263,-1193.89 412.263,-1188.89 412.263,-1188.89 412.263,-1188.89 412.263,-1193.89 416.763,-1188.89 412.263,-1198.89 412.263,-1198.89\"/>\r\n",
       "<text text-anchor=\"middle\" x=\"446.263\" y=\"-1169.8\" font-family=\"Times New Roman,serif\" font-size=\"14.00\">16x112x112</text>\r\n",
       "</g>\r\n",
       "<!-- mobilenetv20_features_linearbottleneck1_conv0_fwd -->\r\n",
       "<g id=\"node13\" class=\"node\"><title>mobilenetv20_features_linearbottleneck1_conv0_fwd</title>\r\n",
       "<ellipse fill=\"#fb8072\" stroke=\"black\" cx=\"412.263\" cy=\"-1337\" rx=\"56.8351\" ry=\"29\"/>\r\n",
       "<text text-anchor=\"middle\" x=\"412.263\" y=\"-1340.8\" font-family=\"Times New Roman,serif\" font-size=\"14.00\">Convolution</text>\r\n",
       "<text text-anchor=\"middle\" x=\"412.263\" y=\"-1325.8\" font-family=\"Times New Roman,serif\" font-size=\"14.00\">1x1/1x1, 96</text>\r\n",
       "</g>\r\n",
       "<!-- mobilenetv20_features_linearbottleneck1_conv0_fwd&#45;&gt;mobilenetv20_features_linearbottleneck0_batchnorm2_fwd -->\r\n",
       "<g id=\"edge12\" class=\"edge\"><title>mobilenetv20_features_linearbottleneck1_conv0_fwd&#45;&gt;mobilenetv20_features_linearbottleneck0_batchnorm2_fwd</title>\r\n",
       "<path fill=\"none\" stroke=\"black\" d=\"M412.263,-1297.58C412.263,-1284.28 412.263,-1269.63 412.263,-1257.3\"/>\r\n",
       "<polygon fill=\"black\" stroke=\"black\" points=\"412.263,-1307.89 407.763,-1297.89 412.263,-1302.89 412.263,-1297.89 412.263,-1297.89 412.263,-1297.89 412.263,-1302.89 416.763,-1297.89 412.263,-1307.89 412.263,-1307.89\"/>\r\n",
       "<text text-anchor=\"middle\" x=\"446.263\" y=\"-1278.8\" font-family=\"Times New Roman,serif\" font-size=\"14.00\">16x112x112</text>\r\n",
       "</g>\r\n",
       "<!-- mobilenetv20_features_linearbottleneck1_batchnorm0_fwd -->\r\n",
       "<g id=\"node14\" class=\"node\"><title>mobilenetv20_features_linearbottleneck1_batchnorm0_fwd</title>\r\n",
       "<ellipse fill=\"#bebada\" stroke=\"black\" cx=\"412.263\" cy=\"-1446\" rx=\"188.991\" ry=\"29\"/>\r\n",
       "<text text-anchor=\"middle\" x=\"412.263\" y=\"-1442.3\" font-family=\"Times New Roman,serif\" font-size=\"14.00\">mobilenetv20_features_linearbottleneck1_batchnorm0_fwd</text>\r\n",
       "</g>\r\n",
       "<!-- mobilenetv20_features_linearbottleneck1_batchnorm0_fwd&#45;&gt;mobilenetv20_features_linearbottleneck1_conv0_fwd -->\r\n",
       "<g id=\"edge13\" class=\"edge\"><title>mobilenetv20_features_linearbottleneck1_batchnorm0_fwd&#45;&gt;mobilenetv20_features_linearbottleneck1_conv0_fwd</title>\r\n",
       "<path fill=\"none\" stroke=\"black\" d=\"M412.263,-1406.58C412.263,-1393.28 412.263,-1378.63 412.263,-1366.3\"/>\r\n",
       "<polygon fill=\"black\" stroke=\"black\" points=\"412.263,-1416.89 407.763,-1406.89 412.263,-1411.89 412.263,-1406.89 412.263,-1406.89 412.263,-1406.89 412.263,-1411.89 416.763,-1406.89 412.263,-1416.89 412.263,-1416.89\"/>\r\n",
       "<text text-anchor=\"middle\" x=\"446.263\" y=\"-1387.8\" font-family=\"Times New Roman,serif\" font-size=\"14.00\">96x112x112</text>\r\n",
       "</g>\r\n",
       "<!-- mobilenetv20_features_linearbottleneck1_relu60_relu6 -->\r\n",
       "<g id=\"node15\" class=\"node\"><title>mobilenetv20_features_linearbottleneck1_relu60_relu6</title>\r\n",
       "<ellipse fill=\"#fccde5\" stroke=\"black\" cx=\"412.263\" cy=\"-1555\" rx=\"173.99\" ry=\"29\"/>\r\n",
       "<text text-anchor=\"middle\" x=\"412.263\" y=\"-1551.3\" font-family=\"Times New Roman,serif\" font-size=\"14.00\">mobilenetv20_features_linearbottleneck1_relu60_relu6</text>\r\n",
       "</g>\r\n",
       "<!-- mobilenetv20_features_linearbottleneck1_relu60_relu6&#45;&gt;mobilenetv20_features_linearbottleneck1_batchnorm0_fwd -->\r\n",
       "<g id=\"edge14\" class=\"edge\"><title>mobilenetv20_features_linearbottleneck1_relu60_relu6&#45;&gt;mobilenetv20_features_linearbottleneck1_batchnorm0_fwd</title>\r\n",
       "<path fill=\"none\" stroke=\"black\" d=\"M412.263,-1515.58C412.263,-1502.28 412.263,-1487.63 412.263,-1475.3\"/>\r\n",
       "<polygon fill=\"black\" stroke=\"black\" points=\"412.263,-1525.89 407.763,-1515.89 412.263,-1520.89 412.263,-1515.89 412.263,-1515.89 412.263,-1515.89 412.263,-1520.89 416.763,-1515.89 412.263,-1525.89 412.263,-1525.89\"/>\r\n",
       "<text text-anchor=\"middle\" x=\"446.263\" y=\"-1496.8\" font-family=\"Times New Roman,serif\" font-size=\"14.00\">96x112x112</text>\r\n",
       "</g>\r\n",
       "<!-- mobilenetv20_features_linearbottleneck1_conv1_fwd -->\r\n",
       "<g id=\"node16\" class=\"node\"><title>mobilenetv20_features_linearbottleneck1_conv1_fwd</title>\r\n",
       "<ellipse fill=\"#fb8072\" stroke=\"black\" cx=\"412.263\" cy=\"-1664\" rx=\"56.8351\" ry=\"29\"/>\r\n",
       "<text text-anchor=\"middle\" x=\"412.263\" y=\"-1667.8\" font-family=\"Times New Roman,serif\" font-size=\"14.00\">Convolution</text>\r\n",
       "<text text-anchor=\"middle\" x=\"412.263\" y=\"-1652.8\" font-family=\"Times New Roman,serif\" font-size=\"14.00\">3x3/2x2, 96</text>\r\n",
       "</g>\r\n",
       "<!-- mobilenetv20_features_linearbottleneck1_conv1_fwd&#45;&gt;mobilenetv20_features_linearbottleneck1_relu60_relu6 -->\r\n",
       "<g id=\"edge15\" class=\"edge\"><title>mobilenetv20_features_linearbottleneck1_conv1_fwd&#45;&gt;mobilenetv20_features_linearbottleneck1_relu60_relu6</title>\r\n",
       "<path fill=\"none\" stroke=\"black\" d=\"M412.263,-1624.58C412.263,-1611.28 412.263,-1596.63 412.263,-1584.3\"/>\r\n",
       "<polygon fill=\"black\" stroke=\"black\" points=\"412.263,-1634.89 407.763,-1624.89 412.263,-1629.89 412.263,-1624.89 412.263,-1624.89 412.263,-1624.89 412.263,-1629.89 416.763,-1624.89 412.263,-1634.89 412.263,-1634.89\"/>\r\n",
       "<text text-anchor=\"middle\" x=\"446.263\" y=\"-1605.8\" font-family=\"Times New Roman,serif\" font-size=\"14.00\">96x112x112</text>\r\n",
       "</g>\r\n",
       "<!-- mobilenetv20_features_linearbottleneck1_batchnorm1_fwd -->\r\n",
       "<g id=\"node17\" class=\"node\"><title>mobilenetv20_features_linearbottleneck1_batchnorm1_fwd</title>\r\n",
       "<ellipse fill=\"#bebada\" stroke=\"black\" cx=\"412.263\" cy=\"-1773\" rx=\"188.991\" ry=\"29\"/>\r\n",
       "<text text-anchor=\"middle\" x=\"412.263\" y=\"-1769.3\" font-family=\"Times New Roman,serif\" font-size=\"14.00\">mobilenetv20_features_linearbottleneck1_batchnorm1_fwd</text>\r\n",
       "</g>\r\n",
       "<!-- mobilenetv20_features_linearbottleneck1_batchnorm1_fwd&#45;&gt;mobilenetv20_features_linearbottleneck1_conv1_fwd -->\r\n",
       "<g id=\"edge16\" class=\"edge\"><title>mobilenetv20_features_linearbottleneck1_batchnorm1_fwd&#45;&gt;mobilenetv20_features_linearbottleneck1_conv1_fwd</title>\r\n",
       "<path fill=\"none\" stroke=\"black\" d=\"M412.263,-1733.58C412.263,-1720.28 412.263,-1705.63 412.263,-1693.3\"/>\r\n",
       "<polygon fill=\"black\" stroke=\"black\" points=\"412.263,-1743.89 407.763,-1733.89 412.263,-1738.89 412.263,-1733.89 412.263,-1733.89 412.263,-1733.89 412.263,-1738.89 416.763,-1733.89 412.263,-1743.89 412.263,-1743.89\"/>\r\n",
       "<text text-anchor=\"middle\" x=\"439.763\" y=\"-1714.8\" font-family=\"Times New Roman,serif\" font-size=\"14.00\">96x56x56</text>\r\n",
       "</g>\r\n",
       "<!-- mobilenetv20_features_linearbottleneck1_relu61_relu6 -->\r\n",
       "<g id=\"node18\" class=\"node\"><title>mobilenetv20_features_linearbottleneck1_relu61_relu6</title>\r\n",
       "<ellipse fill=\"#fccde5\" stroke=\"black\" cx=\"412.263\" cy=\"-1882\" rx=\"173.99\" ry=\"29\"/>\r\n",
       "<text text-anchor=\"middle\" x=\"412.263\" y=\"-1878.3\" font-family=\"Times New Roman,serif\" font-size=\"14.00\">mobilenetv20_features_linearbottleneck1_relu61_relu6</text>\r\n",
       "</g>\r\n",
       "<!-- mobilenetv20_features_linearbottleneck1_relu61_relu6&#45;&gt;mobilenetv20_features_linearbottleneck1_batchnorm1_fwd -->\r\n",
       "<g id=\"edge17\" class=\"edge\"><title>mobilenetv20_features_linearbottleneck1_relu61_relu6&#45;&gt;mobilenetv20_features_linearbottleneck1_batchnorm1_fwd</title>\r\n",
       "<path fill=\"none\" stroke=\"black\" d=\"M412.263,-1842.58C412.263,-1829.28 412.263,-1814.63 412.263,-1802.3\"/>\r\n",
       "<polygon fill=\"black\" stroke=\"black\" points=\"412.263,-1852.89 407.763,-1842.89 412.263,-1847.89 412.263,-1842.89 412.263,-1842.89 412.263,-1842.89 412.263,-1847.89 416.763,-1842.89 412.263,-1852.89 412.263,-1852.89\"/>\r\n",
       "<text text-anchor=\"middle\" x=\"439.763\" y=\"-1823.8\" font-family=\"Times New Roman,serif\" font-size=\"14.00\">96x56x56</text>\r\n",
       "</g>\r\n",
       "<!-- mobilenetv20_features_linearbottleneck1_conv2_fwd -->\r\n",
       "<g id=\"node19\" class=\"node\"><title>mobilenetv20_features_linearbottleneck1_conv2_fwd</title>\r\n",
       "<ellipse fill=\"#fb8072\" stroke=\"black\" cx=\"412.263\" cy=\"-1991\" rx=\"56.8351\" ry=\"29\"/>\r\n",
       "<text text-anchor=\"middle\" x=\"412.263\" y=\"-1994.8\" font-family=\"Times New Roman,serif\" font-size=\"14.00\">Convolution</text>\r\n",
       "<text text-anchor=\"middle\" x=\"412.263\" y=\"-1979.8\" font-family=\"Times New Roman,serif\" font-size=\"14.00\">1x1/1x1, 24</text>\r\n",
       "</g>\r\n",
       "<!-- mobilenetv20_features_linearbottleneck1_conv2_fwd&#45;&gt;mobilenetv20_features_linearbottleneck1_relu61_relu6 -->\r\n",
       "<g id=\"edge18\" class=\"edge\"><title>mobilenetv20_features_linearbottleneck1_conv2_fwd&#45;&gt;mobilenetv20_features_linearbottleneck1_relu61_relu6</title>\r\n",
       "<path fill=\"none\" stroke=\"black\" d=\"M412.263,-1951.58C412.263,-1938.28 412.263,-1923.63 412.263,-1911.3\"/>\r\n",
       "<polygon fill=\"black\" stroke=\"black\" points=\"412.263,-1961.89 407.763,-1951.89 412.263,-1956.89 412.263,-1951.89 412.263,-1951.89 412.263,-1951.89 412.263,-1956.89 416.763,-1951.89 412.263,-1961.89 412.263,-1961.89\"/>\r\n",
       "<text text-anchor=\"middle\" x=\"439.763\" y=\"-1932.8\" font-family=\"Times New Roman,serif\" font-size=\"14.00\">96x56x56</text>\r\n",
       "</g>\r\n",
       "<!-- mobilenetv20_features_linearbottleneck1_batchnorm2_fwd -->\r\n",
       "<g id=\"node20\" class=\"node\"><title>mobilenetv20_features_linearbottleneck1_batchnorm2_fwd</title>\r\n",
       "<ellipse fill=\"#bebada\" stroke=\"black\" cx=\"412.263\" cy=\"-2100\" rx=\"188.991\" ry=\"29\"/>\r\n",
       "<text text-anchor=\"middle\" x=\"412.263\" y=\"-2096.3\" font-family=\"Times New Roman,serif\" font-size=\"14.00\">mobilenetv20_features_linearbottleneck1_batchnorm2_fwd</text>\r\n",
       "</g>\r\n",
       "<!-- mobilenetv20_features_linearbottleneck1_batchnorm2_fwd&#45;&gt;mobilenetv20_features_linearbottleneck1_conv2_fwd -->\r\n",
       "<g id=\"edge19\" class=\"edge\"><title>mobilenetv20_features_linearbottleneck1_batchnorm2_fwd&#45;&gt;mobilenetv20_features_linearbottleneck1_conv2_fwd</title>\r\n",
       "<path fill=\"none\" stroke=\"black\" d=\"M412.263,-2060.58C412.263,-2047.28 412.263,-2032.63 412.263,-2020.3\"/>\r\n",
       "<polygon fill=\"black\" stroke=\"black\" points=\"412.263,-2070.89 407.763,-2060.89 412.263,-2065.89 412.263,-2060.89 412.263,-2060.89 412.263,-2060.89 412.263,-2065.89 416.763,-2060.89 412.263,-2070.89 412.263,-2070.89\"/>\r\n",
       "<text text-anchor=\"middle\" x=\"439.763\" y=\"-2041.8\" font-family=\"Times New Roman,serif\" font-size=\"14.00\">24x56x56</text>\r\n",
       "</g>\r\n",
       "<!-- mobilenetv20_features_linearbottleneck2_conv0_fwd -->\r\n",
       "<g id=\"node21\" class=\"node\"><title>mobilenetv20_features_linearbottleneck2_conv0_fwd</title>\r\n",
       "<ellipse fill=\"#fb8072\" stroke=\"black\" cx=\"493.263\" cy=\"-2209\" rx=\"58.8062\" ry=\"29\"/>\r\n",
       "<text text-anchor=\"middle\" x=\"493.263\" y=\"-2212.8\" font-family=\"Times New Roman,serif\" font-size=\"14.00\">Convolution</text>\r\n",
       "<text text-anchor=\"middle\" x=\"493.263\" y=\"-2197.8\" font-family=\"Times New Roman,serif\" font-size=\"14.00\">1x1/1x1, 144</text>\r\n",
       "</g>\r\n",
       "<!-- mobilenetv20_features_linearbottleneck2_conv0_fwd&#45;&gt;mobilenetv20_features_linearbottleneck1_batchnorm2_fwd -->\r\n",
       "<g id=\"edge20\" class=\"edge\"><title>mobilenetv20_features_linearbottleneck2_conv0_fwd&#45;&gt;mobilenetv20_features_linearbottleneck1_batchnorm2_fwd</title>\r\n",
       "<path fill=\"none\" stroke=\"black\" d=\"M467.053,-2173.38C456.188,-2159.02 443.748,-2142.59 433.471,-2129.01\"/>\r\n",
       "<polygon fill=\"black\" stroke=\"black\" points=\"473.241,-2181.55 463.617,-2176.29 470.223,-2177.56 467.205,-2173.58 467.205,-2173.58 467.205,-2173.58 470.223,-2177.56 470.793,-2170.86 473.241,-2181.55 473.241,-2181.55\"/>\r\n",
       "<text text-anchor=\"middle\" x=\"484.763\" y=\"-2150.8\" font-family=\"Times New Roman,serif\" font-size=\"14.00\">24x56x56</text>\r\n",
       "</g>\r\n",
       "<!-- mobilenetv20_features_linearbottleneck2_batchnorm0_fwd -->\r\n",
       "<g id=\"node22\" class=\"node\"><title>mobilenetv20_features_linearbottleneck2_batchnorm0_fwd</title>\r\n",
       "<ellipse fill=\"#bebada\" stroke=\"black\" cx=\"591.263\" cy=\"-2318\" rx=\"188.991\" ry=\"29\"/>\r\n",
       "<text text-anchor=\"middle\" x=\"591.263\" y=\"-2314.3\" font-family=\"Times New Roman,serif\" font-size=\"14.00\">mobilenetv20_features_linearbottleneck2_batchnorm0_fwd</text>\r\n",
       "</g>\r\n",
       "<!-- mobilenetv20_features_linearbottleneck2_batchnorm0_fwd&#45;&gt;mobilenetv20_features_linearbottleneck2_conv0_fwd -->\r\n",
       "<g id=\"edge21\" class=\"edge\"><title>mobilenetv20_features_linearbottleneck2_batchnorm0_fwd&#45;&gt;mobilenetv20_features_linearbottleneck2_conv0_fwd</title>\r\n",
       "<path fill=\"none\" stroke=\"black\" d=\"M558.822,-2281.58C545.143,-2266.64 529.513,-2249.58 516.946,-2235.86\"/>\r\n",
       "<polygon fill=\"black\" stroke=\"black\" points=\"565.771,-2289.17 555.698,-2284.83 562.394,-2285.48 559.017,-2281.79 559.017,-2281.79 559.017,-2281.79 562.394,-2285.48 562.335,-2278.75 565.771,-2289.17 565.771,-2289.17\"/>\r\n",
       "<text text-anchor=\"middle\" x=\"577.763\" y=\"-2259.8\" font-family=\"Times New Roman,serif\" font-size=\"14.00\">144x56x56</text>\r\n",
       "</g>\r\n",
       "<!-- mobilenetv20_features_linearbottleneck2_relu60_relu6 -->\r\n",
       "<g id=\"node23\" class=\"node\"><title>mobilenetv20_features_linearbottleneck2_relu60_relu6</title>\r\n",
       "<ellipse fill=\"#fccde5\" stroke=\"black\" cx=\"591.263\" cy=\"-2427\" rx=\"173.99\" ry=\"29\"/>\r\n",
       "<text text-anchor=\"middle\" x=\"591.263\" y=\"-2423.3\" font-family=\"Times New Roman,serif\" font-size=\"14.00\">mobilenetv20_features_linearbottleneck2_relu60_relu6</text>\r\n",
       "</g>\r\n",
       "<!-- mobilenetv20_features_linearbottleneck2_relu60_relu6&#45;&gt;mobilenetv20_features_linearbottleneck2_batchnorm0_fwd -->\r\n",
       "<g id=\"edge22\" class=\"edge\"><title>mobilenetv20_features_linearbottleneck2_relu60_relu6&#45;&gt;mobilenetv20_features_linearbottleneck2_batchnorm0_fwd</title>\r\n",
       "<path fill=\"none\" stroke=\"black\" d=\"M591.263,-2387.58C591.263,-2374.28 591.263,-2359.63 591.263,-2347.3\"/>\r\n",
       "<polygon fill=\"black\" stroke=\"black\" points=\"591.263,-2397.89 586.763,-2387.89 591.263,-2392.89 591.263,-2387.89 591.263,-2387.89 591.263,-2387.89 591.263,-2392.89 595.763,-2387.89 591.263,-2397.89 591.263,-2397.89\"/>\r\n",
       "<text text-anchor=\"middle\" x=\"621.763\" y=\"-2368.8\" font-family=\"Times New Roman,serif\" font-size=\"14.00\">144x56x56</text>\r\n",
       "</g>\r\n",
       "<!-- mobilenetv20_features_linearbottleneck2_conv1_fwd -->\r\n",
       "<g id=\"node24\" class=\"node\"><title>mobilenetv20_features_linearbottleneck2_conv1_fwd</title>\r\n",
       "<ellipse fill=\"#fb8072\" stroke=\"black\" cx=\"591.263\" cy=\"-2536\" rx=\"58.8062\" ry=\"29\"/>\r\n",
       "<text text-anchor=\"middle\" x=\"591.263\" y=\"-2539.8\" font-family=\"Times New Roman,serif\" font-size=\"14.00\">Convolution</text>\r\n",
       "<text text-anchor=\"middle\" x=\"591.263\" y=\"-2524.8\" font-family=\"Times New Roman,serif\" font-size=\"14.00\">3x3/1x1, 144</text>\r\n",
       "</g>\r\n",
       "<!-- mobilenetv20_features_linearbottleneck2_conv1_fwd&#45;&gt;mobilenetv20_features_linearbottleneck2_relu60_relu6 -->\r\n",
       "<g id=\"edge23\" class=\"edge\"><title>mobilenetv20_features_linearbottleneck2_conv1_fwd&#45;&gt;mobilenetv20_features_linearbottleneck2_relu60_relu6</title>\r\n",
       "<path fill=\"none\" stroke=\"black\" d=\"M591.263,-2496.58C591.263,-2483.28 591.263,-2468.63 591.263,-2456.3\"/>\r\n",
       "<polygon fill=\"black\" stroke=\"black\" points=\"591.263,-2506.89 586.763,-2496.89 591.263,-2501.89 591.263,-2496.89 591.263,-2496.89 591.263,-2496.89 591.263,-2501.89 595.763,-2496.89 591.263,-2506.89 591.263,-2506.89\"/>\r\n",
       "<text text-anchor=\"middle\" x=\"621.763\" y=\"-2477.8\" font-family=\"Times New Roman,serif\" font-size=\"14.00\">144x56x56</text>\r\n",
       "</g>\r\n",
       "<!-- mobilenetv20_features_linearbottleneck2_batchnorm1_fwd -->\r\n",
       "<g id=\"node25\" class=\"node\"><title>mobilenetv20_features_linearbottleneck2_batchnorm1_fwd</title>\r\n",
       "<ellipse fill=\"#bebada\" stroke=\"black\" cx=\"591.263\" cy=\"-2645\" rx=\"188.991\" ry=\"29\"/>\r\n",
       "<text text-anchor=\"middle\" x=\"591.263\" y=\"-2641.3\" font-family=\"Times New Roman,serif\" font-size=\"14.00\">mobilenetv20_features_linearbottleneck2_batchnorm1_fwd</text>\r\n",
       "</g>\r\n",
       "<!-- mobilenetv20_features_linearbottleneck2_batchnorm1_fwd&#45;&gt;mobilenetv20_features_linearbottleneck2_conv1_fwd -->\r\n",
       "<g id=\"edge24\" class=\"edge\"><title>mobilenetv20_features_linearbottleneck2_batchnorm1_fwd&#45;&gt;mobilenetv20_features_linearbottleneck2_conv1_fwd</title>\r\n",
       "<path fill=\"none\" stroke=\"black\" d=\"M591.263,-2605.58C591.263,-2592.28 591.263,-2577.63 591.263,-2565.3\"/>\r\n",
       "<polygon fill=\"black\" stroke=\"black\" points=\"591.263,-2615.89 586.763,-2605.89 591.263,-2610.89 591.263,-2605.89 591.263,-2605.89 591.263,-2605.89 591.263,-2610.89 595.763,-2605.89 591.263,-2615.89 591.263,-2615.89\"/>\r\n",
       "<text text-anchor=\"middle\" x=\"621.763\" y=\"-2586.8\" font-family=\"Times New Roman,serif\" font-size=\"14.00\">144x56x56</text>\r\n",
       "</g>\r\n",
       "<!-- mobilenetv20_features_linearbottleneck2_relu61_relu6 -->\r\n",
       "<g id=\"node26\" class=\"node\"><title>mobilenetv20_features_linearbottleneck2_relu61_relu6</title>\r\n",
       "<ellipse fill=\"#fccde5\" stroke=\"black\" cx=\"591.263\" cy=\"-2754\" rx=\"173.99\" ry=\"29\"/>\r\n",
       "<text text-anchor=\"middle\" x=\"591.263\" y=\"-2750.3\" font-family=\"Times New Roman,serif\" font-size=\"14.00\">mobilenetv20_features_linearbottleneck2_relu61_relu6</text>\r\n",
       "</g>\r\n",
       "<!-- mobilenetv20_features_linearbottleneck2_relu61_relu6&#45;&gt;mobilenetv20_features_linearbottleneck2_batchnorm1_fwd -->\r\n",
       "<g id=\"edge25\" class=\"edge\"><title>mobilenetv20_features_linearbottleneck2_relu61_relu6&#45;&gt;mobilenetv20_features_linearbottleneck2_batchnorm1_fwd</title>\r\n",
       "<path fill=\"none\" stroke=\"black\" d=\"M591.263,-2714.58C591.263,-2701.28 591.263,-2686.63 591.263,-2674.3\"/>\r\n",
       "<polygon fill=\"black\" stroke=\"black\" points=\"591.263,-2724.89 586.763,-2714.89 591.263,-2719.89 591.263,-2714.89 591.263,-2714.89 591.263,-2714.89 591.263,-2719.89 595.763,-2714.89 591.263,-2724.89 591.263,-2724.89\"/>\r\n",
       "<text text-anchor=\"middle\" x=\"621.763\" y=\"-2695.8\" font-family=\"Times New Roman,serif\" font-size=\"14.00\">144x56x56</text>\r\n",
       "</g>\r\n",
       "<!-- mobilenetv20_features_linearbottleneck2_conv2_fwd -->\r\n",
       "<g id=\"node27\" class=\"node\"><title>mobilenetv20_features_linearbottleneck2_conv2_fwd</title>\r\n",
       "<ellipse fill=\"#fb8072\" stroke=\"black\" cx=\"591.263\" cy=\"-2863\" rx=\"56.8351\" ry=\"29\"/>\r\n",
       "<text text-anchor=\"middle\" x=\"591.263\" y=\"-2866.8\" font-family=\"Times New Roman,serif\" font-size=\"14.00\">Convolution</text>\r\n",
       "<text text-anchor=\"middle\" x=\"591.263\" y=\"-2851.8\" font-family=\"Times New Roman,serif\" font-size=\"14.00\">1x1/1x1, 24</text>\r\n",
       "</g>\r\n",
       "<!-- mobilenetv20_features_linearbottleneck2_conv2_fwd&#45;&gt;mobilenetv20_features_linearbottleneck2_relu61_relu6 -->\r\n",
       "<g id=\"edge26\" class=\"edge\"><title>mobilenetv20_features_linearbottleneck2_conv2_fwd&#45;&gt;mobilenetv20_features_linearbottleneck2_relu61_relu6</title>\r\n",
       "<path fill=\"none\" stroke=\"black\" d=\"M591.263,-2823.58C591.263,-2810.28 591.263,-2795.63 591.263,-2783.3\"/>\r\n",
       "<polygon fill=\"black\" stroke=\"black\" points=\"591.263,-2833.89 586.763,-2823.89 591.263,-2828.89 591.263,-2823.89 591.263,-2823.89 591.263,-2823.89 591.263,-2828.89 595.763,-2823.89 591.263,-2833.89 591.263,-2833.89\"/>\r\n",
       "<text text-anchor=\"middle\" x=\"621.763\" y=\"-2804.8\" font-family=\"Times New Roman,serif\" font-size=\"14.00\">144x56x56</text>\r\n",
       "</g>\r\n",
       "<!-- mobilenetv20_features_linearbottleneck2_batchnorm2_fwd -->\r\n",
       "<g id=\"node28\" class=\"node\"><title>mobilenetv20_features_linearbottleneck2_batchnorm2_fwd</title>\r\n",
       "<ellipse fill=\"#bebada\" stroke=\"black\" cx=\"591.263\" cy=\"-2972\" rx=\"188.991\" ry=\"29\"/>\r\n",
       "<text text-anchor=\"middle\" x=\"591.263\" y=\"-2968.3\" font-family=\"Times New Roman,serif\" font-size=\"14.00\">mobilenetv20_features_linearbottleneck2_batchnorm2_fwd</text>\r\n",
       "</g>\r\n",
       "<!-- mobilenetv20_features_linearbottleneck2_batchnorm2_fwd&#45;&gt;mobilenetv20_features_linearbottleneck2_conv2_fwd -->\r\n",
       "<g id=\"edge27\" class=\"edge\"><title>mobilenetv20_features_linearbottleneck2_batchnorm2_fwd&#45;&gt;mobilenetv20_features_linearbottleneck2_conv2_fwd</title>\r\n",
       "<path fill=\"none\" stroke=\"black\" d=\"M591.263,-2932.58C591.263,-2919.28 591.263,-2904.63 591.263,-2892.3\"/>\r\n",
       "<polygon fill=\"black\" stroke=\"black\" points=\"591.263,-2942.89 586.763,-2932.89 591.263,-2937.89 591.263,-2932.89 591.263,-2932.89 591.263,-2932.89 591.263,-2937.89 595.763,-2932.89 591.263,-2942.89 591.263,-2942.89\"/>\r\n",
       "<text text-anchor=\"middle\" x=\"618.763\" y=\"-2913.8\" font-family=\"Times New Roman,serif\" font-size=\"14.00\">24x56x56</text>\r\n",
       "</g>\r\n",
       "<!-- mobilenetv20_features_linearbottleneck2_elemwise_add0 -->\r\n",
       "<g id=\"node29\" class=\"node\"><title>mobilenetv20_features_linearbottleneck2_elemwise_add0</title>\r\n",
       "<ellipse fill=\"#fccde5\" stroke=\"black\" cx=\"390.263\" cy=\"-3081\" rx=\"183.008\" ry=\"29\"/>\r\n",
       "<text text-anchor=\"middle\" x=\"390.263\" y=\"-3077.3\" font-family=\"Times New Roman,serif\" font-size=\"14.00\">mobilenetv20_features_linearbottleneck2_elemwise_add0</text>\r\n",
       "</g>\r\n",
       "<!-- mobilenetv20_features_linearbottleneck2_elemwise_add0&#45;&gt;mobilenetv20_features_linearbottleneck1_batchnorm2_fwd -->\r\n",
       "<g id=\"edge29\" class=\"edge\"><title>mobilenetv20_features_linearbottleneck2_elemwise_add0&#45;&gt;mobilenetv20_features_linearbottleneck1_batchnorm2_fwd</title>\r\n",
       "<path fill=\"none\" stroke=\"black\" d=\"M381.812,-3042.17C377.968,-3021.78 374.263,-2996.14 374.263,-2973 374.263,-2973 374.263,-2973 374.263,-2208 374.263,-2180.01 385.955,-2150.15 396.368,-2129.1\"/>\r\n",
       "<polygon fill=\"black\" stroke=\"black\" points=\"383.755,-3052.01 377.404,-3043.07 382.787,-3047.1 381.819,-3042.2 381.819,-3042.2 381.819,-3042.2 382.787,-3047.1 386.233,-3041.33 383.755,-3052.01 383.755,-3052.01\"/>\r\n",
       "<text text-anchor=\"middle\" x=\"401.763\" y=\"-2586.8\" font-family=\"Times New Roman,serif\" font-size=\"14.00\">24x56x56</text>\r\n",
       "</g>\r\n",
       "<!-- mobilenetv20_features_linearbottleneck2_elemwise_add0&#45;&gt;mobilenetv20_features_linearbottleneck2_batchnorm2_fwd -->\r\n",
       "<g id=\"edge28\" class=\"edge\"><title>mobilenetv20_features_linearbottleneck2_elemwise_add0&#45;&gt;mobilenetv20_features_linearbottleneck2_batchnorm2_fwd</title>\r\n",
       "<path fill=\"none\" stroke=\"black\" d=\"M450.129,-3048.13C478.923,-3032.8 513.067,-3014.63 540.559,-2999.99\"/>\r\n",
       "<polygon fill=\"black\" stroke=\"black\" points=\"440.984,-3053 447.697,-3044.33 445.398,-3050.65 449.811,-3048.3 449.811,-3048.3 449.811,-3048.3 445.398,-3050.65 451.926,-3052.27 440.984,-3053 440.984,-3053\"/>\r\n",
       "<text text-anchor=\"middle\" x=\"529.763\" y=\"-3022.8\" font-family=\"Times New Roman,serif\" font-size=\"14.00\">24x56x56</text>\r\n",
       "</g>\r\n",
       "<!-- mobilenetv20_features_linearbottleneck3_conv0_fwd -->\r\n",
       "<g id=\"node30\" class=\"node\"><title>mobilenetv20_features_linearbottleneck3_conv0_fwd</title>\r\n",
       "<ellipse fill=\"#fb8072\" stroke=\"black\" cx=\"390.263\" cy=\"-3190\" rx=\"58.8062\" ry=\"29\"/>\r\n",
       "<text text-anchor=\"middle\" x=\"390.263\" y=\"-3193.8\" font-family=\"Times New Roman,serif\" font-size=\"14.00\">Convolution</text>\r\n",
       "<text text-anchor=\"middle\" x=\"390.263\" y=\"-3178.8\" font-family=\"Times New Roman,serif\" font-size=\"14.00\">1x1/1x1, 144</text>\r\n",
       "</g>\r\n",
       "<!-- mobilenetv20_features_linearbottleneck3_conv0_fwd&#45;&gt;mobilenetv20_features_linearbottleneck2_elemwise_add0 -->\r\n",
       "<g id=\"edge30\" class=\"edge\"><title>mobilenetv20_features_linearbottleneck3_conv0_fwd&#45;&gt;mobilenetv20_features_linearbottleneck2_elemwise_add0</title>\r\n",
       "<path fill=\"none\" stroke=\"black\" d=\"M390.263,-3150.58C390.263,-3137.28 390.263,-3122.63 390.263,-3110.3\"/>\r\n",
       "<polygon fill=\"black\" stroke=\"black\" points=\"390.263,-3160.89 385.763,-3150.89 390.263,-3155.89 390.263,-3150.89 390.263,-3150.89 390.263,-3150.89 390.263,-3155.89 394.763,-3150.89 390.263,-3160.89 390.263,-3160.89\"/>\r\n",
       "<text text-anchor=\"middle\" x=\"417.763\" y=\"-3131.8\" font-family=\"Times New Roman,serif\" font-size=\"14.00\">24x56x56</text>\r\n",
       "</g>\r\n",
       "<!-- mobilenetv20_features_linearbottleneck3_batchnorm0_fwd -->\r\n",
       "<g id=\"node31\" class=\"node\"><title>mobilenetv20_features_linearbottleneck3_batchnorm0_fwd</title>\r\n",
       "<ellipse fill=\"#bebada\" stroke=\"black\" cx=\"390.263\" cy=\"-3299\" rx=\"188.991\" ry=\"29\"/>\r\n",
       "<text text-anchor=\"middle\" x=\"390.263\" y=\"-3295.3\" font-family=\"Times New Roman,serif\" font-size=\"14.00\">mobilenetv20_features_linearbottleneck3_batchnorm0_fwd</text>\r\n",
       "</g>\r\n",
       "<!-- mobilenetv20_features_linearbottleneck3_batchnorm0_fwd&#45;&gt;mobilenetv20_features_linearbottleneck3_conv0_fwd -->\r\n",
       "<g id=\"edge31\" class=\"edge\"><title>mobilenetv20_features_linearbottleneck3_batchnorm0_fwd&#45;&gt;mobilenetv20_features_linearbottleneck3_conv0_fwd</title>\r\n",
       "<path fill=\"none\" stroke=\"black\" d=\"M390.263,-3259.58C390.263,-3246.28 390.263,-3231.63 390.263,-3219.3\"/>\r\n",
       "<polygon fill=\"black\" stroke=\"black\" points=\"390.263,-3269.89 385.763,-3259.89 390.263,-3264.89 390.263,-3259.89 390.263,-3259.89 390.263,-3259.89 390.263,-3264.89 394.763,-3259.89 390.263,-3269.89 390.263,-3269.89\"/>\r\n",
       "<text text-anchor=\"middle\" x=\"420.763\" y=\"-3240.8\" font-family=\"Times New Roman,serif\" font-size=\"14.00\">144x56x56</text>\r\n",
       "</g>\r\n",
       "<!-- mobilenetv20_features_linearbottleneck3_relu60_relu6 -->\r\n",
       "<g id=\"node32\" class=\"node\"><title>mobilenetv20_features_linearbottleneck3_relu60_relu6</title>\r\n",
       "<ellipse fill=\"#fccde5\" stroke=\"black\" cx=\"390.263\" cy=\"-3408\" rx=\"173.99\" ry=\"29\"/>\r\n",
       "<text text-anchor=\"middle\" x=\"390.263\" y=\"-3404.3\" font-family=\"Times New Roman,serif\" font-size=\"14.00\">mobilenetv20_features_linearbottleneck3_relu60_relu6</text>\r\n",
       "</g>\r\n",
       "<!-- mobilenetv20_features_linearbottleneck3_relu60_relu6&#45;&gt;mobilenetv20_features_linearbottleneck3_batchnorm0_fwd -->\r\n",
       "<g id=\"edge32\" class=\"edge\"><title>mobilenetv20_features_linearbottleneck3_relu60_relu6&#45;&gt;mobilenetv20_features_linearbottleneck3_batchnorm0_fwd</title>\r\n",
       "<path fill=\"none\" stroke=\"black\" d=\"M390.263,-3368.58C390.263,-3355.28 390.263,-3340.63 390.263,-3328.3\"/>\r\n",
       "<polygon fill=\"black\" stroke=\"black\" points=\"390.263,-3378.89 385.763,-3368.89 390.263,-3373.89 390.263,-3368.89 390.263,-3368.89 390.263,-3368.89 390.263,-3373.89 394.763,-3368.89 390.263,-3378.89 390.263,-3378.89\"/>\r\n",
       "<text text-anchor=\"middle\" x=\"420.763\" y=\"-3349.8\" font-family=\"Times New Roman,serif\" font-size=\"14.00\">144x56x56</text>\r\n",
       "</g>\r\n",
       "<!-- mobilenetv20_features_linearbottleneck3_conv1_fwd -->\r\n",
       "<g id=\"node33\" class=\"node\"><title>mobilenetv20_features_linearbottleneck3_conv1_fwd</title>\r\n",
       "<ellipse fill=\"#fb8072\" stroke=\"black\" cx=\"390.263\" cy=\"-3517\" rx=\"58.8062\" ry=\"29\"/>\r\n",
       "<text text-anchor=\"middle\" x=\"390.263\" y=\"-3520.8\" font-family=\"Times New Roman,serif\" font-size=\"14.00\">Convolution</text>\r\n",
       "<text text-anchor=\"middle\" x=\"390.263\" y=\"-3505.8\" font-family=\"Times New Roman,serif\" font-size=\"14.00\">3x3/2x2, 144</text>\r\n",
       "</g>\r\n",
       "<!-- mobilenetv20_features_linearbottleneck3_conv1_fwd&#45;&gt;mobilenetv20_features_linearbottleneck3_relu60_relu6 -->\r\n",
       "<g id=\"edge33\" class=\"edge\"><title>mobilenetv20_features_linearbottleneck3_conv1_fwd&#45;&gt;mobilenetv20_features_linearbottleneck3_relu60_relu6</title>\r\n",
       "<path fill=\"none\" stroke=\"black\" d=\"M390.263,-3477.58C390.263,-3464.28 390.263,-3449.63 390.263,-3437.3\"/>\r\n",
       "<polygon fill=\"black\" stroke=\"black\" points=\"390.263,-3487.89 385.763,-3477.89 390.263,-3482.89 390.263,-3477.89 390.263,-3477.89 390.263,-3477.89 390.263,-3482.89 394.763,-3477.89 390.263,-3487.89 390.263,-3487.89\"/>\r\n",
       "<text text-anchor=\"middle\" x=\"420.763\" y=\"-3458.8\" font-family=\"Times New Roman,serif\" font-size=\"14.00\">144x56x56</text>\r\n",
       "</g>\r\n",
       "<!-- mobilenetv20_features_linearbottleneck3_batchnorm1_fwd -->\r\n",
       "<g id=\"node34\" class=\"node\"><title>mobilenetv20_features_linearbottleneck3_batchnorm1_fwd</title>\r\n",
       "<ellipse fill=\"#bebada\" stroke=\"black\" cx=\"390.263\" cy=\"-3626\" rx=\"188.991\" ry=\"29\"/>\r\n",
       "<text text-anchor=\"middle\" x=\"390.263\" y=\"-3622.3\" font-family=\"Times New Roman,serif\" font-size=\"14.00\">mobilenetv20_features_linearbottleneck3_batchnorm1_fwd</text>\r\n",
       "</g>\r\n",
       "<!-- mobilenetv20_features_linearbottleneck3_batchnorm1_fwd&#45;&gt;mobilenetv20_features_linearbottleneck3_conv1_fwd -->\r\n",
       "<g id=\"edge34\" class=\"edge\"><title>mobilenetv20_features_linearbottleneck3_batchnorm1_fwd&#45;&gt;mobilenetv20_features_linearbottleneck3_conv1_fwd</title>\r\n",
       "<path fill=\"none\" stroke=\"black\" d=\"M390.263,-3586.58C390.263,-3573.28 390.263,-3558.63 390.263,-3546.3\"/>\r\n",
       "<polygon fill=\"black\" stroke=\"black\" points=\"390.263,-3596.89 385.763,-3586.89 390.263,-3591.89 390.263,-3586.89 390.263,-3586.89 390.263,-3586.89 390.263,-3591.89 394.763,-3586.89 390.263,-3596.89 390.263,-3596.89\"/>\r\n",
       "<text text-anchor=\"middle\" x=\"420.763\" y=\"-3567.8\" font-family=\"Times New Roman,serif\" font-size=\"14.00\">144x28x28</text>\r\n",
       "</g>\r\n",
       "<!-- mobilenetv20_features_linearbottleneck3_relu61_relu6 -->\r\n",
       "<g id=\"node35\" class=\"node\"><title>mobilenetv20_features_linearbottleneck3_relu61_relu6</title>\r\n",
       "<ellipse fill=\"#fccde5\" stroke=\"black\" cx=\"390.263\" cy=\"-3735\" rx=\"173.99\" ry=\"29\"/>\r\n",
       "<text text-anchor=\"middle\" x=\"390.263\" y=\"-3731.3\" font-family=\"Times New Roman,serif\" font-size=\"14.00\">mobilenetv20_features_linearbottleneck3_relu61_relu6</text>\r\n",
       "</g>\r\n",
       "<!-- mobilenetv20_features_linearbottleneck3_relu61_relu6&#45;&gt;mobilenetv20_features_linearbottleneck3_batchnorm1_fwd -->\r\n",
       "<g id=\"edge35\" class=\"edge\"><title>mobilenetv20_features_linearbottleneck3_relu61_relu6&#45;&gt;mobilenetv20_features_linearbottleneck3_batchnorm1_fwd</title>\r\n",
       "<path fill=\"none\" stroke=\"black\" d=\"M390.263,-3695.58C390.263,-3682.28 390.263,-3667.63 390.263,-3655.3\"/>\r\n",
       "<polygon fill=\"black\" stroke=\"black\" points=\"390.263,-3705.89 385.763,-3695.89 390.263,-3700.89 390.263,-3695.89 390.263,-3695.89 390.263,-3695.89 390.263,-3700.89 394.763,-3695.89 390.263,-3705.89 390.263,-3705.89\"/>\r\n",
       "<text text-anchor=\"middle\" x=\"420.763\" y=\"-3676.8\" font-family=\"Times New Roman,serif\" font-size=\"14.00\">144x28x28</text>\r\n",
       "</g>\r\n",
       "<!-- mobilenetv20_features_linearbottleneck3_conv2_fwd -->\r\n",
       "<g id=\"node36\" class=\"node\"><title>mobilenetv20_features_linearbottleneck3_conv2_fwd</title>\r\n",
       "<ellipse fill=\"#fb8072\" stroke=\"black\" cx=\"390.263\" cy=\"-3844\" rx=\"56.8351\" ry=\"29\"/>\r\n",
       "<text text-anchor=\"middle\" x=\"390.263\" y=\"-3847.8\" font-family=\"Times New Roman,serif\" font-size=\"14.00\">Convolution</text>\r\n",
       "<text text-anchor=\"middle\" x=\"390.263\" y=\"-3832.8\" font-family=\"Times New Roman,serif\" font-size=\"14.00\">1x1/1x1, 32</text>\r\n",
       "</g>\r\n",
       "<!-- mobilenetv20_features_linearbottleneck3_conv2_fwd&#45;&gt;mobilenetv20_features_linearbottleneck3_relu61_relu6 -->\r\n",
       "<g id=\"edge36\" class=\"edge\"><title>mobilenetv20_features_linearbottleneck3_conv2_fwd&#45;&gt;mobilenetv20_features_linearbottleneck3_relu61_relu6</title>\r\n",
       "<path fill=\"none\" stroke=\"black\" d=\"M390.263,-3804.58C390.263,-3791.28 390.263,-3776.63 390.263,-3764.3\"/>\r\n",
       "<polygon fill=\"black\" stroke=\"black\" points=\"390.263,-3814.89 385.763,-3804.89 390.263,-3809.89 390.263,-3804.89 390.263,-3804.89 390.263,-3804.89 390.263,-3809.89 394.763,-3804.89 390.263,-3814.89 390.263,-3814.89\"/>\r\n",
       "<text text-anchor=\"middle\" x=\"420.763\" y=\"-3785.8\" font-family=\"Times New Roman,serif\" font-size=\"14.00\">144x28x28</text>\r\n",
       "</g>\r\n",
       "<!-- mobilenetv20_features_linearbottleneck3_batchnorm2_fwd -->\r\n",
       "<g id=\"node37\" class=\"node\"><title>mobilenetv20_features_linearbottleneck3_batchnorm2_fwd</title>\r\n",
       "<ellipse fill=\"#bebada\" stroke=\"black\" cx=\"390.263\" cy=\"-3953\" rx=\"188.991\" ry=\"29\"/>\r\n",
       "<text text-anchor=\"middle\" x=\"390.263\" y=\"-3949.3\" font-family=\"Times New Roman,serif\" font-size=\"14.00\">mobilenetv20_features_linearbottleneck3_batchnorm2_fwd</text>\r\n",
       "</g>\r\n",
       "<!-- mobilenetv20_features_linearbottleneck3_batchnorm2_fwd&#45;&gt;mobilenetv20_features_linearbottleneck3_conv2_fwd -->\r\n",
       "<g id=\"edge37\" class=\"edge\"><title>mobilenetv20_features_linearbottleneck3_batchnorm2_fwd&#45;&gt;mobilenetv20_features_linearbottleneck3_conv2_fwd</title>\r\n",
       "<path fill=\"none\" stroke=\"black\" d=\"M390.263,-3913.58C390.263,-3900.28 390.263,-3885.63 390.263,-3873.3\"/>\r\n",
       "<polygon fill=\"black\" stroke=\"black\" points=\"390.263,-3923.89 385.763,-3913.89 390.263,-3918.89 390.263,-3913.89 390.263,-3913.89 390.263,-3913.89 390.263,-3918.89 394.763,-3913.89 390.263,-3923.89 390.263,-3923.89\"/>\r\n",
       "<text text-anchor=\"middle\" x=\"417.763\" y=\"-3894.8\" font-family=\"Times New Roman,serif\" font-size=\"14.00\">32x28x28</text>\r\n",
       "</g>\r\n",
       "<!-- mobilenetv20_features_linearbottleneck4_conv0_fwd -->\r\n",
       "<g id=\"node38\" class=\"node\"><title>mobilenetv20_features_linearbottleneck4_conv0_fwd</title>\r\n",
       "<ellipse fill=\"#fb8072\" stroke=\"black\" cx=\"471.263\" cy=\"-4062\" rx=\"58.8062\" ry=\"29\"/>\r\n",
       "<text text-anchor=\"middle\" x=\"471.263\" y=\"-4065.8\" font-family=\"Times New Roman,serif\" font-size=\"14.00\">Convolution</text>\r\n",
       "<text text-anchor=\"middle\" x=\"471.263\" y=\"-4050.8\" font-family=\"Times New Roman,serif\" font-size=\"14.00\">1x1/1x1, 192</text>\r\n",
       "</g>\r\n",
       "<!-- mobilenetv20_features_linearbottleneck4_conv0_fwd&#45;&gt;mobilenetv20_features_linearbottleneck3_batchnorm2_fwd -->\r\n",
       "<g id=\"edge38\" class=\"edge\"><title>mobilenetv20_features_linearbottleneck4_conv0_fwd&#45;&gt;mobilenetv20_features_linearbottleneck3_batchnorm2_fwd</title>\r\n",
       "<path fill=\"none\" stroke=\"black\" d=\"M445.053,-4026.38C434.188,-4012.02 421.748,-3995.59 411.471,-3982.01\"/>\r\n",
       "<polygon fill=\"black\" stroke=\"black\" points=\"451.241,-4034.55 441.617,-4029.29 448.223,-4030.56 445.205,-4026.58 445.205,-4026.58 445.205,-4026.58 448.223,-4030.56 448.793,-4023.86 451.241,-4034.55 451.241,-4034.55\"/>\r\n",
       "<text text-anchor=\"middle\" x=\"462.763\" y=\"-4003.8\" font-family=\"Times New Roman,serif\" font-size=\"14.00\">32x28x28</text>\r\n",
       "</g>\r\n",
       "<!-- mobilenetv20_features_linearbottleneck4_batchnorm0_fwd -->\r\n",
       "<g id=\"node39\" class=\"node\"><title>mobilenetv20_features_linearbottleneck4_batchnorm0_fwd</title>\r\n",
       "<ellipse fill=\"#bebada\" stroke=\"black\" cx=\"569.263\" cy=\"-4171\" rx=\"188.991\" ry=\"29\"/>\r\n",
       "<text text-anchor=\"middle\" x=\"569.263\" y=\"-4167.3\" font-family=\"Times New Roman,serif\" font-size=\"14.00\">mobilenetv20_features_linearbottleneck4_batchnorm0_fwd</text>\r\n",
       "</g>\r\n",
       "<!-- mobilenetv20_features_linearbottleneck4_batchnorm0_fwd&#45;&gt;mobilenetv20_features_linearbottleneck4_conv0_fwd -->\r\n",
       "<g id=\"edge39\" class=\"edge\"><title>mobilenetv20_features_linearbottleneck4_batchnorm0_fwd&#45;&gt;mobilenetv20_features_linearbottleneck4_conv0_fwd</title>\r\n",
       "<path fill=\"none\" stroke=\"black\" d=\"M536.822,-4134.58C523.143,-4119.64 507.513,-4102.58 494.946,-4088.86\"/>\r\n",
       "<polygon fill=\"black\" stroke=\"black\" points=\"543.771,-4142.17 533.698,-4137.83 540.394,-4138.48 537.017,-4134.79 537.017,-4134.79 537.017,-4134.79 540.394,-4138.48 540.335,-4131.75 543.771,-4142.17 543.771,-4142.17\"/>\r\n",
       "<text text-anchor=\"middle\" x=\"555.763\" y=\"-4112.8\" font-family=\"Times New Roman,serif\" font-size=\"14.00\">192x28x28</text>\r\n",
       "</g>\r\n",
       "<!-- mobilenetv20_features_linearbottleneck4_relu60_relu6 -->\r\n",
       "<g id=\"node40\" class=\"node\"><title>mobilenetv20_features_linearbottleneck4_relu60_relu6</title>\r\n",
       "<ellipse fill=\"#fccde5\" stroke=\"black\" cx=\"569.263\" cy=\"-4280\" rx=\"173.99\" ry=\"29\"/>\r\n",
       "<text text-anchor=\"middle\" x=\"569.263\" y=\"-4276.3\" font-family=\"Times New Roman,serif\" font-size=\"14.00\">mobilenetv20_features_linearbottleneck4_relu60_relu6</text>\r\n",
       "</g>\r\n",
       "<!-- mobilenetv20_features_linearbottleneck4_relu60_relu6&#45;&gt;mobilenetv20_features_linearbottleneck4_batchnorm0_fwd -->\r\n",
       "<g id=\"edge40\" class=\"edge\"><title>mobilenetv20_features_linearbottleneck4_relu60_relu6&#45;&gt;mobilenetv20_features_linearbottleneck4_batchnorm0_fwd</title>\r\n",
       "<path fill=\"none\" stroke=\"black\" d=\"M569.263,-4240.58C569.263,-4227.28 569.263,-4212.63 569.263,-4200.3\"/>\r\n",
       "<polygon fill=\"black\" stroke=\"black\" points=\"569.263,-4250.89 564.763,-4240.89 569.263,-4245.89 569.263,-4240.89 569.263,-4240.89 569.263,-4240.89 569.263,-4245.89 573.763,-4240.89 569.263,-4250.89 569.263,-4250.89\"/>\r\n",
       "<text text-anchor=\"middle\" x=\"599.763\" y=\"-4221.8\" font-family=\"Times New Roman,serif\" font-size=\"14.00\">192x28x28</text>\r\n",
       "</g>\r\n",
       "<!-- mobilenetv20_features_linearbottleneck4_conv1_fwd -->\r\n",
       "<g id=\"node41\" class=\"node\"><title>mobilenetv20_features_linearbottleneck4_conv1_fwd</title>\r\n",
       "<ellipse fill=\"#fb8072\" stroke=\"black\" cx=\"569.263\" cy=\"-4389\" rx=\"58.8062\" ry=\"29\"/>\r\n",
       "<text text-anchor=\"middle\" x=\"569.263\" y=\"-4392.8\" font-family=\"Times New Roman,serif\" font-size=\"14.00\">Convolution</text>\r\n",
       "<text text-anchor=\"middle\" x=\"569.263\" y=\"-4377.8\" font-family=\"Times New Roman,serif\" font-size=\"14.00\">3x3/1x1, 192</text>\r\n",
       "</g>\r\n",
       "<!-- mobilenetv20_features_linearbottleneck4_conv1_fwd&#45;&gt;mobilenetv20_features_linearbottleneck4_relu60_relu6 -->\r\n",
       "<g id=\"edge41\" class=\"edge\"><title>mobilenetv20_features_linearbottleneck4_conv1_fwd&#45;&gt;mobilenetv20_features_linearbottleneck4_relu60_relu6</title>\r\n",
       "<path fill=\"none\" stroke=\"black\" d=\"M569.263,-4349.58C569.263,-4336.28 569.263,-4321.63 569.263,-4309.3\"/>\r\n",
       "<polygon fill=\"black\" stroke=\"black\" points=\"569.263,-4359.89 564.763,-4349.89 569.263,-4354.89 569.263,-4349.89 569.263,-4349.89 569.263,-4349.89 569.263,-4354.89 573.763,-4349.89 569.263,-4359.89 569.263,-4359.89\"/>\r\n",
       "<text text-anchor=\"middle\" x=\"599.763\" y=\"-4330.8\" font-family=\"Times New Roman,serif\" font-size=\"14.00\">192x28x28</text>\r\n",
       "</g>\r\n",
       "<!-- mobilenetv20_features_linearbottleneck4_batchnorm1_fwd -->\r\n",
       "<g id=\"node42\" class=\"node\"><title>mobilenetv20_features_linearbottleneck4_batchnorm1_fwd</title>\r\n",
       "<ellipse fill=\"#bebada\" stroke=\"black\" cx=\"569.263\" cy=\"-4498\" rx=\"188.991\" ry=\"29\"/>\r\n",
       "<text text-anchor=\"middle\" x=\"569.263\" y=\"-4494.3\" font-family=\"Times New Roman,serif\" font-size=\"14.00\">mobilenetv20_features_linearbottleneck4_batchnorm1_fwd</text>\r\n",
       "</g>\r\n",
       "<!-- mobilenetv20_features_linearbottleneck4_batchnorm1_fwd&#45;&gt;mobilenetv20_features_linearbottleneck4_conv1_fwd -->\r\n",
       "<g id=\"edge42\" class=\"edge\"><title>mobilenetv20_features_linearbottleneck4_batchnorm1_fwd&#45;&gt;mobilenetv20_features_linearbottleneck4_conv1_fwd</title>\r\n",
       "<path fill=\"none\" stroke=\"black\" d=\"M569.263,-4458.58C569.263,-4445.28 569.263,-4430.63 569.263,-4418.3\"/>\r\n",
       "<polygon fill=\"black\" stroke=\"black\" points=\"569.263,-4468.89 564.763,-4458.89 569.263,-4463.89 569.263,-4458.89 569.263,-4458.89 569.263,-4458.89 569.263,-4463.89 573.763,-4458.89 569.263,-4468.89 569.263,-4468.89\"/>\r\n",
       "<text text-anchor=\"middle\" x=\"599.763\" y=\"-4439.8\" font-family=\"Times New Roman,serif\" font-size=\"14.00\">192x28x28</text>\r\n",
       "</g>\r\n",
       "<!-- mobilenetv20_features_linearbottleneck4_relu61_relu6 -->\r\n",
       "<g id=\"node43\" class=\"node\"><title>mobilenetv20_features_linearbottleneck4_relu61_relu6</title>\r\n",
       "<ellipse fill=\"#fccde5\" stroke=\"black\" cx=\"569.263\" cy=\"-4607\" rx=\"173.99\" ry=\"29\"/>\r\n",
       "<text text-anchor=\"middle\" x=\"569.263\" y=\"-4603.3\" font-family=\"Times New Roman,serif\" font-size=\"14.00\">mobilenetv20_features_linearbottleneck4_relu61_relu6</text>\r\n",
       "</g>\r\n",
       "<!-- mobilenetv20_features_linearbottleneck4_relu61_relu6&#45;&gt;mobilenetv20_features_linearbottleneck4_batchnorm1_fwd -->\r\n",
       "<g id=\"edge43\" class=\"edge\"><title>mobilenetv20_features_linearbottleneck4_relu61_relu6&#45;&gt;mobilenetv20_features_linearbottleneck4_batchnorm1_fwd</title>\r\n",
       "<path fill=\"none\" stroke=\"black\" d=\"M569.263,-4567.58C569.263,-4554.28 569.263,-4539.63 569.263,-4527.3\"/>\r\n",
       "<polygon fill=\"black\" stroke=\"black\" points=\"569.263,-4577.89 564.763,-4567.89 569.263,-4572.89 569.263,-4567.89 569.263,-4567.89 569.263,-4567.89 569.263,-4572.89 573.763,-4567.89 569.263,-4577.89 569.263,-4577.89\"/>\r\n",
       "<text text-anchor=\"middle\" x=\"599.763\" y=\"-4548.8\" font-family=\"Times New Roman,serif\" font-size=\"14.00\">192x28x28</text>\r\n",
       "</g>\r\n",
       "<!-- mobilenetv20_features_linearbottleneck4_conv2_fwd -->\r\n",
       "<g id=\"node44\" class=\"node\"><title>mobilenetv20_features_linearbottleneck4_conv2_fwd</title>\r\n",
       "<ellipse fill=\"#fb8072\" stroke=\"black\" cx=\"569.263\" cy=\"-4716\" rx=\"56.8351\" ry=\"29\"/>\r\n",
       "<text text-anchor=\"middle\" x=\"569.263\" y=\"-4719.8\" font-family=\"Times New Roman,serif\" font-size=\"14.00\">Convolution</text>\r\n",
       "<text text-anchor=\"middle\" x=\"569.263\" y=\"-4704.8\" font-family=\"Times New Roman,serif\" font-size=\"14.00\">1x1/1x1, 32</text>\r\n",
       "</g>\r\n",
       "<!-- mobilenetv20_features_linearbottleneck4_conv2_fwd&#45;&gt;mobilenetv20_features_linearbottleneck4_relu61_relu6 -->\r\n",
       "<g id=\"edge44\" class=\"edge\"><title>mobilenetv20_features_linearbottleneck4_conv2_fwd&#45;&gt;mobilenetv20_features_linearbottleneck4_relu61_relu6</title>\r\n",
       "<path fill=\"none\" stroke=\"black\" d=\"M569.263,-4676.58C569.263,-4663.28 569.263,-4648.63 569.263,-4636.3\"/>\r\n",
       "<polygon fill=\"black\" stroke=\"black\" points=\"569.263,-4686.89 564.763,-4676.89 569.263,-4681.89 569.263,-4676.89 569.263,-4676.89 569.263,-4676.89 569.263,-4681.89 573.763,-4676.89 569.263,-4686.89 569.263,-4686.89\"/>\r\n",
       "<text text-anchor=\"middle\" x=\"599.763\" y=\"-4657.8\" font-family=\"Times New Roman,serif\" font-size=\"14.00\">192x28x28</text>\r\n",
       "</g>\r\n",
       "<!-- mobilenetv20_features_linearbottleneck4_batchnorm2_fwd -->\r\n",
       "<g id=\"node45\" class=\"node\"><title>mobilenetv20_features_linearbottleneck4_batchnorm2_fwd</title>\r\n",
       "<ellipse fill=\"#bebada\" stroke=\"black\" cx=\"569.263\" cy=\"-4825\" rx=\"188.991\" ry=\"29\"/>\r\n",
       "<text text-anchor=\"middle\" x=\"569.263\" y=\"-4821.3\" font-family=\"Times New Roman,serif\" font-size=\"14.00\">mobilenetv20_features_linearbottleneck4_batchnorm2_fwd</text>\r\n",
       "</g>\r\n",
       "<!-- mobilenetv20_features_linearbottleneck4_batchnorm2_fwd&#45;&gt;mobilenetv20_features_linearbottleneck4_conv2_fwd -->\r\n",
       "<g id=\"edge45\" class=\"edge\"><title>mobilenetv20_features_linearbottleneck4_batchnorm2_fwd&#45;&gt;mobilenetv20_features_linearbottleneck4_conv2_fwd</title>\r\n",
       "<path fill=\"none\" stroke=\"black\" d=\"M569.263,-4785.58C569.263,-4772.28 569.263,-4757.63 569.263,-4745.3\"/>\r\n",
       "<polygon fill=\"black\" stroke=\"black\" points=\"569.263,-4795.89 564.763,-4785.89 569.263,-4790.89 569.263,-4785.89 569.263,-4785.89 569.263,-4785.89 569.263,-4790.89 573.763,-4785.89 569.263,-4795.89 569.263,-4795.89\"/>\r\n",
       "<text text-anchor=\"middle\" x=\"596.763\" y=\"-4766.8\" font-family=\"Times New Roman,serif\" font-size=\"14.00\">32x28x28</text>\r\n",
       "</g>\r\n",
       "<!-- mobilenetv20_features_linearbottleneck4_elemwise_add0 -->\r\n",
       "<g id=\"node46\" class=\"node\"><title>mobilenetv20_features_linearbottleneck4_elemwise_add0</title>\r\n",
       "<ellipse fill=\"#fccde5\" stroke=\"black\" cx=\"368.263\" cy=\"-4934\" rx=\"183.008\" ry=\"29\"/>\r\n",
       "<text text-anchor=\"middle\" x=\"368.263\" y=\"-4930.3\" font-family=\"Times New Roman,serif\" font-size=\"14.00\">mobilenetv20_features_linearbottleneck4_elemwise_add0</text>\r\n",
       "</g>\r\n",
       "<!-- mobilenetv20_features_linearbottleneck4_elemwise_add0&#45;&gt;mobilenetv20_features_linearbottleneck3_batchnorm2_fwd -->\r\n",
       "<g id=\"edge47\" class=\"edge\"><title>mobilenetv20_features_linearbottleneck4_elemwise_add0&#45;&gt;mobilenetv20_features_linearbottleneck3_batchnorm2_fwd</title>\r\n",
       "<path fill=\"none\" stroke=\"black\" d=\"M359.812,-4895.17C355.968,-4874.78 352.263,-4849.14 352.263,-4826 352.263,-4826 352.263,-4826 352.263,-4061 352.263,-4033.01 363.955,-4003.15 374.368,-3982.1\"/>\r\n",
       "<polygon fill=\"black\" stroke=\"black\" points=\"361.755,-4905.01 355.404,-4896.07 360.787,-4900.1 359.819,-4895.2 359.819,-4895.2 359.819,-4895.2 360.787,-4900.1 364.233,-4894.33 361.755,-4905.01 361.755,-4905.01\"/>\r\n",
       "<text text-anchor=\"middle\" x=\"379.763\" y=\"-4439.8\" font-family=\"Times New Roman,serif\" font-size=\"14.00\">32x28x28</text>\r\n",
       "</g>\r\n",
       "<!-- mobilenetv20_features_linearbottleneck4_elemwise_add0&#45;&gt;mobilenetv20_features_linearbottleneck4_batchnorm2_fwd -->\r\n",
       "<g id=\"edge46\" class=\"edge\"><title>mobilenetv20_features_linearbottleneck4_elemwise_add0&#45;&gt;mobilenetv20_features_linearbottleneck4_batchnorm2_fwd</title>\r\n",
       "<path fill=\"none\" stroke=\"black\" d=\"M428.129,-4901.13C456.923,-4885.8 491.067,-4867.63 518.559,-4852.99\"/>\r\n",
       "<polygon fill=\"black\" stroke=\"black\" points=\"418.984,-4906 425.697,-4897.33 423.398,-4903.65 427.811,-4901.3 427.811,-4901.3 427.811,-4901.3 423.398,-4903.65 429.926,-4905.27 418.984,-4906 418.984,-4906\"/>\r\n",
       "<text text-anchor=\"middle\" x=\"507.763\" y=\"-4875.8\" font-family=\"Times New Roman,serif\" font-size=\"14.00\">32x28x28</text>\r\n",
       "</g>\r\n",
       "<!-- mobilenetv20_features_linearbottleneck5_conv0_fwd -->\r\n",
       "<g id=\"node47\" class=\"node\"><title>mobilenetv20_features_linearbottleneck5_conv0_fwd</title>\r\n",
       "<ellipse fill=\"#fb8072\" stroke=\"black\" cx=\"449.263\" cy=\"-5043\" rx=\"58.8062\" ry=\"29\"/>\r\n",
       "<text text-anchor=\"middle\" x=\"449.263\" y=\"-5046.8\" font-family=\"Times New Roman,serif\" font-size=\"14.00\">Convolution</text>\r\n",
       "<text text-anchor=\"middle\" x=\"449.263\" y=\"-5031.8\" font-family=\"Times New Roman,serif\" font-size=\"14.00\">1x1/1x1, 192</text>\r\n",
       "</g>\r\n",
       "<!-- mobilenetv20_features_linearbottleneck5_conv0_fwd&#45;&gt;mobilenetv20_features_linearbottleneck4_elemwise_add0 -->\r\n",
       "<g id=\"edge48\" class=\"edge\"><title>mobilenetv20_features_linearbottleneck5_conv0_fwd&#45;&gt;mobilenetv20_features_linearbottleneck4_elemwise_add0</title>\r\n",
       "<path fill=\"none\" stroke=\"black\" d=\"M423.053,-5007.38C412.188,-4993.02 399.748,-4976.59 389.471,-4963.01\"/>\r\n",
       "<polygon fill=\"black\" stroke=\"black\" points=\"429.241,-5015.55 419.617,-5010.29 426.223,-5011.56 423.205,-5007.58 423.205,-5007.58 423.205,-5007.58 426.223,-5011.56 426.793,-5004.86 429.241,-5015.55 429.241,-5015.55\"/>\r\n",
       "<text text-anchor=\"middle\" x=\"440.763\" y=\"-4984.8\" font-family=\"Times New Roman,serif\" font-size=\"14.00\">32x28x28</text>\r\n",
       "</g>\r\n",
       "<!-- mobilenetv20_features_linearbottleneck5_batchnorm0_fwd -->\r\n",
       "<g id=\"node48\" class=\"node\"><title>mobilenetv20_features_linearbottleneck5_batchnorm0_fwd</title>\r\n",
       "<ellipse fill=\"#bebada\" stroke=\"black\" cx=\"547.263\" cy=\"-5152\" rx=\"188.991\" ry=\"29\"/>\r\n",
       "<text text-anchor=\"middle\" x=\"547.263\" y=\"-5148.3\" font-family=\"Times New Roman,serif\" font-size=\"14.00\">mobilenetv20_features_linearbottleneck5_batchnorm0_fwd</text>\r\n",
       "</g>\r\n",
       "<!-- mobilenetv20_features_linearbottleneck5_batchnorm0_fwd&#45;&gt;mobilenetv20_features_linearbottleneck5_conv0_fwd -->\r\n",
       "<g id=\"edge49\" class=\"edge\"><title>mobilenetv20_features_linearbottleneck5_batchnorm0_fwd&#45;&gt;mobilenetv20_features_linearbottleneck5_conv0_fwd</title>\r\n",
       "<path fill=\"none\" stroke=\"black\" d=\"M514.822,-5115.58C501.143,-5100.64 485.513,-5083.58 472.946,-5069.86\"/>\r\n",
       "<polygon fill=\"black\" stroke=\"black\" points=\"521.771,-5123.17 511.698,-5118.83 518.394,-5119.48 515.017,-5115.79 515.017,-5115.79 515.017,-5115.79 518.394,-5119.48 518.335,-5112.75 521.771,-5123.17 521.771,-5123.17\"/>\r\n",
       "<text text-anchor=\"middle\" x=\"533.763\" y=\"-5093.8\" font-family=\"Times New Roman,serif\" font-size=\"14.00\">192x28x28</text>\r\n",
       "</g>\r\n",
       "<!-- mobilenetv20_features_linearbottleneck5_relu60_relu6 -->\r\n",
       "<g id=\"node49\" class=\"node\"><title>mobilenetv20_features_linearbottleneck5_relu60_relu6</title>\r\n",
       "<ellipse fill=\"#fccde5\" stroke=\"black\" cx=\"547.263\" cy=\"-5261\" rx=\"173.99\" ry=\"29\"/>\r\n",
       "<text text-anchor=\"middle\" x=\"547.263\" y=\"-5257.3\" font-family=\"Times New Roman,serif\" font-size=\"14.00\">mobilenetv20_features_linearbottleneck5_relu60_relu6</text>\r\n",
       "</g>\r\n",
       "<!-- mobilenetv20_features_linearbottleneck5_relu60_relu6&#45;&gt;mobilenetv20_features_linearbottleneck5_batchnorm0_fwd -->\r\n",
       "<g id=\"edge50\" class=\"edge\"><title>mobilenetv20_features_linearbottleneck5_relu60_relu6&#45;&gt;mobilenetv20_features_linearbottleneck5_batchnorm0_fwd</title>\r\n",
       "<path fill=\"none\" stroke=\"black\" d=\"M547.263,-5221.58C547.263,-5208.28 547.263,-5193.63 547.263,-5181.3\"/>\r\n",
       "<polygon fill=\"black\" stroke=\"black\" points=\"547.263,-5231.89 542.763,-5221.89 547.263,-5226.89 547.263,-5221.89 547.263,-5221.89 547.263,-5221.89 547.263,-5226.89 551.763,-5221.89 547.263,-5231.89 547.263,-5231.89\"/>\r\n",
       "<text text-anchor=\"middle\" x=\"577.763\" y=\"-5202.8\" font-family=\"Times New Roman,serif\" font-size=\"14.00\">192x28x28</text>\r\n",
       "</g>\r\n",
       "<!-- mobilenetv20_features_linearbottleneck5_conv1_fwd -->\r\n",
       "<g id=\"node50\" class=\"node\"><title>mobilenetv20_features_linearbottleneck5_conv1_fwd</title>\r\n",
       "<ellipse fill=\"#fb8072\" stroke=\"black\" cx=\"547.263\" cy=\"-5370\" rx=\"58.8062\" ry=\"29\"/>\r\n",
       "<text text-anchor=\"middle\" x=\"547.263\" y=\"-5373.8\" font-family=\"Times New Roman,serif\" font-size=\"14.00\">Convolution</text>\r\n",
       "<text text-anchor=\"middle\" x=\"547.263\" y=\"-5358.8\" font-family=\"Times New Roman,serif\" font-size=\"14.00\">3x3/1x1, 192</text>\r\n",
       "</g>\r\n",
       "<!-- mobilenetv20_features_linearbottleneck5_conv1_fwd&#45;&gt;mobilenetv20_features_linearbottleneck5_relu60_relu6 -->\r\n",
       "<g id=\"edge51\" class=\"edge\"><title>mobilenetv20_features_linearbottleneck5_conv1_fwd&#45;&gt;mobilenetv20_features_linearbottleneck5_relu60_relu6</title>\r\n",
       "<path fill=\"none\" stroke=\"black\" d=\"M547.263,-5330.58C547.263,-5317.28 547.263,-5302.63 547.263,-5290.3\"/>\r\n",
       "<polygon fill=\"black\" stroke=\"black\" points=\"547.263,-5340.89 542.763,-5330.89 547.263,-5335.89 547.263,-5330.89 547.263,-5330.89 547.263,-5330.89 547.263,-5335.89 551.763,-5330.89 547.263,-5340.89 547.263,-5340.89\"/>\r\n",
       "<text text-anchor=\"middle\" x=\"577.763\" y=\"-5311.8\" font-family=\"Times New Roman,serif\" font-size=\"14.00\">192x28x28</text>\r\n",
       "</g>\r\n",
       "<!-- mobilenetv20_features_linearbottleneck5_batchnorm1_fwd -->\r\n",
       "<g id=\"node51\" class=\"node\"><title>mobilenetv20_features_linearbottleneck5_batchnorm1_fwd</title>\r\n",
       "<ellipse fill=\"#bebada\" stroke=\"black\" cx=\"547.263\" cy=\"-5479\" rx=\"188.991\" ry=\"29\"/>\r\n",
       "<text text-anchor=\"middle\" x=\"547.263\" y=\"-5475.3\" font-family=\"Times New Roman,serif\" font-size=\"14.00\">mobilenetv20_features_linearbottleneck5_batchnorm1_fwd</text>\r\n",
       "</g>\r\n",
       "<!-- mobilenetv20_features_linearbottleneck5_batchnorm1_fwd&#45;&gt;mobilenetv20_features_linearbottleneck5_conv1_fwd -->\r\n",
       "<g id=\"edge52\" class=\"edge\"><title>mobilenetv20_features_linearbottleneck5_batchnorm1_fwd&#45;&gt;mobilenetv20_features_linearbottleneck5_conv1_fwd</title>\r\n",
       "<path fill=\"none\" stroke=\"black\" d=\"M547.263,-5439.58C547.263,-5426.28 547.263,-5411.63 547.263,-5399.3\"/>\r\n",
       "<polygon fill=\"black\" stroke=\"black\" points=\"547.263,-5449.89 542.763,-5439.89 547.263,-5444.89 547.263,-5439.89 547.263,-5439.89 547.263,-5439.89 547.263,-5444.89 551.763,-5439.89 547.263,-5449.89 547.263,-5449.89\"/>\r\n",
       "<text text-anchor=\"middle\" x=\"577.763\" y=\"-5420.8\" font-family=\"Times New Roman,serif\" font-size=\"14.00\">192x28x28</text>\r\n",
       "</g>\r\n",
       "<!-- mobilenetv20_features_linearbottleneck5_relu61_relu6 -->\r\n",
       "<g id=\"node52\" class=\"node\"><title>mobilenetv20_features_linearbottleneck5_relu61_relu6</title>\r\n",
       "<ellipse fill=\"#fccde5\" stroke=\"black\" cx=\"547.263\" cy=\"-5588\" rx=\"173.99\" ry=\"29\"/>\r\n",
       "<text text-anchor=\"middle\" x=\"547.263\" y=\"-5584.3\" font-family=\"Times New Roman,serif\" font-size=\"14.00\">mobilenetv20_features_linearbottleneck5_relu61_relu6</text>\r\n",
       "</g>\r\n",
       "<!-- mobilenetv20_features_linearbottleneck5_relu61_relu6&#45;&gt;mobilenetv20_features_linearbottleneck5_batchnorm1_fwd -->\r\n",
       "<g id=\"edge53\" class=\"edge\"><title>mobilenetv20_features_linearbottleneck5_relu61_relu6&#45;&gt;mobilenetv20_features_linearbottleneck5_batchnorm1_fwd</title>\r\n",
       "<path fill=\"none\" stroke=\"black\" d=\"M547.263,-5548.58C547.263,-5535.28 547.263,-5520.63 547.263,-5508.3\"/>\r\n",
       "<polygon fill=\"black\" stroke=\"black\" points=\"547.263,-5558.89 542.763,-5548.89 547.263,-5553.89 547.263,-5548.89 547.263,-5548.89 547.263,-5548.89 547.263,-5553.89 551.763,-5548.89 547.263,-5558.89 547.263,-5558.89\"/>\r\n",
       "<text text-anchor=\"middle\" x=\"577.763\" y=\"-5529.8\" font-family=\"Times New Roman,serif\" font-size=\"14.00\">192x28x28</text>\r\n",
       "</g>\r\n",
       "<!-- mobilenetv20_features_linearbottleneck5_conv2_fwd -->\r\n",
       "<g id=\"node53\" class=\"node\"><title>mobilenetv20_features_linearbottleneck5_conv2_fwd</title>\r\n",
       "<ellipse fill=\"#fb8072\" stroke=\"black\" cx=\"547.263\" cy=\"-5697\" rx=\"56.8351\" ry=\"29\"/>\r\n",
       "<text text-anchor=\"middle\" x=\"547.263\" y=\"-5700.8\" font-family=\"Times New Roman,serif\" font-size=\"14.00\">Convolution</text>\r\n",
       "<text text-anchor=\"middle\" x=\"547.263\" y=\"-5685.8\" font-family=\"Times New Roman,serif\" font-size=\"14.00\">1x1/1x1, 32</text>\r\n",
       "</g>\r\n",
       "<!-- mobilenetv20_features_linearbottleneck5_conv2_fwd&#45;&gt;mobilenetv20_features_linearbottleneck5_relu61_relu6 -->\r\n",
       "<g id=\"edge54\" class=\"edge\"><title>mobilenetv20_features_linearbottleneck5_conv2_fwd&#45;&gt;mobilenetv20_features_linearbottleneck5_relu61_relu6</title>\r\n",
       "<path fill=\"none\" stroke=\"black\" d=\"M547.263,-5657.58C547.263,-5644.28 547.263,-5629.63 547.263,-5617.3\"/>\r\n",
       "<polygon fill=\"black\" stroke=\"black\" points=\"547.263,-5667.89 542.763,-5657.89 547.263,-5662.89 547.263,-5657.89 547.263,-5657.89 547.263,-5657.89 547.263,-5662.89 551.763,-5657.89 547.263,-5667.89 547.263,-5667.89\"/>\r\n",
       "<text text-anchor=\"middle\" x=\"577.763\" y=\"-5638.8\" font-family=\"Times New Roman,serif\" font-size=\"14.00\">192x28x28</text>\r\n",
       "</g>\r\n",
       "<!-- mobilenetv20_features_linearbottleneck5_batchnorm2_fwd -->\r\n",
       "<g id=\"node54\" class=\"node\"><title>mobilenetv20_features_linearbottleneck5_batchnorm2_fwd</title>\r\n",
       "<ellipse fill=\"#bebada\" stroke=\"black\" cx=\"547.263\" cy=\"-5806\" rx=\"188.991\" ry=\"29\"/>\r\n",
       "<text text-anchor=\"middle\" x=\"547.263\" y=\"-5802.3\" font-family=\"Times New Roman,serif\" font-size=\"14.00\">mobilenetv20_features_linearbottleneck5_batchnorm2_fwd</text>\r\n",
       "</g>\r\n",
       "<!-- mobilenetv20_features_linearbottleneck5_batchnorm2_fwd&#45;&gt;mobilenetv20_features_linearbottleneck5_conv2_fwd -->\r\n",
       "<g id=\"edge55\" class=\"edge\"><title>mobilenetv20_features_linearbottleneck5_batchnorm2_fwd&#45;&gt;mobilenetv20_features_linearbottleneck5_conv2_fwd</title>\r\n",
       "<path fill=\"none\" stroke=\"black\" d=\"M547.263,-5766.58C547.263,-5753.28 547.263,-5738.63 547.263,-5726.3\"/>\r\n",
       "<polygon fill=\"black\" stroke=\"black\" points=\"547.263,-5776.89 542.763,-5766.89 547.263,-5771.89 547.263,-5766.89 547.263,-5766.89 547.263,-5766.89 547.263,-5771.89 551.763,-5766.89 547.263,-5776.89 547.263,-5776.89\"/>\r\n",
       "<text text-anchor=\"middle\" x=\"574.763\" y=\"-5747.8\" font-family=\"Times New Roman,serif\" font-size=\"14.00\">32x28x28</text>\r\n",
       "</g>\r\n",
       "<!-- mobilenetv20_features_linearbottleneck5_elemwise_add0 -->\r\n",
       "<g id=\"node55\" class=\"node\"><title>mobilenetv20_features_linearbottleneck5_elemwise_add0</title>\r\n",
       "<ellipse fill=\"#fccde5\" stroke=\"black\" cx=\"346.263\" cy=\"-5915\" rx=\"183.008\" ry=\"29\"/>\r\n",
       "<text text-anchor=\"middle\" x=\"346.263\" y=\"-5911.3\" font-family=\"Times New Roman,serif\" font-size=\"14.00\">mobilenetv20_features_linearbottleneck5_elemwise_add0</text>\r\n",
       "</g>\r\n",
       "<!-- mobilenetv20_features_linearbottleneck5_elemwise_add0&#45;&gt;mobilenetv20_features_linearbottleneck4_elemwise_add0 -->\r\n",
       "<g id=\"edge57\" class=\"edge\"><title>mobilenetv20_features_linearbottleneck5_elemwise_add0&#45;&gt;mobilenetv20_features_linearbottleneck4_elemwise_add0</title>\r\n",
       "<path fill=\"none\" stroke=\"black\" d=\"M337.812,-5876.17C333.968,-5855.78 330.263,-5830.14 330.263,-5807 330.263,-5807 330.263,-5807 330.263,-5042 330.263,-5014.01 341.955,-4984.15 352.368,-4963.1\"/>\r\n",
       "<polygon fill=\"black\" stroke=\"black\" points=\"339.755,-5886.01 333.404,-5877.07 338.787,-5881.1 337.819,-5876.2 337.819,-5876.2 337.819,-5876.2 338.787,-5881.1 342.233,-5875.33 339.755,-5886.01 339.755,-5886.01\"/>\r\n",
       "<text text-anchor=\"middle\" x=\"357.763\" y=\"-5420.8\" font-family=\"Times New Roman,serif\" font-size=\"14.00\">32x28x28</text>\r\n",
       "</g>\r\n",
       "<!-- mobilenetv20_features_linearbottleneck5_elemwise_add0&#45;&gt;mobilenetv20_features_linearbottleneck5_batchnorm2_fwd -->\r\n",
       "<g id=\"edge56\" class=\"edge\"><title>mobilenetv20_features_linearbottleneck5_elemwise_add0&#45;&gt;mobilenetv20_features_linearbottleneck5_batchnorm2_fwd</title>\r\n",
       "<path fill=\"none\" stroke=\"black\" d=\"M406.129,-5882.13C434.923,-5866.8 469.067,-5848.63 496.559,-5833.99\"/>\r\n",
       "<polygon fill=\"black\" stroke=\"black\" points=\"396.984,-5887 403.697,-5878.33 401.398,-5884.65 405.811,-5882.3 405.811,-5882.3 405.811,-5882.3 401.398,-5884.65 407.926,-5886.27 396.984,-5887 396.984,-5887\"/>\r\n",
       "<text text-anchor=\"middle\" x=\"485.763\" y=\"-5856.8\" font-family=\"Times New Roman,serif\" font-size=\"14.00\">32x28x28</text>\r\n",
       "</g>\r\n",
       "<!-- mobilenetv20_features_linearbottleneck6_conv0_fwd -->\r\n",
       "<g id=\"node56\" class=\"node\"><title>mobilenetv20_features_linearbottleneck6_conv0_fwd</title>\r\n",
       "<ellipse fill=\"#fb8072\" stroke=\"black\" cx=\"346.263\" cy=\"-6024\" rx=\"58.8062\" ry=\"29\"/>\r\n",
       "<text text-anchor=\"middle\" x=\"346.263\" y=\"-6027.8\" font-family=\"Times New Roman,serif\" font-size=\"14.00\">Convolution</text>\r\n",
       "<text text-anchor=\"middle\" x=\"346.263\" y=\"-6012.8\" font-family=\"Times New Roman,serif\" font-size=\"14.00\">1x1/1x1, 192</text>\r\n",
       "</g>\r\n",
       "<!-- mobilenetv20_features_linearbottleneck6_conv0_fwd&#45;&gt;mobilenetv20_features_linearbottleneck5_elemwise_add0 -->\r\n",
       "<g id=\"edge58\" class=\"edge\"><title>mobilenetv20_features_linearbottleneck6_conv0_fwd&#45;&gt;mobilenetv20_features_linearbottleneck5_elemwise_add0</title>\r\n",
       "<path fill=\"none\" stroke=\"black\" d=\"M346.263,-5984.58C346.263,-5971.28 346.263,-5956.63 346.263,-5944.3\"/>\r\n",
       "<polygon fill=\"black\" stroke=\"black\" points=\"346.263,-5994.89 341.763,-5984.89 346.263,-5989.89 346.263,-5984.89 346.263,-5984.89 346.263,-5984.89 346.263,-5989.89 350.763,-5984.89 346.263,-5994.89 346.263,-5994.89\"/>\r\n",
       "<text text-anchor=\"middle\" x=\"373.763\" y=\"-5965.8\" font-family=\"Times New Roman,serif\" font-size=\"14.00\">32x28x28</text>\r\n",
       "</g>\r\n",
       "<!-- mobilenetv20_features_linearbottleneck6_batchnorm0_fwd -->\r\n",
       "<g id=\"node57\" class=\"node\"><title>mobilenetv20_features_linearbottleneck6_batchnorm0_fwd</title>\r\n",
       "<ellipse fill=\"#bebada\" stroke=\"black\" cx=\"346.263\" cy=\"-6133\" rx=\"188.991\" ry=\"29\"/>\r\n",
       "<text text-anchor=\"middle\" x=\"346.263\" y=\"-6129.3\" font-family=\"Times New Roman,serif\" font-size=\"14.00\">mobilenetv20_features_linearbottleneck6_batchnorm0_fwd</text>\r\n",
       "</g>\r\n",
       "<!-- mobilenetv20_features_linearbottleneck6_batchnorm0_fwd&#45;&gt;mobilenetv20_features_linearbottleneck6_conv0_fwd -->\r\n",
       "<g id=\"edge59\" class=\"edge\"><title>mobilenetv20_features_linearbottleneck6_batchnorm0_fwd&#45;&gt;mobilenetv20_features_linearbottleneck6_conv0_fwd</title>\r\n",
       "<path fill=\"none\" stroke=\"black\" d=\"M346.263,-6093.58C346.263,-6080.28 346.263,-6065.63 346.263,-6053.3\"/>\r\n",
       "<polygon fill=\"black\" stroke=\"black\" points=\"346.263,-6103.89 341.763,-6093.89 346.263,-6098.89 346.263,-6093.89 346.263,-6093.89 346.263,-6093.89 346.263,-6098.89 350.763,-6093.89 346.263,-6103.89 346.263,-6103.89\"/>\r\n",
       "<text text-anchor=\"middle\" x=\"376.763\" y=\"-6074.8\" font-family=\"Times New Roman,serif\" font-size=\"14.00\">192x28x28</text>\r\n",
       "</g>\r\n",
       "<!-- mobilenetv20_features_linearbottleneck6_relu60_relu6 -->\r\n",
       "<g id=\"node58\" class=\"node\"><title>mobilenetv20_features_linearbottleneck6_relu60_relu6</title>\r\n",
       "<ellipse fill=\"#fccde5\" stroke=\"black\" cx=\"346.263\" cy=\"-6242\" rx=\"173.99\" ry=\"29\"/>\r\n",
       "<text text-anchor=\"middle\" x=\"346.263\" y=\"-6238.3\" font-family=\"Times New Roman,serif\" font-size=\"14.00\">mobilenetv20_features_linearbottleneck6_relu60_relu6</text>\r\n",
       "</g>\r\n",
       "<!-- mobilenetv20_features_linearbottleneck6_relu60_relu6&#45;&gt;mobilenetv20_features_linearbottleneck6_batchnorm0_fwd -->\r\n",
       "<g id=\"edge60\" class=\"edge\"><title>mobilenetv20_features_linearbottleneck6_relu60_relu6&#45;&gt;mobilenetv20_features_linearbottleneck6_batchnorm0_fwd</title>\r\n",
       "<path fill=\"none\" stroke=\"black\" d=\"M346.263,-6202.58C346.263,-6189.28 346.263,-6174.63 346.263,-6162.3\"/>\r\n",
       "<polygon fill=\"black\" stroke=\"black\" points=\"346.263,-6212.89 341.763,-6202.89 346.263,-6207.89 346.263,-6202.89 346.263,-6202.89 346.263,-6202.89 346.263,-6207.89 350.763,-6202.89 346.263,-6212.89 346.263,-6212.89\"/>\r\n",
       "<text text-anchor=\"middle\" x=\"376.763\" y=\"-6183.8\" font-family=\"Times New Roman,serif\" font-size=\"14.00\">192x28x28</text>\r\n",
       "</g>\r\n",
       "<!-- mobilenetv20_features_linearbottleneck6_conv1_fwd -->\r\n",
       "<g id=\"node59\" class=\"node\"><title>mobilenetv20_features_linearbottleneck6_conv1_fwd</title>\r\n",
       "<ellipse fill=\"#fb8072\" stroke=\"black\" cx=\"346.263\" cy=\"-6351\" rx=\"58.8062\" ry=\"29\"/>\r\n",
       "<text text-anchor=\"middle\" x=\"346.263\" y=\"-6354.8\" font-family=\"Times New Roman,serif\" font-size=\"14.00\">Convolution</text>\r\n",
       "<text text-anchor=\"middle\" x=\"346.263\" y=\"-6339.8\" font-family=\"Times New Roman,serif\" font-size=\"14.00\">3x3/2x2, 192</text>\r\n",
       "</g>\r\n",
       "<!-- mobilenetv20_features_linearbottleneck6_conv1_fwd&#45;&gt;mobilenetv20_features_linearbottleneck6_relu60_relu6 -->\r\n",
       "<g id=\"edge61\" class=\"edge\"><title>mobilenetv20_features_linearbottleneck6_conv1_fwd&#45;&gt;mobilenetv20_features_linearbottleneck6_relu60_relu6</title>\r\n",
       "<path fill=\"none\" stroke=\"black\" d=\"M346.263,-6311.58C346.263,-6298.28 346.263,-6283.63 346.263,-6271.3\"/>\r\n",
       "<polygon fill=\"black\" stroke=\"black\" points=\"346.263,-6321.89 341.763,-6311.89 346.263,-6316.89 346.263,-6311.89 346.263,-6311.89 346.263,-6311.89 346.263,-6316.89 350.763,-6311.89 346.263,-6321.89 346.263,-6321.89\"/>\r\n",
       "<text text-anchor=\"middle\" x=\"376.763\" y=\"-6292.8\" font-family=\"Times New Roman,serif\" font-size=\"14.00\">192x28x28</text>\r\n",
       "</g>\r\n",
       "<!-- mobilenetv20_features_linearbottleneck6_batchnorm1_fwd -->\r\n",
       "<g id=\"node60\" class=\"node\"><title>mobilenetv20_features_linearbottleneck6_batchnorm1_fwd</title>\r\n",
       "<ellipse fill=\"#bebada\" stroke=\"black\" cx=\"346.263\" cy=\"-6460\" rx=\"188.991\" ry=\"29\"/>\r\n",
       "<text text-anchor=\"middle\" x=\"346.263\" y=\"-6456.3\" font-family=\"Times New Roman,serif\" font-size=\"14.00\">mobilenetv20_features_linearbottleneck6_batchnorm1_fwd</text>\r\n",
       "</g>\r\n",
       "<!-- mobilenetv20_features_linearbottleneck6_batchnorm1_fwd&#45;&gt;mobilenetv20_features_linearbottleneck6_conv1_fwd -->\r\n",
       "<g id=\"edge62\" class=\"edge\"><title>mobilenetv20_features_linearbottleneck6_batchnorm1_fwd&#45;&gt;mobilenetv20_features_linearbottleneck6_conv1_fwd</title>\r\n",
       "<path fill=\"none\" stroke=\"black\" d=\"M346.263,-6420.58C346.263,-6407.28 346.263,-6392.63 346.263,-6380.3\"/>\r\n",
       "<polygon fill=\"black\" stroke=\"black\" points=\"346.263,-6430.89 341.763,-6420.89 346.263,-6425.89 346.263,-6420.89 346.263,-6420.89 346.263,-6420.89 346.263,-6425.89 350.763,-6420.89 346.263,-6430.89 346.263,-6430.89\"/>\r\n",
       "<text text-anchor=\"middle\" x=\"376.763\" y=\"-6401.8\" font-family=\"Times New Roman,serif\" font-size=\"14.00\">192x14x14</text>\r\n",
       "</g>\r\n",
       "<!-- mobilenetv20_features_linearbottleneck6_relu61_relu6 -->\r\n",
       "<g id=\"node61\" class=\"node\"><title>mobilenetv20_features_linearbottleneck6_relu61_relu6</title>\r\n",
       "<ellipse fill=\"#fccde5\" stroke=\"black\" cx=\"346.263\" cy=\"-6569\" rx=\"173.99\" ry=\"29\"/>\r\n",
       "<text text-anchor=\"middle\" x=\"346.263\" y=\"-6565.3\" font-family=\"Times New Roman,serif\" font-size=\"14.00\">mobilenetv20_features_linearbottleneck6_relu61_relu6</text>\r\n",
       "</g>\r\n",
       "<!-- mobilenetv20_features_linearbottleneck6_relu61_relu6&#45;&gt;mobilenetv20_features_linearbottleneck6_batchnorm1_fwd -->\r\n",
       "<g id=\"edge63\" class=\"edge\"><title>mobilenetv20_features_linearbottleneck6_relu61_relu6&#45;&gt;mobilenetv20_features_linearbottleneck6_batchnorm1_fwd</title>\r\n",
       "<path fill=\"none\" stroke=\"black\" d=\"M346.263,-6529.58C346.263,-6516.28 346.263,-6501.63 346.263,-6489.3\"/>\r\n",
       "<polygon fill=\"black\" stroke=\"black\" points=\"346.263,-6539.89 341.763,-6529.89 346.263,-6534.89 346.263,-6529.89 346.263,-6529.89 346.263,-6529.89 346.263,-6534.89 350.763,-6529.89 346.263,-6539.89 346.263,-6539.89\"/>\r\n",
       "<text text-anchor=\"middle\" x=\"376.763\" y=\"-6510.8\" font-family=\"Times New Roman,serif\" font-size=\"14.00\">192x14x14</text>\r\n",
       "</g>\r\n",
       "<!-- mobilenetv20_features_linearbottleneck6_conv2_fwd -->\r\n",
       "<g id=\"node62\" class=\"node\"><title>mobilenetv20_features_linearbottleneck6_conv2_fwd</title>\r\n",
       "<ellipse fill=\"#fb8072\" stroke=\"black\" cx=\"346.263\" cy=\"-6678\" rx=\"56.8351\" ry=\"29\"/>\r\n",
       "<text text-anchor=\"middle\" x=\"346.263\" y=\"-6681.8\" font-family=\"Times New Roman,serif\" font-size=\"14.00\">Convolution</text>\r\n",
       "<text text-anchor=\"middle\" x=\"346.263\" y=\"-6666.8\" font-family=\"Times New Roman,serif\" font-size=\"14.00\">1x1/1x1, 64</text>\r\n",
       "</g>\r\n",
       "<!-- mobilenetv20_features_linearbottleneck6_conv2_fwd&#45;&gt;mobilenetv20_features_linearbottleneck6_relu61_relu6 -->\r\n",
       "<g id=\"edge64\" class=\"edge\"><title>mobilenetv20_features_linearbottleneck6_conv2_fwd&#45;&gt;mobilenetv20_features_linearbottleneck6_relu61_relu6</title>\r\n",
       "<path fill=\"none\" stroke=\"black\" d=\"M346.263,-6638.58C346.263,-6625.28 346.263,-6610.63 346.263,-6598.3\"/>\r\n",
       "<polygon fill=\"black\" stroke=\"black\" points=\"346.263,-6648.89 341.763,-6638.89 346.263,-6643.89 346.263,-6638.89 346.263,-6638.89 346.263,-6638.89 346.263,-6643.89 350.763,-6638.89 346.263,-6648.89 346.263,-6648.89\"/>\r\n",
       "<text text-anchor=\"middle\" x=\"376.763\" y=\"-6619.8\" font-family=\"Times New Roman,serif\" font-size=\"14.00\">192x14x14</text>\r\n",
       "</g>\r\n",
       "<!-- mobilenetv20_features_linearbottleneck6_batchnorm2_fwd -->\r\n",
       "<g id=\"node63\" class=\"node\"><title>mobilenetv20_features_linearbottleneck6_batchnorm2_fwd</title>\r\n",
       "<ellipse fill=\"#bebada\" stroke=\"black\" cx=\"346.263\" cy=\"-6787\" rx=\"188.991\" ry=\"29\"/>\r\n",
       "<text text-anchor=\"middle\" x=\"346.263\" y=\"-6783.3\" font-family=\"Times New Roman,serif\" font-size=\"14.00\">mobilenetv20_features_linearbottleneck6_batchnorm2_fwd</text>\r\n",
       "</g>\r\n",
       "<!-- mobilenetv20_features_linearbottleneck6_batchnorm2_fwd&#45;&gt;mobilenetv20_features_linearbottleneck6_conv2_fwd -->\r\n",
       "<g id=\"edge65\" class=\"edge\"><title>mobilenetv20_features_linearbottleneck6_batchnorm2_fwd&#45;&gt;mobilenetv20_features_linearbottleneck6_conv2_fwd</title>\r\n",
       "<path fill=\"none\" stroke=\"black\" d=\"M346.263,-6747.58C346.263,-6734.28 346.263,-6719.63 346.263,-6707.3\"/>\r\n",
       "<polygon fill=\"black\" stroke=\"black\" points=\"346.263,-6757.89 341.763,-6747.89 346.263,-6752.89 346.263,-6747.89 346.263,-6747.89 346.263,-6747.89 346.263,-6752.89 350.763,-6747.89 346.263,-6757.89 346.263,-6757.89\"/>\r\n",
       "<text text-anchor=\"middle\" x=\"373.763\" y=\"-6728.8\" font-family=\"Times New Roman,serif\" font-size=\"14.00\">64x14x14</text>\r\n",
       "</g>\r\n",
       "<!-- mobilenetv20_features_linearbottleneck7_conv0_fwd -->\r\n",
       "<g id=\"node64\" class=\"node\"><title>mobilenetv20_features_linearbottleneck7_conv0_fwd</title>\r\n",
       "<ellipse fill=\"#fb8072\" stroke=\"black\" cx=\"427.263\" cy=\"-6896\" rx=\"58.8062\" ry=\"29\"/>\r\n",
       "<text text-anchor=\"middle\" x=\"427.263\" y=\"-6899.8\" font-family=\"Times New Roman,serif\" font-size=\"14.00\">Convolution</text>\r\n",
       "<text text-anchor=\"middle\" x=\"427.263\" y=\"-6884.8\" font-family=\"Times New Roman,serif\" font-size=\"14.00\">1x1/1x1, 384</text>\r\n",
       "</g>\r\n",
       "<!-- mobilenetv20_features_linearbottleneck7_conv0_fwd&#45;&gt;mobilenetv20_features_linearbottleneck6_batchnorm2_fwd -->\r\n",
       "<g id=\"edge66\" class=\"edge\"><title>mobilenetv20_features_linearbottleneck7_conv0_fwd&#45;&gt;mobilenetv20_features_linearbottleneck6_batchnorm2_fwd</title>\r\n",
       "<path fill=\"none\" stroke=\"black\" d=\"M401.053,-6860.38C390.188,-6846.02 377.748,-6829.59 367.471,-6816.01\"/>\r\n",
       "<polygon fill=\"black\" stroke=\"black\" points=\"407.241,-6868.55 397.617,-6863.29 404.223,-6864.56 401.205,-6860.58 401.205,-6860.58 401.205,-6860.58 404.223,-6864.56 404.793,-6857.86 407.241,-6868.55 407.241,-6868.55\"/>\r\n",
       "<text text-anchor=\"middle\" x=\"418.763\" y=\"-6837.8\" font-family=\"Times New Roman,serif\" font-size=\"14.00\">64x14x14</text>\r\n",
       "</g>\r\n",
       "<!-- mobilenetv20_features_linearbottleneck7_batchnorm0_fwd -->\r\n",
       "<g id=\"node65\" class=\"node\"><title>mobilenetv20_features_linearbottleneck7_batchnorm0_fwd</title>\r\n",
       "<ellipse fill=\"#bebada\" stroke=\"black\" cx=\"525.263\" cy=\"-7005\" rx=\"188.991\" ry=\"29\"/>\r\n",
       "<text text-anchor=\"middle\" x=\"525.263\" y=\"-7001.3\" font-family=\"Times New Roman,serif\" font-size=\"14.00\">mobilenetv20_features_linearbottleneck7_batchnorm0_fwd</text>\r\n",
       "</g>\r\n",
       "<!-- mobilenetv20_features_linearbottleneck7_batchnorm0_fwd&#45;&gt;mobilenetv20_features_linearbottleneck7_conv0_fwd -->\r\n",
       "<g id=\"edge67\" class=\"edge\"><title>mobilenetv20_features_linearbottleneck7_batchnorm0_fwd&#45;&gt;mobilenetv20_features_linearbottleneck7_conv0_fwd</title>\r\n",
       "<path fill=\"none\" stroke=\"black\" d=\"M492.822,-6968.58C479.143,-6953.64 463.513,-6936.58 450.946,-6922.86\"/>\r\n",
       "<polygon fill=\"black\" stroke=\"black\" points=\"499.771,-6976.17 489.698,-6971.83 496.394,-6972.48 493.017,-6968.79 493.017,-6968.79 493.017,-6968.79 496.394,-6972.48 496.335,-6965.75 499.771,-6976.17 499.771,-6976.17\"/>\r\n",
       "<text text-anchor=\"middle\" x=\"511.763\" y=\"-6946.8\" font-family=\"Times New Roman,serif\" font-size=\"14.00\">384x14x14</text>\r\n",
       "</g>\r\n",
       "<!-- mobilenetv20_features_linearbottleneck7_relu60_relu6 -->\r\n",
       "<g id=\"node66\" class=\"node\"><title>mobilenetv20_features_linearbottleneck7_relu60_relu6</title>\r\n",
       "<ellipse fill=\"#fccde5\" stroke=\"black\" cx=\"525.263\" cy=\"-7114\" rx=\"173.99\" ry=\"29\"/>\r\n",
       "<text text-anchor=\"middle\" x=\"525.263\" y=\"-7110.3\" font-family=\"Times New Roman,serif\" font-size=\"14.00\">mobilenetv20_features_linearbottleneck7_relu60_relu6</text>\r\n",
       "</g>\r\n",
       "<!-- mobilenetv20_features_linearbottleneck7_relu60_relu6&#45;&gt;mobilenetv20_features_linearbottleneck7_batchnorm0_fwd -->\r\n",
       "<g id=\"edge68\" class=\"edge\"><title>mobilenetv20_features_linearbottleneck7_relu60_relu6&#45;&gt;mobilenetv20_features_linearbottleneck7_batchnorm0_fwd</title>\r\n",
       "<path fill=\"none\" stroke=\"black\" d=\"M525.263,-7074.58C525.263,-7061.28 525.263,-7046.63 525.263,-7034.3\"/>\r\n",
       "<polygon fill=\"black\" stroke=\"black\" points=\"525.263,-7084.89 520.763,-7074.89 525.263,-7079.89 525.263,-7074.89 525.263,-7074.89 525.263,-7074.89 525.263,-7079.89 529.763,-7074.89 525.263,-7084.89 525.263,-7084.89\"/>\r\n",
       "<text text-anchor=\"middle\" x=\"555.763\" y=\"-7055.8\" font-family=\"Times New Roman,serif\" font-size=\"14.00\">384x14x14</text>\r\n",
       "</g>\r\n",
       "<!-- mobilenetv20_features_linearbottleneck7_conv1_fwd -->\r\n",
       "<g id=\"node67\" class=\"node\"><title>mobilenetv20_features_linearbottleneck7_conv1_fwd</title>\r\n",
       "<ellipse fill=\"#fb8072\" stroke=\"black\" cx=\"525.263\" cy=\"-7223\" rx=\"58.8062\" ry=\"29\"/>\r\n",
       "<text text-anchor=\"middle\" x=\"525.263\" y=\"-7226.8\" font-family=\"Times New Roman,serif\" font-size=\"14.00\">Convolution</text>\r\n",
       "<text text-anchor=\"middle\" x=\"525.263\" y=\"-7211.8\" font-family=\"Times New Roman,serif\" font-size=\"14.00\">3x3/1x1, 384</text>\r\n",
       "</g>\r\n",
       "<!-- mobilenetv20_features_linearbottleneck7_conv1_fwd&#45;&gt;mobilenetv20_features_linearbottleneck7_relu60_relu6 -->\r\n",
       "<g id=\"edge69\" class=\"edge\"><title>mobilenetv20_features_linearbottleneck7_conv1_fwd&#45;&gt;mobilenetv20_features_linearbottleneck7_relu60_relu6</title>\r\n",
       "<path fill=\"none\" stroke=\"black\" d=\"M525.263,-7183.58C525.263,-7170.28 525.263,-7155.63 525.263,-7143.3\"/>\r\n",
       "<polygon fill=\"black\" stroke=\"black\" points=\"525.263,-7193.89 520.763,-7183.89 525.263,-7188.89 525.263,-7183.89 525.263,-7183.89 525.263,-7183.89 525.263,-7188.89 529.763,-7183.89 525.263,-7193.89 525.263,-7193.89\"/>\r\n",
       "<text text-anchor=\"middle\" x=\"555.763\" y=\"-7164.8\" font-family=\"Times New Roman,serif\" font-size=\"14.00\">384x14x14</text>\r\n",
       "</g>\r\n",
       "<!-- mobilenetv20_features_linearbottleneck7_batchnorm1_fwd -->\r\n",
       "<g id=\"node68\" class=\"node\"><title>mobilenetv20_features_linearbottleneck7_batchnorm1_fwd</title>\r\n",
       "<ellipse fill=\"#bebada\" stroke=\"black\" cx=\"525.263\" cy=\"-7332\" rx=\"188.991\" ry=\"29\"/>\r\n",
       "<text text-anchor=\"middle\" x=\"525.263\" y=\"-7328.3\" font-family=\"Times New Roman,serif\" font-size=\"14.00\">mobilenetv20_features_linearbottleneck7_batchnorm1_fwd</text>\r\n",
       "</g>\r\n",
       "<!-- mobilenetv20_features_linearbottleneck7_batchnorm1_fwd&#45;&gt;mobilenetv20_features_linearbottleneck7_conv1_fwd -->\r\n",
       "<g id=\"edge70\" class=\"edge\"><title>mobilenetv20_features_linearbottleneck7_batchnorm1_fwd&#45;&gt;mobilenetv20_features_linearbottleneck7_conv1_fwd</title>\r\n",
       "<path fill=\"none\" stroke=\"black\" d=\"M525.263,-7292.58C525.263,-7279.28 525.263,-7264.63 525.263,-7252.3\"/>\r\n",
       "<polygon fill=\"black\" stroke=\"black\" points=\"525.263,-7302.89 520.763,-7292.89 525.263,-7297.89 525.263,-7292.89 525.263,-7292.89 525.263,-7292.89 525.263,-7297.89 529.763,-7292.89 525.263,-7302.89 525.263,-7302.89\"/>\r\n",
       "<text text-anchor=\"middle\" x=\"555.763\" y=\"-7273.8\" font-family=\"Times New Roman,serif\" font-size=\"14.00\">384x14x14</text>\r\n",
       "</g>\r\n",
       "<!-- mobilenetv20_features_linearbottleneck7_relu61_relu6 -->\r\n",
       "<g id=\"node69\" class=\"node\"><title>mobilenetv20_features_linearbottleneck7_relu61_relu6</title>\r\n",
       "<ellipse fill=\"#fccde5\" stroke=\"black\" cx=\"525.263\" cy=\"-7441\" rx=\"173.99\" ry=\"29\"/>\r\n",
       "<text text-anchor=\"middle\" x=\"525.263\" y=\"-7437.3\" font-family=\"Times New Roman,serif\" font-size=\"14.00\">mobilenetv20_features_linearbottleneck7_relu61_relu6</text>\r\n",
       "</g>\r\n",
       "<!-- mobilenetv20_features_linearbottleneck7_relu61_relu6&#45;&gt;mobilenetv20_features_linearbottleneck7_batchnorm1_fwd -->\r\n",
       "<g id=\"edge71\" class=\"edge\"><title>mobilenetv20_features_linearbottleneck7_relu61_relu6&#45;&gt;mobilenetv20_features_linearbottleneck7_batchnorm1_fwd</title>\r\n",
       "<path fill=\"none\" stroke=\"black\" d=\"M525.263,-7401.58C525.263,-7388.28 525.263,-7373.63 525.263,-7361.3\"/>\r\n",
       "<polygon fill=\"black\" stroke=\"black\" points=\"525.263,-7411.89 520.763,-7401.89 525.263,-7406.89 525.263,-7401.89 525.263,-7401.89 525.263,-7401.89 525.263,-7406.89 529.763,-7401.89 525.263,-7411.89 525.263,-7411.89\"/>\r\n",
       "<text text-anchor=\"middle\" x=\"555.763\" y=\"-7382.8\" font-family=\"Times New Roman,serif\" font-size=\"14.00\">384x14x14</text>\r\n",
       "</g>\r\n",
       "<!-- mobilenetv20_features_linearbottleneck7_conv2_fwd -->\r\n",
       "<g id=\"node70\" class=\"node\"><title>mobilenetv20_features_linearbottleneck7_conv2_fwd</title>\r\n",
       "<ellipse fill=\"#fb8072\" stroke=\"black\" cx=\"525.263\" cy=\"-7550\" rx=\"56.8351\" ry=\"29\"/>\r\n",
       "<text text-anchor=\"middle\" x=\"525.263\" y=\"-7553.8\" font-family=\"Times New Roman,serif\" font-size=\"14.00\">Convolution</text>\r\n",
       "<text text-anchor=\"middle\" x=\"525.263\" y=\"-7538.8\" font-family=\"Times New Roman,serif\" font-size=\"14.00\">1x1/1x1, 64</text>\r\n",
       "</g>\r\n",
       "<!-- mobilenetv20_features_linearbottleneck7_conv2_fwd&#45;&gt;mobilenetv20_features_linearbottleneck7_relu61_relu6 -->\r\n",
       "<g id=\"edge72\" class=\"edge\"><title>mobilenetv20_features_linearbottleneck7_conv2_fwd&#45;&gt;mobilenetv20_features_linearbottleneck7_relu61_relu6</title>\r\n",
       "<path fill=\"none\" stroke=\"black\" d=\"M525.263,-7510.58C525.263,-7497.28 525.263,-7482.63 525.263,-7470.3\"/>\r\n",
       "<polygon fill=\"black\" stroke=\"black\" points=\"525.263,-7520.89 520.763,-7510.89 525.263,-7515.89 525.263,-7510.89 525.263,-7510.89 525.263,-7510.89 525.263,-7515.89 529.763,-7510.89 525.263,-7520.89 525.263,-7520.89\"/>\r\n",
       "<text text-anchor=\"middle\" x=\"555.763\" y=\"-7491.8\" font-family=\"Times New Roman,serif\" font-size=\"14.00\">384x14x14</text>\r\n",
       "</g>\r\n",
       "<!-- mobilenetv20_features_linearbottleneck7_batchnorm2_fwd -->\r\n",
       "<g id=\"node71\" class=\"node\"><title>mobilenetv20_features_linearbottleneck7_batchnorm2_fwd</title>\r\n",
       "<ellipse fill=\"#bebada\" stroke=\"black\" cx=\"525.263\" cy=\"-7659\" rx=\"188.991\" ry=\"29\"/>\r\n",
       "<text text-anchor=\"middle\" x=\"525.263\" y=\"-7655.3\" font-family=\"Times New Roman,serif\" font-size=\"14.00\">mobilenetv20_features_linearbottleneck7_batchnorm2_fwd</text>\r\n",
       "</g>\r\n",
       "<!-- mobilenetv20_features_linearbottleneck7_batchnorm2_fwd&#45;&gt;mobilenetv20_features_linearbottleneck7_conv2_fwd -->\r\n",
       "<g id=\"edge73\" class=\"edge\"><title>mobilenetv20_features_linearbottleneck7_batchnorm2_fwd&#45;&gt;mobilenetv20_features_linearbottleneck7_conv2_fwd</title>\r\n",
       "<path fill=\"none\" stroke=\"black\" d=\"M525.263,-7619.58C525.263,-7606.28 525.263,-7591.63 525.263,-7579.3\"/>\r\n",
       "<polygon fill=\"black\" stroke=\"black\" points=\"525.263,-7629.89 520.763,-7619.89 525.263,-7624.89 525.263,-7619.89 525.263,-7619.89 525.263,-7619.89 525.263,-7624.89 529.763,-7619.89 525.263,-7629.89 525.263,-7629.89\"/>\r\n",
       "<text text-anchor=\"middle\" x=\"552.763\" y=\"-7600.8\" font-family=\"Times New Roman,serif\" font-size=\"14.00\">64x14x14</text>\r\n",
       "</g>\r\n",
       "<!-- mobilenetv20_features_linearbottleneck7_elemwise_add0 -->\r\n",
       "<g id=\"node72\" class=\"node\"><title>mobilenetv20_features_linearbottleneck7_elemwise_add0</title>\r\n",
       "<ellipse fill=\"#fccde5\" stroke=\"black\" cx=\"324.263\" cy=\"-7768\" rx=\"183.008\" ry=\"29\"/>\r\n",
       "<text text-anchor=\"middle\" x=\"324.263\" y=\"-7764.3\" font-family=\"Times New Roman,serif\" font-size=\"14.00\">mobilenetv20_features_linearbottleneck7_elemwise_add0</text>\r\n",
       "</g>\r\n",
       "<!-- mobilenetv20_features_linearbottleneck7_elemwise_add0&#45;&gt;mobilenetv20_features_linearbottleneck6_batchnorm2_fwd -->\r\n",
       "<g id=\"edge75\" class=\"edge\"><title>mobilenetv20_features_linearbottleneck7_elemwise_add0&#45;&gt;mobilenetv20_features_linearbottleneck6_batchnorm2_fwd</title>\r\n",
       "<path fill=\"none\" stroke=\"black\" d=\"M315.812,-7729.17C311.968,-7708.78 308.263,-7683.14 308.263,-7660 308.263,-7660 308.263,-7660 308.263,-6895 308.263,-6867.01 319.955,-6837.15 330.368,-6816.1\"/>\r\n",
       "<polygon fill=\"black\" stroke=\"black\" points=\"317.755,-7739.01 311.404,-7730.07 316.787,-7734.1 315.819,-7729.2 315.819,-7729.2 315.819,-7729.2 316.787,-7734.1 320.233,-7728.33 317.755,-7739.01 317.755,-7739.01\"/>\r\n",
       "<text text-anchor=\"middle\" x=\"335.763\" y=\"-7273.8\" font-family=\"Times New Roman,serif\" font-size=\"14.00\">64x14x14</text>\r\n",
       "</g>\r\n",
       "<!-- mobilenetv20_features_linearbottleneck7_elemwise_add0&#45;&gt;mobilenetv20_features_linearbottleneck7_batchnorm2_fwd -->\r\n",
       "<g id=\"edge74\" class=\"edge\"><title>mobilenetv20_features_linearbottleneck7_elemwise_add0&#45;&gt;mobilenetv20_features_linearbottleneck7_batchnorm2_fwd</title>\r\n",
       "<path fill=\"none\" stroke=\"black\" d=\"M384.129,-7735.13C412.923,-7719.8 447.067,-7701.63 474.559,-7686.99\"/>\r\n",
       "<polygon fill=\"black\" stroke=\"black\" points=\"374.984,-7740 381.697,-7731.33 379.398,-7737.65 383.811,-7735.3 383.811,-7735.3 383.811,-7735.3 379.398,-7737.65 385.926,-7739.27 374.984,-7740 374.984,-7740\"/>\r\n",
       "<text text-anchor=\"middle\" x=\"463.763\" y=\"-7709.8\" font-family=\"Times New Roman,serif\" font-size=\"14.00\">64x14x14</text>\r\n",
       "</g>\r\n",
       "<!-- mobilenetv20_features_linearbottleneck8_conv0_fwd -->\r\n",
       "<g id=\"node73\" class=\"node\"><title>mobilenetv20_features_linearbottleneck8_conv0_fwd</title>\r\n",
       "<ellipse fill=\"#fb8072\" stroke=\"black\" cx=\"405.263\" cy=\"-7877\" rx=\"58.8062\" ry=\"29\"/>\r\n",
       "<text text-anchor=\"middle\" x=\"405.263\" y=\"-7880.8\" font-family=\"Times New Roman,serif\" font-size=\"14.00\">Convolution</text>\r\n",
       "<text text-anchor=\"middle\" x=\"405.263\" y=\"-7865.8\" font-family=\"Times New Roman,serif\" font-size=\"14.00\">1x1/1x1, 384</text>\r\n",
       "</g>\r\n",
       "<!-- mobilenetv20_features_linearbottleneck8_conv0_fwd&#45;&gt;mobilenetv20_features_linearbottleneck7_elemwise_add0 -->\r\n",
       "<g id=\"edge76\" class=\"edge\"><title>mobilenetv20_features_linearbottleneck8_conv0_fwd&#45;&gt;mobilenetv20_features_linearbottleneck7_elemwise_add0</title>\r\n",
       "<path fill=\"none\" stroke=\"black\" d=\"M379.053,-7841.38C368.188,-7827.02 355.748,-7810.59 345.471,-7797.01\"/>\r\n",
       "<polygon fill=\"black\" stroke=\"black\" points=\"385.241,-7849.55 375.617,-7844.29 382.223,-7845.56 379.205,-7841.58 379.205,-7841.58 379.205,-7841.58 382.223,-7845.56 382.793,-7838.86 385.241,-7849.55 385.241,-7849.55\"/>\r\n",
       "<text text-anchor=\"middle\" x=\"396.763\" y=\"-7818.8\" font-family=\"Times New Roman,serif\" font-size=\"14.00\">64x14x14</text>\r\n",
       "</g>\r\n",
       "<!-- mobilenetv20_features_linearbottleneck8_batchnorm0_fwd -->\r\n",
       "<g id=\"node74\" class=\"node\"><title>mobilenetv20_features_linearbottleneck8_batchnorm0_fwd</title>\r\n",
       "<ellipse fill=\"#bebada\" stroke=\"black\" cx=\"503.263\" cy=\"-7986\" rx=\"188.991\" ry=\"29\"/>\r\n",
       "<text text-anchor=\"middle\" x=\"503.263\" y=\"-7982.3\" font-family=\"Times New Roman,serif\" font-size=\"14.00\">mobilenetv20_features_linearbottleneck8_batchnorm0_fwd</text>\r\n",
       "</g>\r\n",
       "<!-- mobilenetv20_features_linearbottleneck8_batchnorm0_fwd&#45;&gt;mobilenetv20_features_linearbottleneck8_conv0_fwd -->\r\n",
       "<g id=\"edge77\" class=\"edge\"><title>mobilenetv20_features_linearbottleneck8_batchnorm0_fwd&#45;&gt;mobilenetv20_features_linearbottleneck8_conv0_fwd</title>\r\n",
       "<path fill=\"none\" stroke=\"black\" d=\"M470.822,-7949.58C457.143,-7934.64 441.513,-7917.58 428.946,-7903.86\"/>\r\n",
       "<polygon fill=\"black\" stroke=\"black\" points=\"477.771,-7957.17 467.698,-7952.83 474.394,-7953.48 471.017,-7949.79 471.017,-7949.79 471.017,-7949.79 474.394,-7953.48 474.335,-7946.75 477.771,-7957.17 477.771,-7957.17\"/>\r\n",
       "<text text-anchor=\"middle\" x=\"489.763\" y=\"-7927.8\" font-family=\"Times New Roman,serif\" font-size=\"14.00\">384x14x14</text>\r\n",
       "</g>\r\n",
       "<!-- mobilenetv20_features_linearbottleneck8_relu60_relu6 -->\r\n",
       "<g id=\"node75\" class=\"node\"><title>mobilenetv20_features_linearbottleneck8_relu60_relu6</title>\r\n",
       "<ellipse fill=\"#fccde5\" stroke=\"black\" cx=\"503.263\" cy=\"-8095\" rx=\"173.99\" ry=\"29\"/>\r\n",
       "<text text-anchor=\"middle\" x=\"503.263\" y=\"-8091.3\" font-family=\"Times New Roman,serif\" font-size=\"14.00\">mobilenetv20_features_linearbottleneck8_relu60_relu6</text>\r\n",
       "</g>\r\n",
       "<!-- mobilenetv20_features_linearbottleneck8_relu60_relu6&#45;&gt;mobilenetv20_features_linearbottleneck8_batchnorm0_fwd -->\r\n",
       "<g id=\"edge78\" class=\"edge\"><title>mobilenetv20_features_linearbottleneck8_relu60_relu6&#45;&gt;mobilenetv20_features_linearbottleneck8_batchnorm0_fwd</title>\r\n",
       "<path fill=\"none\" stroke=\"black\" d=\"M503.263,-8055.58C503.263,-8042.28 503.263,-8027.63 503.263,-8015.3\"/>\r\n",
       "<polygon fill=\"black\" stroke=\"black\" points=\"503.263,-8065.89 498.763,-8055.89 503.263,-8060.89 503.263,-8055.89 503.263,-8055.89 503.263,-8055.89 503.263,-8060.89 507.763,-8055.89 503.263,-8065.89 503.263,-8065.89\"/>\r\n",
       "<text text-anchor=\"middle\" x=\"533.763\" y=\"-8036.8\" font-family=\"Times New Roman,serif\" font-size=\"14.00\">384x14x14</text>\r\n",
       "</g>\r\n",
       "<!-- mobilenetv20_features_linearbottleneck8_conv1_fwd -->\r\n",
       "<g id=\"node76\" class=\"node\"><title>mobilenetv20_features_linearbottleneck8_conv1_fwd</title>\r\n",
       "<ellipse fill=\"#fb8072\" stroke=\"black\" cx=\"503.263\" cy=\"-8204\" rx=\"58.8062\" ry=\"29\"/>\r\n",
       "<text text-anchor=\"middle\" x=\"503.263\" y=\"-8207.8\" font-family=\"Times New Roman,serif\" font-size=\"14.00\">Convolution</text>\r\n",
       "<text text-anchor=\"middle\" x=\"503.263\" y=\"-8192.8\" font-family=\"Times New Roman,serif\" font-size=\"14.00\">3x3/1x1, 384</text>\r\n",
       "</g>\r\n",
       "<!-- mobilenetv20_features_linearbottleneck8_conv1_fwd&#45;&gt;mobilenetv20_features_linearbottleneck8_relu60_relu6 -->\r\n",
       "<g id=\"edge79\" class=\"edge\"><title>mobilenetv20_features_linearbottleneck8_conv1_fwd&#45;&gt;mobilenetv20_features_linearbottleneck8_relu60_relu6</title>\r\n",
       "<path fill=\"none\" stroke=\"black\" d=\"M503.263,-8164.58C503.263,-8151.28 503.263,-8136.63 503.263,-8124.3\"/>\r\n",
       "<polygon fill=\"black\" stroke=\"black\" points=\"503.263,-8174.89 498.763,-8164.89 503.263,-8169.89 503.263,-8164.89 503.263,-8164.89 503.263,-8164.89 503.263,-8169.89 507.763,-8164.89 503.263,-8174.89 503.263,-8174.89\"/>\r\n",
       "<text text-anchor=\"middle\" x=\"533.763\" y=\"-8145.8\" font-family=\"Times New Roman,serif\" font-size=\"14.00\">384x14x14</text>\r\n",
       "</g>\r\n",
       "<!-- mobilenetv20_features_linearbottleneck8_batchnorm1_fwd -->\r\n",
       "<g id=\"node77\" class=\"node\"><title>mobilenetv20_features_linearbottleneck8_batchnorm1_fwd</title>\r\n",
       "<ellipse fill=\"#bebada\" stroke=\"black\" cx=\"503.263\" cy=\"-8313\" rx=\"188.991\" ry=\"29\"/>\r\n",
       "<text text-anchor=\"middle\" x=\"503.263\" y=\"-8309.3\" font-family=\"Times New Roman,serif\" font-size=\"14.00\">mobilenetv20_features_linearbottleneck8_batchnorm1_fwd</text>\r\n",
       "</g>\r\n",
       "<!-- mobilenetv20_features_linearbottleneck8_batchnorm1_fwd&#45;&gt;mobilenetv20_features_linearbottleneck8_conv1_fwd -->\r\n",
       "<g id=\"edge80\" class=\"edge\"><title>mobilenetv20_features_linearbottleneck8_batchnorm1_fwd&#45;&gt;mobilenetv20_features_linearbottleneck8_conv1_fwd</title>\r\n",
       "<path fill=\"none\" stroke=\"black\" d=\"M503.263,-8273.58C503.263,-8260.28 503.263,-8245.63 503.263,-8233.3\"/>\r\n",
       "<polygon fill=\"black\" stroke=\"black\" points=\"503.263,-8283.89 498.763,-8273.89 503.263,-8278.89 503.263,-8273.89 503.263,-8273.89 503.263,-8273.89 503.263,-8278.89 507.763,-8273.89 503.263,-8283.89 503.263,-8283.89\"/>\r\n",
       "<text text-anchor=\"middle\" x=\"533.763\" y=\"-8254.8\" font-family=\"Times New Roman,serif\" font-size=\"14.00\">384x14x14</text>\r\n",
       "</g>\r\n",
       "<!-- mobilenetv20_features_linearbottleneck8_relu61_relu6 -->\r\n",
       "<g id=\"node78\" class=\"node\"><title>mobilenetv20_features_linearbottleneck8_relu61_relu6</title>\r\n",
       "<ellipse fill=\"#fccde5\" stroke=\"black\" cx=\"503.263\" cy=\"-8422\" rx=\"173.99\" ry=\"29\"/>\r\n",
       "<text text-anchor=\"middle\" x=\"503.263\" y=\"-8418.3\" font-family=\"Times New Roman,serif\" font-size=\"14.00\">mobilenetv20_features_linearbottleneck8_relu61_relu6</text>\r\n",
       "</g>\r\n",
       "<!-- mobilenetv20_features_linearbottleneck8_relu61_relu6&#45;&gt;mobilenetv20_features_linearbottleneck8_batchnorm1_fwd -->\r\n",
       "<g id=\"edge81\" class=\"edge\"><title>mobilenetv20_features_linearbottleneck8_relu61_relu6&#45;&gt;mobilenetv20_features_linearbottleneck8_batchnorm1_fwd</title>\r\n",
       "<path fill=\"none\" stroke=\"black\" d=\"M503.263,-8382.58C503.263,-8369.28 503.263,-8354.63 503.263,-8342.3\"/>\r\n",
       "<polygon fill=\"black\" stroke=\"black\" points=\"503.263,-8392.89 498.763,-8382.89 503.263,-8387.89 503.263,-8382.89 503.263,-8382.89 503.263,-8382.89 503.263,-8387.89 507.763,-8382.89 503.263,-8392.89 503.263,-8392.89\"/>\r\n",
       "<text text-anchor=\"middle\" x=\"533.763\" y=\"-8363.8\" font-family=\"Times New Roman,serif\" font-size=\"14.00\">384x14x14</text>\r\n",
       "</g>\r\n",
       "<!-- mobilenetv20_features_linearbottleneck8_conv2_fwd -->\r\n",
       "<g id=\"node79\" class=\"node\"><title>mobilenetv20_features_linearbottleneck8_conv2_fwd</title>\r\n",
       "<ellipse fill=\"#fb8072\" stroke=\"black\" cx=\"503.263\" cy=\"-8531\" rx=\"56.8351\" ry=\"29\"/>\r\n",
       "<text text-anchor=\"middle\" x=\"503.263\" y=\"-8534.8\" font-family=\"Times New Roman,serif\" font-size=\"14.00\">Convolution</text>\r\n",
       "<text text-anchor=\"middle\" x=\"503.263\" y=\"-8519.8\" font-family=\"Times New Roman,serif\" font-size=\"14.00\">1x1/1x1, 64</text>\r\n",
       "</g>\r\n",
       "<!-- mobilenetv20_features_linearbottleneck8_conv2_fwd&#45;&gt;mobilenetv20_features_linearbottleneck8_relu61_relu6 -->\r\n",
       "<g id=\"edge82\" class=\"edge\"><title>mobilenetv20_features_linearbottleneck8_conv2_fwd&#45;&gt;mobilenetv20_features_linearbottleneck8_relu61_relu6</title>\r\n",
       "<path fill=\"none\" stroke=\"black\" d=\"M503.263,-8491.58C503.263,-8478.28 503.263,-8463.63 503.263,-8451.3\"/>\r\n",
       "<polygon fill=\"black\" stroke=\"black\" points=\"503.263,-8501.89 498.763,-8491.89 503.263,-8496.89 503.263,-8491.89 503.263,-8491.89 503.263,-8491.89 503.263,-8496.89 507.763,-8491.89 503.263,-8501.89 503.263,-8501.89\"/>\r\n",
       "<text text-anchor=\"middle\" x=\"533.763\" y=\"-8472.8\" font-family=\"Times New Roman,serif\" font-size=\"14.00\">384x14x14</text>\r\n",
       "</g>\r\n",
       "<!-- mobilenetv20_features_linearbottleneck8_batchnorm2_fwd -->\r\n",
       "<g id=\"node80\" class=\"node\"><title>mobilenetv20_features_linearbottleneck8_batchnorm2_fwd</title>\r\n",
       "<ellipse fill=\"#bebada\" stroke=\"black\" cx=\"503.263\" cy=\"-8640\" rx=\"188.991\" ry=\"29\"/>\r\n",
       "<text text-anchor=\"middle\" x=\"503.263\" y=\"-8636.3\" font-family=\"Times New Roman,serif\" font-size=\"14.00\">mobilenetv20_features_linearbottleneck8_batchnorm2_fwd</text>\r\n",
       "</g>\r\n",
       "<!-- mobilenetv20_features_linearbottleneck8_batchnorm2_fwd&#45;&gt;mobilenetv20_features_linearbottleneck8_conv2_fwd -->\r\n",
       "<g id=\"edge83\" class=\"edge\"><title>mobilenetv20_features_linearbottleneck8_batchnorm2_fwd&#45;&gt;mobilenetv20_features_linearbottleneck8_conv2_fwd</title>\r\n",
       "<path fill=\"none\" stroke=\"black\" d=\"M503.263,-8600.58C503.263,-8587.28 503.263,-8572.63 503.263,-8560.3\"/>\r\n",
       "<polygon fill=\"black\" stroke=\"black\" points=\"503.263,-8610.89 498.763,-8600.89 503.263,-8605.89 503.263,-8600.89 503.263,-8600.89 503.263,-8600.89 503.263,-8605.89 507.763,-8600.89 503.263,-8610.89 503.263,-8610.89\"/>\r\n",
       "<text text-anchor=\"middle\" x=\"530.763\" y=\"-8581.8\" font-family=\"Times New Roman,serif\" font-size=\"14.00\">64x14x14</text>\r\n",
       "</g>\r\n",
       "<!-- mobilenetv20_features_linearbottleneck8_elemwise_add0 -->\r\n",
       "<g id=\"node81\" class=\"node\"><title>mobilenetv20_features_linearbottleneck8_elemwise_add0</title>\r\n",
       "<ellipse fill=\"#fccde5\" stroke=\"black\" cx=\"302.263\" cy=\"-8749\" rx=\"183.008\" ry=\"29\"/>\r\n",
       "<text text-anchor=\"middle\" x=\"302.263\" y=\"-8745.3\" font-family=\"Times New Roman,serif\" font-size=\"14.00\">mobilenetv20_features_linearbottleneck8_elemwise_add0</text>\r\n",
       "</g>\r\n",
       "<!-- mobilenetv20_features_linearbottleneck8_elemwise_add0&#45;&gt;mobilenetv20_features_linearbottleneck7_elemwise_add0 -->\r\n",
       "<g id=\"edge85\" class=\"edge\"><title>mobilenetv20_features_linearbottleneck8_elemwise_add0&#45;&gt;mobilenetv20_features_linearbottleneck7_elemwise_add0</title>\r\n",
       "<path fill=\"none\" stroke=\"black\" d=\"M293.812,-8710.17C289.968,-8689.78 286.263,-8664.14 286.263,-8641 286.263,-8641 286.263,-8641 286.263,-7876 286.263,-7848.01 297.955,-7818.15 308.368,-7797.1\"/>\r\n",
       "<polygon fill=\"black\" stroke=\"black\" points=\"295.755,-8720.01 289.404,-8711.07 294.787,-8715.1 293.819,-8710.2 293.819,-8710.2 293.819,-8710.2 294.787,-8715.1 298.233,-8709.33 295.755,-8720.01 295.755,-8720.01\"/>\r\n",
       "<text text-anchor=\"middle\" x=\"313.763\" y=\"-8254.8\" font-family=\"Times New Roman,serif\" font-size=\"14.00\">64x14x14</text>\r\n",
       "</g>\r\n",
       "<!-- mobilenetv20_features_linearbottleneck8_elemwise_add0&#45;&gt;mobilenetv20_features_linearbottleneck8_batchnorm2_fwd -->\r\n",
       "<g id=\"edge84\" class=\"edge\"><title>mobilenetv20_features_linearbottleneck8_elemwise_add0&#45;&gt;mobilenetv20_features_linearbottleneck8_batchnorm2_fwd</title>\r\n",
       "<path fill=\"none\" stroke=\"black\" d=\"M362.129,-8716.13C390.923,-8700.8 425.067,-8682.63 452.559,-8667.99\"/>\r\n",
       "<polygon fill=\"black\" stroke=\"black\" points=\"352.984,-8721 359.697,-8712.33 357.398,-8718.65 361.811,-8716.3 361.811,-8716.3 361.811,-8716.3 357.398,-8718.65 363.926,-8720.27 352.984,-8721 352.984,-8721\"/>\r\n",
       "<text text-anchor=\"middle\" x=\"441.763\" y=\"-8690.8\" font-family=\"Times New Roman,serif\" font-size=\"14.00\">64x14x14</text>\r\n",
       "</g>\r\n",
       "<!-- mobilenetv20_features_linearbottleneck9_conv0_fwd -->\r\n",
       "<g id=\"node82\" class=\"node\"><title>mobilenetv20_features_linearbottleneck9_conv0_fwd</title>\r\n",
       "<ellipse fill=\"#fb8072\" stroke=\"black\" cx=\"383.263\" cy=\"-8858\" rx=\"58.8062\" ry=\"29\"/>\r\n",
       "<text text-anchor=\"middle\" x=\"383.263\" y=\"-8861.8\" font-family=\"Times New Roman,serif\" font-size=\"14.00\">Convolution</text>\r\n",
       "<text text-anchor=\"middle\" x=\"383.263\" y=\"-8846.8\" font-family=\"Times New Roman,serif\" font-size=\"14.00\">1x1/1x1, 384</text>\r\n",
       "</g>\r\n",
       "<!-- mobilenetv20_features_linearbottleneck9_conv0_fwd&#45;&gt;mobilenetv20_features_linearbottleneck8_elemwise_add0 -->\r\n",
       "<g id=\"edge86\" class=\"edge\"><title>mobilenetv20_features_linearbottleneck9_conv0_fwd&#45;&gt;mobilenetv20_features_linearbottleneck8_elemwise_add0</title>\r\n",
       "<path fill=\"none\" stroke=\"black\" d=\"M357.053,-8822.38C346.188,-8808.02 333.748,-8791.59 323.471,-8778.01\"/>\r\n",
       "<polygon fill=\"black\" stroke=\"black\" points=\"363.241,-8830.55 353.617,-8825.29 360.223,-8826.56 357.205,-8822.58 357.205,-8822.58 357.205,-8822.58 360.223,-8826.56 360.793,-8819.86 363.241,-8830.55 363.241,-8830.55\"/>\r\n",
       "<text text-anchor=\"middle\" x=\"374.763\" y=\"-8799.8\" font-family=\"Times New Roman,serif\" font-size=\"14.00\">64x14x14</text>\r\n",
       "</g>\r\n",
       "<!-- mobilenetv20_features_linearbottleneck9_batchnorm0_fwd -->\r\n",
       "<g id=\"node83\" class=\"node\"><title>mobilenetv20_features_linearbottleneck9_batchnorm0_fwd</title>\r\n",
       "<ellipse fill=\"#bebada\" stroke=\"black\" cx=\"481.263\" cy=\"-8967\" rx=\"188.991\" ry=\"29\"/>\r\n",
       "<text text-anchor=\"middle\" x=\"481.263\" y=\"-8963.3\" font-family=\"Times New Roman,serif\" font-size=\"14.00\">mobilenetv20_features_linearbottleneck9_batchnorm0_fwd</text>\r\n",
       "</g>\r\n",
       "<!-- mobilenetv20_features_linearbottleneck9_batchnorm0_fwd&#45;&gt;mobilenetv20_features_linearbottleneck9_conv0_fwd -->\r\n",
       "<g id=\"edge87\" class=\"edge\"><title>mobilenetv20_features_linearbottleneck9_batchnorm0_fwd&#45;&gt;mobilenetv20_features_linearbottleneck9_conv0_fwd</title>\r\n",
       "<path fill=\"none\" stroke=\"black\" d=\"M448.822,-8930.58C435.143,-8915.64 419.513,-8898.58 406.946,-8884.86\"/>\r\n",
       "<polygon fill=\"black\" stroke=\"black\" points=\"455.771,-8938.17 445.698,-8933.83 452.394,-8934.48 449.017,-8930.79 449.017,-8930.79 449.017,-8930.79 452.394,-8934.48 452.335,-8927.75 455.771,-8938.17 455.771,-8938.17\"/>\r\n",
       "<text text-anchor=\"middle\" x=\"467.763\" y=\"-8908.8\" font-family=\"Times New Roman,serif\" font-size=\"14.00\">384x14x14</text>\r\n",
       "</g>\r\n",
       "<!-- mobilenetv20_features_linearbottleneck9_relu60_relu6 -->\r\n",
       "<g id=\"node84\" class=\"node\"><title>mobilenetv20_features_linearbottleneck9_relu60_relu6</title>\r\n",
       "<ellipse fill=\"#fccde5\" stroke=\"black\" cx=\"481.263\" cy=\"-9076\" rx=\"173.99\" ry=\"29\"/>\r\n",
       "<text text-anchor=\"middle\" x=\"481.263\" y=\"-9072.3\" font-family=\"Times New Roman,serif\" font-size=\"14.00\">mobilenetv20_features_linearbottleneck9_relu60_relu6</text>\r\n",
       "</g>\r\n",
       "<!-- mobilenetv20_features_linearbottleneck9_relu60_relu6&#45;&gt;mobilenetv20_features_linearbottleneck9_batchnorm0_fwd -->\r\n",
       "<g id=\"edge88\" class=\"edge\"><title>mobilenetv20_features_linearbottleneck9_relu60_relu6&#45;&gt;mobilenetv20_features_linearbottleneck9_batchnorm0_fwd</title>\r\n",
       "<path fill=\"none\" stroke=\"black\" d=\"M481.263,-9036.58C481.263,-9023.28 481.263,-9008.63 481.263,-8996.3\"/>\r\n",
       "<polygon fill=\"black\" stroke=\"black\" points=\"481.263,-9046.89 476.763,-9036.89 481.263,-9041.89 481.263,-9036.89 481.263,-9036.89 481.263,-9036.89 481.263,-9041.89 485.763,-9036.89 481.263,-9046.89 481.263,-9046.89\"/>\r\n",
       "<text text-anchor=\"middle\" x=\"511.763\" y=\"-9017.8\" font-family=\"Times New Roman,serif\" font-size=\"14.00\">384x14x14</text>\r\n",
       "</g>\r\n",
       "<!-- mobilenetv20_features_linearbottleneck9_conv1_fwd -->\r\n",
       "<g id=\"node85\" class=\"node\"><title>mobilenetv20_features_linearbottleneck9_conv1_fwd</title>\r\n",
       "<ellipse fill=\"#fb8072\" stroke=\"black\" cx=\"481.263\" cy=\"-9185\" rx=\"58.8062\" ry=\"29\"/>\r\n",
       "<text text-anchor=\"middle\" x=\"481.263\" y=\"-9188.8\" font-family=\"Times New Roman,serif\" font-size=\"14.00\">Convolution</text>\r\n",
       "<text text-anchor=\"middle\" x=\"481.263\" y=\"-9173.8\" font-family=\"Times New Roman,serif\" font-size=\"14.00\">3x3/1x1, 384</text>\r\n",
       "</g>\r\n",
       "<!-- mobilenetv20_features_linearbottleneck9_conv1_fwd&#45;&gt;mobilenetv20_features_linearbottleneck9_relu60_relu6 -->\r\n",
       "<g id=\"edge89\" class=\"edge\"><title>mobilenetv20_features_linearbottleneck9_conv1_fwd&#45;&gt;mobilenetv20_features_linearbottleneck9_relu60_relu6</title>\r\n",
       "<path fill=\"none\" stroke=\"black\" d=\"M481.263,-9145.58C481.263,-9132.28 481.263,-9117.63 481.263,-9105.3\"/>\r\n",
       "<polygon fill=\"black\" stroke=\"black\" points=\"481.263,-9155.89 476.763,-9145.89 481.263,-9150.89 481.263,-9145.89 481.263,-9145.89 481.263,-9145.89 481.263,-9150.89 485.763,-9145.89 481.263,-9155.89 481.263,-9155.89\"/>\r\n",
       "<text text-anchor=\"middle\" x=\"511.763\" y=\"-9126.8\" font-family=\"Times New Roman,serif\" font-size=\"14.00\">384x14x14</text>\r\n",
       "</g>\r\n",
       "<!-- mobilenetv20_features_linearbottleneck9_batchnorm1_fwd -->\r\n",
       "<g id=\"node86\" class=\"node\"><title>mobilenetv20_features_linearbottleneck9_batchnorm1_fwd</title>\r\n",
       "<ellipse fill=\"#bebada\" stroke=\"black\" cx=\"481.263\" cy=\"-9294\" rx=\"188.991\" ry=\"29\"/>\r\n",
       "<text text-anchor=\"middle\" x=\"481.263\" y=\"-9290.3\" font-family=\"Times New Roman,serif\" font-size=\"14.00\">mobilenetv20_features_linearbottleneck9_batchnorm1_fwd</text>\r\n",
       "</g>\r\n",
       "<!-- mobilenetv20_features_linearbottleneck9_batchnorm1_fwd&#45;&gt;mobilenetv20_features_linearbottleneck9_conv1_fwd -->\r\n",
       "<g id=\"edge90\" class=\"edge\"><title>mobilenetv20_features_linearbottleneck9_batchnorm1_fwd&#45;&gt;mobilenetv20_features_linearbottleneck9_conv1_fwd</title>\r\n",
       "<path fill=\"none\" stroke=\"black\" d=\"M481.263,-9254.58C481.263,-9241.28 481.263,-9226.63 481.263,-9214.3\"/>\r\n",
       "<polygon fill=\"black\" stroke=\"black\" points=\"481.263,-9264.89 476.763,-9254.89 481.263,-9259.89 481.263,-9254.89 481.263,-9254.89 481.263,-9254.89 481.263,-9259.89 485.763,-9254.89 481.263,-9264.89 481.263,-9264.89\"/>\r\n",
       "<text text-anchor=\"middle\" x=\"511.763\" y=\"-9235.8\" font-family=\"Times New Roman,serif\" font-size=\"14.00\">384x14x14</text>\r\n",
       "</g>\r\n",
       "<!-- mobilenetv20_features_linearbottleneck9_relu61_relu6 -->\r\n",
       "<g id=\"node87\" class=\"node\"><title>mobilenetv20_features_linearbottleneck9_relu61_relu6</title>\r\n",
       "<ellipse fill=\"#fccde5\" stroke=\"black\" cx=\"481.263\" cy=\"-9403\" rx=\"173.99\" ry=\"29\"/>\r\n",
       "<text text-anchor=\"middle\" x=\"481.263\" y=\"-9399.3\" font-family=\"Times New Roman,serif\" font-size=\"14.00\">mobilenetv20_features_linearbottleneck9_relu61_relu6</text>\r\n",
       "</g>\r\n",
       "<!-- mobilenetv20_features_linearbottleneck9_relu61_relu6&#45;&gt;mobilenetv20_features_linearbottleneck9_batchnorm1_fwd -->\r\n",
       "<g id=\"edge91\" class=\"edge\"><title>mobilenetv20_features_linearbottleneck9_relu61_relu6&#45;&gt;mobilenetv20_features_linearbottleneck9_batchnorm1_fwd</title>\r\n",
       "<path fill=\"none\" stroke=\"black\" d=\"M481.263,-9363.58C481.263,-9350.28 481.263,-9335.63 481.263,-9323.3\"/>\r\n",
       "<polygon fill=\"black\" stroke=\"black\" points=\"481.263,-9373.89 476.763,-9363.89 481.263,-9368.89 481.263,-9363.89 481.263,-9363.89 481.263,-9363.89 481.263,-9368.89 485.763,-9363.89 481.263,-9373.89 481.263,-9373.89\"/>\r\n",
       "<text text-anchor=\"middle\" x=\"511.763\" y=\"-9344.8\" font-family=\"Times New Roman,serif\" font-size=\"14.00\">384x14x14</text>\r\n",
       "</g>\r\n",
       "<!-- mobilenetv20_features_linearbottleneck9_conv2_fwd -->\r\n",
       "<g id=\"node88\" class=\"node\"><title>mobilenetv20_features_linearbottleneck9_conv2_fwd</title>\r\n",
       "<ellipse fill=\"#fb8072\" stroke=\"black\" cx=\"481.263\" cy=\"-9512\" rx=\"56.8351\" ry=\"29\"/>\r\n",
       "<text text-anchor=\"middle\" x=\"481.263\" y=\"-9515.8\" font-family=\"Times New Roman,serif\" font-size=\"14.00\">Convolution</text>\r\n",
       "<text text-anchor=\"middle\" x=\"481.263\" y=\"-9500.8\" font-family=\"Times New Roman,serif\" font-size=\"14.00\">1x1/1x1, 64</text>\r\n",
       "</g>\r\n",
       "<!-- mobilenetv20_features_linearbottleneck9_conv2_fwd&#45;&gt;mobilenetv20_features_linearbottleneck9_relu61_relu6 -->\r\n",
       "<g id=\"edge92\" class=\"edge\"><title>mobilenetv20_features_linearbottleneck9_conv2_fwd&#45;&gt;mobilenetv20_features_linearbottleneck9_relu61_relu6</title>\r\n",
       "<path fill=\"none\" stroke=\"black\" d=\"M481.263,-9472.58C481.263,-9459.28 481.263,-9444.63 481.263,-9432.3\"/>\r\n",
       "<polygon fill=\"black\" stroke=\"black\" points=\"481.263,-9482.89 476.763,-9472.89 481.263,-9477.89 481.263,-9472.89 481.263,-9472.89 481.263,-9472.89 481.263,-9477.89 485.763,-9472.89 481.263,-9482.89 481.263,-9482.89\"/>\r\n",
       "<text text-anchor=\"middle\" x=\"511.763\" y=\"-9453.8\" font-family=\"Times New Roman,serif\" font-size=\"14.00\">384x14x14</text>\r\n",
       "</g>\r\n",
       "<!-- mobilenetv20_features_linearbottleneck9_batchnorm2_fwd -->\r\n",
       "<g id=\"node89\" class=\"node\"><title>mobilenetv20_features_linearbottleneck9_batchnorm2_fwd</title>\r\n",
       "<ellipse fill=\"#bebada\" stroke=\"black\" cx=\"481.263\" cy=\"-9621\" rx=\"188.991\" ry=\"29\"/>\r\n",
       "<text text-anchor=\"middle\" x=\"481.263\" y=\"-9617.3\" font-family=\"Times New Roman,serif\" font-size=\"14.00\">mobilenetv20_features_linearbottleneck9_batchnorm2_fwd</text>\r\n",
       "</g>\r\n",
       "<!-- mobilenetv20_features_linearbottleneck9_batchnorm2_fwd&#45;&gt;mobilenetv20_features_linearbottleneck9_conv2_fwd -->\r\n",
       "<g id=\"edge93\" class=\"edge\"><title>mobilenetv20_features_linearbottleneck9_batchnorm2_fwd&#45;&gt;mobilenetv20_features_linearbottleneck9_conv2_fwd</title>\r\n",
       "<path fill=\"none\" stroke=\"black\" d=\"M481.263,-9581.58C481.263,-9568.28 481.263,-9553.63 481.263,-9541.3\"/>\r\n",
       "<polygon fill=\"black\" stroke=\"black\" points=\"481.263,-9591.89 476.763,-9581.89 481.263,-9586.89 481.263,-9581.89 481.263,-9581.89 481.263,-9581.89 481.263,-9586.89 485.763,-9581.89 481.263,-9591.89 481.263,-9591.89\"/>\r\n",
       "<text text-anchor=\"middle\" x=\"508.763\" y=\"-9562.8\" font-family=\"Times New Roman,serif\" font-size=\"14.00\">64x14x14</text>\r\n",
       "</g>\r\n",
       "<!-- mobilenetv20_features_linearbottleneck9_elemwise_add0 -->\r\n",
       "<g id=\"node90\" class=\"node\"><title>mobilenetv20_features_linearbottleneck9_elemwise_add0</title>\r\n",
       "<ellipse fill=\"#fccde5\" stroke=\"black\" cx=\"280.263\" cy=\"-9730\" rx=\"183.008\" ry=\"29\"/>\r\n",
       "<text text-anchor=\"middle\" x=\"280.263\" y=\"-9726.3\" font-family=\"Times New Roman,serif\" font-size=\"14.00\">mobilenetv20_features_linearbottleneck9_elemwise_add0</text>\r\n",
       "</g>\r\n",
       "<!-- mobilenetv20_features_linearbottleneck9_elemwise_add0&#45;&gt;mobilenetv20_features_linearbottleneck8_elemwise_add0 -->\r\n",
       "<g id=\"edge95\" class=\"edge\"><title>mobilenetv20_features_linearbottleneck9_elemwise_add0&#45;&gt;mobilenetv20_features_linearbottleneck8_elemwise_add0</title>\r\n",
       "<path fill=\"none\" stroke=\"black\" d=\"M271.812,-9691.17C267.968,-9670.78 264.263,-9645.14 264.263,-9622 264.263,-9622 264.263,-9622 264.263,-8857 264.263,-8829.01 275.955,-8799.15 286.368,-8778.1\"/>\r\n",
       "<polygon fill=\"black\" stroke=\"black\" points=\"273.755,-9701.01 267.404,-9692.07 272.787,-9696.1 271.819,-9691.2 271.819,-9691.2 271.819,-9691.2 272.787,-9696.1 276.233,-9690.33 273.755,-9701.01 273.755,-9701.01\"/>\r\n",
       "<text text-anchor=\"middle\" x=\"291.763\" y=\"-9235.8\" font-family=\"Times New Roman,serif\" font-size=\"14.00\">64x14x14</text>\r\n",
       "</g>\r\n",
       "<!-- mobilenetv20_features_linearbottleneck9_elemwise_add0&#45;&gt;mobilenetv20_features_linearbottleneck9_batchnorm2_fwd -->\r\n",
       "<g id=\"edge94\" class=\"edge\"><title>mobilenetv20_features_linearbottleneck9_elemwise_add0&#45;&gt;mobilenetv20_features_linearbottleneck9_batchnorm2_fwd</title>\r\n",
       "<path fill=\"none\" stroke=\"black\" d=\"M340.129,-9697.13C368.923,-9681.8 403.067,-9663.63 430.559,-9648.99\"/>\r\n",
       "<polygon fill=\"black\" stroke=\"black\" points=\"330.984,-9702 337.697,-9693.33 335.398,-9699.65 339.811,-9697.3 339.811,-9697.3 339.811,-9697.3 335.398,-9699.65 341.926,-9701.27 330.984,-9702 330.984,-9702\"/>\r\n",
       "<text text-anchor=\"middle\" x=\"419.763\" y=\"-9671.8\" font-family=\"Times New Roman,serif\" font-size=\"14.00\">64x14x14</text>\r\n",
       "</g>\r\n",
       "<!-- mobilenetv20_features_linearbottleneck10_conv0_fwd -->\r\n",
       "<g id=\"node91\" class=\"node\"><title>mobilenetv20_features_linearbottleneck10_conv0_fwd</title>\r\n",
       "<ellipse fill=\"#fb8072\" stroke=\"black\" cx=\"280.263\" cy=\"-9839\" rx=\"58.8062\" ry=\"29\"/>\r\n",
       "<text text-anchor=\"middle\" x=\"280.263\" y=\"-9842.8\" font-family=\"Times New Roman,serif\" font-size=\"14.00\">Convolution</text>\r\n",
       "<text text-anchor=\"middle\" x=\"280.263\" y=\"-9827.8\" font-family=\"Times New Roman,serif\" font-size=\"14.00\">1x1/1x1, 384</text>\r\n",
       "</g>\r\n",
       "<!-- mobilenetv20_features_linearbottleneck10_conv0_fwd&#45;&gt;mobilenetv20_features_linearbottleneck9_elemwise_add0 -->\r\n",
       "<g id=\"edge96\" class=\"edge\"><title>mobilenetv20_features_linearbottleneck10_conv0_fwd&#45;&gt;mobilenetv20_features_linearbottleneck9_elemwise_add0</title>\r\n",
       "<path fill=\"none\" stroke=\"black\" d=\"M280.263,-9799.58C280.263,-9786.28 280.263,-9771.63 280.263,-9759.3\"/>\r\n",
       "<polygon fill=\"black\" stroke=\"black\" points=\"280.263,-9809.89 275.763,-9799.89 280.263,-9804.89 280.263,-9799.89 280.263,-9799.89 280.263,-9799.89 280.263,-9804.89 284.763,-9799.89 280.263,-9809.89 280.263,-9809.89\"/>\r\n",
       "<text text-anchor=\"middle\" x=\"307.763\" y=\"-9780.8\" font-family=\"Times New Roman,serif\" font-size=\"14.00\">64x14x14</text>\r\n",
       "</g>\r\n",
       "<!-- mobilenetv20_features_linearbottleneck10_batchnorm0_fwd -->\r\n",
       "<g id=\"node92\" class=\"node\"><title>mobilenetv20_features_linearbottleneck10_batchnorm0_fwd</title>\r\n",
       "<ellipse fill=\"#bebada\" stroke=\"black\" cx=\"280.263\" cy=\"-9948\" rx=\"192.027\" ry=\"29\"/>\r\n",
       "<text text-anchor=\"middle\" x=\"280.263\" y=\"-9944.3\" font-family=\"Times New Roman,serif\" font-size=\"14.00\">mobilenetv20_features_linearbottleneck10_batchnorm0_fwd</text>\r\n",
       "</g>\r\n",
       "<!-- mobilenetv20_features_linearbottleneck10_batchnorm0_fwd&#45;&gt;mobilenetv20_features_linearbottleneck10_conv0_fwd -->\r\n",
       "<g id=\"edge97\" class=\"edge\"><title>mobilenetv20_features_linearbottleneck10_batchnorm0_fwd&#45;&gt;mobilenetv20_features_linearbottleneck10_conv0_fwd</title>\r\n",
       "<path fill=\"none\" stroke=\"black\" d=\"M280.263,-9908.58C280.263,-9895.28 280.263,-9880.63 280.263,-9868.3\"/>\r\n",
       "<polygon fill=\"black\" stroke=\"black\" points=\"280.263,-9918.89 275.763,-9908.89 280.263,-9913.89 280.263,-9908.89 280.263,-9908.89 280.263,-9908.89 280.263,-9913.89 284.763,-9908.89 280.263,-9918.89 280.263,-9918.89\"/>\r\n",
       "<text text-anchor=\"middle\" x=\"310.763\" y=\"-9889.8\" font-family=\"Times New Roman,serif\" font-size=\"14.00\">384x14x14</text>\r\n",
       "</g>\r\n",
       "<!-- mobilenetv20_features_linearbottleneck10_relu60_relu6 -->\r\n",
       "<g id=\"node93\" class=\"node\"><title>mobilenetv20_features_linearbottleneck10_relu60_relu6</title>\r\n",
       "<ellipse fill=\"#fccde5\" stroke=\"black\" cx=\"280.263\" cy=\"-10057\" rx=\"177.615\" ry=\"29\"/>\r\n",
       "<text text-anchor=\"middle\" x=\"280.263\" y=\"-10053.3\" font-family=\"Times New Roman,serif\" font-size=\"14.00\">mobilenetv20_features_linearbottleneck10_relu60_relu6</text>\r\n",
       "</g>\r\n",
       "<!-- mobilenetv20_features_linearbottleneck10_relu60_relu6&#45;&gt;mobilenetv20_features_linearbottleneck10_batchnorm0_fwd -->\r\n",
       "<g id=\"edge98\" class=\"edge\"><title>mobilenetv20_features_linearbottleneck10_relu60_relu6&#45;&gt;mobilenetv20_features_linearbottleneck10_batchnorm0_fwd</title>\r\n",
       "<path fill=\"none\" stroke=\"black\" d=\"M280.263,-10017.6C280.263,-10004.3 280.263,-9989.63 280.263,-9977.3\"/>\r\n",
       "<polygon fill=\"black\" stroke=\"black\" points=\"280.263,-10027.9 275.763,-10017.9 280.263,-10022.9 280.263,-10017.9 280.263,-10017.9 280.263,-10017.9 280.263,-10022.9 284.763,-10017.9 280.263,-10027.9 280.263,-10027.9\"/>\r\n",
       "<text text-anchor=\"middle\" x=\"310.763\" y=\"-9998.8\" font-family=\"Times New Roman,serif\" font-size=\"14.00\">384x14x14</text>\r\n",
       "</g>\r\n",
       "<!-- mobilenetv20_features_linearbottleneck10_conv1_fwd -->\r\n",
       "<g id=\"node94\" class=\"node\"><title>mobilenetv20_features_linearbottleneck10_conv1_fwd</title>\r\n",
       "<ellipse fill=\"#fb8072\" stroke=\"black\" cx=\"280.263\" cy=\"-10166\" rx=\"58.8062\" ry=\"29\"/>\r\n",
       "<text text-anchor=\"middle\" x=\"280.263\" y=\"-10169.8\" font-family=\"Times New Roman,serif\" font-size=\"14.00\">Convolution</text>\r\n",
       "<text text-anchor=\"middle\" x=\"280.263\" y=\"-10154.8\" font-family=\"Times New Roman,serif\" font-size=\"14.00\">3x3/1x1, 384</text>\r\n",
       "</g>\r\n",
       "<!-- mobilenetv20_features_linearbottleneck10_conv1_fwd&#45;&gt;mobilenetv20_features_linearbottleneck10_relu60_relu6 -->\r\n",
       "<g id=\"edge99\" class=\"edge\"><title>mobilenetv20_features_linearbottleneck10_conv1_fwd&#45;&gt;mobilenetv20_features_linearbottleneck10_relu60_relu6</title>\r\n",
       "<path fill=\"none\" stroke=\"black\" d=\"M280.263,-10126.6C280.263,-10113.3 280.263,-10098.6 280.263,-10086.3\"/>\r\n",
       "<polygon fill=\"black\" stroke=\"black\" points=\"280.263,-10136.9 275.763,-10126.9 280.263,-10131.9 280.263,-10126.9 280.263,-10126.9 280.263,-10126.9 280.263,-10131.9 284.763,-10126.9 280.263,-10136.9 280.263,-10136.9\"/>\r\n",
       "<text text-anchor=\"middle\" x=\"310.763\" y=\"-10107.8\" font-family=\"Times New Roman,serif\" font-size=\"14.00\">384x14x14</text>\r\n",
       "</g>\r\n",
       "<!-- mobilenetv20_features_linearbottleneck10_batchnorm1_fwd -->\r\n",
       "<g id=\"node95\" class=\"node\"><title>mobilenetv20_features_linearbottleneck10_batchnorm1_fwd</title>\r\n",
       "<ellipse fill=\"#bebada\" stroke=\"black\" cx=\"280.263\" cy=\"-10275\" rx=\"192.027\" ry=\"29\"/>\r\n",
       "<text text-anchor=\"middle\" x=\"280.263\" y=\"-10271.3\" font-family=\"Times New Roman,serif\" font-size=\"14.00\">mobilenetv20_features_linearbottleneck10_batchnorm1_fwd</text>\r\n",
       "</g>\r\n",
       "<!-- mobilenetv20_features_linearbottleneck10_batchnorm1_fwd&#45;&gt;mobilenetv20_features_linearbottleneck10_conv1_fwd -->\r\n",
       "<g id=\"edge100\" class=\"edge\"><title>mobilenetv20_features_linearbottleneck10_batchnorm1_fwd&#45;&gt;mobilenetv20_features_linearbottleneck10_conv1_fwd</title>\r\n",
       "<path fill=\"none\" stroke=\"black\" d=\"M280.263,-10235.6C280.263,-10222.3 280.263,-10207.6 280.263,-10195.3\"/>\r\n",
       "<polygon fill=\"black\" stroke=\"black\" points=\"280.263,-10245.9 275.763,-10235.9 280.263,-10240.9 280.263,-10235.9 280.263,-10235.9 280.263,-10235.9 280.263,-10240.9 284.763,-10235.9 280.263,-10245.9 280.263,-10245.9\"/>\r\n",
       "<text text-anchor=\"middle\" x=\"310.763\" y=\"-10216.8\" font-family=\"Times New Roman,serif\" font-size=\"14.00\">384x14x14</text>\r\n",
       "</g>\r\n",
       "<!-- mobilenetv20_features_linearbottleneck10_relu61_relu6 -->\r\n",
       "<g id=\"node96\" class=\"node\"><title>mobilenetv20_features_linearbottleneck10_relu61_relu6</title>\r\n",
       "<ellipse fill=\"#fccde5\" stroke=\"black\" cx=\"280.263\" cy=\"-10384\" rx=\"177.615\" ry=\"29\"/>\r\n",
       "<text text-anchor=\"middle\" x=\"280.263\" y=\"-10380.3\" font-family=\"Times New Roman,serif\" font-size=\"14.00\">mobilenetv20_features_linearbottleneck10_relu61_relu6</text>\r\n",
       "</g>\r\n",
       "<!-- mobilenetv20_features_linearbottleneck10_relu61_relu6&#45;&gt;mobilenetv20_features_linearbottleneck10_batchnorm1_fwd -->\r\n",
       "<g id=\"edge101\" class=\"edge\"><title>mobilenetv20_features_linearbottleneck10_relu61_relu6&#45;&gt;mobilenetv20_features_linearbottleneck10_batchnorm1_fwd</title>\r\n",
       "<path fill=\"none\" stroke=\"black\" d=\"M280.263,-10344.6C280.263,-10331.3 280.263,-10316.6 280.263,-10304.3\"/>\r\n",
       "<polygon fill=\"black\" stroke=\"black\" points=\"280.263,-10354.9 275.763,-10344.9 280.263,-10349.9 280.263,-10344.9 280.263,-10344.9 280.263,-10344.9 280.263,-10349.9 284.763,-10344.9 280.263,-10354.9 280.263,-10354.9\"/>\r\n",
       "<text text-anchor=\"middle\" x=\"310.763\" y=\"-10325.8\" font-family=\"Times New Roman,serif\" font-size=\"14.00\">384x14x14</text>\r\n",
       "</g>\r\n",
       "<!-- mobilenetv20_features_linearbottleneck10_conv2_fwd -->\r\n",
       "<g id=\"node97\" class=\"node\"><title>mobilenetv20_features_linearbottleneck10_conv2_fwd</title>\r\n",
       "<ellipse fill=\"#fb8072\" stroke=\"black\" cx=\"280.263\" cy=\"-10493\" rx=\"56.8351\" ry=\"29\"/>\r\n",
       "<text text-anchor=\"middle\" x=\"280.263\" y=\"-10496.8\" font-family=\"Times New Roman,serif\" font-size=\"14.00\">Convolution</text>\r\n",
       "<text text-anchor=\"middle\" x=\"280.263\" y=\"-10481.8\" font-family=\"Times New Roman,serif\" font-size=\"14.00\">1x1/1x1, 96</text>\r\n",
       "</g>\r\n",
       "<!-- mobilenetv20_features_linearbottleneck10_conv2_fwd&#45;&gt;mobilenetv20_features_linearbottleneck10_relu61_relu6 -->\r\n",
       "<g id=\"edge102\" class=\"edge\"><title>mobilenetv20_features_linearbottleneck10_conv2_fwd&#45;&gt;mobilenetv20_features_linearbottleneck10_relu61_relu6</title>\r\n",
       "<path fill=\"none\" stroke=\"black\" d=\"M280.263,-10453.6C280.263,-10440.3 280.263,-10425.6 280.263,-10413.3\"/>\r\n",
       "<polygon fill=\"black\" stroke=\"black\" points=\"280.263,-10463.9 275.763,-10453.9 280.263,-10458.9 280.263,-10453.9 280.263,-10453.9 280.263,-10453.9 280.263,-10458.9 284.763,-10453.9 280.263,-10463.9 280.263,-10463.9\"/>\r\n",
       "<text text-anchor=\"middle\" x=\"310.763\" y=\"-10434.8\" font-family=\"Times New Roman,serif\" font-size=\"14.00\">384x14x14</text>\r\n",
       "</g>\r\n",
       "<!-- mobilenetv20_features_linearbottleneck10_batchnorm2_fwd -->\r\n",
       "<g id=\"node98\" class=\"node\"><title>mobilenetv20_features_linearbottleneck10_batchnorm2_fwd</title>\r\n",
       "<ellipse fill=\"#bebada\" stroke=\"black\" cx=\"280.263\" cy=\"-10602\" rx=\"192.027\" ry=\"29\"/>\r\n",
       "<text text-anchor=\"middle\" x=\"280.263\" y=\"-10598.3\" font-family=\"Times New Roman,serif\" font-size=\"14.00\">mobilenetv20_features_linearbottleneck10_batchnorm2_fwd</text>\r\n",
       "</g>\r\n",
       "<!-- mobilenetv20_features_linearbottleneck10_batchnorm2_fwd&#45;&gt;mobilenetv20_features_linearbottleneck10_conv2_fwd -->\r\n",
       "<g id=\"edge103\" class=\"edge\"><title>mobilenetv20_features_linearbottleneck10_batchnorm2_fwd&#45;&gt;mobilenetv20_features_linearbottleneck10_conv2_fwd</title>\r\n",
       "<path fill=\"none\" stroke=\"black\" d=\"M280.263,-10562.6C280.263,-10549.3 280.263,-10534.6 280.263,-10522.3\"/>\r\n",
       "<polygon fill=\"black\" stroke=\"black\" points=\"280.263,-10572.9 275.763,-10562.9 280.263,-10567.9 280.263,-10562.9 280.263,-10562.9 280.263,-10562.9 280.263,-10567.9 284.763,-10562.9 280.263,-10572.9 280.263,-10572.9\"/>\r\n",
       "<text text-anchor=\"middle\" x=\"307.763\" y=\"-10543.8\" font-family=\"Times New Roman,serif\" font-size=\"14.00\">96x14x14</text>\r\n",
       "</g>\r\n",
       "<!-- mobilenetv20_features_linearbottleneck11_conv0_fwd -->\r\n",
       "<g id=\"node99\" class=\"node\"><title>mobilenetv20_features_linearbottleneck11_conv0_fwd</title>\r\n",
       "<ellipse fill=\"#fb8072\" stroke=\"black\" cx=\"362.263\" cy=\"-10711\" rx=\"58.8062\" ry=\"29\"/>\r\n",
       "<text text-anchor=\"middle\" x=\"362.263\" y=\"-10714.8\" font-family=\"Times New Roman,serif\" font-size=\"14.00\">Convolution</text>\r\n",
       "<text text-anchor=\"middle\" x=\"362.263\" y=\"-10699.8\" font-family=\"Times New Roman,serif\" font-size=\"14.00\">1x1/1x1, 576</text>\r\n",
       "</g>\r\n",
       "<!-- mobilenetv20_features_linearbottleneck11_conv0_fwd&#45;&gt;mobilenetv20_features_linearbottleneck10_batchnorm2_fwd -->\r\n",
       "<g id=\"edge104\" class=\"edge\"><title>mobilenetv20_features_linearbottleneck11_conv0_fwd&#45;&gt;mobilenetv20_features_linearbottleneck10_batchnorm2_fwd</title>\r\n",
       "<path fill=\"none\" stroke=\"black\" d=\"M335.73,-10675.4C324.73,-10661 312.136,-10644.6 301.732,-10631\"/>\r\n",
       "<polygon fill=\"black\" stroke=\"black\" points=\"341.994,-10683.6 332.339,-10678.4 338.952,-10679.6 335.911,-10675.6 335.911,-10675.6 335.911,-10675.6 338.952,-10679.6 339.483,-10672.9 341.994,-10683.6 341.994,-10683.6\"/>\r\n",
       "<text text-anchor=\"middle\" x=\"352.763\" y=\"-10652.8\" font-family=\"Times New Roman,serif\" font-size=\"14.00\">96x14x14</text>\r\n",
       "</g>\r\n",
       "<!-- mobilenetv20_features_linearbottleneck11_batchnorm0_fwd -->\r\n",
       "<g id=\"node100\" class=\"node\"><title>mobilenetv20_features_linearbottleneck11_batchnorm0_fwd</title>\r\n",
       "<ellipse fill=\"#bebada\" stroke=\"black\" cx=\"462.263\" cy=\"-10820\" rx=\"192.027\" ry=\"29\"/>\r\n",
       "<text text-anchor=\"middle\" x=\"462.263\" y=\"-10816.3\" font-family=\"Times New Roman,serif\" font-size=\"14.00\">mobilenetv20_features_linearbottleneck11_batchnorm0_fwd</text>\r\n",
       "</g>\r\n",
       "<!-- mobilenetv20_features_linearbottleneck11_batchnorm0_fwd&#45;&gt;mobilenetv20_features_linearbottleneck11_conv0_fwd -->\r\n",
       "<g id=\"edge105\" class=\"edge\"><title>mobilenetv20_features_linearbottleneck11_batchnorm0_fwd&#45;&gt;mobilenetv20_features_linearbottleneck11_conv0_fwd</title>\r\n",
       "<path fill=\"none\" stroke=\"black\" d=\"M429.16,-10783.6C415.202,-10768.6 399.253,-10751.6 386.43,-10737.9\"/>\r\n",
       "<polygon fill=\"black\" stroke=\"black\" points=\"436.25,-10791.2 426.135,-10786.9 432.836,-10787.5 429.422,-10783.9 429.422,-10783.9 429.422,-10783.9 432.836,-10787.5 432.71,-10780.8 436.25,-10791.2 436.25,-10791.2\"/>\r\n",
       "<text text-anchor=\"middle\" x=\"447.763\" y=\"-10761.8\" font-family=\"Times New Roman,serif\" font-size=\"14.00\">576x14x14</text>\r\n",
       "</g>\r\n",
       "<!-- mobilenetv20_features_linearbottleneck11_relu60_relu6 -->\r\n",
       "<g id=\"node101\" class=\"node\"><title>mobilenetv20_features_linearbottleneck11_relu60_relu6</title>\r\n",
       "<ellipse fill=\"#fccde5\" stroke=\"black\" cx=\"462.263\" cy=\"-10929\" rx=\"177.615\" ry=\"29\"/>\r\n",
       "<text text-anchor=\"middle\" x=\"462.263\" y=\"-10925.3\" font-family=\"Times New Roman,serif\" font-size=\"14.00\">mobilenetv20_features_linearbottleneck11_relu60_relu6</text>\r\n",
       "</g>\r\n",
       "<!-- mobilenetv20_features_linearbottleneck11_relu60_relu6&#45;&gt;mobilenetv20_features_linearbottleneck11_batchnorm0_fwd -->\r\n",
       "<g id=\"edge106\" class=\"edge\"><title>mobilenetv20_features_linearbottleneck11_relu60_relu6&#45;&gt;mobilenetv20_features_linearbottleneck11_batchnorm0_fwd</title>\r\n",
       "<path fill=\"none\" stroke=\"black\" d=\"M462.263,-10889.6C462.263,-10876.3 462.263,-10861.6 462.263,-10849.3\"/>\r\n",
       "<polygon fill=\"black\" stroke=\"black\" points=\"462.263,-10899.9 457.763,-10889.9 462.263,-10894.9 462.263,-10889.9 462.263,-10889.9 462.263,-10889.9 462.263,-10894.9 466.763,-10889.9 462.263,-10899.9 462.263,-10899.9\"/>\r\n",
       "<text text-anchor=\"middle\" x=\"492.763\" y=\"-10870.8\" font-family=\"Times New Roman,serif\" font-size=\"14.00\">576x14x14</text>\r\n",
       "</g>\r\n",
       "<!-- mobilenetv20_features_linearbottleneck11_conv1_fwd -->\r\n",
       "<g id=\"node102\" class=\"node\"><title>mobilenetv20_features_linearbottleneck11_conv1_fwd</title>\r\n",
       "<ellipse fill=\"#fb8072\" stroke=\"black\" cx=\"462.263\" cy=\"-11038\" rx=\"58.8062\" ry=\"29\"/>\r\n",
       "<text text-anchor=\"middle\" x=\"462.263\" y=\"-11041.8\" font-family=\"Times New Roman,serif\" font-size=\"14.00\">Convolution</text>\r\n",
       "<text text-anchor=\"middle\" x=\"462.263\" y=\"-11026.8\" font-family=\"Times New Roman,serif\" font-size=\"14.00\">3x3/1x1, 576</text>\r\n",
       "</g>\r\n",
       "<!-- mobilenetv20_features_linearbottleneck11_conv1_fwd&#45;&gt;mobilenetv20_features_linearbottleneck11_relu60_relu6 -->\r\n",
       "<g id=\"edge107\" class=\"edge\"><title>mobilenetv20_features_linearbottleneck11_conv1_fwd&#45;&gt;mobilenetv20_features_linearbottleneck11_relu60_relu6</title>\r\n",
       "<path fill=\"none\" stroke=\"black\" d=\"M462.263,-10998.6C462.263,-10985.3 462.263,-10970.6 462.263,-10958.3\"/>\r\n",
       "<polygon fill=\"black\" stroke=\"black\" points=\"462.263,-11008.9 457.763,-10998.9 462.263,-11003.9 462.263,-10998.9 462.263,-10998.9 462.263,-10998.9 462.263,-11003.9 466.763,-10998.9 462.263,-11008.9 462.263,-11008.9\"/>\r\n",
       "<text text-anchor=\"middle\" x=\"492.763\" y=\"-10979.8\" font-family=\"Times New Roman,serif\" font-size=\"14.00\">576x14x14</text>\r\n",
       "</g>\r\n",
       "<!-- mobilenetv20_features_linearbottleneck11_batchnorm1_fwd -->\r\n",
       "<g id=\"node103\" class=\"node\"><title>mobilenetv20_features_linearbottleneck11_batchnorm1_fwd</title>\r\n",
       "<ellipse fill=\"#bebada\" stroke=\"black\" cx=\"462.263\" cy=\"-11147\" rx=\"192.027\" ry=\"29\"/>\r\n",
       "<text text-anchor=\"middle\" x=\"462.263\" y=\"-11143.3\" font-family=\"Times New Roman,serif\" font-size=\"14.00\">mobilenetv20_features_linearbottleneck11_batchnorm1_fwd</text>\r\n",
       "</g>\r\n",
       "<!-- mobilenetv20_features_linearbottleneck11_batchnorm1_fwd&#45;&gt;mobilenetv20_features_linearbottleneck11_conv1_fwd -->\r\n",
       "<g id=\"edge108\" class=\"edge\"><title>mobilenetv20_features_linearbottleneck11_batchnorm1_fwd&#45;&gt;mobilenetv20_features_linearbottleneck11_conv1_fwd</title>\r\n",
       "<path fill=\"none\" stroke=\"black\" d=\"M462.263,-11107.6C462.263,-11094.3 462.263,-11079.6 462.263,-11067.3\"/>\r\n",
       "<polygon fill=\"black\" stroke=\"black\" points=\"462.263,-11117.9 457.763,-11107.9 462.263,-11112.9 462.263,-11107.9 462.263,-11107.9 462.263,-11107.9 462.263,-11112.9 466.763,-11107.9 462.263,-11117.9 462.263,-11117.9\"/>\r\n",
       "<text text-anchor=\"middle\" x=\"492.763\" y=\"-11088.8\" font-family=\"Times New Roman,serif\" font-size=\"14.00\">576x14x14</text>\r\n",
       "</g>\r\n",
       "<!-- mobilenetv20_features_linearbottleneck11_relu61_relu6 -->\r\n",
       "<g id=\"node104\" class=\"node\"><title>mobilenetv20_features_linearbottleneck11_relu61_relu6</title>\r\n",
       "<ellipse fill=\"#fccde5\" stroke=\"black\" cx=\"462.263\" cy=\"-11256\" rx=\"177.615\" ry=\"29\"/>\r\n",
       "<text text-anchor=\"middle\" x=\"462.263\" y=\"-11252.3\" font-family=\"Times New Roman,serif\" font-size=\"14.00\">mobilenetv20_features_linearbottleneck11_relu61_relu6</text>\r\n",
       "</g>\r\n",
       "<!-- mobilenetv20_features_linearbottleneck11_relu61_relu6&#45;&gt;mobilenetv20_features_linearbottleneck11_batchnorm1_fwd -->\r\n",
       "<g id=\"edge109\" class=\"edge\"><title>mobilenetv20_features_linearbottleneck11_relu61_relu6&#45;&gt;mobilenetv20_features_linearbottleneck11_batchnorm1_fwd</title>\r\n",
       "<path fill=\"none\" stroke=\"black\" d=\"M462.263,-11216.6C462.263,-11203.3 462.263,-11188.6 462.263,-11176.3\"/>\r\n",
       "<polygon fill=\"black\" stroke=\"black\" points=\"462.263,-11226.9 457.763,-11216.9 462.263,-11221.9 462.263,-11216.9 462.263,-11216.9 462.263,-11216.9 462.263,-11221.9 466.763,-11216.9 462.263,-11226.9 462.263,-11226.9\"/>\r\n",
       "<text text-anchor=\"middle\" x=\"492.763\" y=\"-11197.8\" font-family=\"Times New Roman,serif\" font-size=\"14.00\">576x14x14</text>\r\n",
       "</g>\r\n",
       "<!-- mobilenetv20_features_linearbottleneck11_conv2_fwd -->\r\n",
       "<g id=\"node105\" class=\"node\"><title>mobilenetv20_features_linearbottleneck11_conv2_fwd</title>\r\n",
       "<ellipse fill=\"#fb8072\" stroke=\"black\" cx=\"462.263\" cy=\"-11365\" rx=\"56.8351\" ry=\"29\"/>\r\n",
       "<text text-anchor=\"middle\" x=\"462.263\" y=\"-11368.8\" font-family=\"Times New Roman,serif\" font-size=\"14.00\">Convolution</text>\r\n",
       "<text text-anchor=\"middle\" x=\"462.263\" y=\"-11353.8\" font-family=\"Times New Roman,serif\" font-size=\"14.00\">1x1/1x1, 96</text>\r\n",
       "</g>\r\n",
       "<!-- mobilenetv20_features_linearbottleneck11_conv2_fwd&#45;&gt;mobilenetv20_features_linearbottleneck11_relu61_relu6 -->\r\n",
       "<g id=\"edge110\" class=\"edge\"><title>mobilenetv20_features_linearbottleneck11_conv2_fwd&#45;&gt;mobilenetv20_features_linearbottleneck11_relu61_relu6</title>\r\n",
       "<path fill=\"none\" stroke=\"black\" d=\"M462.263,-11325.6C462.263,-11312.3 462.263,-11297.6 462.263,-11285.3\"/>\r\n",
       "<polygon fill=\"black\" stroke=\"black\" points=\"462.263,-11335.9 457.763,-11325.9 462.263,-11330.9 462.263,-11325.9 462.263,-11325.9 462.263,-11325.9 462.263,-11330.9 466.763,-11325.9 462.263,-11335.9 462.263,-11335.9\"/>\r\n",
       "<text text-anchor=\"middle\" x=\"492.763\" y=\"-11306.8\" font-family=\"Times New Roman,serif\" font-size=\"14.00\">576x14x14</text>\r\n",
       "</g>\r\n",
       "<!-- mobilenetv20_features_linearbottleneck11_batchnorm2_fwd -->\r\n",
       "<g id=\"node106\" class=\"node\"><title>mobilenetv20_features_linearbottleneck11_batchnorm2_fwd</title>\r\n",
       "<ellipse fill=\"#bebada\" stroke=\"black\" cx=\"462.263\" cy=\"-11474\" rx=\"192.027\" ry=\"29\"/>\r\n",
       "<text text-anchor=\"middle\" x=\"462.263\" y=\"-11470.3\" font-family=\"Times New Roman,serif\" font-size=\"14.00\">mobilenetv20_features_linearbottleneck11_batchnorm2_fwd</text>\r\n",
       "</g>\r\n",
       "<!-- mobilenetv20_features_linearbottleneck11_batchnorm2_fwd&#45;&gt;mobilenetv20_features_linearbottleneck11_conv2_fwd -->\r\n",
       "<g id=\"edge111\" class=\"edge\"><title>mobilenetv20_features_linearbottleneck11_batchnorm2_fwd&#45;&gt;mobilenetv20_features_linearbottleneck11_conv2_fwd</title>\r\n",
       "<path fill=\"none\" stroke=\"black\" d=\"M462.263,-11434.6C462.263,-11421.3 462.263,-11406.6 462.263,-11394.3\"/>\r\n",
       "<polygon fill=\"black\" stroke=\"black\" points=\"462.263,-11444.9 457.763,-11434.9 462.263,-11439.9 462.263,-11434.9 462.263,-11434.9 462.263,-11434.9 462.263,-11439.9 466.763,-11434.9 462.263,-11444.9 462.263,-11444.9\"/>\r\n",
       "<text text-anchor=\"middle\" x=\"489.763\" y=\"-11415.8\" font-family=\"Times New Roman,serif\" font-size=\"14.00\">96x14x14</text>\r\n",
       "</g>\r\n",
       "<!-- mobilenetv20_features_linearbottleneck11_elemwise_add0 -->\r\n",
       "<g id=\"node107\" class=\"node\"><title>mobilenetv20_features_linearbottleneck11_elemwise_add0</title>\r\n",
       "<ellipse fill=\"#fccde5\" stroke=\"black\" cx=\"258.263\" cy=\"-11583\" rx=\"186.633\" ry=\"29\"/>\r\n",
       "<text text-anchor=\"middle\" x=\"258.263\" y=\"-11579.3\" font-family=\"Times New Roman,serif\" font-size=\"14.00\">mobilenetv20_features_linearbottleneck11_elemwise_add0</text>\r\n",
       "</g>\r\n",
       "<!-- mobilenetv20_features_linearbottleneck11_elemwise_add0&#45;&gt;mobilenetv20_features_linearbottleneck10_batchnorm2_fwd -->\r\n",
       "<g id=\"edge113\" class=\"edge\"><title>mobilenetv20_features_linearbottleneck11_elemwise_add0&#45;&gt;mobilenetv20_features_linearbottleneck10_batchnorm2_fwd</title>\r\n",
       "<path fill=\"none\" stroke=\"black\" d=\"M249.812,-11544.2C245.968,-11523.8 242.263,-11498.1 242.263,-11475 242.263,-11475 242.263,-11475 242.263,-10710 242.263,-10682 253.955,-10652.1 264.368,-10631.1\"/>\r\n",
       "<polygon fill=\"black\" stroke=\"black\" points=\"251.755,-11554 245.404,-11545.1 250.787,-11549.1 249.819,-11544.2 249.819,-11544.2 249.819,-11544.2 250.787,-11549.1 254.233,-11543.3 251.755,-11554 251.755,-11554\"/>\r\n",
       "<text text-anchor=\"middle\" x=\"269.763\" y=\"-11088.8\" font-family=\"Times New Roman,serif\" font-size=\"14.00\">96x14x14</text>\r\n",
       "</g>\r\n",
       "<!-- mobilenetv20_features_linearbottleneck11_elemwise_add0&#45;&gt;mobilenetv20_features_linearbottleneck11_batchnorm2_fwd -->\r\n",
       "<g id=\"edge112\" class=\"edge\"><title>mobilenetv20_features_linearbottleneck11_elemwise_add0&#45;&gt;mobilenetv20_features_linearbottleneck11_batchnorm2_fwd</title>\r\n",
       "<path fill=\"none\" stroke=\"black\" d=\"M318.644,-11550.3C347.946,-11535 382.779,-11516.7 410.802,-11502\"/>\r\n",
       "<polygon fill=\"black\" stroke=\"black\" points=\"309.741,-11555 316.507,-11546.4 314.169,-11552.7 318.597,-11550.4 318.597,-11550.4 318.597,-11550.4 314.169,-11552.7 320.687,-11554.3 309.741,-11555 309.741,-11555\"/>\r\n",
       "<text text-anchor=\"middle\" x=\"399.763\" y=\"-11524.8\" font-family=\"Times New Roman,serif\" font-size=\"14.00\">96x14x14</text>\r\n",
       "</g>\r\n",
       "<!-- mobilenetv20_features_linearbottleneck12_conv0_fwd -->\r\n",
       "<g id=\"node108\" class=\"node\"><title>mobilenetv20_features_linearbottleneck12_conv0_fwd</title>\r\n",
       "<ellipse fill=\"#fb8072\" stroke=\"black\" cx=\"340.263\" cy=\"-11692\" rx=\"58.8062\" ry=\"29\"/>\r\n",
       "<text text-anchor=\"middle\" x=\"340.263\" y=\"-11695.8\" font-family=\"Times New Roman,serif\" font-size=\"14.00\">Convolution</text>\r\n",
       "<text text-anchor=\"middle\" x=\"340.263\" y=\"-11680.8\" font-family=\"Times New Roman,serif\" font-size=\"14.00\">1x1/1x1, 576</text>\r\n",
       "</g>\r\n",
       "<!-- mobilenetv20_features_linearbottleneck12_conv0_fwd&#45;&gt;mobilenetv20_features_linearbottleneck11_elemwise_add0 -->\r\n",
       "<g id=\"edge114\" class=\"edge\"><title>mobilenetv20_features_linearbottleneck12_conv0_fwd&#45;&gt;mobilenetv20_features_linearbottleneck11_elemwise_add0</title>\r\n",
       "<path fill=\"none\" stroke=\"black\" d=\"M313.73,-11656.4C302.73,-11642 290.136,-11625.6 279.732,-11612\"/>\r\n",
       "<polygon fill=\"black\" stroke=\"black\" points=\"319.994,-11664.6 310.339,-11659.4 316.952,-11660.6 313.911,-11656.6 313.911,-11656.6 313.911,-11656.6 316.952,-11660.6 317.483,-11653.9 319.994,-11664.6 319.994,-11664.6\"/>\r\n",
       "<text text-anchor=\"middle\" x=\"330.763\" y=\"-11633.8\" font-family=\"Times New Roman,serif\" font-size=\"14.00\">96x14x14</text>\r\n",
       "</g>\r\n",
       "<!-- mobilenetv20_features_linearbottleneck12_batchnorm0_fwd -->\r\n",
       "<g id=\"node109\" class=\"node\"><title>mobilenetv20_features_linearbottleneck12_batchnorm0_fwd</title>\r\n",
       "<ellipse fill=\"#bebada\" stroke=\"black\" cx=\"440.263\" cy=\"-11801\" rx=\"192.027\" ry=\"29\"/>\r\n",
       "<text text-anchor=\"middle\" x=\"440.263\" y=\"-11797.3\" font-family=\"Times New Roman,serif\" font-size=\"14.00\">mobilenetv20_features_linearbottleneck12_batchnorm0_fwd</text>\r\n",
       "</g>\r\n",
       "<!-- mobilenetv20_features_linearbottleneck12_batchnorm0_fwd&#45;&gt;mobilenetv20_features_linearbottleneck12_conv0_fwd -->\r\n",
       "<g id=\"edge115\" class=\"edge\"><title>mobilenetv20_features_linearbottleneck12_batchnorm0_fwd&#45;&gt;mobilenetv20_features_linearbottleneck12_conv0_fwd</title>\r\n",
       "<path fill=\"none\" stroke=\"black\" d=\"M407.16,-11764.6C393.202,-11749.6 377.253,-11732.6 364.43,-11718.9\"/>\r\n",
       "<polygon fill=\"black\" stroke=\"black\" points=\"414.25,-11772.2 404.135,-11767.9 410.836,-11768.5 407.422,-11764.9 407.422,-11764.9 407.422,-11764.9 410.836,-11768.5 410.71,-11761.8 414.25,-11772.2 414.25,-11772.2\"/>\r\n",
       "<text text-anchor=\"middle\" x=\"425.763\" y=\"-11742.8\" font-family=\"Times New Roman,serif\" font-size=\"14.00\">576x14x14</text>\r\n",
       "</g>\r\n",
       "<!-- mobilenetv20_features_linearbottleneck12_relu60_relu6 -->\r\n",
       "<g id=\"node110\" class=\"node\"><title>mobilenetv20_features_linearbottleneck12_relu60_relu6</title>\r\n",
       "<ellipse fill=\"#fccde5\" stroke=\"black\" cx=\"440.263\" cy=\"-11910\" rx=\"177.615\" ry=\"29\"/>\r\n",
       "<text text-anchor=\"middle\" x=\"440.263\" y=\"-11906.3\" font-family=\"Times New Roman,serif\" font-size=\"14.00\">mobilenetv20_features_linearbottleneck12_relu60_relu6</text>\r\n",
       "</g>\r\n",
       "<!-- mobilenetv20_features_linearbottleneck12_relu60_relu6&#45;&gt;mobilenetv20_features_linearbottleneck12_batchnorm0_fwd -->\r\n",
       "<g id=\"edge116\" class=\"edge\"><title>mobilenetv20_features_linearbottleneck12_relu60_relu6&#45;&gt;mobilenetv20_features_linearbottleneck12_batchnorm0_fwd</title>\r\n",
       "<path fill=\"none\" stroke=\"black\" d=\"M440.263,-11870.6C440.263,-11857.3 440.263,-11842.6 440.263,-11830.3\"/>\r\n",
       "<polygon fill=\"black\" stroke=\"black\" points=\"440.263,-11880.9 435.763,-11870.9 440.263,-11875.9 440.263,-11870.9 440.263,-11870.9 440.263,-11870.9 440.263,-11875.9 444.763,-11870.9 440.263,-11880.9 440.263,-11880.9\"/>\r\n",
       "<text text-anchor=\"middle\" x=\"470.763\" y=\"-11851.8\" font-family=\"Times New Roman,serif\" font-size=\"14.00\">576x14x14</text>\r\n",
       "</g>\r\n",
       "<!-- mobilenetv20_features_linearbottleneck12_conv1_fwd -->\r\n",
       "<g id=\"node111\" class=\"node\"><title>mobilenetv20_features_linearbottleneck12_conv1_fwd</title>\r\n",
       "<ellipse fill=\"#fb8072\" stroke=\"black\" cx=\"440.263\" cy=\"-12019\" rx=\"58.8062\" ry=\"29\"/>\r\n",
       "<text text-anchor=\"middle\" x=\"440.263\" y=\"-12022.8\" font-family=\"Times New Roman,serif\" font-size=\"14.00\">Convolution</text>\r\n",
       "<text text-anchor=\"middle\" x=\"440.263\" y=\"-12007.8\" font-family=\"Times New Roman,serif\" font-size=\"14.00\">3x3/1x1, 576</text>\r\n",
       "</g>\r\n",
       "<!-- mobilenetv20_features_linearbottleneck12_conv1_fwd&#45;&gt;mobilenetv20_features_linearbottleneck12_relu60_relu6 -->\r\n",
       "<g id=\"edge117\" class=\"edge\"><title>mobilenetv20_features_linearbottleneck12_conv1_fwd&#45;&gt;mobilenetv20_features_linearbottleneck12_relu60_relu6</title>\r\n",
       "<path fill=\"none\" stroke=\"black\" d=\"M440.263,-11979.6C440.263,-11966.3 440.263,-11951.6 440.263,-11939.3\"/>\r\n",
       "<polygon fill=\"black\" stroke=\"black\" points=\"440.263,-11989.9 435.763,-11979.9 440.263,-11984.9 440.263,-11979.9 440.263,-11979.9 440.263,-11979.9 440.263,-11984.9 444.763,-11979.9 440.263,-11989.9 440.263,-11989.9\"/>\r\n",
       "<text text-anchor=\"middle\" x=\"470.763\" y=\"-11960.8\" font-family=\"Times New Roman,serif\" font-size=\"14.00\">576x14x14</text>\r\n",
       "</g>\r\n",
       "<!-- mobilenetv20_features_linearbottleneck12_batchnorm1_fwd -->\r\n",
       "<g id=\"node112\" class=\"node\"><title>mobilenetv20_features_linearbottleneck12_batchnorm1_fwd</title>\r\n",
       "<ellipse fill=\"#bebada\" stroke=\"black\" cx=\"440.263\" cy=\"-12128\" rx=\"192.027\" ry=\"29\"/>\r\n",
       "<text text-anchor=\"middle\" x=\"440.263\" y=\"-12124.3\" font-family=\"Times New Roman,serif\" font-size=\"14.00\">mobilenetv20_features_linearbottleneck12_batchnorm1_fwd</text>\r\n",
       "</g>\r\n",
       "<!-- mobilenetv20_features_linearbottleneck12_batchnorm1_fwd&#45;&gt;mobilenetv20_features_linearbottleneck12_conv1_fwd -->\r\n",
       "<g id=\"edge118\" class=\"edge\"><title>mobilenetv20_features_linearbottleneck12_batchnorm1_fwd&#45;&gt;mobilenetv20_features_linearbottleneck12_conv1_fwd</title>\r\n",
       "<path fill=\"none\" stroke=\"black\" d=\"M440.263,-12088.6C440.263,-12075.3 440.263,-12060.6 440.263,-12048.3\"/>\r\n",
       "<polygon fill=\"black\" stroke=\"black\" points=\"440.263,-12098.9 435.763,-12088.9 440.263,-12093.9 440.263,-12088.9 440.263,-12088.9 440.263,-12088.9 440.263,-12093.9 444.763,-12088.9 440.263,-12098.9 440.263,-12098.9\"/>\r\n",
       "<text text-anchor=\"middle\" x=\"470.763\" y=\"-12069.8\" font-family=\"Times New Roman,serif\" font-size=\"14.00\">576x14x14</text>\r\n",
       "</g>\r\n",
       "<!-- mobilenetv20_features_linearbottleneck12_relu61_relu6 -->\r\n",
       "<g id=\"node113\" class=\"node\"><title>mobilenetv20_features_linearbottleneck12_relu61_relu6</title>\r\n",
       "<ellipse fill=\"#fccde5\" stroke=\"black\" cx=\"440.263\" cy=\"-12237\" rx=\"177.615\" ry=\"29\"/>\r\n",
       "<text text-anchor=\"middle\" x=\"440.263\" y=\"-12233.3\" font-family=\"Times New Roman,serif\" font-size=\"14.00\">mobilenetv20_features_linearbottleneck12_relu61_relu6</text>\r\n",
       "</g>\r\n",
       "<!-- mobilenetv20_features_linearbottleneck12_relu61_relu6&#45;&gt;mobilenetv20_features_linearbottleneck12_batchnorm1_fwd -->\r\n",
       "<g id=\"edge119\" class=\"edge\"><title>mobilenetv20_features_linearbottleneck12_relu61_relu6&#45;&gt;mobilenetv20_features_linearbottleneck12_batchnorm1_fwd</title>\r\n",
       "<path fill=\"none\" stroke=\"black\" d=\"M440.263,-12197.6C440.263,-12184.3 440.263,-12169.6 440.263,-12157.3\"/>\r\n",
       "<polygon fill=\"black\" stroke=\"black\" points=\"440.263,-12207.9 435.763,-12197.9 440.263,-12202.9 440.263,-12197.9 440.263,-12197.9 440.263,-12197.9 440.263,-12202.9 444.763,-12197.9 440.263,-12207.9 440.263,-12207.9\"/>\r\n",
       "<text text-anchor=\"middle\" x=\"470.763\" y=\"-12178.8\" font-family=\"Times New Roman,serif\" font-size=\"14.00\">576x14x14</text>\r\n",
       "</g>\r\n",
       "<!-- mobilenetv20_features_linearbottleneck12_conv2_fwd -->\r\n",
       "<g id=\"node114\" class=\"node\"><title>mobilenetv20_features_linearbottleneck12_conv2_fwd</title>\r\n",
       "<ellipse fill=\"#fb8072\" stroke=\"black\" cx=\"440.263\" cy=\"-12346\" rx=\"56.8351\" ry=\"29\"/>\r\n",
       "<text text-anchor=\"middle\" x=\"440.263\" y=\"-12349.8\" font-family=\"Times New Roman,serif\" font-size=\"14.00\">Convolution</text>\r\n",
       "<text text-anchor=\"middle\" x=\"440.263\" y=\"-12334.8\" font-family=\"Times New Roman,serif\" font-size=\"14.00\">1x1/1x1, 96</text>\r\n",
       "</g>\r\n",
       "<!-- mobilenetv20_features_linearbottleneck12_conv2_fwd&#45;&gt;mobilenetv20_features_linearbottleneck12_relu61_relu6 -->\r\n",
       "<g id=\"edge120\" class=\"edge\"><title>mobilenetv20_features_linearbottleneck12_conv2_fwd&#45;&gt;mobilenetv20_features_linearbottleneck12_relu61_relu6</title>\r\n",
       "<path fill=\"none\" stroke=\"black\" d=\"M440.263,-12306.6C440.263,-12293.3 440.263,-12278.6 440.263,-12266.3\"/>\r\n",
       "<polygon fill=\"black\" stroke=\"black\" points=\"440.263,-12316.9 435.763,-12306.9 440.263,-12311.9 440.263,-12306.9 440.263,-12306.9 440.263,-12306.9 440.263,-12311.9 444.763,-12306.9 440.263,-12316.9 440.263,-12316.9\"/>\r\n",
       "<text text-anchor=\"middle\" x=\"470.763\" y=\"-12287.8\" font-family=\"Times New Roman,serif\" font-size=\"14.00\">576x14x14</text>\r\n",
       "</g>\r\n",
       "<!-- mobilenetv20_features_linearbottleneck12_batchnorm2_fwd -->\r\n",
       "<g id=\"node115\" class=\"node\"><title>mobilenetv20_features_linearbottleneck12_batchnorm2_fwd</title>\r\n",
       "<ellipse fill=\"#bebada\" stroke=\"black\" cx=\"440.263\" cy=\"-12455\" rx=\"192.027\" ry=\"29\"/>\r\n",
       "<text text-anchor=\"middle\" x=\"440.263\" y=\"-12451.3\" font-family=\"Times New Roman,serif\" font-size=\"14.00\">mobilenetv20_features_linearbottleneck12_batchnorm2_fwd</text>\r\n",
       "</g>\r\n",
       "<!-- mobilenetv20_features_linearbottleneck12_batchnorm2_fwd&#45;&gt;mobilenetv20_features_linearbottleneck12_conv2_fwd -->\r\n",
       "<g id=\"edge121\" class=\"edge\"><title>mobilenetv20_features_linearbottleneck12_batchnorm2_fwd&#45;&gt;mobilenetv20_features_linearbottleneck12_conv2_fwd</title>\r\n",
       "<path fill=\"none\" stroke=\"black\" d=\"M440.263,-12415.6C440.263,-12402.3 440.263,-12387.6 440.263,-12375.3\"/>\r\n",
       "<polygon fill=\"black\" stroke=\"black\" points=\"440.263,-12425.9 435.763,-12415.9 440.263,-12420.9 440.263,-12415.9 440.263,-12415.9 440.263,-12415.9 440.263,-12420.9 444.763,-12415.9 440.263,-12425.9 440.263,-12425.9\"/>\r\n",
       "<text text-anchor=\"middle\" x=\"467.763\" y=\"-12396.8\" font-family=\"Times New Roman,serif\" font-size=\"14.00\">96x14x14</text>\r\n",
       "</g>\r\n",
       "<!-- mobilenetv20_features_linearbottleneck12_elemwise_add0 -->\r\n",
       "<g id=\"node116\" class=\"node\"><title>mobilenetv20_features_linearbottleneck12_elemwise_add0</title>\r\n",
       "<ellipse fill=\"#fccde5\" stroke=\"black\" cx=\"236.263\" cy=\"-12564\" rx=\"186.633\" ry=\"29\"/>\r\n",
       "<text text-anchor=\"middle\" x=\"236.263\" y=\"-12560.3\" font-family=\"Times New Roman,serif\" font-size=\"14.00\">mobilenetv20_features_linearbottleneck12_elemwise_add0</text>\r\n",
       "</g>\r\n",
       "<!-- mobilenetv20_features_linearbottleneck12_elemwise_add0&#45;&gt;mobilenetv20_features_linearbottleneck11_elemwise_add0 -->\r\n",
       "<g id=\"edge123\" class=\"edge\"><title>mobilenetv20_features_linearbottleneck12_elemwise_add0&#45;&gt;mobilenetv20_features_linearbottleneck11_elemwise_add0</title>\r\n",
       "<path fill=\"none\" stroke=\"black\" d=\"M227.812,-12525.2C223.968,-12504.8 220.263,-12479.1 220.263,-12456 220.263,-12456 220.263,-12456 220.263,-11691 220.263,-11663 231.955,-11633.1 242.368,-11612.1\"/>\r\n",
       "<polygon fill=\"black\" stroke=\"black\" points=\"229.755,-12535 223.404,-12526.1 228.787,-12530.1 227.819,-12525.2 227.819,-12525.2 227.819,-12525.2 228.787,-12530.1 232.233,-12524.3 229.755,-12535 229.755,-12535\"/>\r\n",
       "<text text-anchor=\"middle\" x=\"247.763\" y=\"-12069.8\" font-family=\"Times New Roman,serif\" font-size=\"14.00\">96x14x14</text>\r\n",
       "</g>\r\n",
       "<!-- mobilenetv20_features_linearbottleneck12_elemwise_add0&#45;&gt;mobilenetv20_features_linearbottleneck12_batchnorm2_fwd -->\r\n",
       "<g id=\"edge122\" class=\"edge\"><title>mobilenetv20_features_linearbottleneck12_elemwise_add0&#45;&gt;mobilenetv20_features_linearbottleneck12_batchnorm2_fwd</title>\r\n",
       "<path fill=\"none\" stroke=\"black\" d=\"M296.644,-12531.3C325.946,-12516 360.779,-12497.7 388.802,-12483\"/>\r\n",
       "<polygon fill=\"black\" stroke=\"black\" points=\"287.741,-12536 294.507,-12527.4 292.169,-12533.7 296.597,-12531.4 296.597,-12531.4 296.597,-12531.4 292.169,-12533.7 298.687,-12535.3 287.741,-12536 287.741,-12536\"/>\r\n",
       "<text text-anchor=\"middle\" x=\"377.763\" y=\"-12505.8\" font-family=\"Times New Roman,serif\" font-size=\"14.00\">96x14x14</text>\r\n",
       "</g>\r\n",
       "<!-- mobilenetv20_features_linearbottleneck13_conv0_fwd -->\r\n",
       "<g id=\"node117\" class=\"node\"><title>mobilenetv20_features_linearbottleneck13_conv0_fwd</title>\r\n",
       "<ellipse fill=\"#fb8072\" stroke=\"black\" cx=\"236.263\" cy=\"-12673\" rx=\"58.8062\" ry=\"29\"/>\r\n",
       "<text text-anchor=\"middle\" x=\"236.263\" y=\"-12676.8\" font-family=\"Times New Roman,serif\" font-size=\"14.00\">Convolution</text>\r\n",
       "<text text-anchor=\"middle\" x=\"236.263\" y=\"-12661.8\" font-family=\"Times New Roman,serif\" font-size=\"14.00\">1x1/1x1, 576</text>\r\n",
       "</g>\r\n",
       "<!-- mobilenetv20_features_linearbottleneck13_conv0_fwd&#45;&gt;mobilenetv20_features_linearbottleneck12_elemwise_add0 -->\r\n",
       "<g id=\"edge124\" class=\"edge\"><title>mobilenetv20_features_linearbottleneck13_conv0_fwd&#45;&gt;mobilenetv20_features_linearbottleneck12_elemwise_add0</title>\r\n",
       "<path fill=\"none\" stroke=\"black\" d=\"M236.263,-12633.6C236.263,-12620.3 236.263,-12605.6 236.263,-12593.3\"/>\r\n",
       "<polygon fill=\"black\" stroke=\"black\" points=\"236.263,-12643.9 231.763,-12633.9 236.263,-12638.9 236.263,-12633.9 236.263,-12633.9 236.263,-12633.9 236.263,-12638.9 240.763,-12633.9 236.263,-12643.9 236.263,-12643.9\"/>\r\n",
       "<text text-anchor=\"middle\" x=\"263.763\" y=\"-12614.8\" font-family=\"Times New Roman,serif\" font-size=\"14.00\">96x14x14</text>\r\n",
       "</g>\r\n",
       "<!-- mobilenetv20_features_linearbottleneck13_batchnorm0_fwd -->\r\n",
       "<g id=\"node118\" class=\"node\"><title>mobilenetv20_features_linearbottleneck13_batchnorm0_fwd</title>\r\n",
       "<ellipse fill=\"#bebada\" stroke=\"black\" cx=\"236.263\" cy=\"-12782\" rx=\"192.027\" ry=\"29\"/>\r\n",
       "<text text-anchor=\"middle\" x=\"236.263\" y=\"-12778.3\" font-family=\"Times New Roman,serif\" font-size=\"14.00\">mobilenetv20_features_linearbottleneck13_batchnorm0_fwd</text>\r\n",
       "</g>\r\n",
       "<!-- mobilenetv20_features_linearbottleneck13_batchnorm0_fwd&#45;&gt;mobilenetv20_features_linearbottleneck13_conv0_fwd -->\r\n",
       "<g id=\"edge125\" class=\"edge\"><title>mobilenetv20_features_linearbottleneck13_batchnorm0_fwd&#45;&gt;mobilenetv20_features_linearbottleneck13_conv0_fwd</title>\r\n",
       "<path fill=\"none\" stroke=\"black\" d=\"M236.263,-12742.6C236.263,-12729.3 236.263,-12714.6 236.263,-12702.3\"/>\r\n",
       "<polygon fill=\"black\" stroke=\"black\" points=\"236.263,-12752.9 231.763,-12742.9 236.263,-12747.9 236.263,-12742.9 236.263,-12742.9 236.263,-12742.9 236.263,-12747.9 240.763,-12742.9 236.263,-12752.9 236.263,-12752.9\"/>\r\n",
       "<text text-anchor=\"middle\" x=\"266.763\" y=\"-12723.8\" font-family=\"Times New Roman,serif\" font-size=\"14.00\">576x14x14</text>\r\n",
       "</g>\r\n",
       "<!-- mobilenetv20_features_linearbottleneck13_relu60_relu6 -->\r\n",
       "<g id=\"node119\" class=\"node\"><title>mobilenetv20_features_linearbottleneck13_relu60_relu6</title>\r\n",
       "<ellipse fill=\"#fccde5\" stroke=\"black\" cx=\"236.263\" cy=\"-12891\" rx=\"177.615\" ry=\"29\"/>\r\n",
       "<text text-anchor=\"middle\" x=\"236.263\" y=\"-12887.3\" font-family=\"Times New Roman,serif\" font-size=\"14.00\">mobilenetv20_features_linearbottleneck13_relu60_relu6</text>\r\n",
       "</g>\r\n",
       "<!-- mobilenetv20_features_linearbottleneck13_relu60_relu6&#45;&gt;mobilenetv20_features_linearbottleneck13_batchnorm0_fwd -->\r\n",
       "<g id=\"edge126\" class=\"edge\"><title>mobilenetv20_features_linearbottleneck13_relu60_relu6&#45;&gt;mobilenetv20_features_linearbottleneck13_batchnorm0_fwd</title>\r\n",
       "<path fill=\"none\" stroke=\"black\" d=\"M236.263,-12851.6C236.263,-12838.3 236.263,-12823.6 236.263,-12811.3\"/>\r\n",
       "<polygon fill=\"black\" stroke=\"black\" points=\"236.263,-12861.9 231.763,-12851.9 236.263,-12856.9 236.263,-12851.9 236.263,-12851.9 236.263,-12851.9 236.263,-12856.9 240.763,-12851.9 236.263,-12861.9 236.263,-12861.9\"/>\r\n",
       "<text text-anchor=\"middle\" x=\"266.763\" y=\"-12832.8\" font-family=\"Times New Roman,serif\" font-size=\"14.00\">576x14x14</text>\r\n",
       "</g>\r\n",
       "<!-- mobilenetv20_features_linearbottleneck13_conv1_fwd -->\r\n",
       "<g id=\"node120\" class=\"node\"><title>mobilenetv20_features_linearbottleneck13_conv1_fwd</title>\r\n",
       "<ellipse fill=\"#fb8072\" stroke=\"black\" cx=\"236.263\" cy=\"-13000\" rx=\"58.8062\" ry=\"29\"/>\r\n",
       "<text text-anchor=\"middle\" x=\"236.263\" y=\"-13003.8\" font-family=\"Times New Roman,serif\" font-size=\"14.00\">Convolution</text>\r\n",
       "<text text-anchor=\"middle\" x=\"236.263\" y=\"-12988.8\" font-family=\"Times New Roman,serif\" font-size=\"14.00\">3x3/2x2, 576</text>\r\n",
       "</g>\r\n",
       "<!-- mobilenetv20_features_linearbottleneck13_conv1_fwd&#45;&gt;mobilenetv20_features_linearbottleneck13_relu60_relu6 -->\r\n",
       "<g id=\"edge127\" class=\"edge\"><title>mobilenetv20_features_linearbottleneck13_conv1_fwd&#45;&gt;mobilenetv20_features_linearbottleneck13_relu60_relu6</title>\r\n",
       "<path fill=\"none\" stroke=\"black\" d=\"M236.263,-12960.6C236.263,-12947.3 236.263,-12932.6 236.263,-12920.3\"/>\r\n",
       "<polygon fill=\"black\" stroke=\"black\" points=\"236.263,-12970.9 231.763,-12960.9 236.263,-12965.9 236.263,-12960.9 236.263,-12960.9 236.263,-12960.9 236.263,-12965.9 240.763,-12960.9 236.263,-12970.9 236.263,-12970.9\"/>\r\n",
       "<text text-anchor=\"middle\" x=\"266.763\" y=\"-12941.8\" font-family=\"Times New Roman,serif\" font-size=\"14.00\">576x14x14</text>\r\n",
       "</g>\r\n",
       "<!-- mobilenetv20_features_linearbottleneck13_batchnorm1_fwd -->\r\n",
       "<g id=\"node121\" class=\"node\"><title>mobilenetv20_features_linearbottleneck13_batchnorm1_fwd</title>\r\n",
       "<ellipse fill=\"#bebada\" stroke=\"black\" cx=\"236.263\" cy=\"-13109\" rx=\"192.027\" ry=\"29\"/>\r\n",
       "<text text-anchor=\"middle\" x=\"236.263\" y=\"-13105.3\" font-family=\"Times New Roman,serif\" font-size=\"14.00\">mobilenetv20_features_linearbottleneck13_batchnorm1_fwd</text>\r\n",
       "</g>\r\n",
       "<!-- mobilenetv20_features_linearbottleneck13_batchnorm1_fwd&#45;&gt;mobilenetv20_features_linearbottleneck13_conv1_fwd -->\r\n",
       "<g id=\"edge128\" class=\"edge\"><title>mobilenetv20_features_linearbottleneck13_batchnorm1_fwd&#45;&gt;mobilenetv20_features_linearbottleneck13_conv1_fwd</title>\r\n",
       "<path fill=\"none\" stroke=\"black\" d=\"M236.263,-13069.6C236.263,-13056.3 236.263,-13041.6 236.263,-13029.3\"/>\r\n",
       "<polygon fill=\"black\" stroke=\"black\" points=\"236.263,-13079.9 231.763,-13069.9 236.263,-13074.9 236.263,-13069.9 236.263,-13069.9 236.263,-13069.9 236.263,-13074.9 240.763,-13069.9 236.263,-13079.9 236.263,-13079.9\"/>\r\n",
       "<text text-anchor=\"middle\" x=\"260.263\" y=\"-13050.8\" font-family=\"Times New Roman,serif\" font-size=\"14.00\">576x7x7</text>\r\n",
       "</g>\r\n",
       "<!-- mobilenetv20_features_linearbottleneck13_relu61_relu6 -->\r\n",
       "<g id=\"node122\" class=\"node\"><title>mobilenetv20_features_linearbottleneck13_relu61_relu6</title>\r\n",
       "<ellipse fill=\"#fccde5\" stroke=\"black\" cx=\"236.263\" cy=\"-13218\" rx=\"177.615\" ry=\"29\"/>\r\n",
       "<text text-anchor=\"middle\" x=\"236.263\" y=\"-13214.3\" font-family=\"Times New Roman,serif\" font-size=\"14.00\">mobilenetv20_features_linearbottleneck13_relu61_relu6</text>\r\n",
       "</g>\r\n",
       "<!-- mobilenetv20_features_linearbottleneck13_relu61_relu6&#45;&gt;mobilenetv20_features_linearbottleneck13_batchnorm1_fwd -->\r\n",
       "<g id=\"edge129\" class=\"edge\"><title>mobilenetv20_features_linearbottleneck13_relu61_relu6&#45;&gt;mobilenetv20_features_linearbottleneck13_batchnorm1_fwd</title>\r\n",
       "<path fill=\"none\" stroke=\"black\" d=\"M236.263,-13178.6C236.263,-13165.3 236.263,-13150.6 236.263,-13138.3\"/>\r\n",
       "<polygon fill=\"black\" stroke=\"black\" points=\"236.263,-13188.9 231.763,-13178.9 236.263,-13183.9 236.263,-13178.9 236.263,-13178.9 236.263,-13178.9 236.263,-13183.9 240.763,-13178.9 236.263,-13188.9 236.263,-13188.9\"/>\r\n",
       "<text text-anchor=\"middle\" x=\"260.263\" y=\"-13159.8\" font-family=\"Times New Roman,serif\" font-size=\"14.00\">576x7x7</text>\r\n",
       "</g>\r\n",
       "<!-- mobilenetv20_features_linearbottleneck13_conv2_fwd -->\r\n",
       "<g id=\"node123\" class=\"node\"><title>mobilenetv20_features_linearbottleneck13_conv2_fwd</title>\r\n",
       "<ellipse fill=\"#fb8072\" stroke=\"black\" cx=\"236.263\" cy=\"-13327\" rx=\"58.8062\" ry=\"29\"/>\r\n",
       "<text text-anchor=\"middle\" x=\"236.263\" y=\"-13330.8\" font-family=\"Times New Roman,serif\" font-size=\"14.00\">Convolution</text>\r\n",
       "<text text-anchor=\"middle\" x=\"236.263\" y=\"-13315.8\" font-family=\"Times New Roman,serif\" font-size=\"14.00\">1x1/1x1, 160</text>\r\n",
       "</g>\r\n",
       "<!-- mobilenetv20_features_linearbottleneck13_conv2_fwd&#45;&gt;mobilenetv20_features_linearbottleneck13_relu61_relu6 -->\r\n",
       "<g id=\"edge130\" class=\"edge\"><title>mobilenetv20_features_linearbottleneck13_conv2_fwd&#45;&gt;mobilenetv20_features_linearbottleneck13_relu61_relu6</title>\r\n",
       "<path fill=\"none\" stroke=\"black\" d=\"M236.263,-13287.6C236.263,-13274.3 236.263,-13259.6 236.263,-13247.3\"/>\r\n",
       "<polygon fill=\"black\" stroke=\"black\" points=\"236.263,-13297.9 231.763,-13287.9 236.263,-13292.9 236.263,-13287.9 236.263,-13287.9 236.263,-13287.9 236.263,-13292.9 240.763,-13287.9 236.263,-13297.9 236.263,-13297.9\"/>\r\n",
       "<text text-anchor=\"middle\" x=\"260.263\" y=\"-13268.8\" font-family=\"Times New Roman,serif\" font-size=\"14.00\">576x7x7</text>\r\n",
       "</g>\r\n",
       "<!-- mobilenetv20_features_linearbottleneck13_batchnorm2_fwd -->\r\n",
       "<g id=\"node124\" class=\"node\"><title>mobilenetv20_features_linearbottleneck13_batchnorm2_fwd</title>\r\n",
       "<ellipse fill=\"#bebada\" stroke=\"black\" cx=\"236.263\" cy=\"-13436\" rx=\"192.027\" ry=\"29\"/>\r\n",
       "<text text-anchor=\"middle\" x=\"236.263\" y=\"-13432.3\" font-family=\"Times New Roman,serif\" font-size=\"14.00\">mobilenetv20_features_linearbottleneck13_batchnorm2_fwd</text>\r\n",
       "</g>\r\n",
       "<!-- mobilenetv20_features_linearbottleneck13_batchnorm2_fwd&#45;&gt;mobilenetv20_features_linearbottleneck13_conv2_fwd -->\r\n",
       "<g id=\"edge131\" class=\"edge\"><title>mobilenetv20_features_linearbottleneck13_batchnorm2_fwd&#45;&gt;mobilenetv20_features_linearbottleneck13_conv2_fwd</title>\r\n",
       "<path fill=\"none\" stroke=\"black\" d=\"M236.263,-13396.6C236.263,-13383.3 236.263,-13368.6 236.263,-13356.3\"/>\r\n",
       "<polygon fill=\"black\" stroke=\"black\" points=\"236.263,-13406.9 231.763,-13396.9 236.263,-13401.9 236.263,-13396.9 236.263,-13396.9 236.263,-13396.9 236.263,-13401.9 240.763,-13396.9 236.263,-13406.9 236.263,-13406.9\"/>\r\n",
       "<text text-anchor=\"middle\" x=\"260.263\" y=\"-13377.8\" font-family=\"Times New Roman,serif\" font-size=\"14.00\">160x7x7</text>\r\n",
       "</g>\r\n",
       "<!-- mobilenetv20_features_linearbottleneck14_conv0_fwd -->\r\n",
       "<g id=\"node125\" class=\"node\"><title>mobilenetv20_features_linearbottleneck14_conv0_fwd</title>\r\n",
       "<ellipse fill=\"#fb8072\" stroke=\"black\" cx=\"318.263\" cy=\"-13545\" rx=\"58.8062\" ry=\"29\"/>\r\n",
       "<text text-anchor=\"middle\" x=\"318.263\" y=\"-13548.8\" font-family=\"Times New Roman,serif\" font-size=\"14.00\">Convolution</text>\r\n",
       "<text text-anchor=\"middle\" x=\"318.263\" y=\"-13533.8\" font-family=\"Times New Roman,serif\" font-size=\"14.00\">1x1/1x1, 960</text>\r\n",
       "</g>\r\n",
       "<!-- mobilenetv20_features_linearbottleneck14_conv0_fwd&#45;&gt;mobilenetv20_features_linearbottleneck13_batchnorm2_fwd -->\r\n",
       "<g id=\"edge132\" class=\"edge\"><title>mobilenetv20_features_linearbottleneck14_conv0_fwd&#45;&gt;mobilenetv20_features_linearbottleneck13_batchnorm2_fwd</title>\r\n",
       "<path fill=\"none\" stroke=\"black\" d=\"M291.73,-13509.4C280.73,-13495 268.136,-13478.6 257.732,-13465\"/>\r\n",
       "<polygon fill=\"black\" stroke=\"black\" points=\"297.994,-13517.6 288.339,-13512.4 294.952,-13513.6 291.911,-13509.6 291.911,-13509.6 291.911,-13509.6 294.952,-13513.6 295.483,-13506.9 297.994,-13517.6 297.994,-13517.6\"/>\r\n",
       "<text text-anchor=\"middle\" x=\"305.263\" y=\"-13486.8\" font-family=\"Times New Roman,serif\" font-size=\"14.00\">160x7x7</text>\r\n",
       "</g>\r\n",
       "<!-- mobilenetv20_features_linearbottleneck14_batchnorm0_fwd -->\r\n",
       "<g id=\"node126\" class=\"node\"><title>mobilenetv20_features_linearbottleneck14_batchnorm0_fwd</title>\r\n",
       "<ellipse fill=\"#bebada\" stroke=\"black\" cx=\"418.263\" cy=\"-13654\" rx=\"192.027\" ry=\"29\"/>\r\n",
       "<text text-anchor=\"middle\" x=\"418.263\" y=\"-13650.3\" font-family=\"Times New Roman,serif\" font-size=\"14.00\">mobilenetv20_features_linearbottleneck14_batchnorm0_fwd</text>\r\n",
       "</g>\r\n",
       "<!-- mobilenetv20_features_linearbottleneck14_batchnorm0_fwd&#45;&gt;mobilenetv20_features_linearbottleneck14_conv0_fwd -->\r\n",
       "<g id=\"edge133\" class=\"edge\"><title>mobilenetv20_features_linearbottleneck14_batchnorm0_fwd&#45;&gt;mobilenetv20_features_linearbottleneck14_conv0_fwd</title>\r\n",
       "<path fill=\"none\" stroke=\"black\" d=\"M385.16,-13617.6C371.202,-13602.6 355.253,-13585.6 342.43,-13571.9\"/>\r\n",
       "<polygon fill=\"black\" stroke=\"black\" points=\"392.25,-13625.2 382.135,-13620.9 388.836,-13621.5 385.422,-13617.9 385.422,-13617.9 385.422,-13617.9 388.836,-13621.5 388.71,-13614.8 392.25,-13625.2 392.25,-13625.2\"/>\r\n",
       "<text text-anchor=\"middle\" x=\"397.263\" y=\"-13595.8\" font-family=\"Times New Roman,serif\" font-size=\"14.00\">960x7x7</text>\r\n",
       "</g>\r\n",
       "<!-- mobilenetv20_features_linearbottleneck14_relu60_relu6 -->\r\n",
       "<g id=\"node127\" class=\"node\"><title>mobilenetv20_features_linearbottleneck14_relu60_relu6</title>\r\n",
       "<ellipse fill=\"#fccde5\" stroke=\"black\" cx=\"418.263\" cy=\"-13763\" rx=\"177.615\" ry=\"29\"/>\r\n",
       "<text text-anchor=\"middle\" x=\"418.263\" y=\"-13759.3\" font-family=\"Times New Roman,serif\" font-size=\"14.00\">mobilenetv20_features_linearbottleneck14_relu60_relu6</text>\r\n",
       "</g>\r\n",
       "<!-- mobilenetv20_features_linearbottleneck14_relu60_relu6&#45;&gt;mobilenetv20_features_linearbottleneck14_batchnorm0_fwd -->\r\n",
       "<g id=\"edge134\" class=\"edge\"><title>mobilenetv20_features_linearbottleneck14_relu60_relu6&#45;&gt;mobilenetv20_features_linearbottleneck14_batchnorm0_fwd</title>\r\n",
       "<path fill=\"none\" stroke=\"black\" d=\"M418.263,-13723.6C418.263,-13710.3 418.263,-13695.6 418.263,-13683.3\"/>\r\n",
       "<polygon fill=\"black\" stroke=\"black\" points=\"418.263,-13733.9 413.763,-13723.9 418.263,-13728.9 418.263,-13723.9 418.263,-13723.9 418.263,-13723.9 418.263,-13728.9 422.763,-13723.9 418.263,-13733.9 418.263,-13733.9\"/>\r\n",
       "<text text-anchor=\"middle\" x=\"442.263\" y=\"-13704.8\" font-family=\"Times New Roman,serif\" font-size=\"14.00\">960x7x7</text>\r\n",
       "</g>\r\n",
       "<!-- mobilenetv20_features_linearbottleneck14_conv1_fwd -->\r\n",
       "<g id=\"node128\" class=\"node\"><title>mobilenetv20_features_linearbottleneck14_conv1_fwd</title>\r\n",
       "<ellipse fill=\"#fb8072\" stroke=\"black\" cx=\"418.263\" cy=\"-13872\" rx=\"58.8062\" ry=\"29\"/>\r\n",
       "<text text-anchor=\"middle\" x=\"418.263\" y=\"-13875.8\" font-family=\"Times New Roman,serif\" font-size=\"14.00\">Convolution</text>\r\n",
       "<text text-anchor=\"middle\" x=\"418.263\" y=\"-13860.8\" font-family=\"Times New Roman,serif\" font-size=\"14.00\">3x3/1x1, 960</text>\r\n",
       "</g>\r\n",
       "<!-- mobilenetv20_features_linearbottleneck14_conv1_fwd&#45;&gt;mobilenetv20_features_linearbottleneck14_relu60_relu6 -->\r\n",
       "<g id=\"edge135\" class=\"edge\"><title>mobilenetv20_features_linearbottleneck14_conv1_fwd&#45;&gt;mobilenetv20_features_linearbottleneck14_relu60_relu6</title>\r\n",
       "<path fill=\"none\" stroke=\"black\" d=\"M418.263,-13832.6C418.263,-13819.3 418.263,-13804.6 418.263,-13792.3\"/>\r\n",
       "<polygon fill=\"black\" stroke=\"black\" points=\"418.263,-13842.9 413.763,-13832.9 418.263,-13837.9 418.263,-13832.9 418.263,-13832.9 418.263,-13832.9 418.263,-13837.9 422.763,-13832.9 418.263,-13842.9 418.263,-13842.9\"/>\r\n",
       "<text text-anchor=\"middle\" x=\"442.263\" y=\"-13813.8\" font-family=\"Times New Roman,serif\" font-size=\"14.00\">960x7x7</text>\r\n",
       "</g>\r\n",
       "<!-- mobilenetv20_features_linearbottleneck14_batchnorm1_fwd -->\r\n",
       "<g id=\"node129\" class=\"node\"><title>mobilenetv20_features_linearbottleneck14_batchnorm1_fwd</title>\r\n",
       "<ellipse fill=\"#bebada\" stroke=\"black\" cx=\"418.263\" cy=\"-13981\" rx=\"192.027\" ry=\"29\"/>\r\n",
       "<text text-anchor=\"middle\" x=\"418.263\" y=\"-13977.3\" font-family=\"Times New Roman,serif\" font-size=\"14.00\">mobilenetv20_features_linearbottleneck14_batchnorm1_fwd</text>\r\n",
       "</g>\r\n",
       "<!-- mobilenetv20_features_linearbottleneck14_batchnorm1_fwd&#45;&gt;mobilenetv20_features_linearbottleneck14_conv1_fwd -->\r\n",
       "<g id=\"edge136\" class=\"edge\"><title>mobilenetv20_features_linearbottleneck14_batchnorm1_fwd&#45;&gt;mobilenetv20_features_linearbottleneck14_conv1_fwd</title>\r\n",
       "<path fill=\"none\" stroke=\"black\" d=\"M418.263,-13941.6C418.263,-13928.3 418.263,-13913.6 418.263,-13901.3\"/>\r\n",
       "<polygon fill=\"black\" stroke=\"black\" points=\"418.263,-13951.9 413.763,-13941.9 418.263,-13946.9 418.263,-13941.9 418.263,-13941.9 418.263,-13941.9 418.263,-13946.9 422.763,-13941.9 418.263,-13951.9 418.263,-13951.9\"/>\r\n",
       "<text text-anchor=\"middle\" x=\"442.263\" y=\"-13922.8\" font-family=\"Times New Roman,serif\" font-size=\"14.00\">960x7x7</text>\r\n",
       "</g>\r\n",
       "<!-- mobilenetv20_features_linearbottleneck14_relu61_relu6 -->\r\n",
       "<g id=\"node130\" class=\"node\"><title>mobilenetv20_features_linearbottleneck14_relu61_relu6</title>\r\n",
       "<ellipse fill=\"#fccde5\" stroke=\"black\" cx=\"418.263\" cy=\"-14090\" rx=\"177.615\" ry=\"29\"/>\r\n",
       "<text text-anchor=\"middle\" x=\"418.263\" y=\"-14086.3\" font-family=\"Times New Roman,serif\" font-size=\"14.00\">mobilenetv20_features_linearbottleneck14_relu61_relu6</text>\r\n",
       "</g>\r\n",
       "<!-- mobilenetv20_features_linearbottleneck14_relu61_relu6&#45;&gt;mobilenetv20_features_linearbottleneck14_batchnorm1_fwd -->\r\n",
       "<g id=\"edge137\" class=\"edge\"><title>mobilenetv20_features_linearbottleneck14_relu61_relu6&#45;&gt;mobilenetv20_features_linearbottleneck14_batchnorm1_fwd</title>\r\n",
       "<path fill=\"none\" stroke=\"black\" d=\"M418.263,-14050.6C418.263,-14037.3 418.263,-14022.6 418.263,-14010.3\"/>\r\n",
       "<polygon fill=\"black\" stroke=\"black\" points=\"418.263,-14060.9 413.763,-14050.9 418.263,-14055.9 418.263,-14050.9 418.263,-14050.9 418.263,-14050.9 418.263,-14055.9 422.763,-14050.9 418.263,-14060.9 418.263,-14060.9\"/>\r\n",
       "<text text-anchor=\"middle\" x=\"442.263\" y=\"-14031.8\" font-family=\"Times New Roman,serif\" font-size=\"14.00\">960x7x7</text>\r\n",
       "</g>\r\n",
       "<!-- mobilenetv20_features_linearbottleneck14_conv2_fwd -->\r\n",
       "<g id=\"node131\" class=\"node\"><title>mobilenetv20_features_linearbottleneck14_conv2_fwd</title>\r\n",
       "<ellipse fill=\"#fb8072\" stroke=\"black\" cx=\"418.263\" cy=\"-14199\" rx=\"58.8062\" ry=\"29\"/>\r\n",
       "<text text-anchor=\"middle\" x=\"418.263\" y=\"-14202.8\" font-family=\"Times New Roman,serif\" font-size=\"14.00\">Convolution</text>\r\n",
       "<text text-anchor=\"middle\" x=\"418.263\" y=\"-14187.8\" font-family=\"Times New Roman,serif\" font-size=\"14.00\">1x1/1x1, 160</text>\r\n",
       "</g>\r\n",
       "<!-- mobilenetv20_features_linearbottleneck14_conv2_fwd&#45;&gt;mobilenetv20_features_linearbottleneck14_relu61_relu6 -->\r\n",
       "<g id=\"edge138\" class=\"edge\"><title>mobilenetv20_features_linearbottleneck14_conv2_fwd&#45;&gt;mobilenetv20_features_linearbottleneck14_relu61_relu6</title>\r\n",
       "<path fill=\"none\" stroke=\"black\" d=\"M418.263,-14159.6C418.263,-14146.3 418.263,-14131.6 418.263,-14119.3\"/>\r\n",
       "<polygon fill=\"black\" stroke=\"black\" points=\"418.263,-14169.9 413.763,-14159.9 418.263,-14164.9 418.263,-14159.9 418.263,-14159.9 418.263,-14159.9 418.263,-14164.9 422.763,-14159.9 418.263,-14169.9 418.263,-14169.9\"/>\r\n",
       "<text text-anchor=\"middle\" x=\"442.263\" y=\"-14140.8\" font-family=\"Times New Roman,serif\" font-size=\"14.00\">960x7x7</text>\r\n",
       "</g>\r\n",
       "<!-- mobilenetv20_features_linearbottleneck14_batchnorm2_fwd -->\r\n",
       "<g id=\"node132\" class=\"node\"><title>mobilenetv20_features_linearbottleneck14_batchnorm2_fwd</title>\r\n",
       "<ellipse fill=\"#bebada\" stroke=\"black\" cx=\"418.263\" cy=\"-14308\" rx=\"192.027\" ry=\"29\"/>\r\n",
       "<text text-anchor=\"middle\" x=\"418.263\" y=\"-14304.3\" font-family=\"Times New Roman,serif\" font-size=\"14.00\">mobilenetv20_features_linearbottleneck14_batchnorm2_fwd</text>\r\n",
       "</g>\r\n",
       "<!-- mobilenetv20_features_linearbottleneck14_batchnorm2_fwd&#45;&gt;mobilenetv20_features_linearbottleneck14_conv2_fwd -->\r\n",
       "<g id=\"edge139\" class=\"edge\"><title>mobilenetv20_features_linearbottleneck14_batchnorm2_fwd&#45;&gt;mobilenetv20_features_linearbottleneck14_conv2_fwd</title>\r\n",
       "<path fill=\"none\" stroke=\"black\" d=\"M418.263,-14268.6C418.263,-14255.3 418.263,-14240.6 418.263,-14228.3\"/>\r\n",
       "<polygon fill=\"black\" stroke=\"black\" points=\"418.263,-14278.9 413.763,-14268.9 418.263,-14273.9 418.263,-14268.9 418.263,-14268.9 418.263,-14268.9 418.263,-14273.9 422.763,-14268.9 418.263,-14278.9 418.263,-14278.9\"/>\r\n",
       "<text text-anchor=\"middle\" x=\"442.263\" y=\"-14249.8\" font-family=\"Times New Roman,serif\" font-size=\"14.00\">160x7x7</text>\r\n",
       "</g>\r\n",
       "<!-- mobilenetv20_features_linearbottleneck14_elemwise_add0 -->\r\n",
       "<g id=\"node133\" class=\"node\"><title>mobilenetv20_features_linearbottleneck14_elemwise_add0</title>\r\n",
       "<ellipse fill=\"#fccde5\" stroke=\"black\" cx=\"214.263\" cy=\"-14417\" rx=\"186.633\" ry=\"29\"/>\r\n",
       "<text text-anchor=\"middle\" x=\"214.263\" y=\"-14413.3\" font-family=\"Times New Roman,serif\" font-size=\"14.00\">mobilenetv20_features_linearbottleneck14_elemwise_add0</text>\r\n",
       "</g>\r\n",
       "<!-- mobilenetv20_features_linearbottleneck14_elemwise_add0&#45;&gt;mobilenetv20_features_linearbottleneck13_batchnorm2_fwd -->\r\n",
       "<g id=\"edge141\" class=\"edge\"><title>mobilenetv20_features_linearbottleneck14_elemwise_add0&#45;&gt;mobilenetv20_features_linearbottleneck13_batchnorm2_fwd</title>\r\n",
       "<path fill=\"none\" stroke=\"black\" d=\"M205.812,-14378.2C201.968,-14357.8 198.263,-14332.1 198.263,-14309 198.263,-14309 198.263,-14309 198.263,-13544 198.263,-13516 209.955,-13486.1 220.368,-13465.1\"/>\r\n",
       "<polygon fill=\"black\" stroke=\"black\" points=\"207.755,-14388 201.404,-14379.1 206.787,-14383.1 205.819,-14378.2 205.819,-14378.2 205.819,-14378.2 206.787,-14383.1 210.233,-14377.3 207.755,-14388 207.755,-14388\"/>\r\n",
       "<text text-anchor=\"middle\" x=\"222.263\" y=\"-13922.8\" font-family=\"Times New Roman,serif\" font-size=\"14.00\">160x7x7</text>\r\n",
       "</g>\r\n",
       "<!-- mobilenetv20_features_linearbottleneck14_elemwise_add0&#45;&gt;mobilenetv20_features_linearbottleneck14_batchnorm2_fwd -->\r\n",
       "<g id=\"edge140\" class=\"edge\"><title>mobilenetv20_features_linearbottleneck14_elemwise_add0&#45;&gt;mobilenetv20_features_linearbottleneck14_batchnorm2_fwd</title>\r\n",
       "<path fill=\"none\" stroke=\"black\" d=\"M274.644,-14384.3C303.946,-14369 338.779,-14350.7 366.802,-14336\"/>\r\n",
       "<polygon fill=\"black\" stroke=\"black\" points=\"265.741,-14389 272.507,-14380.4 270.169,-14386.7 274.597,-14384.4 274.597,-14384.4 274.597,-14384.4 270.169,-14386.7 276.687,-14388.3 265.741,-14389 265.741,-14389\"/>\r\n",
       "<text text-anchor=\"middle\" x=\"352.263\" y=\"-14358.8\" font-family=\"Times New Roman,serif\" font-size=\"14.00\">160x7x7</text>\r\n",
       "</g>\r\n",
       "<!-- mobilenetv20_features_linearbottleneck15_conv0_fwd -->\r\n",
       "<g id=\"node134\" class=\"node\"><title>mobilenetv20_features_linearbottleneck15_conv0_fwd</title>\r\n",
       "<ellipse fill=\"#fb8072\" stroke=\"black\" cx=\"296.263\" cy=\"-14526\" rx=\"58.8062\" ry=\"29\"/>\r\n",
       "<text text-anchor=\"middle\" x=\"296.263\" y=\"-14529.8\" font-family=\"Times New Roman,serif\" font-size=\"14.00\">Convolution</text>\r\n",
       "<text text-anchor=\"middle\" x=\"296.263\" y=\"-14514.8\" font-family=\"Times New Roman,serif\" font-size=\"14.00\">1x1/1x1, 960</text>\r\n",
       "</g>\r\n",
       "<!-- mobilenetv20_features_linearbottleneck15_conv0_fwd&#45;&gt;mobilenetv20_features_linearbottleneck14_elemwise_add0 -->\r\n",
       "<g id=\"edge142\" class=\"edge\"><title>mobilenetv20_features_linearbottleneck15_conv0_fwd&#45;&gt;mobilenetv20_features_linearbottleneck14_elemwise_add0</title>\r\n",
       "<path fill=\"none\" stroke=\"black\" d=\"M269.73,-14490.4C258.73,-14476 246.136,-14459.6 235.732,-14446\"/>\r\n",
       "<polygon fill=\"black\" stroke=\"black\" points=\"275.994,-14498.6 266.339,-14493.4 272.952,-14494.6 269.911,-14490.6 269.911,-14490.6 269.911,-14490.6 272.952,-14494.6 273.483,-14487.9 275.994,-14498.6 275.994,-14498.6\"/>\r\n",
       "<text text-anchor=\"middle\" x=\"284.263\" y=\"-14467.8\" font-family=\"Times New Roman,serif\" font-size=\"14.00\">160x7x7</text>\r\n",
       "</g>\r\n",
       "<!-- mobilenetv20_features_linearbottleneck15_batchnorm0_fwd -->\r\n",
       "<g id=\"node135\" class=\"node\"><title>mobilenetv20_features_linearbottleneck15_batchnorm0_fwd</title>\r\n",
       "<ellipse fill=\"#bebada\" stroke=\"black\" cx=\"396.263\" cy=\"-14635\" rx=\"192.027\" ry=\"29\"/>\r\n",
       "<text text-anchor=\"middle\" x=\"396.263\" y=\"-14631.3\" font-family=\"Times New Roman,serif\" font-size=\"14.00\">mobilenetv20_features_linearbottleneck15_batchnorm0_fwd</text>\r\n",
       "</g>\r\n",
       "<!-- mobilenetv20_features_linearbottleneck15_batchnorm0_fwd&#45;&gt;mobilenetv20_features_linearbottleneck15_conv0_fwd -->\r\n",
       "<g id=\"edge143\" class=\"edge\"><title>mobilenetv20_features_linearbottleneck15_batchnorm0_fwd&#45;&gt;mobilenetv20_features_linearbottleneck15_conv0_fwd</title>\r\n",
       "<path fill=\"none\" stroke=\"black\" d=\"M363.16,-14598.6C349.202,-14583.6 333.253,-14566.6 320.43,-14552.9\"/>\r\n",
       "<polygon fill=\"black\" stroke=\"black\" points=\"370.25,-14606.2 360.135,-14601.9 366.836,-14602.5 363.422,-14598.9 363.422,-14598.9 363.422,-14598.9 366.836,-14602.5 366.71,-14595.8 370.25,-14606.2 370.25,-14606.2\"/>\r\n",
       "<text text-anchor=\"middle\" x=\"375.263\" y=\"-14576.8\" font-family=\"Times New Roman,serif\" font-size=\"14.00\">960x7x7</text>\r\n",
       "</g>\r\n",
       "<!-- mobilenetv20_features_linearbottleneck15_relu60_relu6 -->\r\n",
       "<g id=\"node136\" class=\"node\"><title>mobilenetv20_features_linearbottleneck15_relu60_relu6</title>\r\n",
       "<ellipse fill=\"#fccde5\" stroke=\"black\" cx=\"396.263\" cy=\"-14744\" rx=\"177.615\" ry=\"29\"/>\r\n",
       "<text text-anchor=\"middle\" x=\"396.263\" y=\"-14740.3\" font-family=\"Times New Roman,serif\" font-size=\"14.00\">mobilenetv20_features_linearbottleneck15_relu60_relu6</text>\r\n",
       "</g>\r\n",
       "<!-- mobilenetv20_features_linearbottleneck15_relu60_relu6&#45;&gt;mobilenetv20_features_linearbottleneck15_batchnorm0_fwd -->\r\n",
       "<g id=\"edge144\" class=\"edge\"><title>mobilenetv20_features_linearbottleneck15_relu60_relu6&#45;&gt;mobilenetv20_features_linearbottleneck15_batchnorm0_fwd</title>\r\n",
       "<path fill=\"none\" stroke=\"black\" d=\"M396.263,-14704.6C396.263,-14691.3 396.263,-14676.6 396.263,-14664.3\"/>\r\n",
       "<polygon fill=\"black\" stroke=\"black\" points=\"396.263,-14714.9 391.763,-14704.9 396.263,-14709.9 396.263,-14704.9 396.263,-14704.9 396.263,-14704.9 396.263,-14709.9 400.763,-14704.9 396.263,-14714.9 396.263,-14714.9\"/>\r\n",
       "<text text-anchor=\"middle\" x=\"420.263\" y=\"-14685.8\" font-family=\"Times New Roman,serif\" font-size=\"14.00\">960x7x7</text>\r\n",
       "</g>\r\n",
       "<!-- mobilenetv20_features_linearbottleneck15_conv1_fwd -->\r\n",
       "<g id=\"node137\" class=\"node\"><title>mobilenetv20_features_linearbottleneck15_conv1_fwd</title>\r\n",
       "<ellipse fill=\"#fb8072\" stroke=\"black\" cx=\"396.263\" cy=\"-14853\" rx=\"58.8062\" ry=\"29\"/>\r\n",
       "<text text-anchor=\"middle\" x=\"396.263\" y=\"-14856.8\" font-family=\"Times New Roman,serif\" font-size=\"14.00\">Convolution</text>\r\n",
       "<text text-anchor=\"middle\" x=\"396.263\" y=\"-14841.8\" font-family=\"Times New Roman,serif\" font-size=\"14.00\">3x3/1x1, 960</text>\r\n",
       "</g>\r\n",
       "<!-- mobilenetv20_features_linearbottleneck15_conv1_fwd&#45;&gt;mobilenetv20_features_linearbottleneck15_relu60_relu6 -->\r\n",
       "<g id=\"edge145\" class=\"edge\"><title>mobilenetv20_features_linearbottleneck15_conv1_fwd&#45;&gt;mobilenetv20_features_linearbottleneck15_relu60_relu6</title>\r\n",
       "<path fill=\"none\" stroke=\"black\" d=\"M396.263,-14813.6C396.263,-14800.3 396.263,-14785.6 396.263,-14773.3\"/>\r\n",
       "<polygon fill=\"black\" stroke=\"black\" points=\"396.263,-14823.9 391.763,-14813.9 396.263,-14818.9 396.263,-14813.9 396.263,-14813.9 396.263,-14813.9 396.263,-14818.9 400.763,-14813.9 396.263,-14823.9 396.263,-14823.9\"/>\r\n",
       "<text text-anchor=\"middle\" x=\"420.263\" y=\"-14794.8\" font-family=\"Times New Roman,serif\" font-size=\"14.00\">960x7x7</text>\r\n",
       "</g>\r\n",
       "<!-- mobilenetv20_features_linearbottleneck15_batchnorm1_fwd -->\r\n",
       "<g id=\"node138\" class=\"node\"><title>mobilenetv20_features_linearbottleneck15_batchnorm1_fwd</title>\r\n",
       "<ellipse fill=\"#bebada\" stroke=\"black\" cx=\"396.263\" cy=\"-14962\" rx=\"192.027\" ry=\"29\"/>\r\n",
       "<text text-anchor=\"middle\" x=\"396.263\" y=\"-14958.3\" font-family=\"Times New Roman,serif\" font-size=\"14.00\">mobilenetv20_features_linearbottleneck15_batchnorm1_fwd</text>\r\n",
       "</g>\r\n",
       "<!-- mobilenetv20_features_linearbottleneck15_batchnorm1_fwd&#45;&gt;mobilenetv20_features_linearbottleneck15_conv1_fwd -->\r\n",
       "<g id=\"edge146\" class=\"edge\"><title>mobilenetv20_features_linearbottleneck15_batchnorm1_fwd&#45;&gt;mobilenetv20_features_linearbottleneck15_conv1_fwd</title>\r\n",
       "<path fill=\"none\" stroke=\"black\" d=\"M396.263,-14922.6C396.263,-14909.3 396.263,-14894.6 396.263,-14882.3\"/>\r\n",
       "<polygon fill=\"black\" stroke=\"black\" points=\"396.263,-14932.9 391.763,-14922.9 396.263,-14927.9 396.263,-14922.9 396.263,-14922.9 396.263,-14922.9 396.263,-14927.9 400.763,-14922.9 396.263,-14932.9 396.263,-14932.9\"/>\r\n",
       "<text text-anchor=\"middle\" x=\"420.263\" y=\"-14903.8\" font-family=\"Times New Roman,serif\" font-size=\"14.00\">960x7x7</text>\r\n",
       "</g>\r\n",
       "<!-- mobilenetv20_features_linearbottleneck15_relu61_relu6 -->\r\n",
       "<g id=\"node139\" class=\"node\"><title>mobilenetv20_features_linearbottleneck15_relu61_relu6</title>\r\n",
       "<ellipse fill=\"#fccde5\" stroke=\"black\" cx=\"396.263\" cy=\"-15071\" rx=\"177.615\" ry=\"29\"/>\r\n",
       "<text text-anchor=\"middle\" x=\"396.263\" y=\"-15067.3\" font-family=\"Times New Roman,serif\" font-size=\"14.00\">mobilenetv20_features_linearbottleneck15_relu61_relu6</text>\r\n",
       "</g>\r\n",
       "<!-- mobilenetv20_features_linearbottleneck15_relu61_relu6&#45;&gt;mobilenetv20_features_linearbottleneck15_batchnorm1_fwd -->\r\n",
       "<g id=\"edge147\" class=\"edge\"><title>mobilenetv20_features_linearbottleneck15_relu61_relu6&#45;&gt;mobilenetv20_features_linearbottleneck15_batchnorm1_fwd</title>\r\n",
       "<path fill=\"none\" stroke=\"black\" d=\"M396.263,-15031.6C396.263,-15018.3 396.263,-15003.6 396.263,-14991.3\"/>\r\n",
       "<polygon fill=\"black\" stroke=\"black\" points=\"396.263,-15041.9 391.763,-15031.9 396.263,-15036.9 396.263,-15031.9 396.263,-15031.9 396.263,-15031.9 396.263,-15036.9 400.763,-15031.9 396.263,-15041.9 396.263,-15041.9\"/>\r\n",
       "<text text-anchor=\"middle\" x=\"420.263\" y=\"-15012.8\" font-family=\"Times New Roman,serif\" font-size=\"14.00\">960x7x7</text>\r\n",
       "</g>\r\n",
       "<!-- mobilenetv20_features_linearbottleneck15_conv2_fwd -->\r\n",
       "<g id=\"node140\" class=\"node\"><title>mobilenetv20_features_linearbottleneck15_conv2_fwd</title>\r\n",
       "<ellipse fill=\"#fb8072\" stroke=\"black\" cx=\"396.263\" cy=\"-15180\" rx=\"58.8062\" ry=\"29\"/>\r\n",
       "<text text-anchor=\"middle\" x=\"396.263\" y=\"-15183.8\" font-family=\"Times New Roman,serif\" font-size=\"14.00\">Convolution</text>\r\n",
       "<text text-anchor=\"middle\" x=\"396.263\" y=\"-15168.8\" font-family=\"Times New Roman,serif\" font-size=\"14.00\">1x1/1x1, 160</text>\r\n",
       "</g>\r\n",
       "<!-- mobilenetv20_features_linearbottleneck15_conv2_fwd&#45;&gt;mobilenetv20_features_linearbottleneck15_relu61_relu6 -->\r\n",
       "<g id=\"edge148\" class=\"edge\"><title>mobilenetv20_features_linearbottleneck15_conv2_fwd&#45;&gt;mobilenetv20_features_linearbottleneck15_relu61_relu6</title>\r\n",
       "<path fill=\"none\" stroke=\"black\" d=\"M396.263,-15140.6C396.263,-15127.3 396.263,-15112.6 396.263,-15100.3\"/>\r\n",
       "<polygon fill=\"black\" stroke=\"black\" points=\"396.263,-15150.9 391.763,-15140.9 396.263,-15145.9 396.263,-15140.9 396.263,-15140.9 396.263,-15140.9 396.263,-15145.9 400.763,-15140.9 396.263,-15150.9 396.263,-15150.9\"/>\r\n",
       "<text text-anchor=\"middle\" x=\"420.263\" y=\"-15121.8\" font-family=\"Times New Roman,serif\" font-size=\"14.00\">960x7x7</text>\r\n",
       "</g>\r\n",
       "<!-- mobilenetv20_features_linearbottleneck15_batchnorm2_fwd -->\r\n",
       "<g id=\"node141\" class=\"node\"><title>mobilenetv20_features_linearbottleneck15_batchnorm2_fwd</title>\r\n",
       "<ellipse fill=\"#bebada\" stroke=\"black\" cx=\"396.263\" cy=\"-15289\" rx=\"192.027\" ry=\"29\"/>\r\n",
       "<text text-anchor=\"middle\" x=\"396.263\" y=\"-15285.3\" font-family=\"Times New Roman,serif\" font-size=\"14.00\">mobilenetv20_features_linearbottleneck15_batchnorm2_fwd</text>\r\n",
       "</g>\r\n",
       "<!-- mobilenetv20_features_linearbottleneck15_batchnorm2_fwd&#45;&gt;mobilenetv20_features_linearbottleneck15_conv2_fwd -->\r\n",
       "<g id=\"edge149\" class=\"edge\"><title>mobilenetv20_features_linearbottleneck15_batchnorm2_fwd&#45;&gt;mobilenetv20_features_linearbottleneck15_conv2_fwd</title>\r\n",
       "<path fill=\"none\" stroke=\"black\" d=\"M396.263,-15249.6C396.263,-15236.3 396.263,-15221.6 396.263,-15209.3\"/>\r\n",
       "<polygon fill=\"black\" stroke=\"black\" points=\"396.263,-15259.9 391.763,-15249.9 396.263,-15254.9 396.263,-15249.9 396.263,-15249.9 396.263,-15249.9 396.263,-15254.9 400.763,-15249.9 396.263,-15259.9 396.263,-15259.9\"/>\r\n",
       "<text text-anchor=\"middle\" x=\"420.263\" y=\"-15230.8\" font-family=\"Times New Roman,serif\" font-size=\"14.00\">160x7x7</text>\r\n",
       "</g>\r\n",
       "<!-- mobilenetv20_features_linearbottleneck15_elemwise_add0 -->\r\n",
       "<g id=\"node142\" class=\"node\"><title>mobilenetv20_features_linearbottleneck15_elemwise_add0</title>\r\n",
       "<ellipse fill=\"#fccde5\" stroke=\"black\" cx=\"192.263\" cy=\"-15398\" rx=\"186.633\" ry=\"29\"/>\r\n",
       "<text text-anchor=\"middle\" x=\"192.263\" y=\"-15394.3\" font-family=\"Times New Roman,serif\" font-size=\"14.00\">mobilenetv20_features_linearbottleneck15_elemwise_add0</text>\r\n",
       "</g>\r\n",
       "<!-- mobilenetv20_features_linearbottleneck15_elemwise_add0&#45;&gt;mobilenetv20_features_linearbottleneck14_elemwise_add0 -->\r\n",
       "<g id=\"edge151\" class=\"edge\"><title>mobilenetv20_features_linearbottleneck15_elemwise_add0&#45;&gt;mobilenetv20_features_linearbottleneck14_elemwise_add0</title>\r\n",
       "<path fill=\"none\" stroke=\"black\" d=\"M183.812,-15359.2C179.968,-15338.8 176.263,-15313.1 176.263,-15290 176.263,-15290 176.263,-15290 176.263,-14525 176.263,-14497 187.955,-14467.1 198.368,-14446.1\"/>\r\n",
       "<polygon fill=\"black\" stroke=\"black\" points=\"185.755,-15369 179.404,-15360.1 184.787,-15364.1 183.819,-15359.2 183.819,-15359.2 183.819,-15359.2 184.787,-15364.1 188.233,-15358.3 185.755,-15369 185.755,-15369\"/>\r\n",
       "<text text-anchor=\"middle\" x=\"200.263\" y=\"-14903.8\" font-family=\"Times New Roman,serif\" font-size=\"14.00\">160x7x7</text>\r\n",
       "</g>\r\n",
       "<!-- mobilenetv20_features_linearbottleneck15_elemwise_add0&#45;&gt;mobilenetv20_features_linearbottleneck15_batchnorm2_fwd -->\r\n",
       "<g id=\"edge150\" class=\"edge\"><title>mobilenetv20_features_linearbottleneck15_elemwise_add0&#45;&gt;mobilenetv20_features_linearbottleneck15_batchnorm2_fwd</title>\r\n",
       "<path fill=\"none\" stroke=\"black\" d=\"M252.644,-15365.3C281.946,-15350 316.779,-15331.7 344.802,-15317\"/>\r\n",
       "<polygon fill=\"black\" stroke=\"black\" points=\"243.741,-15370 250.507,-15361.4 248.169,-15367.7 252.597,-15365.4 252.597,-15365.4 252.597,-15365.4 248.169,-15367.7 254.687,-15369.3 243.741,-15370 243.741,-15370\"/>\r\n",
       "<text text-anchor=\"middle\" x=\"330.263\" y=\"-15339.8\" font-family=\"Times New Roman,serif\" font-size=\"14.00\">160x7x7</text>\r\n",
       "</g>\r\n",
       "<!-- mobilenetv20_features_linearbottleneck16_conv0_fwd -->\r\n",
       "<g id=\"node143\" class=\"node\"><title>mobilenetv20_features_linearbottleneck16_conv0_fwd</title>\r\n",
       "<ellipse fill=\"#fb8072\" stroke=\"black\" cx=\"192.263\" cy=\"-15507\" rx=\"58.8062\" ry=\"29\"/>\r\n",
       "<text text-anchor=\"middle\" x=\"192.263\" y=\"-15510.8\" font-family=\"Times New Roman,serif\" font-size=\"14.00\">Convolution</text>\r\n",
       "<text text-anchor=\"middle\" x=\"192.263\" y=\"-15495.8\" font-family=\"Times New Roman,serif\" font-size=\"14.00\">1x1/1x1, 960</text>\r\n",
       "</g>\r\n",
       "<!-- mobilenetv20_features_linearbottleneck16_conv0_fwd&#45;&gt;mobilenetv20_features_linearbottleneck15_elemwise_add0 -->\r\n",
       "<g id=\"edge152\" class=\"edge\"><title>mobilenetv20_features_linearbottleneck16_conv0_fwd&#45;&gt;mobilenetv20_features_linearbottleneck15_elemwise_add0</title>\r\n",
       "<path fill=\"none\" stroke=\"black\" d=\"M192.263,-15467.6C192.263,-15454.3 192.263,-15439.6 192.263,-15427.3\"/>\r\n",
       "<polygon fill=\"black\" stroke=\"black\" points=\"192.263,-15477.9 187.763,-15467.9 192.263,-15472.9 192.263,-15467.9 192.263,-15467.9 192.263,-15467.9 192.263,-15472.9 196.763,-15467.9 192.263,-15477.9 192.263,-15477.9\"/>\r\n",
       "<text text-anchor=\"middle\" x=\"216.263\" y=\"-15448.8\" font-family=\"Times New Roman,serif\" font-size=\"14.00\">160x7x7</text>\r\n",
       "</g>\r\n",
       "<!-- mobilenetv20_features_linearbottleneck16_batchnorm0_fwd -->\r\n",
       "<g id=\"node144\" class=\"node\"><title>mobilenetv20_features_linearbottleneck16_batchnorm0_fwd</title>\r\n",
       "<ellipse fill=\"#bebada\" stroke=\"black\" cx=\"192.263\" cy=\"-15616\" rx=\"192.027\" ry=\"29\"/>\r\n",
       "<text text-anchor=\"middle\" x=\"192.263\" y=\"-15612.3\" font-family=\"Times New Roman,serif\" font-size=\"14.00\">mobilenetv20_features_linearbottleneck16_batchnorm0_fwd</text>\r\n",
       "</g>\r\n",
       "<!-- mobilenetv20_features_linearbottleneck16_batchnorm0_fwd&#45;&gt;mobilenetv20_features_linearbottleneck16_conv0_fwd -->\r\n",
       "<g id=\"edge153\" class=\"edge\"><title>mobilenetv20_features_linearbottleneck16_batchnorm0_fwd&#45;&gt;mobilenetv20_features_linearbottleneck16_conv0_fwd</title>\r\n",
       "<path fill=\"none\" stroke=\"black\" d=\"M192.263,-15576.6C192.263,-15563.3 192.263,-15548.6 192.263,-15536.3\"/>\r\n",
       "<polygon fill=\"black\" stroke=\"black\" points=\"192.263,-15586.9 187.763,-15576.9 192.263,-15581.9 192.263,-15576.9 192.263,-15576.9 192.263,-15576.9 192.263,-15581.9 196.763,-15576.9 192.263,-15586.9 192.263,-15586.9\"/>\r\n",
       "<text text-anchor=\"middle\" x=\"216.263\" y=\"-15557.8\" font-family=\"Times New Roman,serif\" font-size=\"14.00\">960x7x7</text>\r\n",
       "</g>\r\n",
       "<!-- mobilenetv20_features_linearbottleneck16_relu60_relu6 -->\r\n",
       "<g id=\"node145\" class=\"node\"><title>mobilenetv20_features_linearbottleneck16_relu60_relu6</title>\r\n",
       "<ellipse fill=\"#fccde5\" stroke=\"black\" cx=\"192.263\" cy=\"-15725\" rx=\"177.615\" ry=\"29\"/>\r\n",
       "<text text-anchor=\"middle\" x=\"192.263\" y=\"-15721.3\" font-family=\"Times New Roman,serif\" font-size=\"14.00\">mobilenetv20_features_linearbottleneck16_relu60_relu6</text>\r\n",
       "</g>\r\n",
       "<!-- mobilenetv20_features_linearbottleneck16_relu60_relu6&#45;&gt;mobilenetv20_features_linearbottleneck16_batchnorm0_fwd -->\r\n",
       "<g id=\"edge154\" class=\"edge\"><title>mobilenetv20_features_linearbottleneck16_relu60_relu6&#45;&gt;mobilenetv20_features_linearbottleneck16_batchnorm0_fwd</title>\r\n",
       "<path fill=\"none\" stroke=\"black\" d=\"M192.263,-15685.6C192.263,-15672.3 192.263,-15657.6 192.263,-15645.3\"/>\r\n",
       "<polygon fill=\"black\" stroke=\"black\" points=\"192.263,-15695.9 187.763,-15685.9 192.263,-15690.9 192.263,-15685.9 192.263,-15685.9 192.263,-15685.9 192.263,-15690.9 196.763,-15685.9 192.263,-15695.9 192.263,-15695.9\"/>\r\n",
       "<text text-anchor=\"middle\" x=\"216.263\" y=\"-15666.8\" font-family=\"Times New Roman,serif\" font-size=\"14.00\">960x7x7</text>\r\n",
       "</g>\r\n",
       "<!-- mobilenetv20_features_linearbottleneck16_conv1_fwd -->\r\n",
       "<g id=\"node146\" class=\"node\"><title>mobilenetv20_features_linearbottleneck16_conv1_fwd</title>\r\n",
       "<ellipse fill=\"#fb8072\" stroke=\"black\" cx=\"192.263\" cy=\"-15834\" rx=\"58.8062\" ry=\"29\"/>\r\n",
       "<text text-anchor=\"middle\" x=\"192.263\" y=\"-15837.8\" font-family=\"Times New Roman,serif\" font-size=\"14.00\">Convolution</text>\r\n",
       "<text text-anchor=\"middle\" x=\"192.263\" y=\"-15822.8\" font-family=\"Times New Roman,serif\" font-size=\"14.00\">3x3/1x1, 960</text>\r\n",
       "</g>\r\n",
       "<!-- mobilenetv20_features_linearbottleneck16_conv1_fwd&#45;&gt;mobilenetv20_features_linearbottleneck16_relu60_relu6 -->\r\n",
       "<g id=\"edge155\" class=\"edge\"><title>mobilenetv20_features_linearbottleneck16_conv1_fwd&#45;&gt;mobilenetv20_features_linearbottleneck16_relu60_relu6</title>\r\n",
       "<path fill=\"none\" stroke=\"black\" d=\"M192.263,-15794.6C192.263,-15781.3 192.263,-15766.6 192.263,-15754.3\"/>\r\n",
       "<polygon fill=\"black\" stroke=\"black\" points=\"192.263,-15804.9 187.763,-15794.9 192.263,-15799.9 192.263,-15794.9 192.263,-15794.9 192.263,-15794.9 192.263,-15799.9 196.763,-15794.9 192.263,-15804.9 192.263,-15804.9\"/>\r\n",
       "<text text-anchor=\"middle\" x=\"216.263\" y=\"-15775.8\" font-family=\"Times New Roman,serif\" font-size=\"14.00\">960x7x7</text>\r\n",
       "</g>\r\n",
       "<!-- mobilenetv20_features_linearbottleneck16_batchnorm1_fwd -->\r\n",
       "<g id=\"node147\" class=\"node\"><title>mobilenetv20_features_linearbottleneck16_batchnorm1_fwd</title>\r\n",
       "<ellipse fill=\"#bebada\" stroke=\"black\" cx=\"192.263\" cy=\"-15943\" rx=\"192.027\" ry=\"29\"/>\r\n",
       "<text text-anchor=\"middle\" x=\"192.263\" y=\"-15939.3\" font-family=\"Times New Roman,serif\" font-size=\"14.00\">mobilenetv20_features_linearbottleneck16_batchnorm1_fwd</text>\r\n",
       "</g>\r\n",
       "<!-- mobilenetv20_features_linearbottleneck16_batchnorm1_fwd&#45;&gt;mobilenetv20_features_linearbottleneck16_conv1_fwd -->\r\n",
       "<g id=\"edge156\" class=\"edge\"><title>mobilenetv20_features_linearbottleneck16_batchnorm1_fwd&#45;&gt;mobilenetv20_features_linearbottleneck16_conv1_fwd</title>\r\n",
       "<path fill=\"none\" stroke=\"black\" d=\"M192.263,-15903.6C192.263,-15890.3 192.263,-15875.6 192.263,-15863.3\"/>\r\n",
       "<polygon fill=\"black\" stroke=\"black\" points=\"192.263,-15913.9 187.763,-15903.9 192.263,-15908.9 192.263,-15903.9 192.263,-15903.9 192.263,-15903.9 192.263,-15908.9 196.763,-15903.9 192.263,-15913.9 192.263,-15913.9\"/>\r\n",
       "<text text-anchor=\"middle\" x=\"216.263\" y=\"-15884.8\" font-family=\"Times New Roman,serif\" font-size=\"14.00\">960x7x7</text>\r\n",
       "</g>\r\n",
       "<!-- mobilenetv20_features_linearbottleneck16_relu61_relu6 -->\r\n",
       "<g id=\"node148\" class=\"node\"><title>mobilenetv20_features_linearbottleneck16_relu61_relu6</title>\r\n",
       "<ellipse fill=\"#fccde5\" stroke=\"black\" cx=\"192.263\" cy=\"-16052\" rx=\"177.615\" ry=\"29\"/>\r\n",
       "<text text-anchor=\"middle\" x=\"192.263\" y=\"-16048.3\" font-family=\"Times New Roman,serif\" font-size=\"14.00\">mobilenetv20_features_linearbottleneck16_relu61_relu6</text>\r\n",
       "</g>\r\n",
       "<!-- mobilenetv20_features_linearbottleneck16_relu61_relu6&#45;&gt;mobilenetv20_features_linearbottleneck16_batchnorm1_fwd -->\r\n",
       "<g id=\"edge157\" class=\"edge\"><title>mobilenetv20_features_linearbottleneck16_relu61_relu6&#45;&gt;mobilenetv20_features_linearbottleneck16_batchnorm1_fwd</title>\r\n",
       "<path fill=\"none\" stroke=\"black\" d=\"M192.263,-16012.6C192.263,-15999.3 192.263,-15984.6 192.263,-15972.3\"/>\r\n",
       "<polygon fill=\"black\" stroke=\"black\" points=\"192.263,-16022.9 187.763,-16012.9 192.263,-16017.9 192.263,-16012.9 192.263,-16012.9 192.263,-16012.9 192.263,-16017.9 196.763,-16012.9 192.263,-16022.9 192.263,-16022.9\"/>\r\n",
       "<text text-anchor=\"middle\" x=\"216.263\" y=\"-15993.8\" font-family=\"Times New Roman,serif\" font-size=\"14.00\">960x7x7</text>\r\n",
       "</g>\r\n",
       "<!-- mobilenetv20_features_linearbottleneck16_conv2_fwd -->\r\n",
       "<g id=\"node149\" class=\"node\"><title>mobilenetv20_features_linearbottleneck16_conv2_fwd</title>\r\n",
       "<ellipse fill=\"#fb8072\" stroke=\"black\" cx=\"192.263\" cy=\"-16161\" rx=\"58.8062\" ry=\"29\"/>\r\n",
       "<text text-anchor=\"middle\" x=\"192.263\" y=\"-16164.8\" font-family=\"Times New Roman,serif\" font-size=\"14.00\">Convolution</text>\r\n",
       "<text text-anchor=\"middle\" x=\"192.263\" y=\"-16149.8\" font-family=\"Times New Roman,serif\" font-size=\"14.00\">1x1/1x1, 320</text>\r\n",
       "</g>\r\n",
       "<!-- mobilenetv20_features_linearbottleneck16_conv2_fwd&#45;&gt;mobilenetv20_features_linearbottleneck16_relu61_relu6 -->\r\n",
       "<g id=\"edge158\" class=\"edge\"><title>mobilenetv20_features_linearbottleneck16_conv2_fwd&#45;&gt;mobilenetv20_features_linearbottleneck16_relu61_relu6</title>\r\n",
       "<path fill=\"none\" stroke=\"black\" d=\"M192.263,-16121.6C192.263,-16108.3 192.263,-16093.6 192.263,-16081.3\"/>\r\n",
       "<polygon fill=\"black\" stroke=\"black\" points=\"192.263,-16131.9 187.763,-16121.9 192.263,-16126.9 192.263,-16121.9 192.263,-16121.9 192.263,-16121.9 192.263,-16126.9 196.763,-16121.9 192.263,-16131.9 192.263,-16131.9\"/>\r\n",
       "<text text-anchor=\"middle\" x=\"216.263\" y=\"-16102.8\" font-family=\"Times New Roman,serif\" font-size=\"14.00\">960x7x7</text>\r\n",
       "</g>\r\n",
       "<!-- mobilenetv20_features_linearbottleneck16_batchnorm2_fwd -->\r\n",
       "<g id=\"node150\" class=\"node\"><title>mobilenetv20_features_linearbottleneck16_batchnorm2_fwd</title>\r\n",
       "<ellipse fill=\"#bebada\" stroke=\"black\" cx=\"192.263\" cy=\"-16270\" rx=\"192.027\" ry=\"29\"/>\r\n",
       "<text text-anchor=\"middle\" x=\"192.263\" y=\"-16266.3\" font-family=\"Times New Roman,serif\" font-size=\"14.00\">mobilenetv20_features_linearbottleneck16_batchnorm2_fwd</text>\r\n",
       "</g>\r\n",
       "<!-- mobilenetv20_features_linearbottleneck16_batchnorm2_fwd&#45;&gt;mobilenetv20_features_linearbottleneck16_conv2_fwd -->\r\n",
       "<g id=\"edge159\" class=\"edge\"><title>mobilenetv20_features_linearbottleneck16_batchnorm2_fwd&#45;&gt;mobilenetv20_features_linearbottleneck16_conv2_fwd</title>\r\n",
       "<path fill=\"none\" stroke=\"black\" d=\"M192.263,-16230.6C192.263,-16217.3 192.263,-16202.6 192.263,-16190.3\"/>\r\n",
       "<polygon fill=\"black\" stroke=\"black\" points=\"192.263,-16240.9 187.763,-16230.9 192.263,-16235.9 192.263,-16230.9 192.263,-16230.9 192.263,-16230.9 192.263,-16235.9 196.763,-16230.9 192.263,-16240.9 192.263,-16240.9\"/>\r\n",
       "<text text-anchor=\"middle\" x=\"216.263\" y=\"-16211.8\" font-family=\"Times New Roman,serif\" font-size=\"14.00\">320x7x7</text>\r\n",
       "</g>\r\n",
       "<!-- mobilenetv20_features_conv1_fwd -->\r\n",
       "<g id=\"node151\" class=\"node\"><title>mobilenetv20_features_conv1_fwd</title>\r\n",
       "<ellipse fill=\"#fb8072\" stroke=\"black\" cx=\"192.263\" cy=\"-16379\" rx=\"62.7482\" ry=\"29\"/>\r\n",
       "<text text-anchor=\"middle\" x=\"192.263\" y=\"-16382.8\" font-family=\"Times New Roman,serif\" font-size=\"14.00\">Convolution</text>\r\n",
       "<text text-anchor=\"middle\" x=\"192.263\" y=\"-16367.8\" font-family=\"Times New Roman,serif\" font-size=\"14.00\">1x1/1x1, 1280</text>\r\n",
       "</g>\r\n",
       "<!-- mobilenetv20_features_conv1_fwd&#45;&gt;mobilenetv20_features_linearbottleneck16_batchnorm2_fwd -->\r\n",
       "<g id=\"edge160\" class=\"edge\"><title>mobilenetv20_features_conv1_fwd&#45;&gt;mobilenetv20_features_linearbottleneck16_batchnorm2_fwd</title>\r\n",
       "<path fill=\"none\" stroke=\"black\" d=\"M192.263,-16339.6C192.263,-16326.3 192.263,-16311.6 192.263,-16299.3\"/>\r\n",
       "<polygon fill=\"black\" stroke=\"black\" points=\"192.263,-16349.9 187.763,-16339.9 192.263,-16344.9 192.263,-16339.9 192.263,-16339.9 192.263,-16339.9 192.263,-16344.9 196.763,-16339.9 192.263,-16349.9 192.263,-16349.9\"/>\r\n",
       "<text text-anchor=\"middle\" x=\"216.263\" y=\"-16320.8\" font-family=\"Times New Roman,serif\" font-size=\"14.00\">320x7x7</text>\r\n",
       "</g>\r\n",
       "<!-- mobilenetv20_features_batchnorm1_fwd -->\r\n",
       "<g id=\"node152\" class=\"node\"><title>mobilenetv20_features_batchnorm1_fwd</title>\r\n",
       "<ellipse fill=\"#bebada\" stroke=\"black\" cx=\"192.263\" cy=\"-16488\" rx=\"133.381\" ry=\"29\"/>\r\n",
       "<text text-anchor=\"middle\" x=\"192.263\" y=\"-16484.3\" font-family=\"Times New Roman,serif\" font-size=\"14.00\">mobilenetv20_features_batchnorm1_fwd</text>\r\n",
       "</g>\r\n",
       "<!-- mobilenetv20_features_batchnorm1_fwd&#45;&gt;mobilenetv20_features_conv1_fwd -->\r\n",
       "<g id=\"edge161\" class=\"edge\"><title>mobilenetv20_features_batchnorm1_fwd&#45;&gt;mobilenetv20_features_conv1_fwd</title>\r\n",
       "<path fill=\"none\" stroke=\"black\" d=\"M192.263,-16448.6C192.263,-16435.3 192.263,-16420.6 192.263,-16408.3\"/>\r\n",
       "<polygon fill=\"black\" stroke=\"black\" points=\"192.263,-16458.9 187.763,-16448.9 192.263,-16453.9 192.263,-16448.9 192.263,-16448.9 192.263,-16448.9 192.263,-16453.9 196.763,-16448.9 192.263,-16458.9 192.263,-16458.9\"/>\r\n",
       "<text text-anchor=\"middle\" x=\"219.763\" y=\"-16429.8\" font-family=\"Times New Roman,serif\" font-size=\"14.00\">1280x7x7</text>\r\n",
       "</g>\r\n",
       "<!-- mobilenetv20_features_relu61_relu6 -->\r\n",
       "<g id=\"node153\" class=\"node\"><title>mobilenetv20_features_relu61_relu6</title>\r\n",
       "<ellipse fill=\"#fccde5\" stroke=\"black\" cx=\"192.263\" cy=\"-16597\" rx=\"118.97\" ry=\"29\"/>\r\n",
       "<text text-anchor=\"middle\" x=\"192.263\" y=\"-16593.3\" font-family=\"Times New Roman,serif\" font-size=\"14.00\">mobilenetv20_features_relu61_relu6</text>\r\n",
       "</g>\r\n",
       "<!-- mobilenetv20_features_relu61_relu6&#45;&gt;mobilenetv20_features_batchnorm1_fwd -->\r\n",
       "<g id=\"edge162\" class=\"edge\"><title>mobilenetv20_features_relu61_relu6&#45;&gt;mobilenetv20_features_batchnorm1_fwd</title>\r\n",
       "<path fill=\"none\" stroke=\"black\" d=\"M192.263,-16557.6C192.263,-16544.3 192.263,-16529.6 192.263,-16517.3\"/>\r\n",
       "<polygon fill=\"black\" stroke=\"black\" points=\"192.263,-16567.9 187.763,-16557.9 192.263,-16562.9 192.263,-16557.9 192.263,-16557.9 192.263,-16557.9 192.263,-16562.9 196.763,-16557.9 192.263,-16567.9 192.263,-16567.9\"/>\r\n",
       "<text text-anchor=\"middle\" x=\"219.763\" y=\"-16538.8\" font-family=\"Times New Roman,serif\" font-size=\"14.00\">1280x7x7</text>\r\n",
       "</g>\r\n",
       "<!-- mobilenetv20_features_pool0_fwd -->\r\n",
       "<g id=\"node154\" class=\"node\"><title>mobilenetv20_features_pool0_fwd</title>\r\n",
       "<ellipse fill=\"#80b1d3\" stroke=\"black\" cx=\"192.263\" cy=\"-16706\" rx=\"58.4833\" ry=\"29\"/>\r\n",
       "<text text-anchor=\"middle\" x=\"192.263\" y=\"-16709.8\" font-family=\"Times New Roman,serif\" font-size=\"14.00\">Pooling</text>\r\n",
       "<text text-anchor=\"middle\" x=\"192.263\" y=\"-16694.8\" font-family=\"Times New Roman,serif\" font-size=\"14.00\">avg, 1x1/1x1</text>\r\n",
       "</g>\r\n",
       "<!-- mobilenetv20_features_pool0_fwd&#45;&gt;mobilenetv20_features_relu61_relu6 -->\r\n",
       "<g id=\"edge163\" class=\"edge\"><title>mobilenetv20_features_pool0_fwd&#45;&gt;mobilenetv20_features_relu61_relu6</title>\r\n",
       "<path fill=\"none\" stroke=\"black\" d=\"M192.263,-16666.6C192.263,-16653.3 192.263,-16638.6 192.263,-16626.3\"/>\r\n",
       "<polygon fill=\"black\" stroke=\"black\" points=\"192.263,-16676.9 187.763,-16666.9 192.263,-16671.9 192.263,-16666.9 192.263,-16666.9 192.263,-16666.9 192.263,-16671.9 196.763,-16666.9 192.263,-16676.9 192.263,-16676.9\"/>\r\n",
       "<text text-anchor=\"middle\" x=\"219.763\" y=\"-16647.8\" font-family=\"Times New Roman,serif\" font-size=\"14.00\">1280x7x7</text>\r\n",
       "</g>\r\n",
       "<!-- mobilenetv20_output_pred_fwd -->\r\n",
       "<g id=\"node155\" class=\"node\"><title>mobilenetv20_output_pred_fwd</title>\r\n",
       "<ellipse fill=\"#fb8072\" stroke=\"black\" cx=\"192.263\" cy=\"-16815\" rx=\"62.7482\" ry=\"29\"/>\r\n",
       "<text text-anchor=\"middle\" x=\"192.263\" y=\"-16818.8\" font-family=\"Times New Roman,serif\" font-size=\"14.00\">Convolution</text>\r\n",
       "<text text-anchor=\"middle\" x=\"192.263\" y=\"-16803.8\" font-family=\"Times New Roman,serif\" font-size=\"14.00\">1x1/1x1, 1000</text>\r\n",
       "</g>\r\n",
       "<!-- mobilenetv20_output_pred_fwd&#45;&gt;mobilenetv20_features_pool0_fwd -->\r\n",
       "<g id=\"edge164\" class=\"edge\"><title>mobilenetv20_output_pred_fwd&#45;&gt;mobilenetv20_features_pool0_fwd</title>\r\n",
       "<path fill=\"none\" stroke=\"black\" d=\"M192.263,-16775.6C192.263,-16762.3 192.263,-16747.6 192.263,-16735.3\"/>\r\n",
       "<polygon fill=\"black\" stroke=\"black\" points=\"192.263,-16785.9 187.763,-16775.9 192.263,-16780.9 192.263,-16775.9 192.263,-16775.9 192.263,-16775.9 192.263,-16780.9 196.763,-16775.9 192.263,-16785.9 192.263,-16785.9\"/>\r\n",
       "<text text-anchor=\"middle\" x=\"219.763\" y=\"-16756.8\" font-family=\"Times New Roman,serif\" font-size=\"14.00\">1280x1x1</text>\r\n",
       "</g>\r\n",
       "<!-- mobilenetv20_output_flatten0_flatten0 -->\r\n",
       "<g id=\"node156\" class=\"node\"><title>mobilenetv20_output_flatten0_flatten0</title>\r\n",
       "<ellipse fill=\"#fdb462\" stroke=\"black\" cx=\"192.263\" cy=\"-16924\" rx=\"125.042\" ry=\"29\"/>\r\n",
       "<text text-anchor=\"middle\" x=\"192.263\" y=\"-16920.3\" font-family=\"Times New Roman,serif\" font-size=\"14.00\">mobilenetv20_output_flatten0_flatten0</text>\r\n",
       "</g>\r\n",
       "<!-- mobilenetv20_output_flatten0_flatten0&#45;&gt;mobilenetv20_output_pred_fwd -->\r\n",
       "<g id=\"edge165\" class=\"edge\"><title>mobilenetv20_output_flatten0_flatten0&#45;&gt;mobilenetv20_output_pred_fwd</title>\r\n",
       "<path fill=\"none\" stroke=\"black\" d=\"M192.263,-16884.6C192.263,-16871.3 192.263,-16856.6 192.263,-16844.3\"/>\r\n",
       "<polygon fill=\"black\" stroke=\"black\" points=\"192.263,-16894.9 187.763,-16884.9 192.263,-16889.9 192.263,-16884.9 192.263,-16884.9 192.263,-16884.9 192.263,-16889.9 196.763,-16884.9 192.263,-16894.9 192.263,-16894.9\"/>\r\n",
       "<text text-anchor=\"middle\" x=\"219.763\" y=\"-16865.8\" font-family=\"Times New Roman,serif\" font-size=\"14.00\">1000x1x1</text>\r\n",
       "</g>\r\n",
       "</g>\r\n",
       "</svg>\r\n"
      ],
      "text/plain": [
       "<graphviz.dot.Digraph at 0x2c6820a6b48>"
      ]
     },
     "execution_count": 68,
     "metadata": {},
     "output_type": "execute_result"
    }
   ],
   "source": [
    "viz.plot_network(mobile_net(mx.sym.var('data')),\n",
    "                 shape = {'data': (1, 3, 224, 224)},\n",
    "                 node_attrs = {'shape': 'oval', 'fixedsize': 'false'})"
   ]
  },
  {
   "cell_type": "markdown",
   "metadata": {},
   "source": [
    "The above computational graph is too complicated, instead we can export it and visualize it with http://lutzroeder.github.io/netron/ (upload `.json` file)"
   ]
  },
  {
   "cell_type": "code",
   "execution_count": 69,
   "metadata": {},
   "outputs": [],
   "source": [
    "mobile_net.hybridize()\n",
    "mobile_net(nd.ones((1, 3, 224, 224)))\n",
    "mobile_net.export(\"scripts/mobile_net\")"
   ]
  },
  {
   "cell_type": "markdown",
   "metadata": {},
   "source": [
    "<img src=\"assets/module4/mobile-net-viz.png\" width=\"750\">"
   ]
  },
  {
   "cell_type": "markdown",
   "metadata": {},
   "source": [
    "## Evaluation"
   ]
  },
  {
   "cell_type": "markdown",
   "metadata": {},
   "source": [
    "Formal measures of how good or bad our models are.\n",
    "\n",
    "Objective function: lower value is better. sometimes called as loss function. Example:\n",
    "\n",
    "- Regression: sum of square errors\n",
    "$$f=\\sum{(y-\\hat{y})^2}$$\n",
    "\n",
    "- Classification: error rate\n",
    "$$f = \\frac{|y \\neq \\hat{y}|}{|y|}$$\n",
    "Minimize False Positive and False Negative"
   ]
  },
  {
   "cell_type": "markdown",
   "metadata": {},
   "source": [
    "Difference between loss and metric:\n",
    "\n",
    "- Loss: direct cost objective to be minimized during training.\n",
    "\n",
    "- Metric: human readable assessment, not used directly in the training."
   ]
  },
  {
   "cell_type": "markdown",
   "metadata": {},
   "source": [
    "### Metrics"
   ]
  },
  {
   "cell_type": "markdown",
   "metadata": {},
   "source": [
    "Binary classification problem: confusion matrix\n",
    "\n",
    "<img src=\"assets/module4/confusion-matrix.png\" width=\"200\">\n",
    "\n",
    "$$Precision = \\frac{TP}{TP+FP}$$\n",
    "\n",
    "$$Recall = \\frac{TP}{TP+FN}$$\n",
    "\n",
    "$$Accuracy = \\frac{TP + TN}{Total}$$\n",
    "\n",
    "$$F1 = 2 \\times \\frac{Recall \\times Precision}{Recall + Precision}$$\n",
    "\n",
    "Use case:\n",
    "- Detector for quality assurance on a production line: optimize Recall than Precision\n",
    "- Build sensor that detects human on a camera feed to control outdoor lights: optimize Precision"
   ]
  },
  {
   "cell_type": "markdown",
   "metadata": {},
   "source": [
    "**Knowledge Check**\n",
    "\n",
    "A false negative is...\n",
    "- [ ] a sample that has been incorrectly labelled as false.\n",
    "- [ ] a sample that has been incorrectly labelled as true.\n",
    "- [ ] a sample that has been correctly labelled as false.\n",
    "- [ ] a sample that has been correctly labelled as true."
   ]
  },
  {
   "cell_type": "markdown",
   "metadata": {},
   "source": [
    "Regression\n",
    "\n",
    "- Root Mean Squared Error (RMSE)\n",
    "\n",
    "$$RMSE = \\sqrt{\\frac{\\sum((Predicted-Actual)^2)}{N}}$$\n",
    "\n",
    "- Mean Absolute Error (MAE)\n",
    "\n",
    "$$MAE = \\sum{\\frac{|Predicted-Actual|}{N}}$$"
   ]
  },
  {
   "cell_type": "code",
   "execution_count": 70,
   "metadata": {},
   "outputs": [],
   "source": [
    "import mxnet as mx\n",
    "from mxnet import metric"
   ]
  },
  {
   "cell_type": "markdown",
   "metadata": {},
   "source": [
    "Example on accuracy:"
   ]
  },
  {
   "cell_type": "code",
   "execution_count": 71,
   "metadata": {},
   "outputs": [
    {
     "data": {
      "text/plain": [
       "('accuracy', 1.0)"
      ]
     },
     "execution_count": 71,
     "metadata": {},
     "output_type": "execute_result"
    }
   ],
   "source": [
    "actual = nd.array([1,2,3])\n",
    "predicted = nd.array([1,2,3])\n",
    "\n",
    "acc = metric.Accuracy()\n",
    "acc.update(actual, predicted)\n",
    "acc.get()"
   ]
  },
  {
   "cell_type": "code",
   "execution_count": 72,
   "metadata": {
    "scrolled": true
   },
   "outputs": [
    {
     "data": {
      "text/plain": [
       "('accuracy', 0.3333333333333333)"
      ]
     },
     "execution_count": 72,
     "metadata": {},
     "output_type": "execute_result"
    }
   ],
   "source": [
    "acc.reset()\n",
    "\n",
    "predicted_2 = nd.array([1,1,1])\n",
    "acc.update(actual, predicted_2)\n",
    "acc.get()"
   ]
  },
  {
   "cell_type": "markdown",
   "metadata": {},
   "source": [
    "Multi-class classification"
   ]
  },
  {
   "cell_type": "code",
   "execution_count": 73,
   "metadata": {
    "scrolled": true
   },
   "outputs": [
    {
     "name": "stdout",
     "output_type": "stream",
     "text": [
      "('accuracy', 0.0)\n",
      "('top_k_accuracy_2', 1.0)\n"
     ]
    }
   ],
   "source": [
    "top_2_acc = metric.TopKAccuracy(top_k = 2)\n",
    "predicted = mx.nd.array([[0.4, 0.5, 0.1], [0.4, 0.5, 0.1], [0.4, 0.5, 0.1]])\n",
    "actual = mx.nd.array([0, 0, 0])\n",
    "\n",
    "# compare [1, 1, 1] with [0, 0, 0]\n",
    "acc.reset()\n",
    "acc.update(actual, predicted)\n",
    "print(acc.get())\n",
    "\n",
    "# compare [[0,1], [0,1], [0,1]] with [0, 0, 0]\n",
    "top_2_acc.update(actual, predicted)\n",
    "print(top_2_acc.get())"
   ]
  },
  {
   "cell_type": "markdown",
   "metadata": {},
   "source": [
    "**Knowledge Check**\n",
    "\n",
    "What is the correct flow for calculating accuracy using MXNet's `Accuracy` metric?\n",
    "- [ ] ```\n",
    "metric = mx.metric.Accuracy()\n",
    "metric.update(preds = predicts, labels = labels)\n",
    "print(metric.get()) ```\n",
    "\n",
    "- [ ] ```\n",
    "metric = mx.metric.Accuracy()\n",
    "print(metric.evaluate(preds = predicts, labels = labels)) ```"
   ]
  },
  {
   "cell_type": "markdown",
   "metadata": {},
   "source": [
    "Intersection Over Union (IoU):\n",
    "\n",
    "<img src=\"assets/module4/iou.png\" width=\"200\">\n",
    "\n",
    "Precision at 0.5: any correctly labeled class > 0.5 IoU overlap with actual bounding box is considered as a correct prediction."
   ]
  },
  {
   "cell_type": "markdown",
   "metadata": {},
   "source": [
    "### Losses"
   ]
  },
  {
   "cell_type": "code",
   "execution_count": 74,
   "metadata": {},
   "outputs": [],
   "source": [
    "import mxnet as mx\n",
    "from mxnet.gluon import loss\n",
    "import numpy as np\n",
    "import matplotlib.pyplot as plt"
   ]
  },
  {
   "cell_type": "code",
   "execution_count": 75,
   "metadata": {
    "scrolled": true
   },
   "outputs": [
    {
     "data": {
      "image/png": "[encoded data removed]",
      "text/plain": [
       "<Figure size 432x288 with 1 Axes>"
      ]
     },
     "metadata": {
      "needs_background": "light"
     },
     "output_type": "display_data"
    }
   ],
   "source": [
    "x = np.arange(0.1, 1, 0.001)\n",
    "\n",
    "plt.plot(x, -np.log(x))\n",
    "\n",
    "plt.xlabel(\"Predicted Probability\")\n",
    "plt.ylabel(\"Loss\")\n",
    "plt.title(\"Log loss when True Label = 1\")\n",
    "plt.show()"
   ]
  },
  {
   "cell_type": "markdown",
   "metadata": {},
   "source": [
    "**Knowledge Check**\n",
    "\n",
    "What is the advantage of a loss function (e.g. cross-entropy) compared to a metric (e.g. error rate)?\n",
    "- [ ] It's differentiable.\n",
    "- [ ] It's faster to compute."
   ]
  },
  {
   "cell_type": "markdown",
   "metadata": {},
   "source": [
    "$$Softmax(x_i) = \\frac{e_{i}^x}{\\sum{e_{j}^x}}$$"
   ]
  },
  {
   "cell_type": "code",
   "execution_count": 76,
   "metadata": {},
   "outputs": [
    {
     "data": {
      "text/plain": [
       "\n",
       "[[0.01165623 0.03168492 0.08612854 0.23412167 0.6364086 ]]\n",
       "<NDArray 1x5 @cpu(0)>"
      ]
     },
     "execution_count": 76,
     "metadata": {},
     "output_type": "execute_result"
    }
   ],
   "source": [
    "s = nd.array([[1,2,3,4,5]]).softmax()\n",
    "s"
   ]
  },
  {
   "cell_type": "code",
   "execution_count": 77,
   "metadata": {},
   "outputs": [
    {
     "data": {
      "text/plain": [
       "\n",
       "[1.]\n",
       "<NDArray 1 @cpu(0)>"
      ]
     },
     "execution_count": 77,
     "metadata": {},
     "output_type": "execute_result"
    }
   ],
   "source": [
    "s.sum()"
   ]
  },
  {
   "cell_type": "markdown",
   "metadata": {},
   "source": [
    "Cross Entropy Loss function:\n",
    "\n",
    "$$loss = - \\sum{p_i \\times log(pred_i)}$$"
   ]
  },
  {
   "cell_type": "code",
   "execution_count": 78,
   "metadata": {
    "scrolled": true
   },
   "outputs": [
    {
     "data": {
      "text/plain": [
       "\n",
       "[20.]\n",
       "<NDArray 1 @cpu(0)>"
      ]
     },
     "execution_count": 78,
     "metadata": {},
     "output_type": "execute_result"
    }
   ],
   "source": [
    "predicted = nd.array([10,20,40,20,5])\n",
    "actual = nd.array([1])\n",
    "\n",
    "loss_fn = loss.SoftmaxCrossEntropyLoss()\n",
    "loss_fn(predicted, actual)"
   ]
  },
  {
   "cell_type": "code",
   "execution_count": 79,
   "metadata": {
    "scrolled": true
   },
   "outputs": [
    {
     "data": {
      "text/plain": [
       "\n",
       "[0.]\n",
       "<NDArray 1 @cpu(0)>"
      ]
     },
     "execution_count": 79,
     "metadata": {},
     "output_type": "execute_result"
    }
   ],
   "source": [
    "actual = nd.array([2])\n",
    "loss_fn(predicted, actual)"
   ]
  },
  {
   "cell_type": "markdown",
   "metadata": {},
   "source": [
    "We can conclude if predicted == actual then loss is zero. The less, the better our model."
   ]
  },
  {
   "cell_type": "markdown",
   "metadata": {},
   "source": [
    "## Summary"
   ]
  },
  {
   "cell_type": "markdown",
   "metadata": {},
   "source": [
    "1. N-dimensional array\n",
    "    - scalar, vector, matrix, tensor\n",
    "    - Apache MXNet has NDArray which is similar with Numpy array\n",
    "\n",
    "2. Gluon blocks\n",
    "    - Convolution, max pooling, dense layer\n",
    "    - Utility blocks: Sequential blocks\n",
    "    - Sub classes of the block class: custom blocks\n",
    "    - Gluon models: model zoo pre-trained models\n",
    "    - Visualize computational graph that represents data flows\n",
    "\n",
    "3. Loss and metric\n",
    "    - Loss: optimization objective to be minimized using gradient descent\n",
    "    - Metric: human readable evaluation"
   ]
  }
 ],
 "metadata": {
  "kernelspec": {
   "display_name": "computer-vision",
   "language": "python",
   "name": "computer-vision"
  },
  "language_info": {
   "codemirror_mode": {
    "name": "ipython",
    "version": 3
   },
   "file_extension": ".py",
   "mimetype": "text/x-python",
   "name": "python",
   "nbconvert_exporter": "python",
   "pygments_lexer": "ipython3",
   "version": "3.7.7"
  },
  "toc": {
   "base_numbering": 1,
   "nav_menu": {},
   "number_sections": true,
   "sideBar": true,
   "skip_h1_title": true,
   "title_cell": "Table of Contents",
   "title_sidebar": "Contents",
   "toc_cell": true,
   "toc_position": {},
   "toc_section_display": true,
   "toc_window_display": false
  },
  "varInspector": {
   "cols": {
    "lenName": 16,
    "lenType": 16,
    "lenVar": 40
   },
   "kernels_config": {
    "python": {
     "delete_cmd_postfix": "",
     "delete_cmd_prefix": "del ",
     "library": "var_list.py",
     "varRefreshCmd": "print(var_dic_list())"
    },
    "r": {
     "delete_cmd_postfix": ") ",
     "delete_cmd_prefix": "rm(",
     "library": "var_list.r",
     "varRefreshCmd": "cat(var_dic_list()) "
    }
   },
   "types_to_exclude": [
    "module",
    "function",
    "builtin_function_or_method",
    "instance",
    "_Feature"
   ],
   "window_display": false
  }
 },
 "nbformat": 4,
 "nbformat_minor": 4
}
