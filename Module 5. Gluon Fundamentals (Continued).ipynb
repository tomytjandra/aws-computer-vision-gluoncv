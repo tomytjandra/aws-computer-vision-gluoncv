{
 "cells": [
  {
   "cell_type": "markdown",
   "metadata": {
    "toc": true
   },
   "source": [
    "<h1>Table of Contents<span class=\"tocSkip\"></span></h1>\n",
    "<div class=\"toc\"><ul class=\"toc-item\"><li><span><a href=\"#Automatic-Differentiation\" data-toc-modified-id=\"Automatic-Differentiation-1\"><span class=\"toc-item-num\">1&nbsp;&nbsp;</span>Automatic Differentiation</a></span><ul class=\"toc-item\"><li><span><a href=\"#Fundamental\" data-toc-modified-id=\"Fundamental-1.1\"><span class=\"toc-item-num\">1.1&nbsp;&nbsp;</span>Fundamental</a></span></li><li><span><a href=\"#MXNet-AutoGrad\" data-toc-modified-id=\"MXNet-AutoGrad-1.2\"><span class=\"toc-item-num\">1.2&nbsp;&nbsp;</span>MXNet AutoGrad</a></span></li><li><span><a href=\"#Quiz\" data-toc-modified-id=\"Quiz-1.3\"><span class=\"toc-item-num\">1.3&nbsp;&nbsp;</span>Quiz</a></span></li></ul></li><li><span><a href=\"#Optimizers\" data-toc-modified-id=\"Optimizers-2\"><span class=\"toc-item-num\">2&nbsp;&nbsp;</span>Optimizers</a></span><ul class=\"toc-item\"><li><span><a href=\"#MXNet-Optimizers\" data-toc-modified-id=\"MXNet-Optimizers-2.1\"><span class=\"toc-item-num\">2.1&nbsp;&nbsp;</span>MXNet Optimizers</a></span></li><li><span><a href=\"#Gluon-Trainers\" data-toc-modified-id=\"Gluon-Trainers-2.2\"><span class=\"toc-item-num\">2.2&nbsp;&nbsp;</span>Gluon Trainers</a></span></li><li><span><a href=\"#Quiz\" data-toc-modified-id=\"Quiz-2.3\"><span class=\"toc-item-num\">2.3&nbsp;&nbsp;</span>Quiz</a></span></li></ul></li><li><span><a href=\"#Datasets-&amp;-DataLoaders\" data-toc-modified-id=\"Datasets-&amp;-DataLoaders-3\"><span class=\"toc-item-num\">3&nbsp;&nbsp;</span>Datasets &amp; DataLoaders</a></span><ul class=\"toc-item\"><li><span><a href=\"#Data-in-Machine-Learning\" data-toc-modified-id=\"Data-in-Machine-Learning-3.1\"><span class=\"toc-item-num\">3.1&nbsp;&nbsp;</span>Data in Machine Learning</a></span></li><li><span><a href=\"#Gluon-Datasets\" data-toc-modified-id=\"Gluon-Datasets-3.2\"><span class=\"toc-item-num\">3.2&nbsp;&nbsp;</span>Gluon Datasets</a></span></li><li><span><a href=\"#Gluon-Transformations\" data-toc-modified-id=\"Gluon-Transformations-3.3\"><span class=\"toc-item-num\">3.3&nbsp;&nbsp;</span>Gluon Transformations</a></span></li><li><span><a href=\"#Gluon-DataLoaders\" data-toc-modified-id=\"Gluon-DataLoaders-3.4\"><span class=\"toc-item-num\">3.4&nbsp;&nbsp;</span>Gluon DataLoaders</a></span></li><li><span><a href=\"#Practice-Assignment\" data-toc-modified-id=\"Practice-Assignment-3.5\"><span class=\"toc-item-num\">3.5&nbsp;&nbsp;</span>Practice Assignment</a></span></li></ul></li><li><span><a href=\"#Neural-Network-Training-&amp;-Evaluation\" data-toc-modified-id=\"Neural-Network-Training-&amp;-Evaluation-4\"><span class=\"toc-item-num\">4&nbsp;&nbsp;</span>Neural Network Training &amp; Evaluation</a></span><ul class=\"toc-item\"><li><span><a href=\"#Training\" data-toc-modified-id=\"Training-4.1\"><span class=\"toc-item-num\">4.1&nbsp;&nbsp;</span>Training</a></span></li><li><span><a href=\"#Evaluation\" data-toc-modified-id=\"Evaluation-4.2\"><span class=\"toc-item-num\">4.2&nbsp;&nbsp;</span>Evaluation</a></span></li><li><span><a href=\"#Practice-Assignment\" data-toc-modified-id=\"Practice-Assignment-4.3\"><span class=\"toc-item-num\">4.3&nbsp;&nbsp;</span>Practice Assignment</a></span></li></ul></li><li><span><a href=\"#Summary\" data-toc-modified-id=\"Summary-5\"><span class=\"toc-item-num\">5&nbsp;&nbsp;</span>Summary</a></span></li></ul></div>"
   ]
  },
  {
   "cell_type": "markdown",
   "metadata": {},
   "source": [
    "# Key Concepts\n",
    "- Construct datasets for your own data\n",
    "- Use Auto-grad to calculate gradients\n",
    "- Understand the role of Optimizers\n",
    "- Write a complete training loop"
   ]
  },
  {
   "cell_type": "markdown",
   "metadata": {},
   "source": [
    "## Automatic Differentiation"
   ]
  },
  {
   "cell_type": "markdown",
   "metadata": {},
   "source": [
    "### Fundamental"
   ]
  },
  {
   "cell_type": "markdown",
   "metadata": {},
   "source": [
    "Neural network training consists of repeating three steps:\n",
    "1. Forward (Model prediction)\n",
    "    - Passing data through the model to obtain output\n",
    "    - Predicted values compared with actual via loss function\n",
    "    - Objective: minimize loss\n",
    "\n",
    "<img src=\"assets/module5/forward-pass.png\" width=\"300\">\n",
    "\n",
    "2. Backward\n",
    "    - Computing gradient of the loss function with respect to the parameters\n",
    "    - Gradient is computed recursively using chain rule\n",
    "\n",
    "<img src=\"assets/module5/backward-pass.png\" width=\"300\">\n",
    "\n",
    "3. Optimize\n",
    "    - Use computed gradient to update the model parameters to minimize the loss"
   ]
  },
  {
   "cell_type": "markdown",
   "metadata": {},
   "source": [
    "Gradient:\n",
    "- is the derivative of function at a point\n",
    "- gives the direction of steepest increase of the function\n",
    "- Gradient descent follows the negative gradient to minimize a function (local minima)\n",
    "\n",
    "Automatic differentiation: evaluate gradient numerically/computationally rather than analytically. How?\n",
    "- Record operation and build computation graph\n",
    "- Repeatedly apply chain rule to compute gradient\n",
    "\n",
    "Backpropagation: algorithm to train neural networks using automatic differentiation to update parameters. Example:\n",
    "Defined prediction and loss function as follows:\n",
    "- $pred = \\sigma(Wx+b)$\n",
    "- $loss = f(pred, y)$\n",
    "\n",
    "The derivative of loss function with respect to $pred$ and $\\sigma$:\n",
    "- $\\nabla_{pred}loss = f'(pred, y)$\n",
    "- $\\nabla_{\\sigma}loss = \\nabla_{pred} . \\sigma'(Wx+b)$\n",
    "\n",
    "Hence we update the parameter with:\n",
    "- $\\nabla_{W}loss = \\nabla_{\\sigma}loss . x$\n",
    "- $\\nabla_{b}loss = \\nabla_{\\sigma}loss$"
   ]
  },
  {
   "cell_type": "markdown",
   "metadata": {},
   "source": [
    "### MXNet AutoGrad"
   ]
  },
  {
   "cell_type": "code",
   "execution_count": 1,
   "metadata": {},
   "outputs": [],
   "source": [
    "import mxnet as mx\n",
    "from mxnet import nd, autograd"
   ]
  },
  {
   "cell_type": "code",
   "execution_count": 2,
   "metadata": {
    "scrolled": false
   },
   "outputs": [
    {
     "data": {
      "text/plain": [
       "\n",
       "[[1. 2.]\n",
       " [3. 4.]]\n",
       "<NDArray 2x2 @cpu(0)>"
      ]
     },
     "execution_count": 2,
     "metadata": {},
     "output_type": "execute_result"
    }
   ],
   "source": [
    "x = nd.array([[1, 2], [3, 4]])\n",
    "x"
   ]
  },
  {
   "cell_type": "markdown",
   "metadata": {},
   "source": [
    "Use `.attach_grad()` to signal that we will compute the gradient of a function with respect to that NDArray. It will allocate space to store the gradient value."
   ]
  },
  {
   "cell_type": "code",
   "execution_count": 3,
   "metadata": {},
   "outputs": [],
   "source": [
    "x.attach_grad()"
   ]
  },
  {
   "cell_type": "markdown",
   "metadata": {},
   "source": [
    "Let's say we want to compute the gradient of $f(x) = 2x^2$"
   ]
  },
  {
   "cell_type": "code",
   "execution_count": 4,
   "metadata": {
    "scrolled": true
   },
   "outputs": [
    {
     "data": {
      "text/plain": [
       "(\n",
       " [[1. 2.]\n",
       "  [3. 4.]]\n",
       " <NDArray 2x2 @cpu(0)>,\n",
       " \n",
       " [[ 2.  8.]\n",
       "  [18. 32.]]\n",
       " <NDArray 2x2 @cpu(0)>)"
      ]
     },
     "execution_count": 4,
     "metadata": {},
     "output_type": "execute_result"
    }
   ],
   "source": [
    "f = lambda x: 2 * x**2\n",
    "with autograd.record():\n",
    "    y = f(x)\n",
    "x, y"
   ]
  },
  {
   "cell_type": "markdown",
   "metadata": {},
   "source": [
    "To compute the gradient, use `.backward()` on the function."
   ]
  },
  {
   "cell_type": "code",
   "execution_count": 5,
   "metadata": {},
   "outputs": [],
   "source": [
    "y.backward()"
   ]
  },
  {
   "cell_type": "markdown",
   "metadata": {},
   "source": [
    "The gradient value is stored on `.grad`"
   ]
  },
  {
   "cell_type": "code",
   "execution_count": 6,
   "metadata": {
    "scrolled": true
   },
   "outputs": [
    {
     "data": {
      "text/plain": [
       "(\n",
       " [[1. 2.]\n",
       "  [3. 4.]]\n",
       " <NDArray 2x2 @cpu(0)>,\n",
       " \n",
       " [[ 4.  8.]\n",
       "  [12. 16.]]\n",
       " <NDArray 2x2 @cpu(0)>)"
      ]
     },
     "execution_count": 6,
     "metadata": {},
     "output_type": "execute_result"
    }
   ],
   "source": [
    "x, x.grad"
   ]
  },
  {
   "cell_type": "markdown",
   "metadata": {},
   "source": [
    "We can verify the result with $\\frac{dy}{dx} = 4x$"
   ]
  },
  {
   "cell_type": "code",
   "execution_count": 7,
   "metadata": {},
   "outputs": [
    {
     "data": {
      "text/plain": [
       "\n",
       "[3. 4.]\n",
       "<NDArray 2 @cpu(0)>"
      ]
     },
     "execution_count": 7,
     "metadata": {},
     "output_type": "execute_result"
    }
   ],
   "source": [
    "x[1]"
   ]
  },
  {
   "cell_type": "markdown",
   "metadata": {},
   "source": [
    "Let's define another complex function $g(x)$ where:\n",
    "- x is random number between -1 and 1\n",
    "- x is multiplied by 2 until its norm reach 1000\n",
    "- If the sum of x is positive, then return first element. Otherwise return second."
   ]
  },
  {
   "cell_type": "code",
   "execution_count": 8,
   "metadata": {},
   "outputs": [],
   "source": [
    "def g(x):\n",
    "    x = x * 2\n",
    "    while x.norm().asscalar() < 1000:\n",
    "        x = x * 2\n",
    "        \n",
    "    if x.sum().asscalar() >= 0:\n",
    "        return x[0]\n",
    "    else:\n",
    "        return x[1]"
   ]
  },
  {
   "cell_type": "code",
   "execution_count": 9,
   "metadata": {
    "scrolled": true
   },
   "outputs": [
    {
     "data": {
      "text/plain": [
       "\n",
       "[0.97000694 0.6317388 ]\n",
       "<NDArray 2 @cpu(0)>"
      ]
     },
     "execution_count": 9,
     "metadata": {},
     "output_type": "execute_result"
    }
   ],
   "source": [
    "mx.random.seed(123)\n",
    "x = nd.random.uniform(-1, 1, shape = 2)\n",
    "x"
   ]
  },
  {
   "cell_type": "code",
   "execution_count": 10,
   "metadata": {},
   "outputs": [],
   "source": [
    "x.attach_grad()\n",
    "with autograd.record():\n",
    "    y = g(x)\n",
    "y.backward()"
   ]
  },
  {
   "cell_type": "code",
   "execution_count": 11,
   "metadata": {},
   "outputs": [
    {
     "data": {
      "text/plain": [
       "(\n",
       " [0.97000694 0.6317388 ]\n",
       " <NDArray 2 @cpu(0)>,\n",
       " \n",
       " [1024.    0.]\n",
       " <NDArray 2 @cpu(0)>)"
      ]
     },
     "execution_count": 11,
     "metadata": {},
     "output_type": "execute_result"
    }
   ],
   "source": [
    "x, x.grad"
   ]
  },
  {
   "cell_type": "markdown",
   "metadata": {},
   "source": [
    "Verify with:\n",
    "\n",
    "$g(x) = k . x[0]$ or $g(x) = k . x[1]$\n",
    "\n",
    "$\\frac{dg}{dx} = [0, k]$ or $\\frac{dg}{dx} = [k, 0]$\n",
    "\n",
    "with $k = 2^n$"
   ]
  },
  {
   "cell_type": "markdown",
   "metadata": {},
   "source": [
    "### Quiz"
   ]
  },
  {
   "cell_type": "markdown",
   "metadata": {},
   "source": [
    "1. Which of the following statements is NOT true?\n",
    "    - [ ] We compute gradients in MXNet using forward mode automatic differentiation.\n",
    "    - [ ] The direction of the gradient denotes the direction of steepest ascent for a function.\n",
    "    - [ ] At the minima or maxima of a differentiable function the value of the gradient is 0.\n",
    "    - [ ] Gradient descent is an iterative process for approximately finding the minimum of a loss function.\n",
    "\n",
    "\n",
    "2. Which of the following code blocks will actually print the derivative of x with respect to y?\n",
    "    - [ ] ```\n",
    "    x.attach_grad()\n",
    "    y = f(x)\n",
    "    with autograd.record():\n",
    "        y.backward()\n",
    "    x.grad\n",
    "    ```\n",
    "\n",
    "    - [ ] ```\n",
    "    y.attach_grad()\n",
    "    x = f(y)\n",
    "    with autograd.record():\n",
    "        x.backward()\n",
    "    y.grad\n",
    "    ```\n",
    "\n",
    "    - [ ] ```\n",
    "    x.attach_grad()\n",
    "    with autograd.record():\n",
    "        y = f(x)\n",
    "    y.backward()\n",
    "    x.grad\n",
    "    ```\n",
    "\n",
    "    - [ ] ```\n",
    "    y.attach_grad()\n",
    "    with autograd.record():\n",
    "        x = f(y)\n",
    "    x.backward()\n",
    "    y.grad\n",
    "    ```\n",
    "\n",
    "\n",
    "3. What will the output of the following code block?\n",
    "\n",
    "```\n",
    "from mxnet import nd, autograd\n",
    "\n",
    "x = nd.array([[1, 0], [0, 1]])\n",
    "y = nd.array([[1, 1], [1, 1]])\n",
    "x.attach_grad()\n",
    "y.attach_grad()\n",
    "f = lambda x,y: x**2 + y**2\n",
    "with autograd.record():\n",
    "    z = f(x, y)\n",
    "z.backward()\n",
    "print(x.grad * y.grad)\n",
    "```\n",
    "\n",
    "- [ ] [[2, 0], [0, 2]]\n",
    "- [ ] [[2, 2], [2 2]]\n",
    "- [ ] [[4, 0], [0, 4]]\n",
    "- [ ] [[4, 4], [4, 4]]"
   ]
  },
  {
   "cell_type": "markdown",
   "metadata": {},
   "source": [
    "## Optimizers"
   ]
  },
  {
   "cell_type": "markdown",
   "metadata": {},
   "source": [
    "### MXNet Optimizers"
   ]
  },
  {
   "cell_type": "markdown",
   "metadata": {},
   "source": [
    "Optimizers is typically an implementation of gradient descent algorithm to update the model parameters, minimize the loss function.\n",
    "\n",
    "Different optimizers have different rate of convergence towards local minima as follows:\n",
    "\n",
    "<img src=\"assets/module5/optimizers-convergence.png\" width=\"300\">\n",
    "\n",
    "The simplest optimizer is Stochastic Gradient Descent (SGD):\n",
    "- Passing minibatch of data\n",
    "- Update parameters: $w_{i+1} = w_{i} + rate . - \\nabla_{w_i} loss$\n",
    "- $rate$ is a hyperparameter which controls how big of a step, which then impacts the speed of convergence\n",
    "- $rate$ can be scheduled (diminishing rate) and adaptive\n",
    "\n",
    "<img src=\"assets/module5/learning-rate.png\" width=\"300\">"
   ]
  },
  {
   "cell_type": "markdown",
   "metadata": {},
   "source": [
    "### Gluon Trainers"
   ]
  },
  {
   "cell_type": "code",
   "execution_count": 12,
   "metadata": {},
   "outputs": [],
   "source": [
    "from mxnet import nd, autograd, optimizer, gluon"
   ]
  },
  {
   "cell_type": "markdown",
   "metadata": {},
   "source": [
    "Create a simple network to demonstrate gluon trainers:"
   ]
  },
  {
   "cell_type": "code",
   "execution_count": 13,
   "metadata": {},
   "outputs": [],
   "source": [
    "net = gluon.nn.Dense(1)\n",
    "net.initialize()"
   ]
  },
  {
   "cell_type": "markdown",
   "metadata": {},
   "source": [
    "Generate random input and output data"
   ]
  },
  {
   "cell_type": "code",
   "execution_count": 14,
   "metadata": {},
   "outputs": [],
   "source": [
    "# generate random data\n",
    "batch_size = 8\n",
    "X = nd.random.uniform(shape = (batch_size, 4))\n",
    "y = nd.random.uniform(shape = (batch_size,))"
   ]
  },
  {
   "cell_type": "markdown",
   "metadata": {},
   "source": [
    "Define loss function and forward-backward pass"
   ]
  },
  {
   "cell_type": "code",
   "execution_count": 15,
   "metadata": {},
   "outputs": [],
   "source": [
    "loss_fn = gluon.loss.L2Loss()\n",
    "\n",
    "def forward_backward():\n",
    "    with autograd.record():\n",
    "        pred = net(X)\n",
    "        loss = loss_fn(pred, y)\n",
    "    loss.backward()\n",
    "    \n",
    "forward_backward()"
   ]
  },
  {
   "cell_type": "markdown",
   "metadata": {},
   "source": [
    "Define `trainer` used as an optimizer"
   ]
  },
  {
   "cell_type": "code",
   "execution_count": 16,
   "metadata": {},
   "outputs": [],
   "source": [
    "trainer = gluon.Trainer(net.collect_params(),\n",
    "                        optimizer = \"sgd\",\n",
    "                        optimizer_params = {\"learning_rate\": 1})"
   ]
  },
  {
   "cell_type": "markdown",
   "metadata": {},
   "source": [
    "Compare weights before and after optimizers `trainer` is applied."
   ]
  },
  {
   "cell_type": "code",
   "execution_count": 17,
   "metadata": {},
   "outputs": [
    {
     "data": {
      "text/plain": [
       "\n",
       "[[-0.0165983  -0.06568351 -0.01125749  0.05518588]]\n",
       "<NDArray 1x4 @cpu(0)>"
      ]
     },
     "execution_count": 17,
     "metadata": {},
     "output_type": "execute_result"
    }
   ],
   "source": [
    "current_weight = net.weight.data().copy()\n",
    "current_weight"
   ]
  },
  {
   "cell_type": "code",
   "execution_count": 18,
   "metadata": {},
   "outputs": [
    {
     "data": {
      "text/plain": [
       "\n",
       "[[0.24462609 0.02987121 0.13447843 0.32860887]]\n",
       "<NDArray 1x4 @cpu(0)>"
      ]
     },
     "execution_count": 18,
     "metadata": {},
     "output_type": "execute_result"
    }
   ],
   "source": [
    "trainer.step(batch_size)\n",
    "net.weight.data()"
   ]
  },
  {
   "cell_type": "markdown",
   "metadata": {},
   "source": [
    "Verify with manual calculation: $w_{i+1} = w_{i} + rate . - \\nabla_{w_i} loss$"
   ]
  },
  {
   "cell_type": "code",
   "execution_count": 19,
   "metadata": {
    "scrolled": true
   },
   "outputs": [
    {
     "data": {
      "text/plain": [
       "\n",
       "[[0.24462609 0.02987121 0.13447843 0.32860887]]\n",
       "<NDArray 1x4 @cpu(0)>"
      ]
     },
     "execution_count": 19,
     "metadata": {},
     "output_type": "execute_result"
    }
   ],
   "source": [
    "current_weight - net.weight.grad() * 1 / batch_size"
   ]
  },
  {
   "cell_type": "markdown",
   "metadata": {},
   "source": [
    "**Another way** to implement `trainer` using optimizer object:"
   ]
  },
  {
   "cell_type": "code",
   "execution_count": 20,
   "metadata": {},
   "outputs": [],
   "source": [
    "optim = optimizer.Adam(learning_rate = 1)\n",
    "trainer = gluon.Trainer(net.collect_params(), optim)"
   ]
  },
  {
   "cell_type": "code",
   "execution_count": 21,
   "metadata": {},
   "outputs": [
    {
     "data": {
      "text/plain": [
       "\n",
       "[[-0.75537926 -0.9701321  -0.8655261  -0.6713965 ]]\n",
       "<NDArray 1x4 @cpu(0)>"
      ]
     },
     "execution_count": 21,
     "metadata": {},
     "output_type": "execute_result"
    }
   ],
   "source": [
    "forward_backward()\n",
    "trainer.step(batch_size)\n",
    "net.weight.data()"
   ]
  },
  {
   "cell_type": "markdown",
   "metadata": {},
   "source": [
    "Changing **learning rate**:"
   ]
  },
  {
   "cell_type": "code",
   "execution_count": 22,
   "metadata": {},
   "outputs": [
    {
     "name": "stdout",
     "output_type": "stream",
     "text": [
      "Before: 1\n",
      "After: 0.1\n"
     ]
    }
   ],
   "source": [
    "print(f\"Before: {trainer.learning_rate}\")\n",
    "trainer.set_learning_rate(0.1)\n",
    "print(f\"After: {trainer.learning_rate}\")"
   ]
  },
  {
   "cell_type": "markdown",
   "metadata": {},
   "source": [
    "### Quiz"
   ]
  },
  {
   "cell_type": "markdown",
   "metadata": {},
   "source": [
    "1. Which of the following statements is true?\n",
    "    - [ ] The learning rate does not significantly affect the speed of convergence of the stochastic gradient descent optimizer\n",
    "    - [ ] Optimizers are implementations of general purpose gradient based algorithms for function minimization\n",
    "    - [ ] An optimizer is always guaranteed to converge to the global minimum for any function\n",
    "    - [ ] Using the same optimizer with the same hyperparameters always converges to the same solution\n",
    "\n",
    "2. Which of the following is needed to instantiate a gluon Trainer?\n",
    "    - [ ] Model parameters\n",
    "    - [ ] Optimization algorithm\n",
    "    - [ ] Optimizer Hyperparameters\n",
    "    - [ ] All of the above\n",
    "\n",
    "3. Which of the following code blocks need to be adjusted so that when executed sequentially, a single weight update step of stochastic gradient descent is done correctly?\n",
    "\n",
    "    - [ ] ```\n",
    "    trainer = gluon.Trainer(net.collect_params(),\n",
    "                            'adam',\n",
    "                            optimizer_params = {'learning_rate': 0.001})\n",
    "    ```\n",
    "                            \n",
    "    - [ ] ```\n",
    "    with autograd.record():\n",
    "        loss = loss_fn(net(data), labels)\n",
    "    ```\n",
    "\n",
    "    - [ ] `autograd.backward(loss)`\n",
    "    - [ ] `trainer.step(batch_size)`"
   ]
  },
  {
   "cell_type": "markdown",
   "metadata": {},
   "source": [
    "## Datasets & DataLoaders"
   ]
  },
  {
   "cell_type": "markdown",
   "metadata": {},
   "source": [
    "### Data in Machine Learning"
   ]
  },
  {
   "cell_type": "markdown",
   "metadata": {},
   "source": [
    "Objective of ML is to learn the random distribution of case (population) from a representative sample or training set. Generalization is the capacity of model to perform well on unseen data.\n",
    "\n",
    "Generalization error/test error is known as overfitting, occurs when the model performs well in the training set but able to generalize if we introduce additional data points (test set). To address the issue:\n",
    "- Holdout: training and testing dataset\n",
    "- Data permitting: training, validation, and testing"
   ]
  },
  {
   "cell_type": "markdown",
   "metadata": {},
   "source": [
    "Two data concepts in gluon:\n",
    "\n",
    "<img src=\"assets/module5/dataset-dataloader.png\" width=\"500\">\n",
    "\n",
    "1. Dataset class: abstraction for a generic dataset\n",
    "2. Data Loader (asynchronous batch iterator): collecting data sampled generated by dataset into mini batches and feed to the network during training."
   ]
  },
  {
   "cell_type": "markdown",
   "metadata": {},
   "source": [
    "### Gluon Datasets"
   ]
  },
  {
   "cell_type": "code",
   "execution_count": 23,
   "metadata": {},
   "outputs": [],
   "source": [
    "import mxnet as mx\n",
    "\n",
    "from mxnet import gluon, nd\n",
    "from matplotlib.pyplot import imshow\n",
    "%matplotlib inline"
   ]
  },
  {
   "cell_type": "code",
   "execution_count": 24,
   "metadata": {},
   "outputs": [],
   "source": [
    "mx.random.seed(123)\n",
    "X = mx.random.uniform(shape = (10, 3))\n",
    "y = mx.random.uniform(shape = (10, 1))"
   ]
  },
  {
   "cell_type": "code",
   "execution_count": 25,
   "metadata": {},
   "outputs": [
    {
     "data": {
      "text/plain": [
       "(\n",
       " [0.55511147 0.7222936  0.46425208]\n",
       " <NDArray 3 @cpu(0)>,\n",
       " \n",
       " [0.5906712]\n",
       " <NDArray 1 @cpu(0)>)"
      ]
     },
     "execution_count": 25,
     "metadata": {},
     "output_type": "execute_result"
    }
   ],
   "source": [
    "dataset = gluon.data.dataset.ArrayDataset(X, y)\n",
    "dataset[4] # feature and target pair"
   ]
  },
  {
   "cell_type": "markdown",
   "metadata": {},
   "source": [
    "Try **MNIST** dataset:"
   ]
  },
  {
   "cell_type": "code",
   "execution_count": 26,
   "metadata": {
    "scrolled": true
   },
   "outputs": [],
   "source": [
    "train_data = gluon.data.vision.datasets.MNIST(train = True)\n",
    "test_data = gluon.data.vision.datasets.MNIST(train = False)"
   ]
  },
  {
   "cell_type": "code",
   "execution_count": 27,
   "metadata": {},
   "outputs": [
    {
     "name": "stdout",
     "output_type": "stream",
     "text": [
      "(28, 28, 1)\n"
     ]
    },
    {
     "data": {
      "text/plain": [
       "<matplotlib.image.AxesImage at 0x179fac051c8>"
      ]
     },
     "execution_count": 27,
     "metadata": {},
     "output_type": "execute_result"
    },
    {
     "data": {
      "image/png": "[encoded data removed]",
      "text/plain": [
       "<Figure size 432x288 with 1 Axes>"
      ]
     },
     "metadata": {
      "needs_background": "light"
     },
     "output_type": "display_data"
    }
   ],
   "source": [
    "sample_img = train_data[19][0]\n",
    "print(sample_img.shape)\n",
    "imshow(sample_img[:,:,0].asnumpy(), cmap = \"gray\")"
   ]
  },
  {
   "cell_type": "markdown",
   "metadata": {},
   "source": [
    "- `ImageFolderDataset` for loading image files stored in a folder. Syntax:\n",
    "`image_dataset = gluon.data.vision.datasets.ImageFolderDataset('PATH')`\n",
    "\n",
    "- Custom Dataset: custom handling for our own data"
   ]
  },
  {
   "cell_type": "code",
   "execution_count": 28,
   "metadata": {
    "scrolled": true
   },
   "outputs": [],
   "source": [
    "class CustomDataset(gluon.data.Dataset):\n",
    "    def __init__(self, dict_data):\n",
    "        self.dict_data = dict_data\n",
    "        self.dict_keys = list(dict_data.keys())\n",
    "        \n",
    "    def __getitem__(self, idx):\n",
    "        return self.dict_data[self.dict_keys[idx]]\n",
    "    \n",
    "    def __len__(self):\n",
    "        return len(self.dict_data)"
   ]
  },
  {
   "cell_type": "code",
   "execution_count": 29,
   "metadata": {},
   "outputs": [
    {
     "data": {
      "text/plain": [
       "\n",
       "2.0\n",
       "<NDArray  @cpu(0)>"
      ]
     },
     "execution_count": 29,
     "metadata": {},
     "output_type": "execute_result"
    }
   ],
   "source": [
    "custom_data = CustomDataset({'a': mx.nd.array(1,),\n",
    "                             'b': mx.nd.array(2,)})\n",
    "\n",
    "custom_data[1]"
   ]
  },
  {
   "cell_type": "markdown",
   "metadata": {},
   "source": [
    "### Gluon Transformations"
   ]
  },
  {
   "cell_type": "markdown",
   "metadata": {},
   "source": [
    "Data preprocessing and transformation used to make training more robust."
   ]
  },
  {
   "cell_type": "code",
   "execution_count": 30,
   "metadata": {},
   "outputs": [],
   "source": [
    "import mxnet as mx\n",
    "from mxnet import gluon, nd"
   ]
  },
  {
   "cell_type": "code",
   "execution_count": 31,
   "metadata": {},
   "outputs": [],
   "source": [
    "def scaling(data, label):\n",
    "    data = data.astype('float32')/255\n",
    "    return data, label\n",
    "\n",
    "train_data = gluon.data.vision.datasets.MNIST(train = True).transform(scaling)\n",
    "test_data = gluon.data.vision.datasets.MNIST(train = False).transform(scaling)"
   ]
  },
  {
   "cell_type": "code",
   "execution_count": 32,
   "metadata": {
    "scrolled": true
   },
   "outputs": [
    {
     "data": {
      "text/plain": [
       "(0.0, 1.0)"
      ]
     },
     "execution_count": 32,
     "metadata": {},
     "output_type": "execute_result"
    }
   ],
   "source": [
    "sample_img = train_data[19][0]\n",
    "nd.min(sample_img).asscalar(), nd.max(sample_img).asscalar()"
   ]
  },
  {
   "cell_type": "markdown",
   "metadata": {},
   "source": [
    "`gluon.data.vision.transforms` has implemented common computer vision transformations."
   ]
  },
  {
   "cell_type": "code",
   "execution_count": 33,
   "metadata": {},
   "outputs": [],
   "source": [
    "from mxnet.gluon.data.vision import transforms"
   ]
  },
  {
   "cell_type": "markdown",
   "metadata": {},
   "source": [
    "1. `ToTensor`:\n",
    "    - `uint8` to `float32`\n",
    "    - HWC to CHW\n",
    "    - scaling to range [0, 1)"
   ]
  },
  {
   "cell_type": "code",
   "execution_count": 34,
   "metadata": {},
   "outputs": [
    {
     "name": "stdout",
     "output_type": "stream",
     "text": [
      "(28, 28, 1)\n",
      "0.0 1.0\n"
     ]
    }
   ],
   "source": [
    "# BEFORE\n",
    "sample_img = train_data[19][0]\n",
    "print(sample_img.shape)\n",
    "print(nd.min(sample_img).asscalar(), nd.max(sample_img).asscalar())"
   ]
  },
  {
   "cell_type": "code",
   "execution_count": 35,
   "metadata": {
    "scrolled": true
   },
   "outputs": [],
   "source": [
    "# APPLY TRANSFORMATION\n",
    "to_tensor = transforms.ToTensor()\n",
    "train_data = train_data.transform_first(to_tensor)\n",
    "# .transform_first only apply to image, not the label"
   ]
  },
  {
   "cell_type": "code",
   "execution_count": 36,
   "metadata": {
    "scrolled": true
   },
   "outputs": [
    {
     "name": "stdout",
     "output_type": "stream",
     "text": [
      "(1, 28, 28)\n",
      "0.0 0.003921569\n"
     ]
    }
   ],
   "source": [
    "# AFTER\n",
    "sample_img = train_data[19][0]\n",
    "print(sample_img.shape)\n",
    "print(nd.min(sample_img).asscalar(), nd.max(sample_img).asscalar())"
   ]
  },
  {
   "cell_type": "markdown",
   "metadata": {},
   "source": [
    "2. `Normalize`: normalize Tensor with mean and standard deviation."
   ]
  },
  {
   "cell_type": "code",
   "execution_count": 37,
   "metadata": {},
   "outputs": [],
   "source": [
    "normalize = transforms.Normalize(mean = (0.1307,), std = (0.3081,))\n",
    "train_data = train_data.transform_first(normalize)"
   ]
  },
  {
   "cell_type": "markdown",
   "metadata": {},
   "source": [
    "3. `Compose`: apply transformation sequentially"
   ]
  },
  {
   "cell_type": "code",
   "execution_count": 38,
   "metadata": {},
   "outputs": [],
   "source": [
    "transform_fn = transforms.Compose([to_tensor,\n",
    "                                   normalize])\n",
    "train_data = train_data.transform_first(transform_fn)"
   ]
  },
  {
   "cell_type": "markdown",
   "metadata": {},
   "source": [
    "Data Augmentation:\n",
    "- `transforms.Resize`\n",
    "- `transforms.CenterCrop`\n",
    "- `transforms.RandomResizedCrop`\n",
    "- `transforms.RandomFlipLeftRight`\n",
    "- `transforms.RandomBrightness`\n",
    "- etc..."
   ]
  },
  {
   "cell_type": "markdown",
   "metadata": {},
   "source": [
    "### Gluon DataLoaders"
   ]
  },
  {
   "cell_type": "markdown",
   "metadata": {},
   "source": [
    "Dataloader is an iterator through entire dataset, creating mini batches until all samples have been used during training, signaling the end of one epoch."
   ]
  },
  {
   "cell_type": "code",
   "execution_count": 39,
   "metadata": {},
   "outputs": [],
   "source": [
    "import mxnet as mx\n",
    "from mxnet import gluon, nd\n",
    "from matplotlib.pyplot import imshow\n",
    "%matplotlib inline"
   ]
  },
  {
   "cell_type": "code",
   "execution_count": 40,
   "metadata": {},
   "outputs": [],
   "source": [
    "# generate random dataset\n",
    "mx.random.seed(123)\n",
    "X = mx.random.uniform(shape = (10, 3))\n",
    "y = mx.random.uniform(shape = (10, 1))\n",
    "dataset = gluon.data.dataset.ArrayDataset(X, y)"
   ]
  },
  {
   "cell_type": "code",
   "execution_count": 41,
   "metadata": {
    "scrolled": true
   },
   "outputs": [
    {
     "name": "stdout",
     "output_type": "stream",
     "text": [
      "Batch number: 0\n",
      "X_batch shape: (4, 3)\n",
      "y_batch shape: (4, 1)\n",
      "--------------------\n",
      "Batch number: 1\n",
      "X_batch shape: (4, 3)\n",
      "y_batch shape: (4, 1)\n",
      "--------------------\n",
      "Batch number: 2\n",
      "X_batch shape: (2, 3)\n",
      "y_batch shape: (2, 1)\n",
      "--------------------\n"
     ]
    }
   ],
   "source": [
    "data_loader = gluon.data.DataLoader(dataset, batch_size = 4, last_batch = 'keep')\n",
    "\n",
    "for batch_num, (X_batch, y_batch) in enumerate(data_loader):\n",
    "    print(f\"Batch number: {batch_num}\")\n",
    "    print(f\"X_batch shape: {X_batch.shape}\")\n",
    "    print(f\"y_batch shape: {y_batch.shape}\")\n",
    "    print(\"--------------------\")"
   ]
  },
  {
   "cell_type": "markdown",
   "metadata": {},
   "source": [
    "**Parallel data loading** using CPU"
   ]
  },
  {
   "cell_type": "code",
   "execution_count": 42,
   "metadata": {},
   "outputs": [
    {
     "name": "stdout",
     "output_type": "stream",
     "text": [
      "Batch number: 0\n",
      "X_batch shape: (4, 3)\n",
      "y_batch shape: (4, 1)\n",
      "--------------------\n",
      "Batch number: 1\n",
      "X_batch shape: (4, 3)\n",
      "y_batch shape: (4, 1)\n",
      "--------------------\n",
      "Batch number: 2\n",
      "X_batch shape: (2, 3)\n",
      "y_batch shape: (2, 1)\n",
      "--------------------\n"
     ]
    }
   ],
   "source": [
    "from multiprocessing import cpu_count\n",
    "\n",
    "data_loader = gluon.data.DataLoader(dataset, batch_size = 4, num_workers = cpu_count())\n",
    "\n",
    "for batch_num, (X_batch, y_batch) in enumerate(data_loader):\n",
    "    print(f\"Batch number: {batch_num}\")\n",
    "    print(f\"X_batch shape: {X_batch.shape}\")\n",
    "    print(f\"y_batch shape: {y_batch.shape}\")\n",
    "    print(\"--------------------\")"
   ]
  },
  {
   "cell_type": "markdown",
   "metadata": {},
   "source": [
    "**Lazy Transformations**: apply transformation and shuffle the data"
   ]
  },
  {
   "cell_type": "code",
   "execution_count": 43,
   "metadata": {},
   "outputs": [],
   "source": [
    "from mxnet.gluon.data.vision import transforms\n",
    "\n",
    "train_dataset = gluon.data.vision.datasets.MNIST(train = True)\n",
    "transform = transforms.Compose([transforms.RandomFlipTopBottom(),\n",
    "                               transforms.RandomFlipLeftRight()])\n",
    "\n",
    "train_dataloader = gluon.data.DataLoader(train_dataset.transform_first(transform),\n",
    "                                        batch_size = 5, shuffle = True)"
   ]
  },
  {
   "cell_type": "code",
   "execution_count": 44,
   "metadata": {},
   "outputs": [
    {
     "data": {
      "text/plain": [
       "<matplotlib.image.AxesImage at 0x17a00b00488>"
      ]
     },
     "execution_count": 44,
     "metadata": {},
     "output_type": "execute_result"
    },
    {
     "data": {
      "image/png": "[encoded data removed]",
      "text/plain": [
       "<Figure size 432x288 with 1 Axes>"
      ]
     },
     "metadata": {
      "needs_background": "light"
     },
     "output_type": "display_data"
    }
   ],
   "source": [
    "img, label = next(iter(train_dataloader))\n",
    "imshow(img[0,:,:,0].asnumpy(), cmap = \"gray\")"
   ]
  },
  {
   "cell_type": "markdown",
   "metadata": {},
   "source": [
    "## Neural Network Training & Evaluation"
   ]
  },
  {
   "cell_type": "code",
   "execution_count": 45,
   "metadata": {},
   "outputs": [],
   "source": [
    "from mxnet import nd, gluon, init, autograd, metric\n",
    "\n",
    "from mxnet.gluon import nn\n",
    "from mxnet.gluon.data.vision import datasets, transforms\n",
    "\n",
    "import matplotlib.pyplot as plt\n",
    "from time import time"
   ]
  },
  {
   "cell_type": "markdown",
   "metadata": {},
   "source": [
    "### Training"
   ]
  },
  {
   "cell_type": "markdown",
   "metadata": {},
   "source": [
    "1. Get FashionMNIST data"
   ]
  },
  {
   "cell_type": "code",
   "execution_count": 46,
   "metadata": {
    "scrolled": false
   },
   "outputs": [
    {
     "name": "stdout",
     "output_type": "stream",
     "text": [
      "Shape: (28, 28, 1)\n",
      "Dtype: <class 'numpy.uint8'>\n",
      "No. of images: 60000\n"
     ]
    }
   ],
   "source": [
    "mnist_train = datasets.FashionMNIST(train = True)\n",
    "X, y = mnist_train[0]\n",
    "print(f\"Shape: {X.shape}\")\n",
    "print(f\"Dtype: {X.dtype}\")\n",
    "print(f\"No. of images: {len(mnist_train)}\")"
   ]
  },
  {
   "cell_type": "markdown",
   "metadata": {},
   "source": [
    "2. Visualize data"
   ]
  },
  {
   "cell_type": "code",
   "execution_count": 47,
   "metadata": {},
   "outputs": [
    {
     "data": {
      "image/png": "[encoded data removed]",
      "text/plain": [
       "<Figure size 720x360 with 6 Axes>"
      ]
     },
     "metadata": {
      "needs_background": "light"
     },
     "output_type": "display_data"
    }
   ],
   "source": [
    "X, y = mnist_train[0:6]\n",
    "class_labels = ['t-shirt', 'trouser', 'pullover', 'dress', 'coat',\n",
    "                'sandal', 'shirt', 'sneaker', 'bag', 'ankle boot']\n",
    "\n",
    "fig, axes = plt.subplots(1, 6, figsize = (10, 5))\n",
    "for ax, image, label in zip(axes.flat, X, y):\n",
    "    ax.imshow(image.squeeze().asnumpy())\n",
    "    ax.set_title(class_labels[label])\n",
    "    ax.axis(\"off\")"
   ]
  },
  {
   "cell_type": "markdown",
   "metadata": {},
   "source": [
    "3. Transform dataset:\n",
    "    - to float32\n",
    "    - channel first\n",
    "    - normalize"
   ]
  },
  {
   "cell_type": "code",
   "execution_count": 48,
   "metadata": {},
   "outputs": [],
   "source": [
    "transformer = transforms.Compose([\n",
    "    transforms.ToTensor(),\n",
    "    transforms.Normalize(0.13, 0.31)\n",
    "])\n",
    "\n",
    "mnist_train = mnist_train.transform_first(transformer)"
   ]
  },
  {
   "cell_type": "markdown",
   "metadata": {},
   "source": [
    "4. Data loading using dataloader"
   ]
  },
  {
   "cell_type": "code",
   "execution_count": 49,
   "metadata": {
    "scrolled": true
   },
   "outputs": [
    {
     "name": "stdout",
     "output_type": "stream",
     "text": [
      "(256, 1, 28, 28)\n",
      "(256,)\n"
     ]
    }
   ],
   "source": [
    "BATCH_SIZE = 256\n",
    "train_data = gluon.data.DataLoader(mnist_train,\n",
    "                                   batch_size = BATCH_SIZE,\n",
    "                                   shuffle = True)\n",
    "\n",
    "for data, label in train_data:\n",
    "    print(data.shape)\n",
    "    print(label.shape)\n",
    "    break"
   ]
  },
  {
   "cell_type": "markdown",
   "metadata": {},
   "source": [
    "5. Define the model:\n",
    "    - LeNet architecture\n",
    "    - Xavier initializer"
   ]
  },
  {
   "cell_type": "code",
   "execution_count": 50,
   "metadata": {
    "code_folding": [],
    "scrolled": true
   },
   "outputs": [
    {
     "data": {
      "text/plain": [
       "Sequential(\n",
       "  (0): Conv2D(None -> 6, kernel_size=(5, 5), stride=(1, 1), Activation(relu))\n",
       "  (1): MaxPool2D(size=(2, 2), stride=(2, 2), padding=(0, 0), ceil_mode=False, global_pool=False, pool_type=max, layout=NCHW)\n",
       "  (2): Conv2D(None -> 16, kernel_size=(3, 3), stride=(1, 1), Activation(relu))\n",
       "  (3): MaxPool2D(size=(2, 2), stride=(2, 2), padding=(0, 0), ceil_mode=False, global_pool=False, pool_type=max, layout=NCHW)\n",
       "  (4): Flatten\n",
       "  (5): Dense(None -> 120, Activation(relu))\n",
       "  (6): Dense(None -> 84, Activation(relu))\n",
       "  (7): Dense(None -> 10, linear)\n",
       ")"
      ]
     },
     "execution_count": 50,
     "metadata": {},
     "output_type": "execute_result"
    }
   ],
   "source": [
    "net = nn.Sequential()\n",
    "with net.name_scope():\n",
    "    net.add(\n",
    "        nn.Conv2D(channels = 6, kernel_size = 5, activation = 'relu'),\n",
    "        nn.MaxPool2D(pool_size = 2, strides = 2),\n",
    "        nn.Conv2D(channels = 16, kernel_size = 3, activation = 'relu'),\n",
    "        nn.MaxPool2D(pool_size = 2, strides = 2),\n",
    "        nn.Flatten(),\n",
    "        nn.Dense(units = 120, activation = 'relu'),\n",
    "        nn.Dense(units = 84, activation = 'relu'),\n",
    "        nn.Dense(units = 10)\n",
    "    )\n",
    "net"
   ]
  },
  {
   "cell_type": "code",
   "execution_count": 51,
   "metadata": {},
   "outputs": [],
   "source": [
    "net.initialize(init = init.Xavier())"
   ]
  },
  {
   "cell_type": "markdown",
   "metadata": {},
   "source": [
    "6. Define loss and metric\n",
    "    - Loss function: Cross Entropy (for classification)\n",
    "    - Metric: Accuracy"
   ]
  },
  {
   "cell_type": "code",
   "execution_count": 52,
   "metadata": {},
   "outputs": [],
   "source": [
    "loss_fn = gluon.loss.SoftmaxCrossEntropyLoss()\n",
    "train_acc = metric.Accuracy()"
   ]
  },
  {
   "cell_type": "markdown",
   "metadata": {},
   "source": [
    "7. Define trainer (optimizer): Stochastic Gradient Descent"
   ]
  },
  {
   "cell_type": "code",
   "execution_count": 53,
   "metadata": {},
   "outputs": [],
   "source": [
    "trainer = gluon.Trainer(net.collect_params(),\n",
    "                        optimizer = \"sgd\",\n",
    "                        optimizer_params = {\"learning_rate\": 0.1})"
   ]
  },
  {
   "cell_type": "markdown",
   "metadata": {},
   "source": [
    "8. Training loop"
   ]
  },
  {
   "cell_type": "code",
   "execution_count": 54,
   "metadata": {
    "scrolled": false
   },
   "outputs": [
    {
     "name": "stdout",
     "output_type": "stream",
     "text": [
      "Epoch-0 =>             Loss: 0.779             Accuracy: 0.714             Speed: 2650.196 image/sec\n",
      "Epoch-1 =>             Loss: 0.470             Accuracy: 0.768             Speed: 2684.615 image/sec\n",
      "Epoch-2 =>             Loss: 0.409             Accuracy: 0.795             Speed: 2762.732 image/sec\n",
      "Epoch-3 =>             Loss: 0.375             Accuracy: 0.812             Speed: 2374.978 image/sec\n",
      "Epoch-4 =>             Loss: 0.346             Accuracy: 0.824             Speed: 2771.865 image/sec\n",
      "Epoch-5 =>             Loss: 0.330             Accuracy: 0.832             Speed: 2728.989 image/sec\n",
      "Epoch-6 =>             Loss: 0.314             Accuracy: 0.840             Speed: 2600.859 image/sec\n",
      "Epoch-7 =>             Loss: 0.302             Accuracy: 0.846             Speed: 2856.631 image/sec\n",
      "Epoch-8 =>             Loss: 0.291             Accuracy: 0.851             Speed: 2769.951 image/sec\n",
      "Epoch-9 =>             Loss: 0.283             Accuracy: 0.855             Speed: 2851.476 image/sec\n"
     ]
    }
   ],
   "source": [
    "for epoch in range(10):\n",
    "    train_loss = 0.0\n",
    "    start = time()\n",
    "    \n",
    "    for data, label in train_data:\n",
    "        # forward pass\n",
    "        with autograd.record():\n",
    "            output = net(data)\n",
    "            loss = loss_fn(output, label)\n",
    "            \n",
    "        # backward pass, compute gradient\n",
    "        loss.backward()\n",
    "        \n",
    "        # optimizer, update weight\n",
    "        trainer.step(BATCH_SIZE)\n",
    "        \n",
    "        # loss and metric\n",
    "        train_loss += loss.mean().asscalar()\n",
    "        train_acc.update(label, output)\n",
    "        \n",
    "    # print report\n",
    "    print(f\"Epoch-{epoch} => \\\n",
    "            Loss: {train_loss/len(train_data):.3f} \\\n",
    "            Accuracy: {train_acc.get()[1]:.3f} \\\n",
    "            Speed: {len(mnist_train)/(time() - start):.3f} image/sec\")"
   ]
  },
  {
   "cell_type": "markdown",
   "metadata": {},
   "source": [
    "9. Save trained model"
   ]
  },
  {
   "cell_type": "code",
   "execution_count": 55,
   "metadata": {},
   "outputs": [],
   "source": [
    "net.save_parameters(\"scripts/trained_net.params\")"
   ]
  },
  {
   "cell_type": "markdown",
   "metadata": {},
   "source": [
    "### Evaluation"
   ]
  },
  {
   "cell_type": "markdown",
   "metadata": {},
   "source": [
    "1. Re-build the model"
   ]
  },
  {
   "cell_type": "code",
   "execution_count": 56,
   "metadata": {},
   "outputs": [],
   "source": [
    "net = nn.Sequential()\n",
    "with net.name_scope():\n",
    "    net.add(\n",
    "        nn.Conv2D(channels = 6, kernel_size = 5, activation = 'relu'),\n",
    "        nn.MaxPool2D(pool_size = 2, strides = 2),\n",
    "        nn.Conv2D(channels = 16, kernel_size = 3, activation = 'relu'),\n",
    "        nn.MaxPool2D(pool_size = 2, strides = 2),\n",
    "        nn.Flatten(),\n",
    "        nn.Dense(units = 120, activation = 'relu'),\n",
    "        nn.Dense(units = 84, activation = 'relu'),\n",
    "        nn.Dense(units = 10)\n",
    "    )\n"
   ]
  },
  {
   "cell_type": "markdown",
   "metadata": {},
   "source": [
    "2. Load the pre-trained parameters"
   ]
  },
  {
   "cell_type": "code",
   "execution_count": 57,
   "metadata": {},
   "outputs": [],
   "source": [
    "net.load_parameters(\"scripts/trained_net.params\")"
   ]
  },
  {
   "cell_type": "markdown",
   "metadata": {},
   "source": [
    "3. Load validation dataset"
   ]
  },
  {
   "cell_type": "code",
   "execution_count": 58,
   "metadata": {},
   "outputs": [],
   "source": [
    "mnist_validation = datasets.FashionMNIST(train = False)"
   ]
  },
  {
   "cell_type": "markdown",
   "metadata": {},
   "source": [
    "4. Transformation"
   ]
  },
  {
   "cell_type": "code",
   "execution_count": 59,
   "metadata": {},
   "outputs": [],
   "source": [
    "transform_fn = transforms.Compose([\n",
    "    transforms.ToTensor(),\n",
    "    transforms.Normalize(0.13, 0.31)\n",
    "])"
   ]
  },
  {
   "cell_type": "markdown",
   "metadata": {},
   "source": [
    "5. Prediction"
   ]
  },
  {
   "cell_type": "code",
   "execution_count": 60,
   "metadata": {},
   "outputs": [],
   "source": [
    "preds = []\n",
    "for idx in range(6):\n",
    "    image, label = mnist_validation[idx]\n",
    "    image = transform_fn(image).expand_dims(axis = 0)\n",
    "    pred = net(image).argmax(axis = 1)\n",
    "    preds.append(pred.astype('int32').asscalar())"
   ]
  },
  {
   "cell_type": "code",
   "execution_count": 61,
   "metadata": {},
   "outputs": [
    {
     "data": {
      "image/png": "[encoded data removed]",
      "text/plain": [
       "<Figure size 720x360 with 6 Axes>"
      ]
     },
     "metadata": {
      "needs_background": "light"
     },
     "output_type": "display_data"
    }
   ],
   "source": [
    "images, labels = mnist_validation[0:6]\n",
    "\n",
    "class_labels = ['t-shirt', 'trouser', 'pullover', 'dress', 'coat',\n",
    "                'sandal', 'shirt', 'sneaker', 'bag', 'ankle boot']\n",
    "\n",
    "fig, axes = plt.subplots(1, 6, figsize = (10, 5))\n",
    "for ax, image, label, pred in zip(axes.flat, images, labels, preds):\n",
    "    ax.imshow(image.squeeze().asnumpy())\n",
    "    ax.set_title(f\"Label: {class_labels[label]} \\n Pred: {class_labels[pred]}\")\n",
    "    ax.axis(\"off\")"
   ]
  },
  {
   "cell_type": "markdown",
   "metadata": {},
   "source": [
    "6. Validation DataLoader"
   ]
  },
  {
   "cell_type": "code",
   "execution_count": 62,
   "metadata": {},
   "outputs": [],
   "source": [
    "BATCH_SIZE = 256\n",
    "validation_data = gluon.data.DataLoader(mnist_validation.transform_first(transform_fn),\n",
    "                                        batch_size = BATCH_SIZE)"
   ]
  },
  {
   "cell_type": "markdown",
   "metadata": {},
   "source": [
    "7. Define metric"
   ]
  },
  {
   "cell_type": "code",
   "execution_count": 63,
   "metadata": {},
   "outputs": [],
   "source": [
    "validation_acc = metric.Accuracy()"
   ]
  },
  {
   "cell_type": "markdown",
   "metadata": {},
   "source": [
    "8. Validation loop"
   ]
  },
  {
   "cell_type": "code",
   "execution_count": 64,
   "metadata": {},
   "outputs": [
    {
     "name": "stdout",
     "output_type": "stream",
     "text": [
      "Validation Accuracy: 0.890\n"
     ]
    }
   ],
   "source": [
    "for data, label in validation_data:\n",
    "    output = net(data)\n",
    "    validation_acc.update(label, output)\n",
    "print(f\"Validation Accuracy: {validation_acc.get()[1]:.3f}\")"
   ]
  },
  {
   "cell_type": "markdown",
   "metadata": {},
   "source": [
    "## Summary"
   ]
  },
  {
   "cell_type": "markdown",
   "metadata": {},
   "source": [
    "1. Neural network training:\n",
    "    - Forward pass: get the predicted value\n",
    "    - Backward pass: automatic differentiation, compute gradient to move parameters towards local minima\n",
    "    - Optimized: updating model parameters using the computed gradients. Done with Gluon Trainer, example of optimizer: Stochastic Gradient Descent\n",
    "    \n",
    "2. Dataset vs Dataloader\n",
    "\n",
    "    - Computer vision datasets: MNIST, CIFAR-10\n",
    "    - Dataloader: asynchronously generate mini batches of data\n",
    "    - Dataset can be transformed to resize, format, and even perform data augmentation\n",
    "    \n",
    "```\n",
    "train_dataloader = gluon.data.DataLoader(mnist_train.transform_first(transform),\n",
    "                                         batch_size = batch_size,\n",
    "                                         shuffle = True,\n",
    "                                         num_workers = 4)\n",
    "```\n",
    "    \n",
    "3. Training loop\n",
    "\n",
    "```\n",
    "for data, label in train_dataloader:\n",
    "    with autograd.record():\n",
    "        output = model(data)\n",
    "        loss = loss_fn(output, label)\n",
    "    loss.backward()\n",
    "    trainer.step()\n",
    "```\n",
    "\n",
    "- Iterates over batches of data for multiple epochs\n",
    "- Predict output for current batch\n",
    "- Compute loss between predicted and label in autograd scope\n",
    "- Backward pass to compute gradients\n",
    "- Take trainer step to update parameters according to optimizer rules\n",
    "- Repeat until converges\n",
    "   "
   ]
  }
 ],
 "metadata": {
  "kernelspec": {
   "display_name": "computer-vision",
   "language": "python",
   "name": "computer-vision"
  },
  "language_info": {
   "codemirror_mode": {
    "name": "ipython",
    "version": 3
   },
   "file_extension": ".py",
   "mimetype": "text/x-python",
   "name": "python",
   "nbconvert_exporter": "python",
   "pygments_lexer": "ipython3",
   "version": "3.7.7"
  },
  "toc": {
   "base_numbering": 1,
   "nav_menu": {},
   "number_sections": true,
   "sideBar": true,
   "skip_h1_title": true,
   "title_cell": "Table of Contents",
   "title_sidebar": "Contents",
   "toc_cell": true,
   "toc_position": {},
   "toc_section_display": true,
   "toc_window_display": false
  },
  "varInspector": {
   "cols": {
    "lenName": 16,
    "lenType": 16,
    "lenVar": 40
   },
   "kernels_config": {
    "python": {
     "delete_cmd_postfix": "",
     "delete_cmd_prefix": "del ",
     "library": "var_list.py",
     "varRefreshCmd": "print(var_dic_list())"
    },
    "r": {
     "delete_cmd_postfix": ") ",
     "delete_cmd_prefix": "rm(",
     "library": "var_list.r",
     "varRefreshCmd": "cat(var_dic_list()) "
    }
   },
   "types_to_exclude": [
    "module",
    "function",
    "builtin_function_or_method",
    "instance",
    "_Feature"
   ],
   "window_display": false
  }
 },
 "nbformat": 4,
 "nbformat_minor": 4
}
